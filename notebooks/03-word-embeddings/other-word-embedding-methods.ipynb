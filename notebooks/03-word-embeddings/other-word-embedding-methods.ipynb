{
 "cells": [
  {
   "cell_type": "markdown",
   "id": "2aa079e7",
   "metadata": {},
   "source": [
    "# Other Word Embedding Methods\n",
    "\n",
    "- 📺 **Video:** [https://youtu.be/gpP-depOUwg](https://youtu.be/gpP-depOUwg)"
   ]
  },
  {
   "cell_type": "markdown",
   "id": "418c0e62",
   "metadata": {},
   "source": [
    "## Overview\n",
    "- Contrast count-based methods (PPMI, GloVe) with predictive models like skip-gram and CBOW.\n",
    "- Recognize how each technique factorizes co-occurrence statistics differently."
   ]
  },
  {
   "cell_type": "markdown",
   "id": "f3db01c9",
   "metadata": {},
   "source": [
    "## Key ideas\n",
    "- **PPMI:** positive pointwise mutual information emphasises informative co-occurrences.\n",
    "- **GloVe:** minimizes reconstruction error on weighted co-occurrence counts.\n",
    "- **Subword models:** fastText extends embeddings to character n-grams for rare words.\n",
    "- **Hybrid strategies:** combine count-based initialization with predictive fine-tuning."
   ]
  },
  {
   "cell_type": "markdown",
   "id": "c4f11fd0",
   "metadata": {},
   "source": [
    "## Demo\n",
    "Compute a PPMI matrix from a toy corpus and compare it with SVD-derived embeddings to illustrate the relationships outlined in the lecture (https://youtu.be/Pj5HY8zDuhY)."
   ]
  },
  {
   "cell_type": "code",
   "execution_count": 1,
   "id": "62271f5b",
   "metadata": {
    "execution": {
     "iopub.execute_input": "2025-10-29T01:27:56.573681Z",
     "iopub.status.busy": "2025-10-29T01:27:56.573435Z",
     "iopub.status.idle": "2025-10-29T01:27:56.644439Z",
     "shell.execute_reply": "2025-10-29T01:27:56.642531Z"
    }
   },
   "outputs": [
    {
     "name": "stdout",
     "output_type": "stream",
     "text": [
      "Neighbors of doctor: [('engineer', 0.999999982255126), ('brilliant', 0.9883275031391461), ('skilled', 0.9883275031391461)]\n",
      "Neighbors of nurse: [('offered', 0.9986717018144635), ('patient', 0.987963449140842), ('support', 0.9741913504659862)]\n",
      "Neighbors of engineer: [('doctor', 0.999999982255126), ('skilled', 0.9883275031391461), ('brilliant', 0.9883275031391457)]\n",
      "Neighbors of artists: [('create', 0.9996331580542107), ('inspiring', 0.994443644318663), ('work', 0.980440427739844)]\n"
     ]
    }
   ],
   "source": [
    "import numpy as np\n",
    "\n",
    "corpus = [\n",
    "    'she is a skilled doctor and compassionate leader',\n",
    "    'he is a brilliant engineer and creative designer',\n",
    "    'the nurse offered patient support and kindness',\n",
    "    'the manager coordinated the project with precision',\n",
    "    'artists create inspiring work with emotion and style',\n",
    "    'scientists test hypotheses with rigorous experiments',\n",
    "    'teachers guide students with patience and care',\n",
    "    'the programmer solved complex problems quickly'\n",
    "]\n",
    "\n",
    "vocab = sorted(set(' '.join(corpus).split()))\n",
    "word_to_id = {word: idx for idx, word in enumerate(vocab)}\n",
    "window = 2\n",
    "cooc = np.zeros((len(vocab), len(vocab)), dtype=float)\n",
    "for sentence in corpus:\n",
    "    words = sentence.split()\n",
    "    for i, word in enumerate(words):\n",
    "        target = word_to_id[word]\n",
    "        for j in range(max(0, i - window), min(len(words), i + window + 1)):\n",
    "            if i == j:\n",
    "                continue\n",
    "            cooc[target, word_to_id[words[j]]] += 1\n",
    "\n",
    "row_totals = cooc.sum(axis=1, keepdims=True)\n",
    "col_totals = cooc.sum(axis=0, keepdims=True)\n",
    "total = cooc.sum()\n",
    "ppmi = np.log((cooc * total + 1e-8) / (row_totals * col_totals + 1e-8))\n",
    "ppmi = np.maximum(ppmi, 0)\n",
    "\n",
    "u, s, vt = np.linalg.svd(ppmi)\n",
    "embeddings = u[:, :5] * np.sqrt(s[:5])\n",
    "\n",
    "for word in ['doctor', 'nurse', 'engineer', 'artists']:\n",
    "    idx = word_to_id[word]\n",
    "    sims = embeddings @ embeddings[idx] / (np.linalg.norm(embeddings, axis=1) * np.linalg.norm(embeddings[idx]) + 1e-8)\n",
    "    ranking = sims.argsort()[::-1]\n",
    "    neighbors = [(vocab[i], sims[i]) for i in ranking if vocab[i] != word][:3]\n",
    "    print(f\"Neighbors of {word}: {neighbors}\")\n"
   ]
  },
  {
   "cell_type": "markdown",
   "id": "891d761d",
   "metadata": {},
   "source": [
    "## Try it\n",
    "- Modify the demo\n",
    "- Add a tiny dataset or counter-example\n"
   ]
  },
  {
   "cell_type": "markdown",
   "id": "1fabe9c7",
   "metadata": {},
   "source": [
    "## References\n",
    "- [Eisenstein 14.5](https://github.com/jacobeisenstein/gt-nlp-class/blob/master/notes/eisenstein-nlp-notes.pdf)\n",
    "- [Distributed Representations of Words and Phrases and their Compositionality](https://papers.nips.cc/paper/2013/file/9aa42b31882ec039965f3c4923ce901b-Paper.pdf)\n",
    "- [A Scalable Hierarchical Distributed Language Model](https://papers.nips.cc/paper/2008/hash/1e056d2b0ebd5c878c550da6ac5d3724-Abstract.html)\n",
    "- [Neural Word Embedding as Implicit Matrix Factorization](https://papers.nips.cc/paper/2014/file/feab05aa91085b7a8012516bc3533958-Paper.pdf)\n",
    "- [GloVe: Global Vectors for Word Representation](https://www.aclweb.org/anthology/D14-1162/)\n",
    "- [Enriching Word Vectors with Subword Information](https://arxiv.org/abs/1607.04606)\n",
    "- [Man is to Computer Programmer as Woman is to Homemaker? Debiasing Word Embeddings](https://papers.nips.cc/paper/2016/file/a486cd07e4ac3d270571622f4f316ec5-Paper.pdf)\n",
    "- [Black is to Criminal as Caucasian is to Police: Detecting and Removing Multiclass Bias in Word Embeddings](https://www.aclweb.org/anthology/N19-1062/)\n",
    "- [Lipstick on a Pig: Debiasing Methods Cover up Systematic Gender Biases in Word Embeddings But do not Remove Them](https://www.aclweb.org/anthology/N19-1061/)\n",
    "- [Deep Unordered Composition Rivals Syntactic Methods for Text Classification](https://www.aclweb.org/anthology/P15-1162/)\n"
   ]
  },
  {
   "cell_type": "markdown",
   "id": "07114b92",
   "metadata": {},
   "source": [
    "*Links only; we do not redistribute slides or papers.*"
   ]
  }
 ],
 "metadata": {
  "language_info": {
   "codemirror_mode": {
    "name": "ipython",
    "version": 3
   },
   "file_extension": ".py",
   "mimetype": "text/x-python",
   "name": "python",
   "nbconvert_exporter": "python",
   "pygments_lexer": "ipython3",
   "version": "3.9.6"
  }
 },
 "nbformat": 4,
 "nbformat_minor": 5
}
