{
 "cells": [
  {
   "cell_type": "markdown",
   "id": "5903c8e3",
   "metadata": {},
   "source": [
    "# Word Embeddings\n",
    "\n",
    "- 📺 **Video:** [https://youtu.be/8EqQROdVPyM](https://youtu.be/8EqQROdVPyM)"
   ]
  },
  {
   "cell_type": "markdown",
   "id": "e9ad3fc7",
   "metadata": {},
   "source": [
    "## Overview\n",
    "- Introduce distributed word representations that capture semantics through context.\n",
    "- Understand how co-occurrence statistics lead to dense vectors used across NLP tasks."
   ]
  },
  {
   "cell_type": "markdown",
   "id": "c71fa7a0",
   "metadata": {},
   "source": [
    "## Key ideas\n",
    "- **Distributional hypothesis:** words appearing in similar contexts tend to have similar meanings.\n",
    "- **Embedding spaces:** low-dimensional vectors encode syntactic and semantic relationships.\n",
    "- **Linear structure:** vector arithmetic like king - man + woman ≈ queen emerges naturally.\n",
    "- **Training signals:** count-based (SVD/PPMI) or predictive (skip-gram) models leverage co-occurrence data."
   ]
  },
  {
   "cell_type": "markdown",
   "id": "7d061d3a",
   "metadata": {},
   "source": [
    "## Demo\n",
    "Build a co-occurrence matrix from a toy corpus, derive embeddings with truncated SVD, and retrieve nearest neighbors, echoing the lecture (https://youtu.be/THhRQ7UQm70)."
   ]
  },
  {
   "cell_type": "code",
   "execution_count": 1,
   "id": "fc0c70dc",
   "metadata": {
    "execution": {
     "iopub.execute_input": "2025-10-29T01:28:01.663054Z",
     "iopub.status.busy": "2025-10-29T01:28:01.662824Z",
     "iopub.status.idle": "2025-10-29T01:28:02.450370Z",
     "shell.execute_reply": "2025-10-29T01:28:02.450122Z"
    }
   },
   "outputs": [
    {
     "name": "stdout",
     "output_type": "stream",
     "text": [
      "Nearest to 'doctor':\n",
      "    engineer | cos=1.000\n",
      "     skilled | cos=0.944\n",
      "   brilliant | cos=0.944\n",
      "    creative | cos=0.843\n",
      "\n",
      "Nearest to 'engineer':\n",
      "      doctor | cos=1.000\n",
      "     skilled | cos=0.944\n",
      "   brilliant | cos=0.944\n",
      "    creative | cos=0.842\n",
      "\n",
      "Nearest to 'teacher':\n",
      "\n",
      "Nearest to 'artist':\n",
      "\n"
     ]
    }
   ],
   "source": [
    "from collections import defaultdict\n",
    "import numpy as np\n",
    "from sklearn.decomposition import TruncatedSVD\n",
    "\n",
    "corpus = [\n",
    "    'she is a skilled doctor and compassionate leader',\n",
    "    'he is a brilliant engineer and creative designer',\n",
    "    'the nurse offered patient support and kindness',\n",
    "    'the manager coordinated the project with precision',\n",
    "    'artists create inspiring work with emotion and style',\n",
    "    'scientists test hypotheses with rigorous experiments',\n",
    "    'teachers guide students with patience and care',\n",
    "    'the programmer solved complex problems quickly'\n",
    "]\n",
    "\n",
    "vocab = sorted(set(' '.join(corpus).split()))\n",
    "word_to_id = {word: idx for idx, word in enumerate(vocab)}\n",
    "\n",
    "window = 2\n",
    "cooc = np.zeros((len(vocab), len(vocab)), dtype=float)\n",
    "for sentence in corpus:\n",
    "    tokens = sentence.split()\n",
    "    for idx, token in enumerate(tokens):\n",
    "        target_id = word_to_id[token]\n",
    "        for j in range(max(0, idx - window), min(len(tokens), idx + window + 1)):\n",
    "            if j == idx:\n",
    "                continue\n",
    "            cooc[target_id, word_to_id[tokens[j]]] += 1\n",
    "\n",
    "row_sums = cooc.sum(axis=1, keepdims=True)\n",
    "cooc_norm = np.where(row_sums > 0, cooc / row_sums, 0)\n",
    "svd = TruncatedSVD(n_components=5, random_state=0)\n",
    "embeddings = svd.fit_transform(cooc_norm)\n",
    "\n",
    "ids_to_word = {idx: word for word, idx in word_to_id.items()}\n",
    "\n",
    "def nearest_neighbors(word, top_k=4):\n",
    "    if word not in word_to_id:\n",
    "        return []\n",
    "    idx = word_to_id[word]\n",
    "    vec = embeddings[idx]\n",
    "    sims = embeddings @ vec\n",
    "    denom = np.linalg.norm(embeddings, axis=1) * np.linalg.norm(vec)\n",
    "    cos = sims / (denom + 1e-8)\n",
    "    ranking = cos.argsort()[::-1]\n",
    "    neighbors = [(ids_to_word[i], cos[i]) for i in ranking if ids_to_word[i] != word]\n",
    "    return neighbors[:top_k]\n",
    "\n",
    "for word in ['doctor', 'engineer', 'teacher', 'artist']:\n",
    "    print(f\"Nearest to '{word}':\")\n",
    "    for neighbor, score in nearest_neighbors(word):\n",
    "        print(f\"  {neighbor:>10s} | cos={score:.3f}\")\n",
    "    print()\n"
   ]
  },
  {
   "cell_type": "markdown",
   "id": "e5234130",
   "metadata": {},
   "source": [
    "## Try it\n",
    "- Modify the demo\n",
    "- Add a tiny dataset or counter-example\n"
   ]
  },
  {
   "cell_type": "markdown",
   "id": "258c0cc1",
   "metadata": {},
   "source": [
    "## References\n",
    "- [Eisenstein 14.5](https://github.com/jacobeisenstein/gt-nlp-class/blob/master/notes/eisenstein-nlp-notes.pdf)\n",
    "- [Distributed Representations of Words and Phrases and their Compositionality](https://papers.nips.cc/paper/2013/file/9aa42b31882ec039965f3c4923ce901b-Paper.pdf)\n",
    "- [A Scalable Hierarchical Distributed Language Model](https://papers.nips.cc/paper/2008/hash/1e056d2b0ebd5c878c550da6ac5d3724-Abstract.html)\n",
    "- [Neural Word Embedding as Implicit Matrix Factorization](https://papers.nips.cc/paper/2014/file/feab05aa91085b7a8012516bc3533958-Paper.pdf)\n",
    "- [GloVe: Global Vectors for Word Representation](https://www.aclweb.org/anthology/D14-1162/)\n",
    "- [Enriching Word Vectors with Subword Information](https://arxiv.org/abs/1607.04606)\n",
    "- [Man is to Computer Programmer as Woman is to Homemaker? Debiasing Word Embeddings](https://papers.nips.cc/paper/2016/file/a486cd07e4ac3d270571622f4f316ec5-Paper.pdf)\n",
    "- [Black is to Criminal as Caucasian is to Police: Detecting and Removing Multiclass Bias in Word Embeddings](https://www.aclweb.org/anthology/N19-1062/)\n",
    "- [Lipstick on a Pig: Debiasing Methods Cover up Systematic Gender Biases in Word Embeddings But do not Remove Them](https://www.aclweb.org/anthology/N19-1061/)\n",
    "- [Deep Unordered Composition Rivals Syntactic Methods for Text Classification](https://www.aclweb.org/anthology/P15-1162/)\n"
   ]
  },
  {
   "cell_type": "markdown",
   "id": "c13a0bda",
   "metadata": {},
   "source": [
    "*Links only; we do not redistribute slides or papers.*"
   ]
  }
 ],
 "metadata": {
  "language_info": {
   "codemirror_mode": {
    "name": "ipython",
    "version": 3
   },
   "file_extension": ".py",
   "mimetype": "text/x-python",
   "name": "python",
   "nbconvert_exporter": "python",
   "pygments_lexer": "ipython3",
   "version": "3.9.6"
  }
 },
 "nbformat": 4,
 "nbformat_minor": 5
}
