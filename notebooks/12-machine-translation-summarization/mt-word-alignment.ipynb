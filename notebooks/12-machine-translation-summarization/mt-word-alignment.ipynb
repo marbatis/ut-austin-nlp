{
 "cells": [
  {
   "cell_type": "markdown",
   "id": "a84bbca5",
   "metadata": {},
   "source": [
    "# MT: Word alignment\n",
    "\n",
    "- 📺 **Video:** [https://youtu.be/dzOuPhBmFtE](https://youtu.be/dzOuPhBmFtE)"
   ]
  },
  {
   "cell_type": "markdown",
   "id": "b0c78421",
   "metadata": {},
   "source": [
    "## Overview\n",
    "- Align source and target words to reveal translational correspondences.\n",
    "- Use alignments for phrase extraction and lexical translation tables."
   ]
  },
  {
   "cell_type": "markdown",
   "id": "4f60cd7c",
   "metadata": {},
   "source": [
    "## Key ideas\n",
    "- **Symmetrization:** combine forward/backward alignments (grow-diag-final).\n",
    "- **Confidence:** use posterior probabilities from IBM models or HMM aligners.\n",
    "- **Alignment errors:** many-to-one and null alignments need attention.\n",
    "- **Downstream use:** phrase-based MT relies on high-quality alignments."
   ]
  },
  {
   "cell_type": "markdown",
   "id": "94081b56",
   "metadata": {},
   "source": [
    "## Demo\n",
    "Compute alignment probabilities from a translation table and output best alignments, as shown in the lecture (https://youtu.be/t2y1B4ezgmQ)."
   ]
  },
  {
   "cell_type": "code",
   "execution_count": 1,
   "id": "41f39ec2",
   "metadata": {
    "execution": {
     "iopub.execute_input": "2025-10-29T01:34:58.212737Z",
     "iopub.status.busy": "2025-10-29T01:34:58.212501Z",
     "iopub.status.idle": "2025-10-29T01:34:58.222498Z",
     "shell.execute_reply": "2025-10-29T01:34:58.222069Z"
    }
   },
   "outputs": [
    {
     "name": "stdout",
     "output_type": "stream",
     "text": [
      "Alignments (source_index, target_index, probability):\n",
      "(0, 0, 0.4)\n",
      "(1, 1, 0.9)\n",
      "(2, 2, 0.8)\n"
     ]
    }
   ],
   "source": [
    "translation_table = {\n",
    "    ('the', 'le'): 0.4,\n",
    "    ('cat', 'chat'): 0.9,\n",
    "    ('sleeps', 'dort'): 0.8,\n",
    "    ('on', 'sur'): 0.6,\n",
    "    ('mat', 'tapis'): 0.7\n",
    "}\n",
    "\n",
    "e_sentence = ['the', 'cat', 'sleeps']\n",
    "f_sentence = ['le', 'chat', 'dort']\n",
    "\n",
    "alignments = []\n",
    "for j, f in enumerate(f_sentence):\n",
    "    best_prob, best_i = 0.0, None\n",
    "    for i, e in enumerate(e_sentence):\n",
    "        prob = translation_table.get((e, f), 0.0)\n",
    "        if prob > best_prob:\n",
    "            best_prob, best_i = prob, i\n",
    "    if best_i is not None:\n",
    "        alignments.append((best_i, j, best_prob))\n",
    "\n",
    "print('Alignments (source_index, target_index, probability):')\n",
    "for align in alignments:\n",
    "    print(align)"
   ]
  },
  {
   "cell_type": "markdown",
   "id": "d7982642",
   "metadata": {},
   "source": [
    "## Try it\n",
    "- Modify the demo\n",
    "- Add a tiny dataset or counter-example\n"
   ]
  },
  {
   "cell_type": "markdown",
   "id": "49f20e28",
   "metadata": {},
   "source": [
    "## References\n",
    "- [Eisenstein 18.1](https://github.com/jacobeisenstein/gt-nlp-class/blob/master/notes/eisenstein-nlp-notes.pdf)\n",
    "- [Eisenstein 18.1](https://github.com/jacobeisenstein/gt-nlp-class/blob/master/notes/eisenstein-nlp-notes.pdf)\n",
    "- [HMM-Based Word Alignment in Statistical Translation](https://www.aclweb.org/anthology/C96-2141.pdf)\n",
    "- [Pharaoh: A Beam Search Decoder for Phrase-Based Statistical Machine Translation Models](http://homepages.inf.ed.ac.uk/pkoehn/publications/pharaoh-amta2004.pdf)\n",
    "- [Minimum Error Rate Training in Statistical Machine Translation](https://www.aclweb.org/anthology/P03-1021/)\n",
    "- [Eisenstein 18.4](https://github.com/jacobeisenstein/gt-nlp-class/blob/master/notes/eisenstein-nlp-notes.pdf)\n",
    "- [Revisiting Low-Resource Neural Machine Translation: A Case Study](https://arxiv.org/abs/1905.11901)\n",
    "- [In Neural Machine Translation, What Does Transfer Learning Transfer?](https://aclanthology.org/2020.acl-main.688/)\n",
    "- [Multilingual Denoising Pre-training for Neural Machine Translation](https://arxiv.org/abs/2001.08210)\n",
    "- [Large Language Models Are State-of-the-Art Evaluators of Translation Quality](https://arxiv.org/abs/2302.14520)\n",
    "- [The use of MMR, diversity-based reranking for reordering documents and producing summaries](https://dl.acm.org/doi/10.1145/290941.291025)\n",
    "- [LexRank: Graph-based Lexical Centrality as Salience in Text Summarization](https://arxiv.org/abs/1109.2128)\n",
    "- [A Scalable Global Model for Summarization](https://www.aclweb.org/anthology/W09-1802/)\n",
    "- [Revisiting the Centroid-based Method: A Strong Baseline for Multi-Document Summarization](https://www.aclweb.org/anthology/W17-4511/)\n",
    "- [BART: Denoising Sequence-to-Sequence Pre-training for Natural Language Generation, Translation, and Comprehension](https://www.aclweb.org/anthology/2020.acl-main.703/)\n",
    "- [PEGASUS: Pre-training with Extracted Gap-sentences for Abstractive Summarization](https://arxiv.org/abs/1912.08777)\n",
    "- [Evaluating Factuality in Generation with Dependency-level Entailment](https://arxiv.org/pdf/2010.05478.pdf)\n",
    "- [Asking and Answering Questions to Evaluate the Factual Consistency of Summaries](https://arxiv.org/abs/2004.04228)\n",
    "- [News Summarization and Evaluation in the Era of GPT-3](https://arxiv.org/abs/2209.12356)\n",
    "- [Unsupervised Part-of-Speech Tagging with Bilingual Graph-Based Projections](https://www.aclweb.org/anthology/P11-1061/)\n",
    "- [Multi-Source Transfer of Delexicalized Dependency Parsers](https://www.aclweb.org/anthology/D11-1006/)\n",
    "- [Massively Multilingual Word Embeddings](https://arxiv.org/pdf/1602.01925.pdf)\n",
    "- [Massively Multilingual Sentence Embeddings for Zero-Shot Cross-Lingual Transfer and Beyond](https://www.aclweb.org/anthology/Q19-1038.pdf)\n",
    "- [How multilingual is Multilingual BERT?](https://www.aclweb.org/anthology/P19-1493.pdf)\n",
    "- [Climbing towards NLU: On Meaning, Form, and Understanding in the Age of Data](https://aclanthology.org/2020.acl-main.463/)\n",
    "- [Provable Limitations of Acquiring Meaning from Ungrounded Form: What Will Future Language Models Understand?](https://arxiv.org/abs/2104.10809)\n",
    "- [Entailment Semantics Can Be Extracted from an Ideal Language Model](https://arxiv.org/abs/2209.12407)\n",
    "- [Experience Grounds Language](https://arxiv.org/abs/2004.10151)\n",
    "- [VQA: Visual Question Answering](https://arxiv.org/abs/1505.00468)\n",
    "- [Learning Transferable Visual Models From Natural Language Supervision](https://arxiv.org/abs/2103.00020)\n",
    "- [The Social Impact of Natural Language Processing](https://aclanthology.org/P16-2096.pdf)\n",
    "- [Men Also Like Shopping: Reducing Gender Bias Amplification using Corpus-level Constraints](https://arxiv.org/pdf/1707.09457.pdf)\n",
    "- [GeoMLAMA: Geo-Diverse Commonsense Probing on Multilingual Pre-Trained Language Models](https://arxiv.org/abs/2205.12247)\n",
    "- [Visually Grounded Reasoning across Languages and Cultures](https://arxiv.org/abs/2109.13238)\n",
    "- [On the Dangers of Stochastic Parrots: Can Language Models Be Too Big?](https://dl.acm.org/doi/10.1145/3442188.3445922)\n",
    "- [RealToxicityPrompts: Evaluating Neural Toxic Degeneration in Language Models](https://arxiv.org/abs/2009.11462)\n",
    "- [Datasheets for Datasets](https://arxiv.org/pdf/1803.09010.pdf)\n",
    "- [Closing the AI Accountability Gap: Defining an End-to-End Framework for Internal Algorithmic Auditing](https://dl.acm.org/doi/pdf/10.1145/3351095.3372873)\n"
   ]
  },
  {
   "cell_type": "markdown",
   "id": "331b3e76",
   "metadata": {},
   "source": [
    "*Links only; we do not redistribute slides or papers.*"
   ]
  }
 ],
 "metadata": {
  "language_info": {
   "codemirror_mode": {
    "name": "ipython",
    "version": 3
   },
   "file_extension": ".py",
   "mimetype": "text/x-python",
   "name": "python",
   "nbconvert_exporter": "python",
   "pygments_lexer": "ipython3",
   "version": "3.9.6"
  }
 },
 "nbformat": 4,
 "nbformat_minor": 5
}
