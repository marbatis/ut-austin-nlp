{
 "cells": [
  {
   "cell_type": "markdown",
   "id": "a69d847c",
   "metadata": {},
   "source": [
    "# Ethics: Dangers of Automation\n",
    "\n",
    "- 📺 **Video:** [https://youtu.be/2PSzHb08Xm4](https://youtu.be/2PSzHb08Xm4)"
   ]
  },
  {
   "cell_type": "markdown",
   "id": "10948167",
   "metadata": {},
   "source": [
    "## Overview\n",
    "- What you’ll learn (fill in after watching)\n",
    "- Why it matters\n"
   ]
  },
  {
   "cell_type": "markdown",
   "id": "7103d78a",
   "metadata": {},
   "source": [
    "## Key ideas\n",
    "- TODO: Summarize the core ideas after viewing the lecture."
   ]
  },
  {
   "cell_type": "markdown",
   "id": "c8882299",
   "metadata": {},
   "source": [
    "## Demo\n",
    "Placeholder—swap in a quick experiment that matches the lecture."
   ]
  },
  {
   "cell_type": "code",
   "execution_count": null,
   "id": "5c68b923",
   "metadata": {},
   "outputs": [],
   "source": [
    "print('Run your own mini-experiment here—consider adding code that reinforces the lecture concepts!')\n"
   ]
  },
  {
   "cell_type": "markdown",
   "id": "5afa28c7",
   "metadata": {},
   "source": [
    "## Try it\n",
    "- Modify the demo\n",
    "- Add a tiny dataset or counter-example\n"
   ]
  },
  {
   "cell_type": "markdown",
   "id": "512fa2b3",
   "metadata": {},
   "source": [
    "## References\n",
    "- [Eisenstein 18.1](https://github.com/jacobeisenstein/gt-nlp-class/blob/master/notes/eisenstein-nlp-notes.pdf)\n",
    "- [Eisenstein 18.1](https://github.com/jacobeisenstein/gt-nlp-class/blob/master/notes/eisenstein-nlp-notes.pdf)\n",
    "- [HMM-Based Word Alignment in Statistical Translation](https://www.aclweb.org/anthology/C96-2141.pdf)\n",
    "- [Pharaoh: A Beam Search Decoder for Phrase-Based Statistical Machine Translation Models](http://homepages.inf.ed.ac.uk/pkoehn/publications/pharaoh-amta2004.pdf)\n",
    "- [Minimum Error Rate Training in Statistical Machine Translation](https://www.aclweb.org/anthology/P03-1021/)\n",
    "- [Eisenstein 18.4](https://github.com/jacobeisenstein/gt-nlp-class/blob/master/notes/eisenstein-nlp-notes.pdf)\n",
    "- [Revisiting Low-Resource Neural Machine Translation: A Case Study](https://arxiv.org/abs/1905.11901)\n",
    "- [In Neural Machine Translation, What Does Transfer Learning Transfer?](https://aclanthology.org/2020.acl-main.688/)\n",
    "- [Multilingual Denoising Pre-training for Neural Machine Translation](https://arxiv.org/abs/2001.08210)\n",
    "- [Large Language Models Are State-of-the-Art Evaluators of Translation Quality](https://arxiv.org/abs/2302.14520)\n",
    "- [The use of MMR, diversity-based reranking for reordering documents and producing summaries](https://dl.acm.org/doi/10.1145/290941.291025)\n",
    "- [LexRank: Graph-based Lexical Centrality as Salience in Text Summarization](https://arxiv.org/abs/1109.2128)\n",
    "- [A Scalable Global Model for Summarization](https://www.aclweb.org/anthology/W09-1802/)\n",
    "- [Revisiting the Centroid-based Method: A Strong Baseline for Multi-Document Summarization](https://www.aclweb.org/anthology/W17-4511/)\n",
    "- [BART: Denoising Sequence-to-Sequence Pre-training for Natural Language Generation, Translation, and Comprehension](https://www.aclweb.org/anthology/2020.acl-main.703/)\n",
    "- [PEGASUS: Pre-training with Extracted Gap-sentences for Abstractive Summarization](https://arxiv.org/abs/1912.08777)\n",
    "- [Evaluating Factuality in Generation with Dependency-level Entailment](https://arxiv.org/pdf/2010.05478.pdf)\n",
    "- [Asking and Answering Questions to Evaluate the Factual Consistency of Summaries](https://arxiv.org/abs/2004.04228)\n",
    "- [News Summarization and Evaluation in the Era of GPT-3](https://arxiv.org/abs/2209.12356)\n",
    "- [Unsupervised Part-of-Speech Tagging with Bilingual Graph-Based Projections](https://www.aclweb.org/anthology/P11-1061/)\n",
    "- [Multi-Source Transfer of Delexicalized Dependency Parsers](https://www.aclweb.org/anthology/D11-1006/)\n",
    "- [Massively Multilingual Word Embeddings](https://arxiv.org/pdf/1602.01925.pdf)\n",
    "- [Massively Multilingual Sentence Embeddings for Zero-Shot Cross-Lingual Transfer and Beyond](https://www.aclweb.org/anthology/Q19-1038.pdf)\n",
    "- [How multilingual is Multilingual BERT?](https://www.aclweb.org/anthology/P19-1493.pdf)\n",
    "- [Climbing towards NLU: On Meaning, Form, and Understanding in the Age of Data](https://aclanthology.org/2020.acl-main.463/)\n",
    "- [Provable Limitations of Acquiring Meaning from Ungrounded Form: What Will Future Language Models Understand?](https://arxiv.org/abs/2104.10809)\n",
    "- [Entailment Semantics Can Be Extracted from an Ideal Language Model](https://arxiv.org/abs/2209.12407)\n",
    "- [Experience Grounds Language](https://arxiv.org/abs/2004.10151)\n",
    "- [VQA: Visual Question Answering](https://arxiv.org/abs/1505.00468)\n",
    "- [Learning Transferable Visual Models From Natural Language Supervision](https://arxiv.org/abs/2103.00020)\n",
    "- [The Social Impact of Natural Language Processing](https://aclanthology.org/P16-2096.pdf)\n",
    "- [Men Also Like Shopping: Reducing Gender Bias Amplification using Corpus-level Constraints](https://arxiv.org/pdf/1707.09457.pdf)\n",
    "- [GeoMLAMA: Geo-Diverse Commonsense Probing on Multilingual Pre-Trained Language Models](https://arxiv.org/abs/2205.12247)\n",
    "- [Visually Grounded Reasoning across Languages and Cultures](https://arxiv.org/abs/2109.13238)\n",
    "- [On the Dangers of Stochastic Parrots: Can Language Models Be Too Big?](https://dl.acm.org/doi/10.1145/3442188.3445922)\n",
    "- [RealToxicityPrompts: Evaluating Neural Toxic Degeneration in Language Models](https://arxiv.org/abs/2009.11462)\n",
    "- [Datasheets for Datasets](https://arxiv.org/pdf/1803.09010.pdf)\n",
    "- [Closing the AI Accountability Gap: Defining an End-to-End Framework for Internal Algorithmic Auditing](https://dl.acm.org/doi/pdf/10.1145/3351095.3372873)\n"
   ]
  },
  {
   "cell_type": "markdown",
   "id": "747042b2",
   "metadata": {},
   "source": [
    "*Links only; we do not redistribute slides or papers.*"
   ]
  }
 ],
 "metadata": {},
 "nbformat": 4,
 "nbformat_minor": 5
}
