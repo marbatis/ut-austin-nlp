{
 "cells": [
  {
   "cell_type": "markdown",
   "id": "0843ad90",
   "metadata": {},
   "source": [
    "# Text Explanations\n",
    "\n",
    "- 📺 **Video:** [https://youtu.be/bXHM5t_ejsc](https://youtu.be/bXHM5t_ejsc)"
   ]
  },
  {
   "cell_type": "markdown",
   "id": "be344868",
   "metadata": {},
   "source": [
    "## Overview\n",
    "- Produce natural-language explanations that accompany model predictions.\n",
    "- Balance factual correctness with readability."
   ]
  },
  {
   "cell_type": "markdown",
   "id": "cae42127",
   "metadata": {},
   "source": [
    "## Key ideas\n",
    "- **Template-based:** fill templates with salient features for consistency.\n",
    "- **Learned explainers:** train sequence-to-sequence models conditioned on decisions.\n",
    "- **Faithfulness:** ensure explanations reflect true decision logic.\n",
    "- **Evaluation:** collect human judgments on helpfulness and correctness."
   ]
  },
  {
   "cell_type": "markdown",
   "id": "95dbf758",
   "metadata": {},
   "source": [
    "## Demo\n",
    "Generate simple template-based rationales that cite top features from a linear model, following the lecture (https://youtu.be/6oyS9MhUlGs)."
   ]
  },
  {
   "cell_type": "code",
   "execution_count": 1,
   "id": "b1855bc3",
   "metadata": {
    "execution": {
     "iopub.execute_input": "2025-10-29T01:33:04.908037Z",
     "iopub.status.busy": "2025-10-29T01:33:04.907780Z",
     "iopub.status.idle": "2025-10-29T01:33:05.694299Z",
     "shell.execute_reply": "2025-10-29T01:33:05.693993Z"
    }
   },
   "outputs": [
    {
     "name": "stdout",
     "output_type": "stream",
     "text": [
      "Predicted positive because words like and, inspiring, cast align with training signals.\n"
     ]
    }
   ],
   "source": [
    "from sklearn.feature_extraction.text import CountVectorizer\n",
    "from sklearn.linear_model import LogisticRegression\n",
    "import numpy as np\n",
    "\n",
    "texts = [\n",
    "    'Excellent cast and uplifting story',\n",
    "    'Tedious pacing with weak jokes',\n",
    "    'Inspiring script and lovable characters',\n",
    "    'Messy editing made it confusing'\n",
    "]\n",
    "labels = [1, 0, 1, 0]\n",
    "\n",
    "vec = CountVectorizer()\n",
    "X = vec.fit_transform(texts)\n",
    "clf = LogisticRegression(max_iter=1000)\n",
    "clf.fit(X, labels)\n",
    "\n",
    "feature_names = np.array(vec.get_feature_names_out())\n",
    "\n",
    "sample = 'The inspiring actors delivered a lovable performance'\n",
    "proba = clf.predict_proba(vec.transform([sample]))[0]\n",
    "pred_label = 'positive' if proba[1] >= 0.5 else 'negative'\n",
    "coefs = clf.coef_[0]\n",
    "indices = np.argsort(np.abs(coefs))[::-1][:3]\n",
    "keywords = feature_names[indices]\n",
    "\n",
    "explanation = f\"Predicted {pred_label} because words like {', '.join(keywords)} align with training signals.\"\n",
    "print(explanation)\n"
   ]
  },
  {
   "cell_type": "markdown",
   "id": "ad049579",
   "metadata": {},
   "source": [
    "## Try it\n",
    "- Modify the demo\n",
    "- Add a tiny dataset or counter-example\n"
   ]
  },
  {
   "cell_type": "markdown",
   "id": "6bc1351f",
   "metadata": {},
   "source": [
    "## References\n",
    "- [The Mythos of Model Interpretability](https://arxiv.org/pdf/1606.03490.pdf)\n",
    "- [Deep Unordered Composition Rivals Syntactic Methods for Text Classification](https://www.aclweb.org/anthology/P15-1162/)\n",
    "- [Analysis Methods in Neural Language Processing: A Survey](https://arxiv.org/pdf/1812.08951.pdf)\n",
    "- [\"Why Should I Trust You?\" Explaining the Predictions of Any Classifier](https://arxiv.org/pdf/1602.04938.pdf)\n",
    "- [Axiomatic Attribution for Deep Networks](https://arxiv.org/pdf/1703.01365.pdf)\n",
    "- [BERT Rediscovers the Classical NLP Pipeline](https://arxiv.org/pdf/1905.05950.pdf)\n",
    "- [What Do You Learn From Context? Probing For Sentence Structure In Contextualized Word Represenations](https://arxiv.org/pdf/1905.06316.pdf)\n",
    "- [Annotation Artifacts in Natural Language Inference Data](https://www.aclweb.org/anthology/N18-2017/)\n",
    "- [Hypothesis Only Baselines in Natural Language Inference](https://www.aclweb.org/anthology/S18-2023/)\n",
    "- [Did the Model Understand the Question?](https://www.aclweb.org/anthology/P18-1176/)\n",
    "- [Swag: A Large-Scale Adversarial Dataset for Grounded Commonsense Inference](https://www.aclweb.org/anthology/D18-1009.pdf)\n",
    "- [Generating Visual Explanations](https://arxiv.org/pdf/1603.08507.pdf)\n",
    "- [e-SNLI: Natural Language Inference with Natural Language Explanations](https://arxiv.org/abs/1812.01193)\n",
    "- [Explaining Question Answering Models through Text Generation](https://arxiv.org/pdf/2004.05569.pdf)\n",
    "- [Program Induction by Rationale Generation : Learning to Solve and Explain Algebraic Word Problems](https://arxiv.org/abs/1705.04146)\n",
    "- [Chain-of-Thought Prompting Elicits Reasoning in Large Language Models](https://arxiv.org/abs/2201.11903)\n",
    "- [The Unreliability of Explanations in Few-shot Prompting for Textual Reasoning](https://arxiv.org/abs/2205.03401)\n",
    "- [Large Language Models are Zero-Shot Reasoners](https://arxiv.org/abs/2205.11916)\n",
    "- [Complementary Explanations for Effective In-Context Learning](https://arxiv.org/pdf/2211.13892.pdf)\n",
    "- [PAL: Program-aided Language Models](https://arxiv.org/abs/2211.10435)\n",
    "- [Measuring and Narrowing the Compositionality Gap in Language Models](https://arxiv.org/abs/2210.03350)\n"
   ]
  },
  {
   "cell_type": "markdown",
   "id": "2fc2e2d6",
   "metadata": {},
   "source": [
    "*Links only; we do not redistribute slides or papers.*"
   ]
  }
 ],
 "metadata": {
  "language_info": {
   "codemirror_mode": {
    "name": "ipython",
    "version": 3
   },
   "file_extension": ".py",
   "mimetype": "text/x-python",
   "name": "python",
   "nbconvert_exporter": "python",
   "pygments_lexer": "ipython3",
   "version": "3.9.6"
  }
 },
 "nbformat": 4,
 "nbformat_minor": 5
}
