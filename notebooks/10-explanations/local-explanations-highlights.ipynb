{
 "cells": [
  {
   "cell_type": "markdown",
   "id": "6df6282a",
   "metadata": {},
   "source": [
    "# Local Explanations: Highlights\n",
    "\n",
    "- 📺 **Video:** [https://youtu.be/ZVElc4CvHpk](https://youtu.be/ZVElc4CvHpk)"
   ]
  },
  {
   "cell_type": "markdown",
   "id": "62effd80",
   "metadata": {},
   "source": [
    "## Overview\n",
    "- Generate local explanations that highlight specific tokens responsible for a model decision.\n",
    "- Compare gradient-based saliency with perturbation-based scores."
   ]
  },
  {
   "cell_type": "markdown",
   "id": "ddf44359",
   "metadata": {},
   "source": [
    "## Key ideas\n",
    "- **Token-level attribution:** assign importance scores to words.\n",
    "- **Perturbation tests:** mask or drop tokens to measure confidence changes.\n",
    "- **Stability:** explanations should not vary wildly under small changes.\n",
    "- **Human alignment:** highlighted spans should align with intuitive evidence."
   ]
  },
  {
   "cell_type": "markdown",
   "id": "2af4503d",
   "metadata": {},
   "source": [
    "## Demo\n",
    "Compute occlusion-based importance scores by masking each token and measuring the drop in predicted probability, as in the lecture (https://youtu.be/pru2Pg1usjI)."
   ]
  },
  {
   "cell_type": "code",
   "execution_count": 1,
   "id": "3a0b172f",
   "metadata": {
    "execution": {
     "iopub.execute_input": "2025-10-29T01:33:01.702420Z",
     "iopub.status.busy": "2025-10-29T01:33:01.702115Z",
     "iopub.status.idle": "2025-10-29T01:33:02.475504Z",
     "shell.execute_reply": "2025-10-29T01:33:02.475229Z"
    }
   },
   "outputs": [
    {
     "name": "stdout",
     "output_type": "stream",
     "text": [
      "         The | importance=0.000\n",
      "        plot | importance=-0.041\n",
      "         was | importance=0.000\n",
      "surprisingly | importance=0.000\n",
      "       fresh | importance=0.028\n",
      "         and | importance=-0.002\n",
      "   heartfelt | importance=0.028\n"
     ]
    }
   ],
   "source": [
    "from sklearn.feature_extraction.text import TfidfVectorizer\n",
    "from sklearn.linear_model import LogisticRegression\n",
    "import numpy as np\n",
    "\n",
    "text = 'The plot was surprisingly fresh and heartfelt'\n",
    "training = [\n",
    "    'Fresh storytelling and great chemistry',\n",
    "    'Heartfelt performances and witty dialogue',\n",
    "    'Predictable and boring plot',\n",
    "    'Flat characters and dull pacing'\n",
    "]\n",
    "labels = [1, 1, 0, 0]\n",
    "\n",
    "vec = TfidfVectorizer()\n",
    "X = vec.fit_transform(training)\n",
    "clf = LogisticRegression(max_iter=1000)\n",
    "clf.fit(X, labels)\n",
    "\n",
    "orig_prob = clf.predict_proba(vec.transform([text]))[0, 1]\n",
    "tokens = text.split()\n",
    "importances = []\n",
    "for i in range(len(tokens)):\n",
    "    masked = tokens.copy()\n",
    "    masked[i] = '[MASK]'\n",
    "    prob = clf.predict_proba(vec.transform([' '.join(masked)]))[0, 1]\n",
    "    importances.append(orig_prob - prob)\n",
    "\n",
    "for token, score in zip(tokens, importances):\n",
    "    print(f\"{token:>12s} | importance={score:.3f}\")\n"
   ]
  },
  {
   "cell_type": "markdown",
   "id": "55b866c6",
   "metadata": {},
   "source": [
    "## Try it\n",
    "- Modify the demo\n",
    "- Add a tiny dataset or counter-example\n"
   ]
  },
  {
   "cell_type": "markdown",
   "id": "c4c0fa93",
   "metadata": {},
   "source": [
    "## References\n",
    "- [The Mythos of Model Interpretability](https://arxiv.org/pdf/1606.03490.pdf)\n",
    "- [Deep Unordered Composition Rivals Syntactic Methods for Text Classification](https://www.aclweb.org/anthology/P15-1162/)\n",
    "- [Analysis Methods in Neural Language Processing: A Survey](https://arxiv.org/pdf/1812.08951.pdf)\n",
    "- [\"Why Should I Trust You?\" Explaining the Predictions of Any Classifier](https://arxiv.org/pdf/1602.04938.pdf)\n",
    "- [Axiomatic Attribution for Deep Networks](https://arxiv.org/pdf/1703.01365.pdf)\n",
    "- [BERT Rediscovers the Classical NLP Pipeline](https://arxiv.org/pdf/1905.05950.pdf)\n",
    "- [What Do You Learn From Context? Probing For Sentence Structure In Contextualized Word Represenations](https://arxiv.org/pdf/1905.06316.pdf)\n",
    "- [Annotation Artifacts in Natural Language Inference Data](https://www.aclweb.org/anthology/N18-2017/)\n",
    "- [Hypothesis Only Baselines in Natural Language Inference](https://www.aclweb.org/anthology/S18-2023/)\n",
    "- [Did the Model Understand the Question?](https://www.aclweb.org/anthology/P18-1176/)\n",
    "- [Swag: A Large-Scale Adversarial Dataset for Grounded Commonsense Inference](https://www.aclweb.org/anthology/D18-1009.pdf)\n",
    "- [Generating Visual Explanations](https://arxiv.org/pdf/1603.08507.pdf)\n",
    "- [e-SNLI: Natural Language Inference with Natural Language Explanations](https://arxiv.org/abs/1812.01193)\n",
    "- [Explaining Question Answering Models through Text Generation](https://arxiv.org/pdf/2004.05569.pdf)\n",
    "- [Program Induction by Rationale Generation : Learning to Solve and Explain Algebraic Word Problems](https://arxiv.org/abs/1705.04146)\n",
    "- [Chain-of-Thought Prompting Elicits Reasoning in Large Language Models](https://arxiv.org/abs/2201.11903)\n",
    "- [The Unreliability of Explanations in Few-shot Prompting for Textual Reasoning](https://arxiv.org/abs/2205.03401)\n",
    "- [Large Language Models are Zero-Shot Reasoners](https://arxiv.org/abs/2205.11916)\n",
    "- [Complementary Explanations for Effective In-Context Learning](https://arxiv.org/pdf/2211.13892.pdf)\n",
    "- [PAL: Program-aided Language Models](https://arxiv.org/abs/2211.10435)\n",
    "- [Measuring and Narrowing the Compositionality Gap in Language Models](https://arxiv.org/abs/2210.03350)\n"
   ]
  },
  {
   "cell_type": "markdown",
   "id": "147d475f",
   "metadata": {},
   "source": [
    "*Links only; we do not redistribute slides or papers.*"
   ]
  }
 ],
 "metadata": {
  "language_info": {
   "codemirror_mode": {
    "name": "ipython",
    "version": 3
   },
   "file_extension": ".py",
   "mimetype": "text/x-python",
   "name": "python",
   "nbconvert_exporter": "python",
   "pygments_lexer": "ipython3",
   "version": "3.9.6"
  }
 },
 "nbformat": 4,
 "nbformat_minor": 5
}
