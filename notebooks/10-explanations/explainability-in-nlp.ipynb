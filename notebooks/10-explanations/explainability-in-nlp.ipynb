{
 "cells": [
  {
   "cell_type": "markdown",
   "id": "edbab1e9",
   "metadata": {},
   "source": [
    "# Explainability in NLP\n",
    "\n",
    "- 📺 **Video:** [https://youtu.be/Nr0_xYEso-4](https://youtu.be/Nr0_xYEso-4)"
   ]
  },
  {
   "cell_type": "markdown",
   "id": "851d5cec",
   "metadata": {},
   "source": [
    "## Overview\n",
    "- Survey methods that make NLP model predictions understandable to humans.\n",
    "- Balance fidelity, simplicity, and faithfulness when communicating explanations."
   ]
  },
  {
   "cell_type": "markdown",
   "id": "34e422ab",
   "metadata": {},
   "source": [
    "## Key ideas\n",
    "- **Global vs. local explanations:** summarize overall behavior or individual decisions.\n",
    "- **Feature importance:** coefficients, gradients, or perturbations highlight influential tokens.\n",
    "- **Counterfactuals:** show edits that flip predictions.\n",
    "- **User goals:** debugging, trust calibration, and accountability drive explanation choice."
   ]
  },
  {
   "cell_type": "markdown",
   "id": "14340448",
   "metadata": {},
   "source": [
    "## Demo\n",
    "Fit a logistic regression sentiment model and display the most influential features, mirroring the lecture (https://youtu.be/6azEdJTGjx0)."
   ]
  },
  {
   "cell_type": "code",
   "execution_count": 1,
   "id": "e6bdb3e2",
   "metadata": {
    "execution": {
     "iopub.execute_input": "2025-10-29T01:33:00.168488Z",
     "iopub.status.busy": "2025-10-29T01:33:00.168193Z",
     "iopub.status.idle": "2025-10-29T01:33:00.952068Z",
     "shell.execute_reply": "2025-10-29T01:33:00.951733Z"
    }
   },
   "outputs": [
    {
     "name": "stdout",
     "output_type": "stream",
     "text": [
      "Top positive features:\n",
      "loved coef=0.225\n",
      "brilliant coef=0.225\n",
      "cinematography coef=0.225\n",
      "film coef=0.196\n",
      "stunning coef=0.196\n",
      "\n",
      "Top negative features:\n",
      "boring coef=-0.197\n",
      "ruined coef=-0.197\n",
      "pacing coef=-0.197\n",
      "experience coef=-0.197\n",
      "and coef=-0.177\n"
     ]
    }
   ],
   "source": [
    "from sklearn.feature_extraction.text import TfidfVectorizer\n",
    "from sklearn.linear_model import LogisticRegression\n",
    "import numpy as np\n",
    "\n",
    "texts = [\n",
    "    'I loved the brilliant cinematography',\n",
    "    'The script was dull and predictable',\n",
    "    'Stunning performances carried the film',\n",
    "    'Boring pacing ruined the experience'\n",
    "]\n",
    "labels = [1, 0, 1, 0]\n",
    "\n",
    "vec = TfidfVectorizer()\n",
    "X = vec.fit_transform(texts)\n",
    "clf = LogisticRegression(max_iter=1000)\n",
    "clf.fit(X, labels)\n",
    "\n",
    "feature_names = np.array(vec.get_feature_names_out())\n",
    "coefs = clf.coef_[0]\n",
    "idx_pos = coefs.argsort()[-5:][::-1]\n",
    "idx_neg = coefs.argsort()[:5]\n",
    "\n",
    "print('Top positive features:')\n",
    "for idx in idx_pos:\n",
    "    print(feature_names[idx], f\"coef={coefs[idx]:.3f}\")\n",
    "\n",
    "print()\n",
    "\n",
    "print('Top negative features:')\n",
    "for idx in idx_neg:\n",
    "    print(feature_names[idx], f\"coef={coefs[idx]:.3f}\")"
   ]
  },
  {
   "cell_type": "markdown",
   "id": "5c467a97",
   "metadata": {},
   "source": [
    "## Try it\n",
    "- Modify the demo\n",
    "- Add a tiny dataset or counter-example\n"
   ]
  },
  {
   "cell_type": "markdown",
   "id": "0ea54d7b",
   "metadata": {},
   "source": [
    "## References\n",
    "- [The Mythos of Model Interpretability](https://arxiv.org/pdf/1606.03490.pdf)\n",
    "- [Deep Unordered Composition Rivals Syntactic Methods for Text Classification](https://www.aclweb.org/anthology/P15-1162/)\n",
    "- [Analysis Methods in Neural Language Processing: A Survey](https://arxiv.org/pdf/1812.08951.pdf)\n",
    "- [\"Why Should I Trust You?\" Explaining the Predictions of Any Classifier](https://arxiv.org/pdf/1602.04938.pdf)\n",
    "- [Axiomatic Attribution for Deep Networks](https://arxiv.org/pdf/1703.01365.pdf)\n",
    "- [BERT Rediscovers the Classical NLP Pipeline](https://arxiv.org/pdf/1905.05950.pdf)\n",
    "- [What Do You Learn From Context? Probing For Sentence Structure In Contextualized Word Represenations](https://arxiv.org/pdf/1905.06316.pdf)\n",
    "- [Annotation Artifacts in Natural Language Inference Data](https://www.aclweb.org/anthology/N18-2017/)\n",
    "- [Hypothesis Only Baselines in Natural Language Inference](https://www.aclweb.org/anthology/S18-2023/)\n",
    "- [Did the Model Understand the Question?](https://www.aclweb.org/anthology/P18-1176/)\n",
    "- [Swag: A Large-Scale Adversarial Dataset for Grounded Commonsense Inference](https://www.aclweb.org/anthology/D18-1009.pdf)\n",
    "- [Generating Visual Explanations](https://arxiv.org/pdf/1603.08507.pdf)\n",
    "- [e-SNLI: Natural Language Inference with Natural Language Explanations](https://arxiv.org/abs/1812.01193)\n",
    "- [Explaining Question Answering Models through Text Generation](https://arxiv.org/pdf/2004.05569.pdf)\n",
    "- [Program Induction by Rationale Generation : Learning to Solve and Explain Algebraic Word Problems](https://arxiv.org/abs/1705.04146)\n",
    "- [Chain-of-Thought Prompting Elicits Reasoning in Large Language Models](https://arxiv.org/abs/2201.11903)\n",
    "- [The Unreliability of Explanations in Few-shot Prompting for Textual Reasoning](https://arxiv.org/abs/2205.03401)\n",
    "- [Large Language Models are Zero-Shot Reasoners](https://arxiv.org/abs/2205.11916)\n",
    "- [Complementary Explanations for Effective In-Context Learning](https://arxiv.org/pdf/2211.13892.pdf)\n",
    "- [PAL: Program-aided Language Models](https://arxiv.org/abs/2211.10435)\n",
    "- [Measuring and Narrowing the Compositionality Gap in Language Models](https://arxiv.org/abs/2210.03350)\n"
   ]
  },
  {
   "cell_type": "markdown",
   "id": "f6c58cd4",
   "metadata": {},
   "source": [
    "*Links only; we do not redistribute slides or papers.*"
   ]
  }
 ],
 "metadata": {
  "language_info": {
   "codemirror_mode": {
    "name": "ipython",
    "version": 3
   },
   "file_extension": ".py",
   "mimetype": "text/x-python",
   "name": "python",
   "nbconvert_exporter": "python",
   "pygments_lexer": "ipython3",
   "version": "3.9.6"
  }
 },
 "nbformat": 4,
 "nbformat_minor": 5
}
