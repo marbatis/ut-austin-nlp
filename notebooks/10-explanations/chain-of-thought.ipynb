{
 "cells": [
  {
   "cell_type": "markdown",
   "id": "9700ee2b",
   "metadata": {},
   "source": [
    "# Chain-of-thought\n",
    "\n",
    "- 📺 **Video:** [https://youtu.be/tNGu3EqJbKc](https://youtu.be/tNGu3EqJbKc)"
   ]
  },
  {
   "cell_type": "markdown",
   "id": "386fcb6f",
   "metadata": {},
   "source": [
    "## Overview\n",
    "- Use step-by-step reasoning traces to improve accuracy and transparency.\n",
    "- Encourage models to externalize intermediate computations."
   ]
  },
  {
   "cell_type": "markdown",
   "id": "891ec3fa",
   "metadata": {},
   "source": [
    "## Key ideas\n",
    "- **Deliberate reasoning:** break tasks into smaller sub-steps.\n",
    "- **Self-consistency:** sample multiple chains and vote on answers.\n",
    "- **Prompting:** phrases like “let’s think step by step” elicit chains.\n",
    "- **Evaluation:** check both final answer and reasoning validity."
   ]
  },
  {
   "cell_type": "markdown",
   "id": "939453be",
   "metadata": {},
   "source": [
    "## Demo\n",
    "Generate chain-of-thought rationales for arithmetic questions using symbolic reasoning, mirroring the lecture (https://youtu.be/h2V6kR1jNRk)."
   ]
  },
  {
   "cell_type": "code",
   "execution_count": 1,
   "id": "e4c51037",
   "metadata": {
    "execution": {
     "iopub.execute_input": "2025-10-29T01:32:59.494231Z",
     "iopub.status.busy": "2025-10-29T01:32:59.493941Z",
     "iopub.status.idle": "2025-10-29T01:32:59.503259Z",
     "shell.execute_reply": "2025-10-29T01:32:59.502770Z"
    }
   },
   "outputs": [
    {
     "name": "stdout",
     "output_type": "stream",
     "text": [
      "Start with numbers 3, 5, 2.\n",
      "Add the first two: 3 + 5 = 8.\n",
      "Add the result to the last number: 8 + 2 = 10.\n",
      "Therefore the final answer is 10.\n",
      "Answer: 10\n"
     ]
    }
   ],
   "source": [
    "def chain_of_thought_addition(a, b, c):\n",
    "    reasoning = [\n",
    "        f'Start with numbers {a}, {b}, {c}.',\n",
    "        f'Add the first two: {a} + {b} = {a + b}.',\n",
    "        f'Add the result to the last number: {a + b} + {c} = {a + b + c}.',\n",
    "        f'Therefore the final answer is {a + b + c}.'\n",
    "    ]\n",
    "    return reasoning, a + b + c\n",
    "\n",
    "steps, answer = chain_of_thought_addition(3, 5, 2)\n",
    "for step in steps:\n",
    "    print(step)\n",
    "print('Answer:', answer)\n"
   ]
  },
  {
   "cell_type": "markdown",
   "id": "f365c167",
   "metadata": {},
   "source": [
    "## Try it\n",
    "- Modify the demo\n",
    "- Add a tiny dataset or counter-example\n"
   ]
  },
  {
   "cell_type": "markdown",
   "id": "52a21ba0",
   "metadata": {},
   "source": [
    "## References\n",
    "- [The Mythos of Model Interpretability](https://arxiv.org/pdf/1606.03490.pdf)\n",
    "- [Deep Unordered Composition Rivals Syntactic Methods for Text Classification](https://www.aclweb.org/anthology/P15-1162/)\n",
    "- [Analysis Methods in Neural Language Processing: A Survey](https://arxiv.org/pdf/1812.08951.pdf)\n",
    "- [\"Why Should I Trust You?\" Explaining the Predictions of Any Classifier](https://arxiv.org/pdf/1602.04938.pdf)\n",
    "- [Axiomatic Attribution for Deep Networks](https://arxiv.org/pdf/1703.01365.pdf)\n",
    "- [BERT Rediscovers the Classical NLP Pipeline](https://arxiv.org/pdf/1905.05950.pdf)\n",
    "- [What Do You Learn From Context? Probing For Sentence Structure In Contextualized Word Represenations](https://arxiv.org/pdf/1905.06316.pdf)\n",
    "- [Annotation Artifacts in Natural Language Inference Data](https://www.aclweb.org/anthology/N18-2017/)\n",
    "- [Hypothesis Only Baselines in Natural Language Inference](https://www.aclweb.org/anthology/S18-2023/)\n",
    "- [Did the Model Understand the Question?](https://www.aclweb.org/anthology/P18-1176/)\n",
    "- [Swag: A Large-Scale Adversarial Dataset for Grounded Commonsense Inference](https://www.aclweb.org/anthology/D18-1009.pdf)\n",
    "- [Generating Visual Explanations](https://arxiv.org/pdf/1603.08507.pdf)\n",
    "- [e-SNLI: Natural Language Inference with Natural Language Explanations](https://arxiv.org/abs/1812.01193)\n",
    "- [Explaining Question Answering Models through Text Generation](https://arxiv.org/pdf/2004.05569.pdf)\n",
    "- [Program Induction by Rationale Generation : Learning to Solve and Explain Algebraic Word Problems](https://arxiv.org/abs/1705.04146)\n",
    "- [Chain-of-Thought Prompting Elicits Reasoning in Large Language Models](https://arxiv.org/abs/2201.11903)\n",
    "- [The Unreliability of Explanations in Few-shot Prompting for Textual Reasoning](https://arxiv.org/abs/2205.03401)\n",
    "- [Large Language Models are Zero-Shot Reasoners](https://arxiv.org/abs/2205.11916)\n",
    "- [Complementary Explanations for Effective In-Context Learning](https://arxiv.org/pdf/2211.13892.pdf)\n",
    "- [PAL: Program-aided Language Models](https://arxiv.org/abs/2211.10435)\n",
    "- [Measuring and Narrowing the Compositionality Gap in Language Models](https://arxiv.org/abs/2210.03350)\n"
   ]
  },
  {
   "cell_type": "markdown",
   "id": "3692d50b",
   "metadata": {},
   "source": [
    "*Links only; we do not redistribute slides or papers.*"
   ]
  }
 ],
 "metadata": {
  "language_info": {
   "codemirror_mode": {
    "name": "ipython",
    "version": 3
   },
   "file_extension": ".py",
   "mimetype": "text/x-python",
   "name": "python",
   "nbconvert_exporter": "python",
   "pygments_lexer": "ipython3",
   "version": "3.9.6"
  }
 },
 "nbformat": 4,
 "nbformat_minor": 5
}
