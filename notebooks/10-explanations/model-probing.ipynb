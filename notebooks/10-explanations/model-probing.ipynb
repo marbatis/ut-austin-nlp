{
 "cells": [
  {
   "cell_type": "markdown",
   "id": "a07c023d",
   "metadata": {},
   "source": [
    "# Model Probing\n",
    "\n",
    "- 📺 **Video:** [https://youtu.be/a6u6WM5wcLQ](https://youtu.be/a6u6WM5wcLQ)"
   ]
  },
  {
   "cell_type": "markdown",
   "id": "83ca0094",
   "metadata": {},
   "source": [
    "## Overview\n",
    "- Probe representations to test whether they encode linguistic properties.\n",
    "- Train lightweight classifiers on frozen embeddings."
   ]
  },
  {
   "cell_type": "markdown",
   "id": "4f57635e",
   "metadata": {},
   "source": [
    "## Key ideas\n",
    "- **Control tasks:** compare to random baselines or diagnostic datasets.\n",
    "- **Selectivity:** ensure probe performance is due to encoded information, not probe capacity.\n",
    "- **Layer analysis:** representations evolve across layers.\n",
    "- **Limitations:** good probes do not prove the model uses that information."
   ]
  },
  {
   "cell_type": "markdown",
   "id": "60d6a17f",
   "metadata": {},
   "source": [
    "## Demo\n",
    "Generate random embeddings for words and train a probe to predict part-of-speech tags, illustrating the methodology from the lecture (https://youtu.be/VXKx_uEyuqY)."
   ]
  },
  {
   "cell_type": "code",
   "execution_count": 1,
   "id": "bbae4082",
   "metadata": {
    "execution": {
     "iopub.execute_input": "2025-10-29T01:33:03.295413Z",
     "iopub.status.busy": "2025-10-29T01:33:03.295138Z",
     "iopub.status.idle": "2025-10-29T01:33:04.103900Z",
     "shell.execute_reply": "2025-10-29T01:33:04.103620Z"
    }
   },
   "outputs": [
    {
     "name": "stdout",
     "output_type": "stream",
     "text": [
      "Probe accuracy: 1.0\n"
     ]
    }
   ],
   "source": [
    "import numpy as np\n",
    "from sklearn.linear_model import LogisticRegression\n",
    "from sklearn.metrics import accuracy_score\n",
    "\n",
    "words = ['cat', 'run', 'quick', 'dog', 'slow']\n",
    "labels = ['NOUN', 'VERB', 'ADJ', 'NOUN', 'ADJ']\n",
    "\n",
    "rng = np.random.default_rng(0)\n",
    "embeddings = rng.normal(size=(len(words), 8))\n",
    "probe = LogisticRegression(max_iter=1000)\n",
    "probe.fit(embeddings, labels)\n",
    "preds = probe.predict(embeddings)\n",
    "print('Probe accuracy:', accuracy_score(labels, preds))\n"
   ]
  },
  {
   "cell_type": "markdown",
   "id": "fff5bcbe",
   "metadata": {},
   "source": [
    "## Try it\n",
    "- Modify the demo\n",
    "- Add a tiny dataset or counter-example\n"
   ]
  },
  {
   "cell_type": "markdown",
   "id": "80d6d358",
   "metadata": {},
   "source": [
    "## References\n",
    "- [The Mythos of Model Interpretability](https://arxiv.org/pdf/1606.03490.pdf)\n",
    "- [Deep Unordered Composition Rivals Syntactic Methods for Text Classification](https://www.aclweb.org/anthology/P15-1162/)\n",
    "- [Analysis Methods in Neural Language Processing: A Survey](https://arxiv.org/pdf/1812.08951.pdf)\n",
    "- [\"Why Should I Trust You?\" Explaining the Predictions of Any Classifier](https://arxiv.org/pdf/1602.04938.pdf)\n",
    "- [Axiomatic Attribution for Deep Networks](https://arxiv.org/pdf/1703.01365.pdf)\n",
    "- [BERT Rediscovers the Classical NLP Pipeline](https://arxiv.org/pdf/1905.05950.pdf)\n",
    "- [What Do You Learn From Context? Probing For Sentence Structure In Contextualized Word Represenations](https://arxiv.org/pdf/1905.06316.pdf)\n",
    "- [Annotation Artifacts in Natural Language Inference Data](https://www.aclweb.org/anthology/N18-2017/)\n",
    "- [Hypothesis Only Baselines in Natural Language Inference](https://www.aclweb.org/anthology/S18-2023/)\n",
    "- [Did the Model Understand the Question?](https://www.aclweb.org/anthology/P18-1176/)\n",
    "- [Swag: A Large-Scale Adversarial Dataset for Grounded Commonsense Inference](https://www.aclweb.org/anthology/D18-1009.pdf)\n",
    "- [Generating Visual Explanations](https://arxiv.org/pdf/1603.08507.pdf)\n",
    "- [e-SNLI: Natural Language Inference with Natural Language Explanations](https://arxiv.org/abs/1812.01193)\n",
    "- [Explaining Question Answering Models through Text Generation](https://arxiv.org/pdf/2004.05569.pdf)\n",
    "- [Program Induction by Rationale Generation : Learning to Solve and Explain Algebraic Word Problems](https://arxiv.org/abs/1705.04146)\n",
    "- [Chain-of-Thought Prompting Elicits Reasoning in Large Language Models](https://arxiv.org/abs/2201.11903)\n",
    "- [The Unreliability of Explanations in Few-shot Prompting for Textual Reasoning](https://arxiv.org/abs/2205.03401)\n",
    "- [Large Language Models are Zero-Shot Reasoners](https://arxiv.org/abs/2205.11916)\n",
    "- [Complementary Explanations for Effective In-Context Learning](https://arxiv.org/pdf/2211.13892.pdf)\n",
    "- [PAL: Program-aided Language Models](https://arxiv.org/abs/2211.10435)\n",
    "- [Measuring and Narrowing the Compositionality Gap in Language Models](https://arxiv.org/abs/2210.03350)\n"
   ]
  },
  {
   "cell_type": "markdown",
   "id": "b297d453",
   "metadata": {},
   "source": [
    "*Links only; we do not redistribute slides or papers.*"
   ]
  }
 ],
 "metadata": {
  "language_info": {
   "codemirror_mode": {
    "name": "ipython",
    "version": 3
   },
   "file_extension": ".py",
   "mimetype": "text/x-python",
   "name": "python",
   "nbconvert_exporter": "python",
   "pygments_lexer": "ipython3",
   "version": "3.9.6"
  }
 },
 "nbformat": 4,
 "nbformat_minor": 5
}
