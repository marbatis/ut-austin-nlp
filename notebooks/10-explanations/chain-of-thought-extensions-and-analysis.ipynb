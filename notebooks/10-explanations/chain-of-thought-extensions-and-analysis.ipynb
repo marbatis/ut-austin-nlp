{
 "cells": [
  {
   "cell_type": "markdown",
   "id": "b3c091f1",
   "metadata": {},
   "source": [
    "# Chain-of-thought: Extensions and Analysis\n",
    "\n",
    "- 📺 **Video:** [https://youtu.be/9sFyzMywKmo](https://youtu.be/9sFyzMywKmo)"
   ]
  },
  {
   "cell_type": "markdown",
   "id": "b7c3a341",
   "metadata": {},
   "source": [
    "## Overview\n",
    "- Analyze when chain-of-thought prompting helps and how to improve robustness.\n",
    "- Explore self-consistency, verifier models, and editing noisy chains."
   ]
  },
  {
   "cell_type": "markdown",
   "id": "37a7b8c4",
   "metadata": {},
   "source": [
    "## Key ideas\n",
    "- **Sampling multiple chains:** vote over diverse rationales to reduce errors.\n",
    "- **Verification:** post-check reasoning steps for arithmetic or logic mistakes.\n",
    "- **Compression:** distill verbose chains into concise explanations.\n",
    "- **Failure modes:** hallucinated steps or unsupported leaps need filtering."
   ]
  },
  {
   "cell_type": "markdown",
   "id": "02a00683",
   "metadata": {},
   "source": [
    "## Demo\n",
    "Simulate self-consistency by generating multiple chains with random noise and majority voting, following the lecture (https://youtu.be/R6N3Wf0iHzs)."
   ]
  },
  {
   "cell_type": "code",
   "execution_count": 1,
   "id": "8199a9e1",
   "metadata": {
    "execution": {
     "iopub.execute_input": "2025-10-29T01:32:58.819852Z",
     "iopub.status.busy": "2025-10-29T01:32:58.819604Z",
     "iopub.status.idle": "2025-10-29T01:32:58.829465Z",
     "shell.execute_reply": "2025-10-29T01:32:58.829061Z"
    }
   },
   "outputs": [
    {
     "name": "stdout",
     "output_type": "stream",
     "text": [
      "Chains generated:\n",
      "['Add 4 + 3 to get 7.', 'Add 2 to reach 9.', 'Answer 9.'] -> 9\n",
      "['Add 4 + 3 to get 7.', 'Add 2 to reach 9.', 'Answer 9.'] -> 9\n",
      "['Add 4 + 3 to get 6.', 'Add 2 to reach 8.', 'Answer 8.'] -> 8\n",
      "['Add 4 + 3 to get 7.', 'Add 2 to reach 9.', 'Answer 9.'] -> 9\n",
      "['Add 4 + 3 to get 8.', 'Add 2 to reach 10.', 'Answer 10.'] -> 10\n",
      "\n",
      "Majority vote answer: 9\n"
     ]
    }
   ],
   "source": [
    "import random\n",
    "\n",
    "random.seed(0)\n",
    "\n",
    "question = 'What is 4 + 3 + 2?'\n",
    "chains = []\n",
    "for _ in range(5):\n",
    "    noise = random.choice([-1, 0, 1])\n",
    "    partial = 4 + 3 + noise\n",
    "    final = partial + 2\n",
    "    chain = [\n",
    "        f'Add 4 + 3 to get {partial}.',\n",
    "        f'Add 2 to reach {final}.',\n",
    "        f'Answer {final}.'\n",
    "    ]\n",
    "    chains.append((chain, final))\n",
    "\n",
    "votes = {}\n",
    "for _, result in chains:\n",
    "    votes[result] = votes.get(result, 0) + 1\n",
    "best = max(votes, key=votes.get)\n",
    "print('Chains generated:')\n",
    "for chain, result in chains:\n",
    "    print(chain, '->', result)\n",
    "print()\n",
    "print('Majority vote answer:', best)\n"
   ]
  },
  {
   "cell_type": "markdown",
   "id": "137e190f",
   "metadata": {},
   "source": [
    "## Try it\n",
    "- Modify the demo\n",
    "- Add a tiny dataset or counter-example\n"
   ]
  },
  {
   "cell_type": "markdown",
   "id": "521913d9",
   "metadata": {},
   "source": [
    "## References\n",
    "- [The Mythos of Model Interpretability](https://arxiv.org/pdf/1606.03490.pdf)\n",
    "- [Deep Unordered Composition Rivals Syntactic Methods for Text Classification](https://www.aclweb.org/anthology/P15-1162/)\n",
    "- [Analysis Methods in Neural Language Processing: A Survey](https://arxiv.org/pdf/1812.08951.pdf)\n",
    "- [\"Why Should I Trust You?\" Explaining the Predictions of Any Classifier](https://arxiv.org/pdf/1602.04938.pdf)\n",
    "- [Axiomatic Attribution for Deep Networks](https://arxiv.org/pdf/1703.01365.pdf)\n",
    "- [BERT Rediscovers the Classical NLP Pipeline](https://arxiv.org/pdf/1905.05950.pdf)\n",
    "- [What Do You Learn From Context? Probing For Sentence Structure In Contextualized Word Represenations](https://arxiv.org/pdf/1905.06316.pdf)\n",
    "- [Annotation Artifacts in Natural Language Inference Data](https://www.aclweb.org/anthology/N18-2017/)\n",
    "- [Hypothesis Only Baselines in Natural Language Inference](https://www.aclweb.org/anthology/S18-2023/)\n",
    "- [Did the Model Understand the Question?](https://www.aclweb.org/anthology/P18-1176/)\n",
    "- [Swag: A Large-Scale Adversarial Dataset for Grounded Commonsense Inference](https://www.aclweb.org/anthology/D18-1009.pdf)\n",
    "- [Generating Visual Explanations](https://arxiv.org/pdf/1603.08507.pdf)\n",
    "- [e-SNLI: Natural Language Inference with Natural Language Explanations](https://arxiv.org/abs/1812.01193)\n",
    "- [Explaining Question Answering Models through Text Generation](https://arxiv.org/pdf/2004.05569.pdf)\n",
    "- [Program Induction by Rationale Generation : Learning to Solve and Explain Algebraic Word Problems](https://arxiv.org/abs/1705.04146)\n",
    "- [Chain-of-Thought Prompting Elicits Reasoning in Large Language Models](https://arxiv.org/abs/2201.11903)\n",
    "- [The Unreliability of Explanations in Few-shot Prompting for Textual Reasoning](https://arxiv.org/abs/2205.03401)\n",
    "- [Large Language Models are Zero-Shot Reasoners](https://arxiv.org/abs/2205.11916)\n",
    "- [Complementary Explanations for Effective In-Context Learning](https://arxiv.org/pdf/2211.13892.pdf)\n",
    "- [PAL: Program-aided Language Models](https://arxiv.org/abs/2211.10435)\n",
    "- [Measuring and Narrowing the Compositionality Gap in Language Models](https://arxiv.org/abs/2210.03350)\n"
   ]
  },
  {
   "cell_type": "markdown",
   "id": "7ef3e42f",
   "metadata": {},
   "source": [
    "*Links only; we do not redistribute slides or papers.*"
   ]
  }
 ],
 "metadata": {
  "language_info": {
   "codemirror_mode": {
    "name": "ipython",
    "version": 3
   },
   "file_extension": ".py",
   "mimetype": "text/x-python",
   "name": "python",
   "nbconvert_exporter": "python",
   "pygments_lexer": "ipython3",
   "version": "3.9.6"
  }
 },
 "nbformat": 4,
 "nbformat_minor": 5
}
