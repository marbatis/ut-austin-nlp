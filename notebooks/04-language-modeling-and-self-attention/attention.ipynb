{
 "cells": [
  {
   "cell_type": "markdown",
   "id": "84003112",
   "metadata": {},
   "source": [
    "# Attention\n",
    "\n",
    "- 📺 **Video:** [https://youtu.be/q7HY7tpWWi8](https://youtu.be/q7HY7tpWWi8)"
   ]
  },
  {
   "cell_type": "markdown",
   "id": "0f4c6bf3",
   "metadata": {},
   "source": [
    "## Overview\n",
    "Introduces the attention mechanism, a game-changing concept first developed in the context of Neural Machine Translation by Bahdanau et al. (2015) The video likely starts by explaining the problem in translation that led to attention: in an encoder-decoder RNN model, the encoder compresses a source sentence into a single vector, which the decoder then uses to produce the target sentence."
   ]
  },
  {
   "cell_type": "code",
   "execution_count": null,
   "id": "5602650a",
   "metadata": {},
   "outputs": [],
   "source": [
    "import os, random\n",
    "random.seed(0)\n",
    "CI = os.environ.get('CI') == 'true'"
   ]
  },
  {
   "cell_type": "markdown",
   "id": "73443488",
   "metadata": {},
   "source": [
    "## Key ideas\n",
    "- This was problematic for long sentences - the fixed vector bottleneck lost a lot of detail, and the decoder had no explicit access to specific parts of the source when generating a given target word.\n",
    "- Attention was proposed as a solution where, for each word the decoder generates, it can attend to (focus on) different parts of the source sentence dynamically.\n",
    "- The lecturer probably illustrates this with an example: translating “The cat sat on the mat” to French.\n",
    "- When generating the word “chat” (cat in French), the attention mechanism will look at the source words and put high weight on “cat”."
   ]
  },
  {
   "cell_type": "markdown",
   "id": "dbdabaeb",
   "metadata": {},
   "source": [
    "## Demo"
   ]
  },
  {
   "cell_type": "code",
   "execution_count": null,
   "id": "dd57c16e",
   "metadata": {},
   "outputs": [],
   "source": [
    "# Scaled dot-product attention (toy)\n",
    "import numpy as np\n",
    "\n",
    "def softmax(x, axis=-1):\n",
    "    x = x - x.max(axis=axis, keepdims=True)\n",
    "    e = np.exp(x)\n",
    "    return e / e.sum(axis=axis, keepdims=True)\n",
    "\n",
    "np.random.seed(0)\n",
    "Q = np.random.randn(3, 4)  # 3 queries, dim 4\n",
    "K = np.random.randn(5, 4)  # 5 keys, dim 4\n",
    "V = np.random.randn(5, 6)  # 5 values, dim 6\n",
    "\n",
    "scores = Q @ K.T / np.sqrt(Q.shape[-1])  # (3,5)\n",
    "weights = softmax(scores, axis=-1)       # (3,5)\n",
    "out = weights @ V                        # (3,6)\n",
    "print(\"weights.shape:\", weights.shape, \"out.shape:\", out.shape)\n"
   ]
  },
  {
   "cell_type": "markdown",
   "id": "4818ed32",
   "metadata": {},
   "source": [
    "## Try it\n",
    "- Modify the demo\n",
    "- Add a tiny dataset or counter-example\n"
   ]
  },
  {
   "cell_type": "markdown",
   "id": "0778a309",
   "metadata": {},
   "source": [
    "## References\n",
    "- [Eisenstein 6.1](https://github.com/jacobeisenstein/gt-nlp-class/blob/master/notes/eisenstein-nlp-notes.pdf)\n",
    "- [Eisenstein 6.2](https://github.com/jacobeisenstein/gt-nlp-class/blob/master/notes/eisenstein-nlp-notes.pdf)\n",
    "- [Eisenstein 6.4](https://github.com/jacobeisenstein/gt-nlp-class/blob/master/notes/eisenstein-nlp-notes.pdf)\n",
    "- [Eisenstein 6.3](https://github.com/jacobeisenstein/gt-nlp-class/blob/master/notes/eisenstein-nlp-notes.pdf)\n",
    "- [[Blog] Understanding LSTMs](http://colah.github.io/posts/2015-08-Understanding-LSTMs/)\n",
    "- [Neural Machine Translation by Jointly Learning to Align and Translate](https://arxiv.org/abs/1409.0473)\n",
    "- [Attention Is All You Need](https://arxiv.org/pdf/1706.03762.pdf)\n",
    "- [Attention Is All You Need](https://arxiv.org/pdf/1706.03762.pdf)\n",
    "- [[Blog] The Illustrated Transformer](http://jalammar.github.io/illustrated-transformer/)\n",
    "- [Attention Is All You Need](https://arxiv.org/pdf/1706.03762.pdf)\n",
    "- [Train Short, Test Long: Attention with Linear Biases Enables Input Length Extrapolation](https://arxiv.org/abs/2108.12409)\n",
    "- [The Impact of Positional Encoding on Length Generalization in Transformers](https://arxiv.org/abs/2305.19466)\n"
   ]
  },
  {
   "cell_type": "markdown",
   "id": "628b0d1f",
   "metadata": {},
   "source": [
    "*Links only; we do not redistribute slides or papers.*"
   ]
  }
 ],
 "metadata": {},
 "nbformat": 4,
 "nbformat_minor": 5
}
