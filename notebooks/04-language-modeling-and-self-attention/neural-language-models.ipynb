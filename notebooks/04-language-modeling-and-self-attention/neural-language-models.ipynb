{
 "cells": [
  {
   "cell_type": "markdown",
   "id": "8396be8d",
   "metadata": {},
   "source": [
    "# Neural Language Models\n",
    "\n",
    "- 📺 **Video:** [https://youtu.be/59NrmwAdOWA](https://youtu.be/59NrmwAdOWA)"
   ]
  },
  {
   "cell_type": "markdown",
   "id": "bea47e24",
   "metadata": {},
   "source": [
    "## Overview\n",
    "- What you’ll learn (fill in after watching)\n",
    "- Why it matters\n"
   ]
  },
  {
   "cell_type": "markdown",
   "id": "e9a910ff",
   "metadata": {},
   "source": [
    "## Key ideas\n",
    "- TODO: Summarize the core ideas after viewing the lecture."
   ]
  },
  {
   "cell_type": "markdown",
   "id": "a00cf061",
   "metadata": {},
   "source": [
    "## Demo\n",
    "Train a tiny two-layer neural network on make_moons."
   ]
  },
  {
   "cell_type": "code",
   "execution_count": null,
   "id": "717e882d",
   "metadata": {},
   "outputs": [],
   "source": [
    "# Two-layer neural network on a toy dataset\n",
    "from sklearn.datasets import make_moons\n",
    "from sklearn.neural_network import MLPClassifier\n",
    "from sklearn.metrics import accuracy_score\n",
    "\n",
    "X, y = make_moons(noise=0.2, random_state=0)\n",
    "mlp = MLPClassifier(hidden_layer_sizes=(16, 16), max_iter=500, random_state=0)\n",
    "mlp.fit(X, y)\n",
    "print(\"Accuracy:\", accuracy_score(y, mlp.predict(X)))\n"
   ]
  },
  {
   "cell_type": "markdown",
   "id": "a457225e",
   "metadata": {},
   "source": [
    "## Try it\n",
    "- Modify the demo\n",
    "- Add a tiny dataset or counter-example\n"
   ]
  },
  {
   "cell_type": "markdown",
   "id": "1e351d51",
   "metadata": {},
   "source": [
    "## References\n",
    "- [Eisenstein 6.1](https://github.com/jacobeisenstein/gt-nlp-class/blob/master/notes/eisenstein-nlp-notes.pdf)\n",
    "- [Eisenstein 6.2](https://github.com/jacobeisenstein/gt-nlp-class/blob/master/notes/eisenstein-nlp-notes.pdf)\n",
    "- [Eisenstein 6.4](https://github.com/jacobeisenstein/gt-nlp-class/blob/master/notes/eisenstein-nlp-notes.pdf)\n",
    "- [Eisenstein 6.3](https://github.com/jacobeisenstein/gt-nlp-class/blob/master/notes/eisenstein-nlp-notes.pdf)\n",
    "- [[Blog] Understanding LSTMs](http://colah.github.io/posts/2015-08-Understanding-LSTMs/)\n",
    "- [Neural Machine Translation by Jointly Learning to Align and Translate](https://arxiv.org/abs/1409.0473)\n",
    "- [Attention Is All You Need](https://arxiv.org/pdf/1706.03762.pdf)\n",
    "- [Attention Is All You Need](https://arxiv.org/pdf/1706.03762.pdf)\n",
    "- [[Blog] The Illustrated Transformer](http://jalammar.github.io/illustrated-transformer/)\n",
    "- [Attention Is All You Need](https://arxiv.org/pdf/1706.03762.pdf)\n",
    "- [Train Short, Test Long: Attention with Linear Biases Enables Input Length Extrapolation](https://arxiv.org/abs/2108.12409)\n",
    "- [The Impact of Positional Encoding on Length Generalization in Transformers](https://arxiv.org/abs/2305.19466)\n"
   ]
  },
  {
   "cell_type": "markdown",
   "id": "a383c471",
   "metadata": {},
   "source": [
    "*Links only; we do not redistribute slides or papers.*"
   ]
  }
 ],
 "metadata": {},
 "nbformat": 4,
 "nbformat_minor": 5
}
