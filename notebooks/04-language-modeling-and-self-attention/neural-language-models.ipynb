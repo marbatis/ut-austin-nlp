{
 "cells": [
  {
   "cell_type": "markdown",
   "id": "8396be8d",
   "metadata": {},
   "source": [
    "# Neural Language Models\n",
    "\n",
    "- 📺 **Video:** [https://youtu.be/59NrmwAdOWA](https://youtu.be/59NrmwAdOWA)"
   ]
  },
  {
   "cell_type": "markdown",
   "id": "bea47e24",
   "metadata": {},
   "source": [
    "## Overview\n",
    "Transitions to Neural Network-based language models, which overcome some limitations of n-gram models. The video likely recalls that in Week 3 we learned how to represent words with embeddings; now we can feed those into a neural sequence model to predict the next word."
   ]
  },
  {
   "cell_type": "code",
   "execution_count": null,
   "id": "549b137b",
   "metadata": {},
   "outputs": [],
   "source": [
    "import os, random\n",
    "random.seed(0)\n",
    "CI = os.environ.get('CI') == 'true'"
   ]
  },
  {
   "cell_type": "markdown",
   "id": "e9a910ff",
   "metadata": {},
   "source": [
    "## Key ideas\n",
    "- It introduces the idea of using an RNN (Recurrent Neural Network) or similar architecture for LM.\n",
    "- Perhaps it starts with the older model by Bengio et al.\n",
    "- (2003) - a feedforward neural LM that used a fixed context (like 4 previous words) but projected them into embeddings and used a hidden layer to predict the next word, dramatically reducing parameters via shared embeddings.\n",
    "- Then it leads into Recurrent Neural Networks, which don't have a fixed context window but instead maintain a hidden state that carries information from all prior words (in theory)."
   ]
  },
  {
   "cell_type": "markdown",
   "id": "a00cf061",
   "metadata": {},
   "source": [
    "## Demo"
   ]
  },
  {
   "cell_type": "code",
   "execution_count": null,
   "id": "717e882d",
   "metadata": {},
   "outputs": [],
   "source": [
    "print('Try the exercises below and follow the linked materials.')"
   ]
  },
  {
   "cell_type": "markdown",
   "id": "a457225e",
   "metadata": {},
   "source": [
    "## Try it\n",
    "- Modify the demo\n",
    "- Add a tiny dataset or counter-example\n"
   ]
  },
  {
   "cell_type": "markdown",
   "id": "1e351d51",
   "metadata": {},
   "source": [
    "## References\n",
    "- [Eisenstein 6.1](https://github.com/jacobeisenstein/gt-nlp-class/blob/master/notes/eisenstein-nlp-notes.pdf)\n",
    "- [Eisenstein 6.2](https://github.com/jacobeisenstein/gt-nlp-class/blob/master/notes/eisenstein-nlp-notes.pdf)\n",
    "- [Eisenstein 6.4](https://github.com/jacobeisenstein/gt-nlp-class/blob/master/notes/eisenstein-nlp-notes.pdf)\n",
    "- [Eisenstein 6.3](https://github.com/jacobeisenstein/gt-nlp-class/blob/master/notes/eisenstein-nlp-notes.pdf)\n",
    "- [[Blog] Understanding LSTMs](http://colah.github.io/posts/2015-08-Understanding-LSTMs/)\n",
    "- [Neural Machine Translation by Jointly Learning to Align and Translate](https://arxiv.org/abs/1409.0473)\n",
    "- [Attention Is All You Need](https://arxiv.org/pdf/1706.03762.pdf)\n",
    "- [Attention Is All You Need](https://arxiv.org/pdf/1706.03762.pdf)\n",
    "- [[Blog] The Illustrated Transformer](http://jalammar.github.io/illustrated-transformer/)\n",
    "- [Attention Is All You Need](https://arxiv.org/pdf/1706.03762.pdf)\n",
    "- [Train Short, Test Long: Attention with Linear Biases Enables Input Length Extrapolation](https://arxiv.org/abs/2108.12409)\n",
    "- [The Impact of Positional Encoding on Length Generalization in Transformers](https://arxiv.org/abs/2305.19466)\n"
   ]
  },
  {
   "cell_type": "markdown",
   "id": "a383c471",
   "metadata": {},
   "source": [
    "*Links only; we do not redistribute slides or papers.*"
   ]
  }
 ],
 "metadata": {},
 "nbformat": 4,
 "nbformat_minor": 5
}
