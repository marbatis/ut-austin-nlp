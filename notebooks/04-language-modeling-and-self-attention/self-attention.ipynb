{
 "cells": [
  {
   "cell_type": "markdown",
   "id": "54cbcefb",
   "metadata": {},
   "source": [
    "# Self-Attention\n",
    "\n",
    "- 📺 **Video:** [https://youtu.be/10l2NXStROU](https://youtu.be/10l2NXStROU)"
   ]
  },
  {
   "cell_type": "markdown",
   "id": "df551a7c",
   "metadata": {},
   "source": [
    "## Overview\n",
    "Builds on the concept of attention to explain Self-Attention, where a sequence attends to itself. The key scenario introduced is likely the Transformer model (Vaswani et al., 2017) where self-attention is extensively used."
   ]
  },
  {
   "cell_type": "code",
   "execution_count": null,
   "id": "620dfd0c",
   "metadata": {},
   "outputs": [],
   "source": [
    "import os, random\n",
    "random.seed(0)\n",
    "CI = os.environ.get('CI') == 'true'"
   ]
  },
  {
   "cell_type": "markdown",
   "id": "f6f5600e",
   "metadata": {},
   "source": [
    "## Key ideas\n",
    "- The video explains that in self-attention, each word in a sequence looks at other words in the same sequence to gather context.\n",
    "- For example, consider a sentence: “The bank near the river was overflowing.” To encode “bank” meaningfully, self-attention allows the model to look at “river” (and maybe “overflowing”) to understand “bank” here means river bank, not financial institution.\n",
    "- Concretely, the video might describe how we compute self-attention: we have queries, keys, and values (linear projections of the word's embedding or hidden state).\n",
    "- For each word as a query, we take dot products with all words' keys to get attention weights, and then use those to sum up value vectors, producing a new representation for that word that integrates information from the others It likely uses a small example to demonstrate: maybe 3-word sequence, showing how each word's new representation is a weighted mix of all three original word vectors."
   ]
  },
  {
   "cell_type": "markdown",
   "id": "68127aa3",
   "metadata": {},
   "source": [
    "## Demo"
   ]
  },
  {
   "cell_type": "code",
   "execution_count": null,
   "id": "1b0f6a41",
   "metadata": {},
   "outputs": [],
   "source": [
    "# Scaled dot-product attention (toy)\n",
    "import numpy as np\n",
    "\n",
    "def softmax(x, axis=-1):\n",
    "    x = x - x.max(axis=axis, keepdims=True)\n",
    "    e = np.exp(x)\n",
    "    return e / e.sum(axis=axis, keepdims=True)\n",
    "\n",
    "np.random.seed(0)\n",
    "Q = np.random.randn(3, 4)  # 3 queries, dim 4\n",
    "K = np.random.randn(5, 4)  # 5 keys, dim 4\n",
    "V = np.random.randn(5, 6)  # 5 values, dim 6\n",
    "\n",
    "scores = Q @ K.T / np.sqrt(Q.shape[-1])  # (3,5)\n",
    "weights = softmax(scores, axis=-1)       # (3,5)\n",
    "out = weights @ V                        # (3,6)\n",
    "print(\"weights.shape:\", weights.shape, \"out.shape:\", out.shape)\n"
   ]
  },
  {
   "cell_type": "markdown",
   "id": "5cf7b554",
   "metadata": {},
   "source": [
    "## Try it\n",
    "- Modify the demo\n",
    "- Add a tiny dataset or counter-example\n"
   ]
  },
  {
   "cell_type": "markdown",
   "id": "136dad69",
   "metadata": {},
   "source": [
    "## References\n",
    "- [Eisenstein 6.1](https://github.com/jacobeisenstein/gt-nlp-class/blob/master/notes/eisenstein-nlp-notes.pdf)\n",
    "- [Eisenstein 6.2](https://github.com/jacobeisenstein/gt-nlp-class/blob/master/notes/eisenstein-nlp-notes.pdf)\n",
    "- [Eisenstein 6.4](https://github.com/jacobeisenstein/gt-nlp-class/blob/master/notes/eisenstein-nlp-notes.pdf)\n",
    "- [Eisenstein 6.3](https://github.com/jacobeisenstein/gt-nlp-class/blob/master/notes/eisenstein-nlp-notes.pdf)\n",
    "- [[Blog] Understanding LSTMs](http://colah.github.io/posts/2015-08-Understanding-LSTMs/)\n",
    "- [Neural Machine Translation by Jointly Learning to Align and Translate](https://arxiv.org/abs/1409.0473)\n",
    "- [Attention Is All You Need](https://arxiv.org/pdf/1706.03762.pdf)\n",
    "- [Attention Is All You Need](https://arxiv.org/pdf/1706.03762.pdf)\n",
    "- [[Blog] The Illustrated Transformer](http://jalammar.github.io/illustrated-transformer/)\n",
    "- [Attention Is All You Need](https://arxiv.org/pdf/1706.03762.pdf)\n",
    "- [Train Short, Test Long: Attention with Linear Biases Enables Input Length Extrapolation](https://arxiv.org/abs/2108.12409)\n",
    "- [The Impact of Positional Encoding on Length Generalization in Transformers](https://arxiv.org/abs/2305.19466)\n"
   ]
  },
  {
   "cell_type": "markdown",
   "id": "4ecaf381",
   "metadata": {},
   "source": [
    "*Links only; we do not redistribute slides or papers.*"
   ]
  }
 ],
 "metadata": {},
 "nbformat": 4,
 "nbformat_minor": 5
}
