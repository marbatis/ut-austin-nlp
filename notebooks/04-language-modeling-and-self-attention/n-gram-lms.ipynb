{
 "cells": [
  {
   "cell_type": "markdown",
   "id": "0bd3d4bf",
   "metadata": {},
   "source": [
    "# n-gram LMs\n",
    "\n",
    "- 📺 **Video:** [https://youtu.be/J-yHbD8LYCM](https://youtu.be/J-yHbD8LYCM)"
   ]
  },
  {
   "cell_type": "markdown",
   "id": "8ebf7e9b",
   "metadata": {},
   "source": [
    "## Overview\n",
    "Revisits statistical language models that estimate token probabilities from fixed-order n-gram counts. Concepts include Markov assumptions, maximum likelihood estimation, and smoothing techniques such as Laplace, Katz backoff, and Kneser-Ney."
   ]
  },
  {
   "cell_type": "code",
   "execution_count": null,
   "id": "7533d12b",
   "metadata": {},
   "outputs": [],
   "source": [
    "import os, random\n",
    "random.seed(0)\n",
    "CI = os.environ.get('CI') == 'true'"
   ]
  },
  {
   "cell_type": "markdown",
   "id": "392f57ff",
   "metadata": {},
   "source": [
    "## Key ideas\n",
    "- The lecture illustrates perplexity computation and how n-gram LMs underpin early speech recognition and MT systems.\n",
    "- Limitations (data sparsity, lack of long-range context) motivate the transition to neural language models covered later."
   ]
  },
  {
   "cell_type": "markdown",
   "id": "4602fc1d",
   "metadata": {},
   "source": [
    "## Demo"
   ]
  },
  {
   "cell_type": "code",
   "execution_count": null,
   "id": "0085b97b",
   "metadata": {},
   "outputs": [],
   "source": [
    "print('Try the exercises below and follow the linked materials.')"
   ]
  },
  {
   "cell_type": "markdown",
   "id": "f792ff66",
   "metadata": {},
   "source": [
    "## Try it\n",
    "- Modify the demo\n",
    "- Add a tiny dataset or counter-example\n"
   ]
  },
  {
   "cell_type": "markdown",
   "id": "a8ccf079",
   "metadata": {},
   "source": [
    "## References\n",
    "- [Eisenstein 6.1](https://github.com/jacobeisenstein/gt-nlp-class/blob/master/notes/eisenstein-nlp-notes.pdf)\n",
    "- [Eisenstein 6.2](https://github.com/jacobeisenstein/gt-nlp-class/blob/master/notes/eisenstein-nlp-notes.pdf)\n",
    "- [Eisenstein 6.4](https://github.com/jacobeisenstein/gt-nlp-class/blob/master/notes/eisenstein-nlp-notes.pdf)\n",
    "- [Eisenstein 6.3](https://github.com/jacobeisenstein/gt-nlp-class/blob/master/notes/eisenstein-nlp-notes.pdf)\n",
    "- [[Blog] Understanding LSTMs](http://colah.github.io/posts/2015-08-Understanding-LSTMs/)\n",
    "- [Neural Machine Translation by Jointly Learning to Align and Translate](https://arxiv.org/abs/1409.0473)\n",
    "- [Attention Is All You Need](https://arxiv.org/pdf/1706.03762.pdf)\n",
    "- [Attention Is All You Need](https://arxiv.org/pdf/1706.03762.pdf)\n",
    "- [[Blog] The Illustrated Transformer](http://jalammar.github.io/illustrated-transformer/)\n",
    "- [Attention Is All You Need](https://arxiv.org/pdf/1706.03762.pdf)\n",
    "- [Train Short, Test Long: Attention with Linear Biases Enables Input Length Extrapolation](https://arxiv.org/abs/2108.12409)\n",
    "- [The Impact of Positional Encoding on Length Generalization in Transformers](https://arxiv.org/abs/2305.19466)\n"
   ]
  },
  {
   "cell_type": "markdown",
   "id": "860d7062",
   "metadata": {},
   "source": [
    "*Links only; we do not redistribute slides or papers.*"
   ]
  }
 ],
 "metadata": {},
 "nbformat": 4,
 "nbformat_minor": 5
}
