{
 "cells": [
  {
   "cell_type": "markdown",
   "id": "0bd3d4bf",
   "metadata": {},
   "source": [
    "# n-gram LMs\n",
    "\n",
    "- 📺 **Video:** [https://youtu.be/J-yHbD8LYCM](https://youtu.be/J-yHbD8LYCM)"
   ]
  },
  {
   "cell_type": "markdown",
   "id": "8ebf7e9b",
   "metadata": {},
   "source": [
    "## Overview\n",
    "- What you’ll learn (fill in after watching)\n",
    "- Why it matters\n"
   ]
  },
  {
   "cell_type": "markdown",
   "id": "392f57ff",
   "metadata": {},
   "source": [
    "## Key ideas\n",
    "- TODO: Summarize the core ideas after viewing the lecture."
   ]
  },
  {
   "cell_type": "markdown",
   "id": "4602fc1d",
   "metadata": {},
   "source": [
    "## Demo\n",
    "Estimate simple bigram probabilities from a toy corpus."
   ]
  },
  {
   "cell_type": "code",
   "execution_count": null,
   "id": "0085b97b",
   "metadata": {},
   "outputs": [],
   "source": [
    "# Quick bigram language model demo\n",
    "from collections import Counter\n",
    "import math\n",
    "\n",
    "corpus = \"we love NLP and we love transformers\".lower().split()\n",
    "bigrams = Counter(zip(corpus, corpus[1:]))\n",
    "unigrams = Counter(corpus)\n",
    "\n",
    "\n",
    "def bigram_prob(w1, w2, alpha=1.0):\n",
    "    return (bigrams[(w1, w2)] + alpha) / (unigrams[w1] + alpha * len(unigrams))\n",
    "\n",
    "\n",
    "sentence = \"we love nlp\".split()\n",
    "log_prob = 0.0\n",
    "for w1, w2 in zip(sentence, sentence[1:]):\n",
    "    log_prob += math.log(bigram_prob(w1, w2))\n",
    "print(f\"log P({' '.join(sentence)}) = {log_prob:.3f}\")\n"
   ]
  },
  {
   "cell_type": "markdown",
   "id": "f792ff66",
   "metadata": {},
   "source": [
    "## Try it\n",
    "- Modify the demo\n",
    "- Add a tiny dataset or counter-example\n"
   ]
  },
  {
   "cell_type": "markdown",
   "id": "a8ccf079",
   "metadata": {},
   "source": [
    "## References\n",
    "- [Eisenstein 6.1](https://github.com/jacobeisenstein/gt-nlp-class/blob/master/notes/eisenstein-nlp-notes.pdf)\n",
    "- [Eisenstein 6.2](https://github.com/jacobeisenstein/gt-nlp-class/blob/master/notes/eisenstein-nlp-notes.pdf)\n",
    "- [Eisenstein 6.4](https://github.com/jacobeisenstein/gt-nlp-class/blob/master/notes/eisenstein-nlp-notes.pdf)\n",
    "- [Eisenstein 6.3](https://github.com/jacobeisenstein/gt-nlp-class/blob/master/notes/eisenstein-nlp-notes.pdf)\n",
    "- [[Blog] Understanding LSTMs](http://colah.github.io/posts/2015-08-Understanding-LSTMs/)\n",
    "- [Neural Machine Translation by Jointly Learning to Align and Translate](https://arxiv.org/abs/1409.0473)\n",
    "- [Attention Is All You Need](https://arxiv.org/pdf/1706.03762.pdf)\n",
    "- [Attention Is All You Need](https://arxiv.org/pdf/1706.03762.pdf)\n",
    "- [[Blog] The Illustrated Transformer](http://jalammar.github.io/illustrated-transformer/)\n",
    "- [Attention Is All You Need](https://arxiv.org/pdf/1706.03762.pdf)\n",
    "- [Train Short, Test Long: Attention with Linear Biases Enables Input Length Extrapolation](https://arxiv.org/abs/2108.12409)\n",
    "- [The Impact of Positional Encoding on Length Generalization in Transformers](https://arxiv.org/abs/2305.19466)\n"
   ]
  },
  {
   "cell_type": "markdown",
   "id": "860d7062",
   "metadata": {},
   "source": [
    "*Links only; we do not redistribute slides or papers.*"
   ]
  }
 ],
 "metadata": {},
 "nbformat": 4,
 "nbformat_minor": 5
}
