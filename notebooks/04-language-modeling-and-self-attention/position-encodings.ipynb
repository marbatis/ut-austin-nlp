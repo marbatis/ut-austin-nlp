{
 "cells": [
  {
   "cell_type": "markdown",
   "id": "929d02a5",
   "metadata": {},
   "source": [
    "# Position Encodings\n",
    "\n",
    "- 📺 **Video:** [https://youtu.be/a8sTGth7PoU](https://youtu.be/a8sTGth7PoU)"
   ]
  },
  {
   "cell_type": "markdown",
   "id": "57e1fc2f",
   "metadata": {},
   "source": [
    "## Overview\n",
    "- What you’ll learn (fill in after watching)\n",
    "- Why it matters\n"
   ]
  },
  {
   "cell_type": "markdown",
   "id": "3fd22054",
   "metadata": {},
   "source": [
    "## Key ideas\n",
    "- TODO: Summarize the core ideas after viewing the lecture."
   ]
  },
  {
   "cell_type": "markdown",
   "id": "1f3d3bc1",
   "metadata": {},
   "source": [
    "## Demo\n",
    "Forward pass probabilities for a toy hidden Markov model."
   ]
  },
  {
   "cell_type": "code",
   "execution_count": null,
   "id": "012a3a24",
   "metadata": {},
   "outputs": [],
   "source": [
    "# Tiny HMM forward probabilities\n",
    "states = [\"Rainy\", \"Sunny\"]\n",
    "start = {\"Rainy\": 0.6, \"Sunny\": 0.4}\n",
    "trans = {\n",
    "    \"Rainy\": {\"Rainy\": 0.7, \"Sunny\": 0.3},\n",
    "    \"Sunny\": {\"Rainy\": 0.4, \"Sunny\": 0.6},\n",
    "}\n",
    "emit = {\n",
    "    \"Rainy\": {\"walk\": 0.1, \"shop\": 0.4, \"clean\": 0.5},\n",
    "    \"Sunny\": {\"walk\": 0.6, \"shop\": 0.3, \"clean\": 0.1},\n",
    "}\n",
    "obs = [\"walk\", \"shop\", \"clean\"]\n",
    "\n",
    "alpha = [{s: start[s] * emit[s][obs[0]] for s in states}]\n",
    "for t in range(1, len(obs)):\n",
    "    alpha.append({})\n",
    "    for s in states:\n",
    "        alpha[t][s] = emit[s][obs[t]] * sum(\n",
    "            alpha[t - 1][sp] * trans[sp][s] for sp in states\n",
    "        )\n",
    "\n",
    "for t, dist in enumerate(alpha):\n",
    "    print(f\"t={t}\", {s: round(p, 4) for s, p in dist.items()})\n"
   ]
  },
  {
   "cell_type": "markdown",
   "id": "3ba4fef3",
   "metadata": {},
   "source": [
    "## Try it\n",
    "- Modify the demo\n",
    "- Add a tiny dataset or counter-example\n"
   ]
  },
  {
   "cell_type": "markdown",
   "id": "9948c95d",
   "metadata": {},
   "source": [
    "## References\n",
    "- [Eisenstein 6.1](https://github.com/jacobeisenstein/gt-nlp-class/blob/master/notes/eisenstein-nlp-notes.pdf)\n",
    "- [Eisenstein 6.2](https://github.com/jacobeisenstein/gt-nlp-class/blob/master/notes/eisenstein-nlp-notes.pdf)\n",
    "- [Eisenstein 6.4](https://github.com/jacobeisenstein/gt-nlp-class/blob/master/notes/eisenstein-nlp-notes.pdf)\n",
    "- [Eisenstein 6.3](https://github.com/jacobeisenstein/gt-nlp-class/blob/master/notes/eisenstein-nlp-notes.pdf)\n",
    "- [[Blog] Understanding LSTMs](http://colah.github.io/posts/2015-08-Understanding-LSTMs/)\n",
    "- [Neural Machine Translation by Jointly Learning to Align and Translate](https://arxiv.org/abs/1409.0473)\n",
    "- [Attention Is All You Need](https://arxiv.org/pdf/1706.03762.pdf)\n",
    "- [Attention Is All You Need](https://arxiv.org/pdf/1706.03762.pdf)\n",
    "- [[Blog] The Illustrated Transformer](http://jalammar.github.io/illustrated-transformer/)\n",
    "- [Attention Is All You Need](https://arxiv.org/pdf/1706.03762.pdf)\n",
    "- [Train Short, Test Long: Attention with Linear Biases Enables Input Length Extrapolation](https://arxiv.org/abs/2108.12409)\n",
    "- [The Impact of Positional Encoding on Length Generalization in Transformers](https://arxiv.org/abs/2305.19466)\n"
   ]
  },
  {
   "cell_type": "markdown",
   "id": "36e8757a",
   "metadata": {},
   "source": [
    "*Links only; we do not redistribute slides or papers.*"
   ]
  }
 ],
 "metadata": {},
 "nbformat": 4,
 "nbformat_minor": 5
}
