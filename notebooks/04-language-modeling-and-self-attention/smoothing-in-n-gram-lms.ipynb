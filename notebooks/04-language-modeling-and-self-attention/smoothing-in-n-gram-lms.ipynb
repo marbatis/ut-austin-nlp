{
 "cells": [
  {
   "cell_type": "markdown",
   "id": "ddbcee90",
   "metadata": {},
   "source": [
    "# Smoothing in n-gram LMs\n",
    "\n",
    "- 📺 **Video:** [https://youtu.be/Yfug5eIQh5w](https://youtu.be/Yfug5eIQh5w)"
   ]
  },
  {
   "cell_type": "markdown",
   "id": "e9ebe5a8",
   "metadata": {},
   "source": [
    "## Overview\n",
    "Addresses how to han zero probabilities and improve estimates in n-gram models via smoothing techniques. The video likely starts with the simplest method, Laplace (add-1) smoothing, explaining that we pretend we saw each possible n-gram at least once to avoid zeros (so add 1 to all counts and adjust probabilities accordingly)."
   ]
  },
  {
   "cell_type": "code",
   "execution_count": null,
   "id": "dd667fe9",
   "metadata": {},
   "outputs": [],
   "source": [
    "import os, random\n",
    "random.seed(0)\n",
    "CI = os.environ.get('CI') == 'true'"
   ]
  },
  {
   "cell_type": "markdown",
   "id": "e34837e6",
   "metadata": {},
   "source": [
    "## Key ideas\n",
    "- It then moves to more sophisticated methods like Good-Turing discounting (reallocating some probability mass from seen n-grams to unseen ones) and Interpolation/backoff strategies.\n",
    "- For instance, backoff: if an n-gram has zero count, back off to using an (n-1)-gram probability.\n",
    "- Or interpolation: always combine trigram, bigram, and unigram probabilities with certain weights The video probably emphasizes Kneser-Ney smoothing, one of the best methods: explaining its intuition that not all contexts are equally novel - it redistributes probabilities in a clever way by considering how likely a word is to appear as a novel continuation.\n",
    "- This could be high-level since full Kneser-Ney details are complex, but the key idea is conveyed that it adjusts for how likely context is to produce new words."
   ]
  },
  {
   "cell_type": "markdown",
   "id": "894e5ce5",
   "metadata": {},
   "source": [
    "## Demo"
   ]
  },
  {
   "cell_type": "code",
   "execution_count": null,
   "id": "f927ae6a",
   "metadata": {},
   "outputs": [],
   "source": [
    "print('Try the exercises below and follow the linked materials.')"
   ]
  },
  {
   "cell_type": "markdown",
   "id": "a8bbf3ef",
   "metadata": {},
   "source": [
    "## Try it\n",
    "- Modify the demo\n",
    "- Add a tiny dataset or counter-example\n"
   ]
  },
  {
   "cell_type": "markdown",
   "id": "8c17692b",
   "metadata": {},
   "source": [
    "## References\n",
    "- [Eisenstein 6.1](https://github.com/jacobeisenstein/gt-nlp-class/blob/master/notes/eisenstein-nlp-notes.pdf)\n",
    "- [Eisenstein 6.2](https://github.com/jacobeisenstein/gt-nlp-class/blob/master/notes/eisenstein-nlp-notes.pdf)\n",
    "- [Eisenstein 6.4](https://github.com/jacobeisenstein/gt-nlp-class/blob/master/notes/eisenstein-nlp-notes.pdf)\n",
    "- [Eisenstein 6.3](https://github.com/jacobeisenstein/gt-nlp-class/blob/master/notes/eisenstein-nlp-notes.pdf)\n",
    "- [[Blog] Understanding LSTMs](http://colah.github.io/posts/2015-08-Understanding-LSTMs/)\n",
    "- [Neural Machine Translation by Jointly Learning to Align and Translate](https://arxiv.org/abs/1409.0473)\n",
    "- [Attention Is All You Need](https://arxiv.org/pdf/1706.03762.pdf)\n",
    "- [Attention Is All You Need](https://arxiv.org/pdf/1706.03762.pdf)\n",
    "- [[Blog] The Illustrated Transformer](http://jalammar.github.io/illustrated-transformer/)\n",
    "- [Attention Is All You Need](https://arxiv.org/pdf/1706.03762.pdf)\n",
    "- [Train Short, Test Long: Attention with Linear Biases Enables Input Length Extrapolation](https://arxiv.org/abs/2108.12409)\n",
    "- [The Impact of Positional Encoding on Length Generalization in Transformers](https://arxiv.org/abs/2305.19466)\n"
   ]
  },
  {
   "cell_type": "markdown",
   "id": "1b294927",
   "metadata": {},
   "source": [
    "*Links only; we do not redistribute slides or papers.*"
   ]
  }
 ],
 "metadata": {},
 "nbformat": 4,
 "nbformat_minor": 5
}
