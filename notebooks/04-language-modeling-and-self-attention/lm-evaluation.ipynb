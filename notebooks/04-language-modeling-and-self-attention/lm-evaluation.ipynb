{
 "cells": [
  {
   "cell_type": "markdown",
   "id": "97756e8d",
   "metadata": {},
   "source": [
    "# LM Evaluation\n",
    "\n",
    "- 📺 **Video:** [https://youtu.be/ImW4vJ5XZQc](https://youtu.be/ImW4vJ5XZQc)"
   ]
  },
  {
   "cell_type": "markdown",
   "id": "ab0117df",
   "metadata": {},
   "source": [
    "## Overview\n",
    "- Evaluate language models with log-likelihood, perplexity, and cross-entropy metrics.\n",
    "- Understand how evaluation choices relate to downstream tasks."
   ]
  },
  {
   "cell_type": "markdown",
   "id": "aa326f2b",
   "metadata": {},
   "source": [
    "## Key ideas\n",
    "- **Log-likelihood:** sum of log probabilities over tokens quantifies model fit.\n",
    "- **Cross-entropy:** average negative log-likelihood per token.\n",
    "- **Perplexity:** exponentiated cross-entropy; lower is better.\n",
    "- **Calibration:** high perplexity may still yield useful relative scores for re-ranking."
   ]
  },
  {
   "cell_type": "markdown",
   "id": "0fd3a0c3",
   "metadata": {},
   "source": [
    "## Demo\n",
    "Compute perplexity of toy language models on a held-out set, mirroring the evaluation checklist from the lecture (https://youtu.be/eAXNGkzLZd0)."
   ]
  },
  {
   "cell_type": "code",
   "execution_count": 1,
   "id": "fd22b0d3",
   "metadata": {
    "execution": {
     "iopub.execute_input": "2025-10-29T01:28:41.520968Z",
     "iopub.status.busy": "2025-10-29T01:28:41.520501Z",
     "iopub.status.idle": "2025-10-29T01:28:41.531863Z",
     "shell.execute_reply": "2025-10-29T01:28:41.531481Z"
    }
   },
   "outputs": [
    {
     "name": "stdout",
     "output_type": "stream",
     "text": [
      "Sentence 'the cat' | bigram perplexity 1.77 | trigram perplexity 1.26\n",
      "Sentence 'the dog runs' | bigram perplexity 1.83 | trigram perplexity 1.62\n"
     ]
    }
   ],
   "source": [
    "import math\n",
    "\n",
    "# toy models: bigram vs trigram probabilities\n",
    "bigram_model = {\n",
    "    ('<s>', 'the'): 0.6,\n",
    "    ('<s>', 'a'): 0.4,\n",
    "    ('the', 'cat'): 0.5,\n",
    "    ('the', 'dog'): 0.5,\n",
    "    ('cat', '</s>'): 0.6,\n",
    "    ('dog', '</s>'): 0.7,\n",
    "    ('dog', 'runs'): 0.3,\n",
    "    ('runs', '</s>'): 1.0\n",
    "}\n",
    "\n",
    "trigram_model = {\n",
    "    ('<s>', '<s>', 'the'): 0.8,\n",
    "    ('<s>', 'the', 'cat'): 0.7,\n",
    "    ('<s>', 'the', 'dog'): 0.3,\n",
    "    ('the', 'cat', '</s>'): 0.9,\n",
    "    ('the', 'dog', '</s>'): 0.4,\n",
    "    ('the', 'dog', 'runs'): 0.6,\n",
    "    ('dog', 'runs', '</s>'): 1.0\n",
    "}\n",
    "\n",
    "def perplexity(model, sentence, order):\n",
    "    tokens = ['<s>'] * (order - 1) + sentence.split() + ['</s>']\n",
    "    log_prob = 0.0\n",
    "    for i in range(order - 1, len(tokens)):\n",
    "        if order == 2:\n",
    "            context = (tokens[i-1], tokens[i])\n",
    "        else:\n",
    "            context = (tokens[i-2], tokens[i-1], tokens[i])\n",
    "        prob = model.get(context, 1e-6)\n",
    "        log_prob += math.log(prob)\n",
    "    return math.exp(-log_prob / (len(tokens) - (order - 1)))\n",
    "\n",
    "sentences = ['the cat', 'the dog runs']\n",
    "for sent in sentences:\n",
    "    ppl_bigram = perplexity(bigram_model, sent, order=2)\n",
    "    ppl_trigram = perplexity(trigram_model, sent, order=3)\n",
    "    print(f\"Sentence '{sent}' | bigram perplexity {ppl_bigram:.2f} | trigram perplexity {ppl_trigram:.2f}\")\n"
   ]
  },
  {
   "cell_type": "markdown",
   "id": "6a42d164",
   "metadata": {},
   "source": [
    "## Try it\n",
    "- Modify the demo\n",
    "- Add a tiny dataset or counter-example\n"
   ]
  },
  {
   "cell_type": "markdown",
   "id": "59ae283b",
   "metadata": {},
   "source": [
    "## References\n",
    "- [Eisenstein 6.1](https://github.com/jacobeisenstein/gt-nlp-class/blob/master/notes/eisenstein-nlp-notes.pdf)\n",
    "- [Eisenstein 6.2](https://github.com/jacobeisenstein/gt-nlp-class/blob/master/notes/eisenstein-nlp-notes.pdf)\n",
    "- [Eisenstein 6.4](https://github.com/jacobeisenstein/gt-nlp-class/blob/master/notes/eisenstein-nlp-notes.pdf)\n",
    "- [Eisenstein 6.3](https://github.com/jacobeisenstein/gt-nlp-class/blob/master/notes/eisenstein-nlp-notes.pdf)\n",
    "- [[Blog] Understanding LSTMs](http://colah.github.io/posts/2015-08-Understanding-LSTMs/)\n",
    "- [Neural Machine Translation by Jointly Learning to Align and Translate](https://arxiv.org/abs/1409.0473)\n",
    "- [Attention Is All You Need](https://arxiv.org/pdf/1706.03762.pdf)\n",
    "- [Attention Is All You Need](https://arxiv.org/pdf/1706.03762.pdf)\n",
    "- [[Blog] The Illustrated Transformer](http://jalammar.github.io/illustrated-transformer/)\n",
    "- [Attention Is All You Need](https://arxiv.org/pdf/1706.03762.pdf)\n",
    "- [Train Short, Test Long: Attention with Linear Biases Enables Input Length Extrapolation](https://arxiv.org/abs/2108.12409)\n",
    "- [The Impact of Positional Encoding on Length Generalization in Transformers](https://arxiv.org/abs/2305.19466)\n"
   ]
  },
  {
   "cell_type": "markdown",
   "id": "5ee52b3b",
   "metadata": {},
   "source": [
    "*Links only; we do not redistribute slides or papers.*"
   ]
  }
 ],
 "metadata": {
  "language_info": {
   "codemirror_mode": {
    "name": "ipython",
    "version": 3
   },
   "file_extension": ".py",
   "mimetype": "text/x-python",
   "name": "python",
   "nbconvert_exporter": "python",
   "pygments_lexer": "ipython3",
   "version": "3.9.6"
  }
 },
 "nbformat": 4,
 "nbformat_minor": 5
}
