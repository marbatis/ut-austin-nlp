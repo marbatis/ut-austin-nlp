{
 "cells": [
  {
   "cell_type": "markdown",
   "id": "97756e8d",
   "metadata": {},
   "source": [
    "# LM Evaluation\n",
    "\n",
    "- 📺 **Video:** [https://youtu.be/ImW4vJ5XZQc](https://youtu.be/ImW4vJ5XZQc)"
   ]
  },
  {
   "cell_type": "markdown",
   "id": "ab0117df",
   "metadata": {},
   "source": [
    "## Overview\n",
    "Discusses how to evaluate language models, introducing Perplexity as the main metric. The video defines perplexity (PP) of a model on a test set as the geometric mean of the inverse probability the model assigns to each word (or essentially exp of the average negative log-likelihood) It explains that a lower perplexity means the model is less “surprised” by the test data - hence a better model."
   ]
  },
  {
   "cell_type": "code",
   "execution_count": null,
   "id": "5e82136a",
   "metadata": {},
   "outputs": [],
   "source": [
    "import os, random\n",
    "random.seed(0)\n",
    "CI = os.environ.get('CI') == 'true'"
   ]
  },
  {
   "cell_type": "markdown",
   "id": "aa326f2b",
   "metadata": {},
   "source": [
    "## Key ideas\n",
    "- For example, if a model has perplexity 50, it's as uncertain as if it had to choose among 50 equally likely words at each step on average.\n",
    "- The lecture might demonstrate computing perplexity on a tiny example for clarity.\n",
    "- It also covers cross-entropy as an information-theoretic measure related to log-likelihood, noting that minimizing cross-entropy is equivalent to maximizing likelihood, and perplexity is just 2^(cross-entropy) if logs are base 2.\n",
    "- Additionally, the video might highlight that perplexity is an intrinsic evaluation - it measures how well the model predicts data, but not directly how useful the model is for any downstream task."
   ]
  },
  {
   "cell_type": "markdown",
   "id": "0fd3a0c3",
   "metadata": {},
   "source": [
    "## Demo"
   ]
  },
  {
   "cell_type": "code",
   "execution_count": null,
   "id": "fd22b0d3",
   "metadata": {},
   "outputs": [],
   "source": [
    "print('Try the exercises below and follow the linked materials.')"
   ]
  },
  {
   "cell_type": "markdown",
   "id": "6a42d164",
   "metadata": {},
   "source": [
    "## Try it\n",
    "- Modify the demo\n",
    "- Add a tiny dataset or counter-example\n"
   ]
  },
  {
   "cell_type": "markdown",
   "id": "59ae283b",
   "metadata": {},
   "source": [
    "## References\n",
    "- [Eisenstein 6.1](https://github.com/jacobeisenstein/gt-nlp-class/blob/master/notes/eisenstein-nlp-notes.pdf)\n",
    "- [Eisenstein 6.2](https://github.com/jacobeisenstein/gt-nlp-class/blob/master/notes/eisenstein-nlp-notes.pdf)\n",
    "- [Eisenstein 6.4](https://github.com/jacobeisenstein/gt-nlp-class/blob/master/notes/eisenstein-nlp-notes.pdf)\n",
    "- [Eisenstein 6.3](https://github.com/jacobeisenstein/gt-nlp-class/blob/master/notes/eisenstein-nlp-notes.pdf)\n",
    "- [[Blog] Understanding LSTMs](http://colah.github.io/posts/2015-08-Understanding-LSTMs/)\n",
    "- [Neural Machine Translation by Jointly Learning to Align and Translate](https://arxiv.org/abs/1409.0473)\n",
    "- [Attention Is All You Need](https://arxiv.org/pdf/1706.03762.pdf)\n",
    "- [Attention Is All You Need](https://arxiv.org/pdf/1706.03762.pdf)\n",
    "- [[Blog] The Illustrated Transformer](http://jalammar.github.io/illustrated-transformer/)\n",
    "- [Attention Is All You Need](https://arxiv.org/pdf/1706.03762.pdf)\n",
    "- [Train Short, Test Long: Attention with Linear Biases Enables Input Length Extrapolation](https://arxiv.org/abs/2108.12409)\n",
    "- [The Impact of Positional Encoding on Length Generalization in Transformers](https://arxiv.org/abs/2305.19466)\n"
   ]
  },
  {
   "cell_type": "markdown",
   "id": "5ee52b3b",
   "metadata": {},
   "source": [
    "*Links only; we do not redistribute slides or papers.*"
   ]
  }
 ],
 "metadata": {},
 "nbformat": 4,
 "nbformat_minor": 5
}
