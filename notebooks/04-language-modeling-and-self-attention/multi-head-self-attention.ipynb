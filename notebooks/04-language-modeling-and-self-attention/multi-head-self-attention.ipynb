{
 "cells": [
  {
   "cell_type": "markdown",
   "id": "ac5e9193",
   "metadata": {},
   "source": [
    "# Multi-Head Self-Attention\n",
    "\n",
    "- 📺 **Video:** [https://youtu.be/nHXrdLMo8Uk](https://youtu.be/nHXrdLMo8Uk)"
   ]
  },
  {
   "cell_type": "markdown",
   "id": "4c8e7624",
   "metadata": {},
   "source": [
    "## Overview\n",
    "- What you’ll learn (fill in after watching)\n",
    "- Why it matters\n"
   ]
  },
  {
   "cell_type": "markdown",
   "id": "94e0e183",
   "metadata": {},
   "source": [
    "## Key ideas\n",
    "- TODO: Summarize the core ideas after viewing the lecture."
   ]
  },
  {
   "cell_type": "markdown",
   "id": "8b9b4245",
   "metadata": {},
   "source": [
    "## Demo\n",
    "Scaled dot-product attention with random toy inputs."
   ]
  },
  {
   "cell_type": "code",
   "execution_count": null,
   "id": "9ef00c07",
   "metadata": {},
   "outputs": [],
   "source": [
    "# Toy scaled dot-product attention\n",
    "import numpy as np\n",
    "np.random.seed(0)\n",
    "\n",
    "def attention(query, key, value):\n",
    "    scores = query @ key.T / np.sqrt(key.shape[-1])\n",
    "    weights = np.exp(scores - scores.max(axis=-1, keepdims=True))\n",
    "    weights = weights / weights.sum(axis=-1, keepdims=True)\n",
    "    return weights @ value\n",
    "\n",
    "Q = np.random.randn(2, 4)\n",
    "K = np.random.randn(5, 4)\n",
    "V = np.random.randn(5, 3)\n",
    "context = attention(Q, K, V)\n",
    "print(\"Context shape:\", context.shape)\n",
    "print(context)\n"
   ]
  },
  {
   "cell_type": "markdown",
   "id": "13e0f6d2",
   "metadata": {},
   "source": [
    "## Try it\n",
    "- Modify the demo\n",
    "- Add a tiny dataset or counter-example\n"
   ]
  },
  {
   "cell_type": "markdown",
   "id": "5c14bdb3",
   "metadata": {},
   "source": [
    "## References\n",
    "- [Eisenstein 6.1](https://github.com/jacobeisenstein/gt-nlp-class/blob/master/notes/eisenstein-nlp-notes.pdf)\n",
    "- [Eisenstein 6.2](https://github.com/jacobeisenstein/gt-nlp-class/blob/master/notes/eisenstein-nlp-notes.pdf)\n",
    "- [Eisenstein 6.4](https://github.com/jacobeisenstein/gt-nlp-class/blob/master/notes/eisenstein-nlp-notes.pdf)\n",
    "- [Eisenstein 6.3](https://github.com/jacobeisenstein/gt-nlp-class/blob/master/notes/eisenstein-nlp-notes.pdf)\n",
    "- [[Blog] Understanding LSTMs](http://colah.github.io/posts/2015-08-Understanding-LSTMs/)\n",
    "- [Neural Machine Translation by Jointly Learning to Align and Translate](https://arxiv.org/abs/1409.0473)\n",
    "- [Attention Is All You Need](https://arxiv.org/pdf/1706.03762.pdf)\n",
    "- [Attention Is All You Need](https://arxiv.org/pdf/1706.03762.pdf)\n",
    "- [[Blog] The Illustrated Transformer](http://jalammar.github.io/illustrated-transformer/)\n",
    "- [Attention Is All You Need](https://arxiv.org/pdf/1706.03762.pdf)\n",
    "- [Train Short, Test Long: Attention with Linear Biases Enables Input Length Extrapolation](https://arxiv.org/abs/2108.12409)\n",
    "- [The Impact of Positional Encoding on Length Generalization in Transformers](https://arxiv.org/abs/2305.19466)\n"
   ]
  },
  {
   "cell_type": "markdown",
   "id": "50cb57ef",
   "metadata": {},
   "source": [
    "*Links only; we do not redistribute slides or papers.*"
   ]
  }
 ],
 "metadata": {},
 "nbformat": 4,
 "nbformat_minor": 5
}
