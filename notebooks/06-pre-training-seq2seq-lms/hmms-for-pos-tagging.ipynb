{
 "cells": [
  {
   "cell_type": "markdown",
   "id": "a1d71915",
   "metadata": {},
   "source": [
    "# HMMs for POS Tagging\n",
    "\n",
    "- 📺 **Video:** [https://youtu.be/wijpAX_LLXo](https://youtu.be/wijpAX_LLXo)"
   ]
  },
  {
   "cell_type": "markdown",
   "id": "60a32389",
   "metadata": {},
   "source": [
    "## Overview\n",
    "- Apply HMMs to part-of-speech tagging by modeling tags as hidden states and words as emissions.\n",
    "- Evaluate accuracy on simple sentences."
   ]
  },
  {
   "cell_type": "markdown",
   "id": "740f82dd",
   "metadata": {},
   "source": [
    "## Key ideas\n",
    "- **States as tags:** transitions capture tag bigram patterns (DET→NOUN).\n",
    "- **Emissions as words:** lexical probabilities connect tags to word types.\n",
    "- **Decoding:** Viterbi selects the best tag sequence.\n",
    "- **Supervision:** estimate parameters from tagged corpora or use unsupervised EM."
   ]
  },
  {
   "cell_type": "markdown",
   "id": "d12060bd",
   "metadata": {},
   "source": [
    "## Demo\n",
    "Train a tiny POS-tag HMM from labeled examples and decode a new sentence, echoing the lecture (https://youtu.be/IUgnk58HvDQ)."
   ]
  },
  {
   "cell_type": "code",
   "execution_count": 1,
   "id": "bb6e41e6",
   "metadata": {
    "execution": {
     "iopub.execute_input": "2025-10-29T01:32:02.393936Z",
     "iopub.status.busy": "2025-10-29T01:32:02.393832Z",
     "iopub.status.idle": "2025-10-29T01:32:02.474750Z",
     "shell.execute_reply": "2025-10-29T01:32:02.473764Z"
    }
   },
   "outputs": [
    {
     "name": "stdout",
     "output_type": "stream",
     "text": [
      "Sentence: ['the', 'cat', 'purrs']\n",
      "Predicted tags: ['DET', 'NOUN', 'VERB']\n"
     ]
    }
   ],
   "source": [
    "import numpy as np\n",
    "from collections import defaultdict\n",
    "\n",
    "train_sentences = [\n",
    "    (['the', 'cat', 'sleeps'], ['DET', 'NOUN', 'VERB']),\n",
    "    (['a', 'dog', 'runs'], ['DET', 'NOUN', 'VERB']),\n",
    "    (['the', 'dog', 'barks'], ['DET', 'NOUN', 'VERB'])\n",
    "]\n",
    "\n",
    "states = sorted({tag for _, tags in train_sentences for tag in tags})\n",
    "words = sorted({word for words, _ in train_sentences for word in words} | {'purrs'})\n",
    "state_to_id = {s: i for i, s in enumerate(states)}\n",
    "word_to_id = {w: i for i, w in enumerate(words)}\n",
    "\n",
    "start_counts = np.zeros(len(states))\n",
    "trans_counts = np.zeros((len(states), len(states)))\n",
    "emiss_counts = np.zeros((len(states), len(words)))\n",
    "\n",
    "for words_seq, tags_seq in train_sentences:\n",
    "    start_counts[state_to_id[tags_seq[0]]] += 1\n",
    "    for i in range(len(tags_seq)):\n",
    "        emiss_counts[state_to_id[tags_seq[i]], word_to_id[words_seq[i]]] += 1\n",
    "        if i < len(tags_seq) - 1:\n",
    "            trans_counts[state_to_id[tags_seq[i]], state_to_id[tags_seq[i+1]]] += 1\n",
    "\n",
    "start = (start_counts + 1) / (start_counts.sum() + len(states))\n",
    "trans = (trans_counts + 1) / (trans_counts.sum(axis=1, keepdims=True) + len(states))\n",
    "emiss = (emiss_counts + 1) / (emiss_counts.sum(axis=1, keepdims=True) + len(words))\n",
    "\n",
    "sentence = ['the', 'cat', 'purrs']\n",
    "t = len(sentence)\n",
    "log_start = np.log(start)\n",
    "log_trans = np.log(trans)\n",
    "log_emiss = np.log(emiss)\n",
    "\n",
    "viterbi = np.full((t, len(states)), -np.inf)\n",
    "backpointer = np.zeros((t, len(states)), dtype=int)\n",
    "\n",
    "viterbi[0] = log_start + log_emiss[:, word_to_id['the']]\n",
    "for i in range(1, t):\n",
    "    obs_id = word_to_id.get(sentence[i], None)\n",
    "    for s in range(len(states)):\n",
    "        obs_log = log_emiss[s, obs_id] if obs_id is not None else -10.0\n",
    "        scores = viterbi[i-1] + log_trans[:, s] + obs_log\n",
    "        best = np.argmax(scores)\n",
    "        viterbi[i, s] = scores[best]\n",
    "        backpointer[i, s] = best\n",
    "\n",
    "best_last = np.argmax(viterbi[-1])\n",
    "best_path = [best_last]\n",
    "for i in range(t-1, 0, -1):\n",
    "    best_path.append(backpointer[i, best_path[-1]])\n",
    "\n",
    "pred_tags = [states[idx] for idx in reversed(best_path)]\n",
    "print('Sentence:', sentence)\n",
    "print('Predicted tags:', pred_tags)\n"
   ]
  },
  {
   "cell_type": "markdown",
   "id": "0f6ad715",
   "metadata": {},
   "source": [
    "## Try it\n",
    "- Modify the demo\n",
    "- Add a tiny dataset or counter-example\n"
   ]
  },
  {
   "cell_type": "markdown",
   "id": "31920c24",
   "metadata": {},
   "source": [
    "## References\n",
    "- [BERT: Pre-training of Deep Bidirectional Transformers for Language Understanding](https://arxiv.org/pdf/1810.04805.pdf)\n",
    "- [BERT: Pre-training of Deep Bidirectional Transformers for Language Understanding](https://arxiv.org/pdf/1810.04805.pdf)\n",
    "- [To Tune or Not to Tune? Adapting Pretrained Representations to Diverse Tasks](https://www.aclweb.org/anthology/W19-4302/)\n",
    "- [GLUE: A Multi-Task Benchmark and Analysis Platform for Natural Language Understanding](https://arxiv.org/pdf/1804.07461.pdf)\n",
    "- [What Does BERT Look At? An Analysis of BERT's Attention](https://arxiv.org/abs/1906.04341)\n",
    "- [RoBERTa: A Robustly Optimized BERT Pretraining Approach](https://arxiv.org/pdf/1907.11692.pdf)\n",
    "- [BART: Denoising Sequence-to-Sequence Pre-training for Natural Language Generation, Translation, and Comprehension](https://arxiv.org/abs/1910.13461)\n",
    "- [Exploring the Limits of Transfer Learning with a Unified Text-to-Text Transformer](https://arxiv.org/pdf/1910.10683.pdf)\n",
    "- [UnifiedQA: Crossing Format Boundaries With a Single QA System](https://arxiv.org/abs/2005.00700)\n",
    "- [Neural Machine Translation of Rare Words with Subword Units](https://arxiv.org/pdf/1508.07909.pdf)\n",
    "- [Byte Pair Encoding is Suboptimal for Language Model Pretraining](https://arxiv.org/pdf/2004.03720.pdf)\n",
    "- [Eisenstein 8.1](https://github.com/jacobeisenstein/gt-nlp-class/blob/master/notes/eisenstein-nlp-notes.pdf)\n",
    "- [Eisenstein 7.1](https://github.com/jacobeisenstein/gt-nlp-class/blob/master/notes/eisenstein-nlp-notes.pdf)\n",
    "- [Eisenstein 7.4](https://github.com/jacobeisenstein/gt-nlp-class/blob/master/notes/eisenstein-nlp-notes.pdf)\n",
    "- [Eisenstein 7.4.1](https://github.com/jacobeisenstein/gt-nlp-class/blob/master/notes/eisenstein-nlp-notes.pdf)\n",
    "- [Eisenstein 7.3](https://github.com/jacobeisenstein/gt-nlp-class/blob/master/notes/eisenstein-nlp-notes.pdf)\n",
    "- [TnT - A Statistical Part-of-Speech Tagger](https://arxiv.org/abs/cs/0003055)\n",
    "- [Enriching the Knowledge Sources Used in a Maximum Entropy Part-of-Speech Tagger](https://www.aclweb.org/anthology/W00-1308/)\n",
    "- [Part-of-Speech Tagging from 97% to 100%: Is It Time for Some Linguistics?](https://link.springer.com/chapter/10.1007/978-3-642-19400-9_14)\n",
    "- [Natural Language Processing with Small Feed-Forward Networks](https://www.aclweb.org/anthology/D17-1309.pdf)\n",
    "- [Eisenstein 10.1-10.2](https://github.com/jacobeisenstein/gt-nlp-class/blob/master/notes/eisenstein-nlp-notes.pdf)\n",
    "- [Eisenstein 10.3-10.4](https://github.com/jacobeisenstein/gt-nlp-class/blob/master/notes/eisenstein-nlp-notes.pdf)\n",
    "- [Eisenstein 10.3.1](https://github.com/jacobeisenstein/gt-nlp-class/blob/master/notes/eisenstein-nlp-notes.pdf)\n",
    "- [Accurate Unlexicalized Parsing](https://www.aclweb.org/anthology/P03-1054/)\n",
    "- [Eisenstein 10.5](https://github.com/jacobeisenstein/gt-nlp-class/blob/master/notes/eisenstein-nlp-notes.pdf)\n",
    "- [Eisenstein 11.1](https://github.com/jacobeisenstein/gt-nlp-class/blob/master/notes/eisenstein-nlp-notes.pdf)\n",
    "- [Finding Optimal 1-Endpoint-Crossing Trees](https://www.aclweb.org/anthology/Q13-1002/)\n",
    "- [Eisenstein 11.3](https://github.com/jacobeisenstein/gt-nlp-class/blob/master/notes/eisenstein-nlp-notes.pdf)\n"
   ]
  },
  {
   "cell_type": "markdown",
   "id": "745a8ad2",
   "metadata": {},
   "source": [
    "*Links only; we do not redistribute slides or papers.*"
   ]
  }
 ],
 "metadata": {
  "language_info": {
   "codemirror_mode": {
    "name": "ipython",
    "version": 3
   },
   "file_extension": ".py",
   "mimetype": "text/x-python",
   "name": "python",
   "nbconvert_exporter": "python",
   "pygments_lexer": "ipython3",
   "version": "3.9.6"
  }
 },
 "nbformat": 4,
 "nbformat_minor": 5
}
