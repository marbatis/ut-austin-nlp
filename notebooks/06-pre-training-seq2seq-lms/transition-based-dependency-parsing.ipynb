{
 "cells": [
  {
   "cell_type": "markdown",
   "id": "4660b461",
   "metadata": {},
   "source": [
    "# Transition-based Dependency Parsing\n",
    "\n",
    "- 📺 **Video:** [https://youtu.be/ypoaw7lJ6Rk](https://youtu.be/ypoaw7lJ6Rk)"
   ]
  },
  {
   "cell_type": "markdown",
   "id": "2ac064c5",
   "metadata": {},
   "source": [
    "## Overview\n",
    "- Parse sentences by incrementally building dependency arcs with shift/reduce transitions.\n",
    "- Use classifiers to predict transitions from parser configurations."
   ]
  },
  {
   "cell_type": "markdown",
   "id": "3d4e3b63",
   "metadata": {},
   "source": [
    "## Key ideas\n",
    "- **Stack and buffer:** maintain processed and remaining tokens.\n",
    "- **Transitions:** SHIFT, LEFT-ARC, RIGHT-ARC actions build arcs.\n",
    "- **Feature extraction:** use top-of-stack and buffer tokens to choose actions.\n",
    "- **Linear-time:** transition-based parsing runs in O(n)."
   ]
  },
  {
   "cell_type": "markdown",
   "id": "5b187b81",
   "metadata": {},
   "source": [
    "## Demo\n",
    "Simulate an arc-eager parser on a short sentence to replicate the step-by-step examples from the lecture (https://youtu.be/sIP5F2r6XUc)."
   ]
  },
  {
   "cell_type": "code",
   "execution_count": 1,
   "id": "5e74acbf",
   "metadata": {
    "execution": {
     "iopub.execute_input": "2025-10-29T01:32:14.613828Z",
     "iopub.status.busy": "2025-10-29T01:32:14.613493Z",
     "iopub.status.idle": "2025-10-29T01:32:14.624354Z",
     "shell.execute_reply": "2025-10-29T01:32:14.623953Z"
    }
   },
   "outputs": [
    {
     "name": "stdout",
     "output_type": "stream",
     "text": [
      "Action: SHIFT     | Stack: ['ROOT', 'She'] | Buffer: ['enjoys', 'fresh', 'coffee']\n",
      "Action: RIGHT-ARC | Stack: ['ROOT', 'She', 'enjoys'] | Buffer: ['fresh', 'coffee']\n",
      "Action: SHIFT     | Stack: ['ROOT', 'She', 'enjoys', 'fresh'] | Buffer: ['coffee']\n",
      "Action: SHIFT     | Stack: ['ROOT', 'She', 'enjoys', 'fresh', 'coffee'] | Buffer: []\n",
      "Action: LEFT-ARC  | Stack: ['ROOT', 'She', 'enjoys', 'coffee'] | Buffer: []\n",
      "Action: RIGHT-ARC | Stack: ['ROOT', 'She', 'enjoys'] | Buffer: []\n",
      "Action: RIGHT-ARC | Stack: ['ROOT', 'She'] | Buffer: []\n",
      "\n",
      "Arcs built:\n",
      "She --nsubj--> enjoys\n",
      "coffee --amod--> fresh\n",
      "coffee --obj--> coffee\n",
      "enjoys --root--> enjoys\n"
     ]
    }
   ],
   "source": [
    "sentence = ['ROOT', 'She', 'enjoys', 'fresh', 'coffee']\n",
    "stack = [0]\n",
    "buffer = list(range(1, len(sentence)))\n",
    "arcs = []\n",
    "\n",
    "transitions = [\n",
    "    ('SHIFT', None),\n",
    "    ('RIGHT-ARC', 'nsubj'),\n",
    "    ('SHIFT', None),\n",
    "    ('SHIFT', None),\n",
    "    ('LEFT-ARC', 'amod'),\n",
    "    ('RIGHT-ARC', 'obj'),\n",
    "    ('RIGHT-ARC', 'root')\n",
    "]\n",
    "\n",
    "for action, label in transitions:\n",
    "    if action == 'SHIFT':\n",
    "        stack.append(buffer.pop(0))\n",
    "    elif action == 'LEFT-ARC':\n",
    "        dependent = stack.pop(-2)\n",
    "        head = stack[-1]\n",
    "        arcs.append((head, dependent, label))\n",
    "    elif action == 'RIGHT-ARC':\n",
    "        head = stack[-1]\n",
    "        dependent = buffer.pop(0) if buffer else stack.pop()\n",
    "        if buffer:\n",
    "            stack.append(dependent)\n",
    "        arcs.append((head, dependent, label))\n",
    "    print(f\"Action: {action:9s} | Stack: {[sentence[i] for i in stack]} | Buffer: {[sentence[i] for i in buffer]}\")\n",
    "\n",
    "print()\n",
    "\n",
    "print('Arcs built:')\n",
    "for head, dep, label in arcs:\n",
    "    print(f\"{sentence[head]} --{label}--> {sentence[dep]}\")\n"
   ]
  },
  {
   "cell_type": "markdown",
   "id": "ca3b9761",
   "metadata": {},
   "source": [
    "## Try it\n",
    "- Modify the demo\n",
    "- Add a tiny dataset or counter-example\n"
   ]
  },
  {
   "cell_type": "markdown",
   "id": "78c88bd0",
   "metadata": {},
   "source": [
    "## References\n",
    "- [BERT: Pre-training of Deep Bidirectional Transformers for Language Understanding](https://arxiv.org/pdf/1810.04805.pdf)\n",
    "- [BERT: Pre-training of Deep Bidirectional Transformers for Language Understanding](https://arxiv.org/pdf/1810.04805.pdf)\n",
    "- [To Tune or Not to Tune? Adapting Pretrained Representations to Diverse Tasks](https://www.aclweb.org/anthology/W19-4302/)\n",
    "- [GLUE: A Multi-Task Benchmark and Analysis Platform for Natural Language Understanding](https://arxiv.org/pdf/1804.07461.pdf)\n",
    "- [What Does BERT Look At? An Analysis of BERT's Attention](https://arxiv.org/abs/1906.04341)\n",
    "- [RoBERTa: A Robustly Optimized BERT Pretraining Approach](https://arxiv.org/pdf/1907.11692.pdf)\n",
    "- [BART: Denoising Sequence-to-Sequence Pre-training for Natural Language Generation, Translation, and Comprehension](https://arxiv.org/abs/1910.13461)\n",
    "- [Exploring the Limits of Transfer Learning with a Unified Text-to-Text Transformer](https://arxiv.org/pdf/1910.10683.pdf)\n",
    "- [UnifiedQA: Crossing Format Boundaries With a Single QA System](https://arxiv.org/abs/2005.00700)\n",
    "- [Neural Machine Translation of Rare Words with Subword Units](https://arxiv.org/pdf/1508.07909.pdf)\n",
    "- [Byte Pair Encoding is Suboptimal for Language Model Pretraining](https://arxiv.org/pdf/2004.03720.pdf)\n",
    "- [Eisenstein 8.1](https://github.com/jacobeisenstein/gt-nlp-class/blob/master/notes/eisenstein-nlp-notes.pdf)\n",
    "- [Eisenstein 7.1](https://github.com/jacobeisenstein/gt-nlp-class/blob/master/notes/eisenstein-nlp-notes.pdf)\n",
    "- [Eisenstein 7.4](https://github.com/jacobeisenstein/gt-nlp-class/blob/master/notes/eisenstein-nlp-notes.pdf)\n",
    "- [Eisenstein 7.4.1](https://github.com/jacobeisenstein/gt-nlp-class/blob/master/notes/eisenstein-nlp-notes.pdf)\n",
    "- [Eisenstein 7.3](https://github.com/jacobeisenstein/gt-nlp-class/blob/master/notes/eisenstein-nlp-notes.pdf)\n",
    "- [TnT - A Statistical Part-of-Speech Tagger](https://arxiv.org/abs/cs/0003055)\n",
    "- [Enriching the Knowledge Sources Used in a Maximum Entropy Part-of-Speech Tagger](https://www.aclweb.org/anthology/W00-1308/)\n",
    "- [Part-of-Speech Tagging from 97% to 100%: Is It Time for Some Linguistics?](https://link.springer.com/chapter/10.1007/978-3-642-19400-9_14)\n",
    "- [Natural Language Processing with Small Feed-Forward Networks](https://www.aclweb.org/anthology/D17-1309.pdf)\n",
    "- [Eisenstein 10.1-10.2](https://github.com/jacobeisenstein/gt-nlp-class/blob/master/notes/eisenstein-nlp-notes.pdf)\n",
    "- [Eisenstein 10.3-10.4](https://github.com/jacobeisenstein/gt-nlp-class/blob/master/notes/eisenstein-nlp-notes.pdf)\n",
    "- [Eisenstein 10.3.1](https://github.com/jacobeisenstein/gt-nlp-class/blob/master/notes/eisenstein-nlp-notes.pdf)\n",
    "- [Accurate Unlexicalized Parsing](https://www.aclweb.org/anthology/P03-1054/)\n",
    "- [Eisenstein 10.5](https://github.com/jacobeisenstein/gt-nlp-class/blob/master/notes/eisenstein-nlp-notes.pdf)\n",
    "- [Eisenstein 11.1](https://github.com/jacobeisenstein/gt-nlp-class/blob/master/notes/eisenstein-nlp-notes.pdf)\n",
    "- [Finding Optimal 1-Endpoint-Crossing Trees](https://www.aclweb.org/anthology/Q13-1002/)\n",
    "- [Eisenstein 11.3](https://github.com/jacobeisenstein/gt-nlp-class/blob/master/notes/eisenstein-nlp-notes.pdf)\n"
   ]
  },
  {
   "cell_type": "markdown",
   "id": "0f4e06c1",
   "metadata": {},
   "source": [
    "*Links only; we do not redistribute slides or papers.*"
   ]
  }
 ],
 "metadata": {
  "language_info": {
   "codemirror_mode": {
    "name": "ipython",
    "version": 3
   },
   "file_extension": ".py",
   "mimetype": "text/x-python",
   "name": "python",
   "nbconvert_exporter": "python",
   "pygments_lexer": "ipython3",
   "version": "3.9.6"
  }
 },
 "nbformat": 4,
 "nbformat_minor": 5
}
