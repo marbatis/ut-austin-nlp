{
 "cells": [
  {
   "cell_type": "markdown",
   "id": "c2d4437e",
   "metadata": {},
   "source": [
    "# Probabilistic Context-Free Grammars\n",
    "\n",
    "- 📺 **Video:** [https://youtu.be/q3dLP9YQLPA](https://youtu.be/q3dLP9YQLPA)"
   ]
  },
  {
   "cell_type": "markdown",
   "id": "0de011e6",
   "metadata": {},
   "source": [
    "## Overview\n",
    "- Extend CFGs with probabilities to prefer more plausible parses.\n",
    "- Normalize rule probabilities per left-hand side to define a generative model."
   ]
  },
  {
   "cell_type": "markdown",
   "id": "b803d347",
   "metadata": {},
   "source": [
    "## Key ideas\n",
    "- **Rule probabilities:** each set of productions for a nonterminal sums to 1.\n",
    "- **Parse probability:** product of rule probabilities along the parse tree.\n",
    "- **Inside algorithm:** sums probabilities for all parses over a span.\n",
    "- **Maximum likelihood:** estimate rule probabilities from treebanks."
   ]
  },
  {
   "cell_type": "markdown",
   "id": "f0ef9923",
   "metadata": {},
   "source": [
    "## Demo\n",
    "Compute probabilities for two competing parses of an ambiguous sentence using a PCFG, echoing the lecture (https://youtu.be/ieW08zDCcmE)."
   ]
  },
  {
   "cell_type": "code",
   "execution_count": 1,
   "id": "218a0f34",
   "metadata": {
    "execution": {
     "iopub.execute_input": "2025-10-29T01:32:06.741682Z",
     "iopub.status.busy": "2025-10-29T01:32:06.741442Z",
     "iopub.status.idle": "2025-10-29T01:32:06.754753Z",
     "shell.execute_reply": "2025-10-29T01:32:06.754269Z"
    }
   },
   "outputs": [
    {
     "name": "stdout",
     "output_type": "stream",
     "text": [
      "Parse 1 probability: 0.027\n",
      "Parse 2 probability: 0.0032399999999999994\n",
      "Preferred parse: parse1\n"
     ]
    }
   ],
   "source": [
    "rules = {\n",
    "    ('S', ('NP', 'VP')): 1.0,\n",
    "    ('VP', ('V', 'NP')): 0.4,\n",
    "    ('VP', ('VP', 'PP')): 0.3,\n",
    "    ('VP', ('V', 'PP')): 0.3,\n",
    "    ('NP', ('Det', 'N')): 0.6,\n",
    "    ('NP', ('NP', 'PP')): 0.4,\n",
    "    ('PP', ('P', 'NP')): 1.0\n",
    "}\n",
    "lexicon = {\n",
    "    ('Det', 'the'): 1.0,\n",
    "    ('N', 'cat'): 0.5,\n",
    "    ('N', 'mat'): 0.5,\n",
    "    ('V', 'sat'): 1.0,\n",
    "    ('P', 'on'): 1.0\n",
    "}\n",
    "\n",
    "parse1 = [\n",
    "    ('S', ('NP', ('Det', 'the'), ('N', 'cat')), ('VP', ('V', 'sat'), ('PP', ('P', 'on'), ('NP', ('Det', 'the'), ('N', 'mat')))))\n",
    "]\n",
    "\n",
    "parse2 = [\n",
    "    ('S', ('NP', ('Det', 'the'), ('N', 'cat')), ('VP', ('VP', ('V', 'sat'), ('NP', ('Det', 'the'), ('N', 'mat'))), ('PP', ('P', 'on'), ('NP', ('Det', 'the'), ('N', 'mat')))))\n",
    "]\n",
    "\n",
    "def parse_probability(tree):\n",
    "    if isinstance(tree, tuple) and len(tree) == 2 and isinstance(tree[1], str):\n",
    "        return lexicon[(tree[0], tree[1])]\n",
    "    lhs = tree[0]\n",
    "    children = tree[1:]\n",
    "    rhs_symbols = tuple(child[0] if isinstance(child, tuple) else child for child in children)\n",
    "    prob = rules[(lhs, rhs_symbols)]\n",
    "    for child in children:\n",
    "        prob *= parse_probability(child)\n",
    "    return prob\n",
    "\n",
    "p1 = parse_probability(parse1[0])\n",
    "p2 = parse_probability(parse2[0])\n",
    "print('Parse 1 probability:', p1)\n",
    "print('Parse 2 probability:', p2)\n",
    "print('Preferred parse:', 'parse1' if p1 > p2 else 'parse2')\n"
   ]
  },
  {
   "cell_type": "markdown",
   "id": "9f77830c",
   "metadata": {},
   "source": [
    "## Try it\n",
    "- Modify the demo\n",
    "- Add a tiny dataset or counter-example\n"
   ]
  },
  {
   "cell_type": "markdown",
   "id": "4f26656c",
   "metadata": {},
   "source": [
    "## References\n",
    "- [BERT: Pre-training of Deep Bidirectional Transformers for Language Understanding](https://arxiv.org/pdf/1810.04805.pdf)\n",
    "- [BERT: Pre-training of Deep Bidirectional Transformers for Language Understanding](https://arxiv.org/pdf/1810.04805.pdf)\n",
    "- [To Tune or Not to Tune? Adapting Pretrained Representations to Diverse Tasks](https://www.aclweb.org/anthology/W19-4302/)\n",
    "- [GLUE: A Multi-Task Benchmark and Analysis Platform for Natural Language Understanding](https://arxiv.org/pdf/1804.07461.pdf)\n",
    "- [What Does BERT Look At? An Analysis of BERT's Attention](https://arxiv.org/abs/1906.04341)\n",
    "- [RoBERTa: A Robustly Optimized BERT Pretraining Approach](https://arxiv.org/pdf/1907.11692.pdf)\n",
    "- [BART: Denoising Sequence-to-Sequence Pre-training for Natural Language Generation, Translation, and Comprehension](https://arxiv.org/abs/1910.13461)\n",
    "- [Exploring the Limits of Transfer Learning with a Unified Text-to-Text Transformer](https://arxiv.org/pdf/1910.10683.pdf)\n",
    "- [UnifiedQA: Crossing Format Boundaries With a Single QA System](https://arxiv.org/abs/2005.00700)\n",
    "- [Neural Machine Translation of Rare Words with Subword Units](https://arxiv.org/pdf/1508.07909.pdf)\n",
    "- [Byte Pair Encoding is Suboptimal for Language Model Pretraining](https://arxiv.org/pdf/2004.03720.pdf)\n",
    "- [Eisenstein 8.1](https://github.com/jacobeisenstein/gt-nlp-class/blob/master/notes/eisenstein-nlp-notes.pdf)\n",
    "- [Eisenstein 7.1](https://github.com/jacobeisenstein/gt-nlp-class/blob/master/notes/eisenstein-nlp-notes.pdf)\n",
    "- [Eisenstein 7.4](https://github.com/jacobeisenstein/gt-nlp-class/blob/master/notes/eisenstein-nlp-notes.pdf)\n",
    "- [Eisenstein 7.4.1](https://github.com/jacobeisenstein/gt-nlp-class/blob/master/notes/eisenstein-nlp-notes.pdf)\n",
    "- [Eisenstein 7.3](https://github.com/jacobeisenstein/gt-nlp-class/blob/master/notes/eisenstein-nlp-notes.pdf)\n",
    "- [TnT - A Statistical Part-of-Speech Tagger](https://arxiv.org/abs/cs/0003055)\n",
    "- [Enriching the Knowledge Sources Used in a Maximum Entropy Part-of-Speech Tagger](https://www.aclweb.org/anthology/W00-1308/)\n",
    "- [Part-of-Speech Tagging from 97% to 100%: Is It Time for Some Linguistics?](https://link.springer.com/chapter/10.1007/978-3-642-19400-9_14)\n",
    "- [Natural Language Processing with Small Feed-Forward Networks](https://www.aclweb.org/anthology/D17-1309.pdf)\n",
    "- [Eisenstein 10.1-10.2](https://github.com/jacobeisenstein/gt-nlp-class/blob/master/notes/eisenstein-nlp-notes.pdf)\n",
    "- [Eisenstein 10.3-10.4](https://github.com/jacobeisenstein/gt-nlp-class/blob/master/notes/eisenstein-nlp-notes.pdf)\n",
    "- [Eisenstein 10.3.1](https://github.com/jacobeisenstein/gt-nlp-class/blob/master/notes/eisenstein-nlp-notes.pdf)\n",
    "- [Accurate Unlexicalized Parsing](https://www.aclweb.org/anthology/P03-1054/)\n",
    "- [Eisenstein 10.5](https://github.com/jacobeisenstein/gt-nlp-class/blob/master/notes/eisenstein-nlp-notes.pdf)\n",
    "- [Eisenstein 11.1](https://github.com/jacobeisenstein/gt-nlp-class/blob/master/notes/eisenstein-nlp-notes.pdf)\n",
    "- [Finding Optimal 1-Endpoint-Crossing Trees](https://www.aclweb.org/anthology/Q13-1002/)\n",
    "- [Eisenstein 11.3](https://github.com/jacobeisenstein/gt-nlp-class/blob/master/notes/eisenstein-nlp-notes.pdf)\n"
   ]
  },
  {
   "cell_type": "markdown",
   "id": "fa9a315d",
   "metadata": {},
   "source": [
    "*Links only; we do not redistribute slides or papers.*"
   ]
  }
 ],
 "metadata": {
  "language_info": {
   "codemirror_mode": {
    "name": "ipython",
    "version": 3
   },
   "file_extension": ".py",
   "mimetype": "text/x-python",
   "name": "python",
   "nbconvert_exporter": "python",
   "pygments_lexer": "ipython3",
   "version": "3.9.6"
  }
 },
 "nbformat": 4,
 "nbformat_minor": 5
}
