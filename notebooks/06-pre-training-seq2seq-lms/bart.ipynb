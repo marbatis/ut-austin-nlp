{
 "cells": [
  {
   "cell_type": "markdown",
   "id": "35210566",
   "metadata": {},
   "source": [
    "# BART\n",
    "\n",
    "- 📺 **Video:** [https://youtu.be/M9L3gk4ITec](https://youtu.be/M9L3gk4ITec)"
   ]
  },
  {
   "cell_type": "markdown",
   "id": "d9b7be24",
   "metadata": {},
   "source": [
    "## Overview\n",
    "- BART combines a bidirectional encoder with an autoregressive decoder trained on denoising tasks.\n",
    "- Corrupt input text (masking, deletion, permutation) and train to reconstruct it."
   ]
  },
  {
   "cell_type": "markdown",
   "id": "d05d19a6",
   "metadata": {},
   "source": [
    "## Key ideas\n",
    "- **Denoising pre-training:** learn to recover clean text from noisy input.\n",
    "- **Bidirectional encoder + decoder:** unifies BERT and GPT strengths.\n",
    "- **Task flexibility:** fine-tune for summarization, translation, QA.\n",
    "- **Noise recipes:** different corruptions teach robustness."
   ]
  },
  {
   "cell_type": "markdown",
   "id": "154f16c3",
   "metadata": {},
   "source": [
    "## Demo\n",
    "Corrupt sentences with token deletion and train a tiny denoising autoencoder using GRUs to reconstruct them, reflecting the lecture (https://youtu.be/o4O3aT4X0Vg)."
   ]
  },
  {
   "cell_type": "code",
   "execution_count": 1,
   "id": "e23f8fd6",
   "metadata": {
    "execution": {
     "iopub.execute_input": "2025-10-29T01:31:52.599557Z",
     "iopub.status.busy": "2025-10-29T01:31:52.599311Z",
     "iopub.status.idle": "2025-10-29T01:31:53.905022Z",
     "shell.execute_reply": "2025-10-29T01:31:53.904736Z"
    }
   },
   "outputs": [
    {
     "name": "stdout",
     "output_type": "stream",
     "text": [
      "epoch  50 | loss 0.0320\n",
      "epoch 100 | loss 0.0101\n",
      "epoch 150 | loss 0.0059\n",
      "epoch 200 | loss 0.0039\n",
      "Noisy input -> fox balls balls balls balls balls\n",
      "Noisy input -> <pad> <pad> <pad> <pad> <pad> <pad>\n",
      "Noisy input -> fox dogs dogs <pad> <pad> <pad>\n"
     ]
    }
   ],
   "source": [
    "import torch\n",
    "from torch import nn\n",
    "\n",
    "sentences = ['the cat sits on the mat', 'dogs enjoy chasing balls', 'a quick fox jumps high']\n",
    "vocab = sorted(set(' '.join(sentences).split()))\n",
    "word_to_id = {w: i for i, w in enumerate(vocab)}\n",
    "\n",
    "max_len = max(len(s.split()) for s in sentences)\n",
    "\n",
    "def encode(sentence):\n",
    "    tokens = [word_to_id[w] for w in sentence.split()]\n",
    "    tokens += [len(vocab)] * (max_len - len(tokens))\n",
    "    return tokens\n",
    "\n",
    "inputs = torch.tensor([encode(s) for s in sentences])\n",
    "mask_value = len(vocab)\n",
    "vocab_size = len(vocab) + 1\n",
    "\n",
    "rng = torch.Generator().manual_seed(0)\n",
    "noise = inputs.clone()\n",
    "for row in noise:\n",
    "    idx = torch.randint(0, max_len, (1,), generator=rng)\n",
    "    row[idx] = mask_value\n",
    "\n",
    "embed = nn.Embedding(vocab_size + 1, 32)\n",
    "encoder = nn.GRU(32, 32, batch_first=True)\n",
    "decoder = nn.GRU(32, 32, batch_first=True)\n",
    "out = nn.Linear(32, vocab_size)\n",
    "criterion = nn.CrossEntropyLoss(ignore_index=mask_value)\n",
    "optimizer = torch.optim.Adam(list(embed.parameters()) + list(encoder.parameters()) + list(decoder.parameters()) + list(out.parameters()), lr=5e-3)\n",
    "\n",
    "for epoch in range(1, 201):\n",
    "    enc_in = embed(noise)\n",
    "    _, hidden = encoder(enc_in)\n",
    "    dec_in = embed(inputs)\n",
    "    outputs, _ = decoder(dec_in, hidden)\n",
    "    logits = out(outputs)\n",
    "    loss = criterion(logits.reshape(-1, vocab_size), inputs.reshape(-1))\n",
    "    optimizer.zero_grad()\n",
    "    loss.backward()\n",
    "    optimizer.step()\n",
    "    if epoch % 50 == 0:\n",
    "        print(f\"epoch {epoch:3d} | loss {loss.item():.4f}\")\n",
    "\n",
    "with torch.no_grad():\n",
    "    enc_in = embed(noise)\n",
    "    _, hidden = encoder(enc_in)\n",
    "    dec_tokens = inputs[:, :1].repeat(1, max_len)\n",
    "    dec_emb = embed(dec_tokens)\n",
    "    outputs, _ = decoder(dec_emb, hidden)\n",
    "    preds = outputs.argmax(dim=-1)\n",
    "    inv_vocab = {idx: w for w, idx in word_to_id.items()}\n",
    "    for i, sent in enumerate(sentences):\n",
    "        reconstructed = ' '.join(inv_vocab.get(idx.item(), '<pad>') for idx in preds[i])\n",
    "        print(f\"Noisy input -> {reconstructed}\")\n"
   ]
  },
  {
   "cell_type": "markdown",
   "id": "a1f334bd",
   "metadata": {},
   "source": [
    "## Try it\n",
    "- Modify the demo\n",
    "- Add a tiny dataset or counter-example\n"
   ]
  },
  {
   "cell_type": "markdown",
   "id": "a2ae1878",
   "metadata": {},
   "source": [
    "## References\n",
    "- [BERT: Pre-training of Deep Bidirectional Transformers for Language Understanding](https://arxiv.org/pdf/1810.04805.pdf)\n",
    "- [BERT: Pre-training of Deep Bidirectional Transformers for Language Understanding](https://arxiv.org/pdf/1810.04805.pdf)\n",
    "- [To Tune or Not to Tune? Adapting Pretrained Representations to Diverse Tasks](https://www.aclweb.org/anthology/W19-4302/)\n",
    "- [GLUE: A Multi-Task Benchmark and Analysis Platform for Natural Language Understanding](https://arxiv.org/pdf/1804.07461.pdf)\n",
    "- [What Does BERT Look At? An Analysis of BERT's Attention](https://arxiv.org/abs/1906.04341)\n",
    "- [RoBERTa: A Robustly Optimized BERT Pretraining Approach](https://arxiv.org/pdf/1907.11692.pdf)\n",
    "- [BART: Denoising Sequence-to-Sequence Pre-training for Natural Language Generation, Translation, and Comprehension](https://arxiv.org/abs/1910.13461)\n",
    "- [Exploring the Limits of Transfer Learning with a Unified Text-to-Text Transformer](https://arxiv.org/pdf/1910.10683.pdf)\n",
    "- [UnifiedQA: Crossing Format Boundaries With a Single QA System](https://arxiv.org/abs/2005.00700)\n",
    "- [Neural Machine Translation of Rare Words with Subword Units](https://arxiv.org/pdf/1508.07909.pdf)\n",
    "- [Byte Pair Encoding is Suboptimal for Language Model Pretraining](https://arxiv.org/pdf/2004.03720.pdf)\n",
    "- [Eisenstein 8.1](https://github.com/jacobeisenstein/gt-nlp-class/blob/master/notes/eisenstein-nlp-notes.pdf)\n",
    "- [Eisenstein 7.1](https://github.com/jacobeisenstein/gt-nlp-class/blob/master/notes/eisenstein-nlp-notes.pdf)\n",
    "- [Eisenstein 7.4](https://github.com/jacobeisenstein/gt-nlp-class/blob/master/notes/eisenstein-nlp-notes.pdf)\n",
    "- [Eisenstein 7.4.1](https://github.com/jacobeisenstein/gt-nlp-class/blob/master/notes/eisenstein-nlp-notes.pdf)\n",
    "- [Eisenstein 7.3](https://github.com/jacobeisenstein/gt-nlp-class/blob/master/notes/eisenstein-nlp-notes.pdf)\n",
    "- [TnT - A Statistical Part-of-Speech Tagger](https://arxiv.org/abs/cs/0003055)\n",
    "- [Enriching the Knowledge Sources Used in a Maximum Entropy Part-of-Speech Tagger](https://www.aclweb.org/anthology/W00-1308/)\n",
    "- [Part-of-Speech Tagging from 97% to 100%: Is It Time for Some Linguistics?](https://link.springer.com/chapter/10.1007/978-3-642-19400-9_14)\n",
    "- [Natural Language Processing with Small Feed-Forward Networks](https://www.aclweb.org/anthology/D17-1309.pdf)\n",
    "- [Eisenstein 10.1-10.2](https://github.com/jacobeisenstein/gt-nlp-class/blob/master/notes/eisenstein-nlp-notes.pdf)\n",
    "- [Eisenstein 10.3-10.4](https://github.com/jacobeisenstein/gt-nlp-class/blob/master/notes/eisenstein-nlp-notes.pdf)\n",
    "- [Eisenstein 10.3.1](https://github.com/jacobeisenstein/gt-nlp-class/blob/master/notes/eisenstein-nlp-notes.pdf)\n",
    "- [Accurate Unlexicalized Parsing](https://www.aclweb.org/anthology/P03-1054/)\n",
    "- [Eisenstein 10.5](https://github.com/jacobeisenstein/gt-nlp-class/blob/master/notes/eisenstein-nlp-notes.pdf)\n",
    "- [Eisenstein 11.1](https://github.com/jacobeisenstein/gt-nlp-class/blob/master/notes/eisenstein-nlp-notes.pdf)\n",
    "- [Finding Optimal 1-Endpoint-Crossing Trees](https://www.aclweb.org/anthology/Q13-1002/)\n",
    "- [Eisenstein 11.3](https://github.com/jacobeisenstein/gt-nlp-class/blob/master/notes/eisenstein-nlp-notes.pdf)\n"
   ]
  },
  {
   "cell_type": "markdown",
   "id": "557ca26a",
   "metadata": {},
   "source": [
    "*Links only; we do not redistribute slides or papers.*"
   ]
  }
 ],
 "metadata": {
  "language_info": {
   "codemirror_mode": {
    "name": "ipython",
    "version": 3
   },
   "file_extension": ".py",
   "mimetype": "text/x-python",
   "name": "python",
   "nbconvert_exporter": "python",
   "pygments_lexer": "ipython3",
   "version": "3.9.6"
  }
 },
 "nbformat": 4,
 "nbformat_minor": 5
}
