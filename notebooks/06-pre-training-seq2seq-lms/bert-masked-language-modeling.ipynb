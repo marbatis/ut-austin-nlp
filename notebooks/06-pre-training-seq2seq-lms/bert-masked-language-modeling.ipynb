{
 "cells": [
  {
   "cell_type": "markdown",
   "id": "1ae7381e",
   "metadata": {},
   "source": [
    "# BERT: Masked Language Modeling\n",
    "\n",
    "- 📺 **Video:** [https://youtu.be/dya_QNFvtiQ](https://youtu.be/dya_QNFvtiQ)"
   ]
  },
  {
   "cell_type": "markdown",
   "id": "5e2a30e3",
   "metadata": {},
   "source": [
    "## Overview\n",
    "- Learn how BERT trains with masked language modeling (MLM) by predicting masked tokens.\n",
    "- See why masking 15% of tokens and using bidirectional context yields rich representations."
   ]
  },
  {
   "cell_type": "markdown",
   "id": "d359dcde",
   "metadata": {},
   "source": [
    "## Key ideas\n",
    "- **Input corruption:** replace random tokens with [MASK], random tokens, or keep original.\n",
    "- **Bidirectional context:** attention attends to both left and right context.\n",
    "- **Training objective:** cross-entropy over masked positions only.\n",
    "- **Pre-training:** MLM plus next sentence prediction (or replacements) primes the encoder for fine-tuning."
   ]
  },
  {
   "cell_type": "markdown",
   "id": "1e7762be",
   "metadata": {},
   "source": [
    "## Demo\n",
    "Train a toy masked language model with PyTorch on a tiny corpus, mirroring the lecture (https://youtu.be/6l-XtQV2iC0) mechanics."
   ]
  },
  {
   "cell_type": "code",
   "execution_count": 1,
   "id": "1d03bfde",
   "metadata": {
    "execution": {
     "iopub.execute_input": "2025-10-29T01:31:54.951622Z",
     "iopub.status.busy": "2025-10-29T01:31:54.951392Z",
     "iopub.status.idle": "2025-10-29T01:31:56.064756Z",
     "shell.execute_reply": "2025-10-29T01:31:56.064471Z"
    }
   },
   "outputs": [
    {
     "name": "stdout",
     "output_type": "stream",
     "text": [
      "epoch 15 | loss 0.6522\n",
      "epoch 30 | loss 0.6466\n",
      "epoch 45 | loss 0.6466\n",
      "epoch 60 | loss 0.6463\n",
      "\n",
      "Predicted token for masked position: dog\n"
     ]
    }
   ],
   "source": [
    "import torch\n",
    "from torch import nn\n",
    "\n",
    "sentences = [\n",
    "    ['[CLS]', 'the', 'cat', 'sleeps', '[SEP]'],\n",
    "    ['[CLS]', 'the', 'dog', 'runs', '[SEP]'],\n",
    "    ['[CLS]', 'a', 'dog', 'sleeps', '[SEP]']\n",
    "]\n",
    "\n",
    "vocab = {token for sent in sentences for token in sent} | {'[MASK]'}\n",
    "word_to_id = {w: i for i, w in enumerate(sorted(vocab))}\n",
    "ids = [[word_to_id[w] for w in sent] for sent in sentences]\n",
    "tensor_inputs = torch.tensor(ids)\n",
    "mask_token = word_to_id['[MASK]']\n",
    "\n",
    "model = nn.Sequential(\n",
    "    nn.Embedding(len(vocab), 16),\n",
    "    nn.Linear(16, 16),\n",
    "    nn.ReLU(),\n",
    ")\n",
    "output_layer = nn.Linear(16, len(vocab))\n",
    "criterion = nn.CrossEntropyLoss()\n",
    "optimizer = torch.optim.Adam(list(model.parameters()) + list(output_layer.parameters()), lr=1e-2)\n",
    "\n",
    "for epoch in range(1, 61):\n",
    "    total_loss = 0.0\n",
    "    for row in tensor_inputs:\n",
    "        masked_row = row.clone()\n",
    "        mask_idx = 2\n",
    "        target = row[mask_idx].unsqueeze(0)\n",
    "        masked_row[mask_idx] = mask_token\n",
    "        embeddings = model(masked_row)\n",
    "        logits = output_layer(embeddings)\n",
    "        loss = criterion(logits[mask_idx].unsqueeze(0), target)\n",
    "        optimizer.zero_grad()\n",
    "        loss.backward()\n",
    "        optimizer.step()\n",
    "        total_loss += loss.item()\n",
    "    if epoch % 15 == 0:\n",
    "        print(f\"epoch {epoch:2d} | loss {total_loss/len(sentences):.4f}\")\n",
    "\n",
    "with torch.no_grad():\n",
    "    test = tensor_inputs[0].clone()\n",
    "    test[2] = mask_token\n",
    "    logits = output_layer(model(test))[2]\n",
    "    predicted = logits.argmax().item()\n",
    "    inv_vocab = {idx: word for word, idx in word_to_id.items()}\n",
    "    print()\n",
    "    print('Predicted token for masked position:', inv_vocab[predicted])\n"
   ]
  },
  {
   "cell_type": "markdown",
   "id": "2b01479a",
   "metadata": {},
   "source": [
    "## Try it\n",
    "- Modify the demo\n",
    "- Add a tiny dataset or counter-example\n"
   ]
  },
  {
   "cell_type": "markdown",
   "id": "f52863b2",
   "metadata": {},
   "source": [
    "## References\n",
    "- [BERT: Pre-training of Deep Bidirectional Transformers for Language Understanding](https://arxiv.org/pdf/1810.04805.pdf)\n",
    "- [BERT: Pre-training of Deep Bidirectional Transformers for Language Understanding](https://arxiv.org/pdf/1810.04805.pdf)\n",
    "- [To Tune or Not to Tune? Adapting Pretrained Representations to Diverse Tasks](https://www.aclweb.org/anthology/W19-4302/)\n",
    "- [GLUE: A Multi-Task Benchmark and Analysis Platform for Natural Language Understanding](https://arxiv.org/pdf/1804.07461.pdf)\n",
    "- [What Does BERT Look At? An Analysis of BERT's Attention](https://arxiv.org/abs/1906.04341)\n",
    "- [RoBERTa: A Robustly Optimized BERT Pretraining Approach](https://arxiv.org/pdf/1907.11692.pdf)\n",
    "- [BART: Denoising Sequence-to-Sequence Pre-training for Natural Language Generation, Translation, and Comprehension](https://arxiv.org/abs/1910.13461)\n",
    "- [Exploring the Limits of Transfer Learning with a Unified Text-to-Text Transformer](https://arxiv.org/pdf/1910.10683.pdf)\n",
    "- [UnifiedQA: Crossing Format Boundaries With a Single QA System](https://arxiv.org/abs/2005.00700)\n",
    "- [Neural Machine Translation of Rare Words with Subword Units](https://arxiv.org/pdf/1508.07909.pdf)\n",
    "- [Byte Pair Encoding is Suboptimal for Language Model Pretraining](https://arxiv.org/pdf/2004.03720.pdf)\n",
    "- [Eisenstein 8.1](https://github.com/jacobeisenstein/gt-nlp-class/blob/master/notes/eisenstein-nlp-notes.pdf)\n",
    "- [Eisenstein 7.1](https://github.com/jacobeisenstein/gt-nlp-class/blob/master/notes/eisenstein-nlp-notes.pdf)\n",
    "- [Eisenstein 7.4](https://github.com/jacobeisenstein/gt-nlp-class/blob/master/notes/eisenstein-nlp-notes.pdf)\n",
    "- [Eisenstein 7.4.1](https://github.com/jacobeisenstein/gt-nlp-class/blob/master/notes/eisenstein-nlp-notes.pdf)\n",
    "- [Eisenstein 7.3](https://github.com/jacobeisenstein/gt-nlp-class/blob/master/notes/eisenstein-nlp-notes.pdf)\n",
    "- [TnT - A Statistical Part-of-Speech Tagger](https://arxiv.org/abs/cs/0003055)\n",
    "- [Enriching the Knowledge Sources Used in a Maximum Entropy Part-of-Speech Tagger](https://www.aclweb.org/anthology/W00-1308/)\n",
    "- [Part-of-Speech Tagging from 97% to 100%: Is It Time for Some Linguistics?](https://link.springer.com/chapter/10.1007/978-3-642-19400-9_14)\n",
    "- [Natural Language Processing with Small Feed-Forward Networks](https://www.aclweb.org/anthology/D17-1309.pdf)\n",
    "- [Eisenstein 10.1-10.2](https://github.com/jacobeisenstein/gt-nlp-class/blob/master/notes/eisenstein-nlp-notes.pdf)\n",
    "- [Eisenstein 10.3-10.4](https://github.com/jacobeisenstein/gt-nlp-class/blob/master/notes/eisenstein-nlp-notes.pdf)\n",
    "- [Eisenstein 10.3.1](https://github.com/jacobeisenstein/gt-nlp-class/blob/master/notes/eisenstein-nlp-notes.pdf)\n",
    "- [Accurate Unlexicalized Parsing](https://www.aclweb.org/anthology/P03-1054/)\n",
    "- [Eisenstein 10.5](https://github.com/jacobeisenstein/gt-nlp-class/blob/master/notes/eisenstein-nlp-notes.pdf)\n",
    "- [Eisenstein 11.1](https://github.com/jacobeisenstein/gt-nlp-class/blob/master/notes/eisenstein-nlp-notes.pdf)\n",
    "- [Finding Optimal 1-Endpoint-Crossing Trees](https://www.aclweb.org/anthology/Q13-1002/)\n",
    "- [Eisenstein 11.3](https://github.com/jacobeisenstein/gt-nlp-class/blob/master/notes/eisenstein-nlp-notes.pdf)\n"
   ]
  },
  {
   "cell_type": "markdown",
   "id": "7805ca1c",
   "metadata": {},
   "source": [
    "*Links only; we do not redistribute slides or papers.*"
   ]
  }
 ],
 "metadata": {
  "language_info": {
   "codemirror_mode": {
    "name": "ipython",
    "version": 3
   },
   "file_extension": ".py",
   "mimetype": "text/x-python",
   "name": "python",
   "nbconvert_exporter": "python",
   "pygments_lexer": "ipython3",
   "version": "3.9.6"
  }
 },
 "nbformat": 4,
 "nbformat_minor": 5
}
