{
 "cells": [
  {
   "cell_type": "markdown",
   "id": "55739425",
   "metadata": {},
   "source": [
    "# Word Piece and Byte Pair Encoding\n",
    "\n",
    "- 📺 **Video:** [https://youtu.be/WA16JelEkkg](https://youtu.be/WA16JelEkkg)"
   ]
  },
  {
   "cell_type": "markdown",
   "id": "2746e48d",
   "metadata": {},
   "source": [
    "## Overview\n",
    "- Learn subword tokenization algorithms that balance vocabulary size and coverage.\n",
    "- Compare byte-pair encoding (BPE) and WordPiece for building vocabularies."
   ]
  },
  {
   "cell_type": "markdown",
   "id": "b185a18c",
   "metadata": {},
   "source": [
    "## Key ideas\n",
    "- **Subwords:** break rare words into frequent units to handle open vocabulary.\n",
    "- **BPE merges:** iteratively merge the most frequent symbol pairs.\n",
    "- **WordPiece scoring:** choose merges maximizing likelihood on corpus.\n",
    "- **Trade-offs:** vocabulary size affects model capacity and memory."
   ]
  },
  {
   "cell_type": "markdown",
   "id": "d909f599",
   "metadata": {},
   "source": [
    "## Demo\n",
    "Run a handful of BPE merges on a toy corpus and tokenize held-out words, following the lecture (https://youtu.be/b7kWQxSNJi0)."
   ]
  },
  {
   "cell_type": "code",
   "execution_count": 1,
   "id": "ca0418a0",
   "metadata": {
    "execution": {
     "iopub.execute_input": "2025-10-29T01:32:15.259284Z",
     "iopub.status.busy": "2025-10-29T01:32:15.259133Z",
     "iopub.status.idle": "2025-10-29T01:32:15.268316Z",
     "shell.execute_reply": "2025-10-29T01:32:15.267833Z"
    }
   },
   "outputs": [
    {
     "name": "stdout",
     "output_type": "stream",
     "text": [
      "Merged pair: ('l', 'o')\n",
      "Merged pair: ('lo', 'w')\n",
      "Merged pair: ('e', 'r')\n",
      "\n",
      "Final vocabulary tokens:\n",
      "('low', '</w>')\n",
      "('low', 'e', 's', 't', '</w>')\n",
      "('n', 'e', 'w', 'er', '</w>')\n",
      "('w', 'i', 'd', 'er', '</w>')\n"
     ]
    }
   ],
   "source": [
    "from collections import Counter\n",
    "\n",
    "corpus = ['low', 'lowest', 'newer', 'wider']\n",
    "\n",
    "def tokenize(word):\n",
    "    return list(word) + ['</w>']\n",
    "\n",
    "vocab = {tuple(tokenize(word)): count for word, count in Counter(corpus).items()}\n",
    "\n",
    "def merge_vocab(vocab):\n",
    "    pair_counts = Counter()\n",
    "    for tokens, freq in vocab.items():\n",
    "        for i in range(len(tokens) - 1):\n",
    "            pair_counts[(tokens[i], tokens[i+1])] += freq\n",
    "    if not pair_counts:\n",
    "        return vocab, None\n",
    "    best_pair = pair_counts.most_common(1)[0][0]\n",
    "    new_vocab = {}\n",
    "    for tokens, freq in vocab.items():\n",
    "        merged = []\n",
    "        i = 0\n",
    "        while i < len(tokens):\n",
    "            if i < len(tokens) - 1 and (tokens[i], tokens[i+1]) == best_pair:\n",
    "                merged.append(tokens[i] + tokens[i+1])\n",
    "                i += 2\n",
    "            else:\n",
    "                merged.append(tokens[i])\n",
    "                i += 1\n",
    "        new_vocab[tuple(merged)] = freq\n",
    "    return new_vocab, best_pair\n",
    "\n",
    "merges = []\n",
    "for _ in range(3):\n",
    "    vocab, merge = merge_vocab(vocab)\n",
    "    if merge:\n",
    "        merges.append(merge)\n",
    "        print('Merged pair:', merge)\n",
    "\n",
    "print()\n",
    "print('Final vocabulary tokens:')\n",
    "for tokens in vocab.keys():\n",
    "    print(tokens)\n"
   ]
  },
  {
   "cell_type": "markdown",
   "id": "aac805f5",
   "metadata": {},
   "source": [
    "## Try it\n",
    "- Modify the demo\n",
    "- Add a tiny dataset or counter-example\n"
   ]
  },
  {
   "cell_type": "markdown",
   "id": "d6843f22",
   "metadata": {},
   "source": [
    "## References\n",
    "- [BERT: Pre-training of Deep Bidirectional Transformers for Language Understanding](https://arxiv.org/pdf/1810.04805.pdf)\n",
    "- [BERT: Pre-training of Deep Bidirectional Transformers for Language Understanding](https://arxiv.org/pdf/1810.04805.pdf)\n",
    "- [To Tune or Not to Tune? Adapting Pretrained Representations to Diverse Tasks](https://www.aclweb.org/anthology/W19-4302/)\n",
    "- [GLUE: A Multi-Task Benchmark and Analysis Platform for Natural Language Understanding](https://arxiv.org/pdf/1804.07461.pdf)\n",
    "- [What Does BERT Look At? An Analysis of BERT's Attention](https://arxiv.org/abs/1906.04341)\n",
    "- [RoBERTa: A Robustly Optimized BERT Pretraining Approach](https://arxiv.org/pdf/1907.11692.pdf)\n",
    "- [BART: Denoising Sequence-to-Sequence Pre-training for Natural Language Generation, Translation, and Comprehension](https://arxiv.org/abs/1910.13461)\n",
    "- [Exploring the Limits of Transfer Learning with a Unified Text-to-Text Transformer](https://arxiv.org/pdf/1910.10683.pdf)\n",
    "- [UnifiedQA: Crossing Format Boundaries With a Single QA System](https://arxiv.org/abs/2005.00700)\n",
    "- [Neural Machine Translation of Rare Words with Subword Units](https://arxiv.org/pdf/1508.07909.pdf)\n",
    "- [Byte Pair Encoding is Suboptimal for Language Model Pretraining](https://arxiv.org/pdf/2004.03720.pdf)\n",
    "- [Eisenstein 8.1](https://github.com/jacobeisenstein/gt-nlp-class/blob/master/notes/eisenstein-nlp-notes.pdf)\n",
    "- [Eisenstein 7.1](https://github.com/jacobeisenstein/gt-nlp-class/blob/master/notes/eisenstein-nlp-notes.pdf)\n",
    "- [Eisenstein 7.4](https://github.com/jacobeisenstein/gt-nlp-class/blob/master/notes/eisenstein-nlp-notes.pdf)\n",
    "- [Eisenstein 7.4.1](https://github.com/jacobeisenstein/gt-nlp-class/blob/master/notes/eisenstein-nlp-notes.pdf)\n",
    "- [Eisenstein 7.3](https://github.com/jacobeisenstein/gt-nlp-class/blob/master/notes/eisenstein-nlp-notes.pdf)\n",
    "- [TnT - A Statistical Part-of-Speech Tagger](https://arxiv.org/abs/cs/0003055)\n",
    "- [Enriching the Knowledge Sources Used in a Maximum Entropy Part-of-Speech Tagger](https://www.aclweb.org/anthology/W00-1308/)\n",
    "- [Part-of-Speech Tagging from 97% to 100%: Is It Time for Some Linguistics?](https://link.springer.com/chapter/10.1007/978-3-642-19400-9_14)\n",
    "- [Natural Language Processing with Small Feed-Forward Networks](https://www.aclweb.org/anthology/D17-1309.pdf)\n",
    "- [Eisenstein 10.1-10.2](https://github.com/jacobeisenstein/gt-nlp-class/blob/master/notes/eisenstein-nlp-notes.pdf)\n",
    "- [Eisenstein 10.3-10.4](https://github.com/jacobeisenstein/gt-nlp-class/blob/master/notes/eisenstein-nlp-notes.pdf)\n",
    "- [Eisenstein 10.3.1](https://github.com/jacobeisenstein/gt-nlp-class/blob/master/notes/eisenstein-nlp-notes.pdf)\n",
    "- [Accurate Unlexicalized Parsing](https://www.aclweb.org/anthology/P03-1054/)\n",
    "- [Eisenstein 10.5](https://github.com/jacobeisenstein/gt-nlp-class/blob/master/notes/eisenstein-nlp-notes.pdf)\n",
    "- [Eisenstein 11.1](https://github.com/jacobeisenstein/gt-nlp-class/blob/master/notes/eisenstein-nlp-notes.pdf)\n",
    "- [Finding Optimal 1-Endpoint-Crossing Trees](https://www.aclweb.org/anthology/Q13-1002/)\n",
    "- [Eisenstein 11.3](https://github.com/jacobeisenstein/gt-nlp-class/blob/master/notes/eisenstein-nlp-notes.pdf)\n"
   ]
  },
  {
   "cell_type": "markdown",
   "id": "cd764ce4",
   "metadata": {},
   "source": [
    "*Links only; we do not redistribute slides or papers.*"
   ]
  }
 ],
 "metadata": {
  "language_info": {
   "codemirror_mode": {
    "name": "ipython",
    "version": 3
   },
   "file_extension": ".py",
   "mimetype": "text/x-python",
   "name": "python",
   "nbconvert_exporter": "python",
   "pygments_lexer": "ipython3",
   "version": "3.9.6"
  }
 },
 "nbformat": 4,
 "nbformat_minor": 5
}
