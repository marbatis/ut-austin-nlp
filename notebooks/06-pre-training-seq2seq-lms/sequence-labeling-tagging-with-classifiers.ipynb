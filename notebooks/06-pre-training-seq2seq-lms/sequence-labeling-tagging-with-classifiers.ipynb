{
 "cells": [
  {
   "cell_type": "markdown",
   "id": "25cf1510",
   "metadata": {},
   "source": [
    "# Sequence Labeling, Tagging with Classifiers\n",
    "\n",
    "- 📺 **Video:** [https://youtu.be/yQZ0mDW-U3g](https://youtu.be/yQZ0mDW-U3g)"
   ]
  },
  {
   "cell_type": "markdown",
   "id": "0b948b56",
   "metadata": {},
   "source": [
    "## Overview\n",
    "- Treat sequence labeling as token-level classification with local features.\n",
    "- Explore structured enhancements like CRFs for capturing label dependencies."
   ]
  },
  {
   "cell_type": "markdown",
   "id": "c477459e",
   "metadata": {},
   "source": [
    "## Key ideas\n",
    "- **Local classifiers:** logistic regression or perceptrons predict tags independently.\n",
    "- **Feature templates:** encode context, capitalization, affixes, and lexicons.\n",
    "- **Error propagation:** greedy decoding can violate global constraints.\n",
    "- **Structured prediction:** adding CRFs or beam search addresses label dependencies."
   ]
  },
  {
   "cell_type": "markdown",
   "id": "7c6291b6",
   "metadata": {},
   "source": [
    "## Demo\n",
    "Train a perceptron-based tagger with contextual features and decode greedily, echoing the lecture (https://youtu.be/Xvx1PxSj8FE)."
   ]
  },
  {
   "cell_type": "code",
   "execution_count": 1,
   "id": "047682fa",
   "metadata": {
    "execution": {
     "iopub.execute_input": "2025-10-29T01:32:10.872980Z",
     "iopub.status.busy": "2025-10-29T01:32:10.872678Z",
     "iopub.status.idle": "2025-10-29T01:32:11.740238Z",
     "shell.execute_reply": "2025-10-29T01:32:11.739989Z"
    }
   },
   "outputs": [
    {
     "name": "stdout",
     "output_type": "stream",
     "text": [
      "              precision    recall  f1-score   support\n",
      "\n",
      "        NOUN      1.000     1.000     1.000         2\n",
      "       PROPN      1.000     1.000     1.000         4\n",
      "        VERB      1.000     1.000     1.000         3\n",
      "\n",
      "    accuracy                          1.000         9\n",
      "   macro avg      1.000     1.000     1.000         9\n",
      "weighted avg      1.000     1.000     1.000         9\n",
      "\n"
     ]
    }
   ],
   "source": [
    "from sklearn.linear_model import Perceptron\n",
    "from sklearn.feature_extraction import DictVectorizer\n",
    "from sklearn.metrics import classification_report\n",
    "\n",
    "train_data = [\n",
    "    (['John', 'visits', 'Paris'], ['PROPN', 'VERB', 'PROPN']),\n",
    "    (['Mary', 'loves', 'coffee'], ['PROPN', 'VERB', 'NOUN']),\n",
    "    (['Paris', 'offers', 'cafes'], ['PROPN', 'VERB', 'NOUN'])\n",
    "]\n",
    "\n",
    "def features(sent, i, prev_tag):\n",
    "    word = sent[i]\n",
    "    prev_word = sent[i-1] if i > 0 else '<START>'\n",
    "    next_word = sent[i+1] if i < len(sent) - 1 else '<END>'\n",
    "    return {\n",
    "        'word.lower': word.lower(),\n",
    "        'is_capitalized': word[0].isupper(),\n",
    "        'suffix2': word[-2:],\n",
    "        'prefix1': word[0],\n",
    "        'prev_word': prev_word,\n",
    "        'next_word': next_word,\n",
    "        'prev_tag': prev_tag\n",
    "    }\n",
    "\n",
    "vec = DictVectorizer(sparse=False)\n",
    "X, y = [], []\n",
    "for words, tags in train_data:\n",
    "    prev = '<START>'\n",
    "    for i in range(len(words)):\n",
    "        X.append(features(words, i, prev))\n",
    "        y.append(tags[i])\n",
    "        prev = tags[i]\n",
    "\n",
    "X = vec.fit_transform(X)\n",
    "clf = Perceptron(max_iter=50, random_state=0)\n",
    "clf.fit(X, y)\n",
    "\n",
    "pred = clf.predict(X)\n",
    "print(classification_report(y, pred, digits=3))\n"
   ]
  },
  {
   "cell_type": "markdown",
   "id": "63d4c943",
   "metadata": {},
   "source": [
    "## Try it\n",
    "- Modify the demo\n",
    "- Add a tiny dataset or counter-example\n"
   ]
  },
  {
   "cell_type": "markdown",
   "id": "1a6efcba",
   "metadata": {},
   "source": [
    "## References\n",
    "- [BERT: Pre-training of Deep Bidirectional Transformers for Language Understanding](https://arxiv.org/pdf/1810.04805.pdf)\n",
    "- [BERT: Pre-training of Deep Bidirectional Transformers for Language Understanding](https://arxiv.org/pdf/1810.04805.pdf)\n",
    "- [To Tune or Not to Tune? Adapting Pretrained Representations to Diverse Tasks](https://www.aclweb.org/anthology/W19-4302/)\n",
    "- [GLUE: A Multi-Task Benchmark and Analysis Platform for Natural Language Understanding](https://arxiv.org/pdf/1804.07461.pdf)\n",
    "- [What Does BERT Look At? An Analysis of BERT's Attention](https://arxiv.org/abs/1906.04341)\n",
    "- [RoBERTa: A Robustly Optimized BERT Pretraining Approach](https://arxiv.org/pdf/1907.11692.pdf)\n",
    "- [BART: Denoising Sequence-to-Sequence Pre-training for Natural Language Generation, Translation, and Comprehension](https://arxiv.org/abs/1910.13461)\n",
    "- [Exploring the Limits of Transfer Learning with a Unified Text-to-Text Transformer](https://arxiv.org/pdf/1910.10683.pdf)\n",
    "- [UnifiedQA: Crossing Format Boundaries With a Single QA System](https://arxiv.org/abs/2005.00700)\n",
    "- [Neural Machine Translation of Rare Words with Subword Units](https://arxiv.org/pdf/1508.07909.pdf)\n",
    "- [Byte Pair Encoding is Suboptimal for Language Model Pretraining](https://arxiv.org/pdf/2004.03720.pdf)\n",
    "- [Eisenstein 8.1](https://github.com/jacobeisenstein/gt-nlp-class/blob/master/notes/eisenstein-nlp-notes.pdf)\n",
    "- [Eisenstein 7.1](https://github.com/jacobeisenstein/gt-nlp-class/blob/master/notes/eisenstein-nlp-notes.pdf)\n",
    "- [Eisenstein 7.4](https://github.com/jacobeisenstein/gt-nlp-class/blob/master/notes/eisenstein-nlp-notes.pdf)\n",
    "- [Eisenstein 7.4.1](https://github.com/jacobeisenstein/gt-nlp-class/blob/master/notes/eisenstein-nlp-notes.pdf)\n",
    "- [Eisenstein 7.3](https://github.com/jacobeisenstein/gt-nlp-class/blob/master/notes/eisenstein-nlp-notes.pdf)\n",
    "- [TnT - A Statistical Part-of-Speech Tagger](https://arxiv.org/abs/cs/0003055)\n",
    "- [Enriching the Knowledge Sources Used in a Maximum Entropy Part-of-Speech Tagger](https://www.aclweb.org/anthology/W00-1308/)\n",
    "- [Part-of-Speech Tagging from 97% to 100%: Is It Time for Some Linguistics?](https://link.springer.com/chapter/10.1007/978-3-642-19400-9_14)\n",
    "- [Natural Language Processing with Small Feed-Forward Networks](https://www.aclweb.org/anthology/D17-1309.pdf)\n",
    "- [Eisenstein 10.1-10.2](https://github.com/jacobeisenstein/gt-nlp-class/blob/master/notes/eisenstein-nlp-notes.pdf)\n",
    "- [Eisenstein 10.3-10.4](https://github.com/jacobeisenstein/gt-nlp-class/blob/master/notes/eisenstein-nlp-notes.pdf)\n",
    "- [Eisenstein 10.3.1](https://github.com/jacobeisenstein/gt-nlp-class/blob/master/notes/eisenstein-nlp-notes.pdf)\n",
    "- [Accurate Unlexicalized Parsing](https://www.aclweb.org/anthology/P03-1054/)\n",
    "- [Eisenstein 10.5](https://github.com/jacobeisenstein/gt-nlp-class/blob/master/notes/eisenstein-nlp-notes.pdf)\n",
    "- [Eisenstein 11.1](https://github.com/jacobeisenstein/gt-nlp-class/blob/master/notes/eisenstein-nlp-notes.pdf)\n",
    "- [Finding Optimal 1-Endpoint-Crossing Trees](https://www.aclweb.org/anthology/Q13-1002/)\n",
    "- [Eisenstein 11.3](https://github.com/jacobeisenstein/gt-nlp-class/blob/master/notes/eisenstein-nlp-notes.pdf)\n"
   ]
  },
  {
   "cell_type": "markdown",
   "id": "589e7810",
   "metadata": {},
   "source": [
    "*Links only; we do not redistribute slides or papers.*"
   ]
  }
 ],
 "metadata": {
  "language_info": {
   "codemirror_mode": {
    "name": "ipython",
    "version": 3
   },
   "file_extension": ".py",
   "mimetype": "text/x-python",
   "name": "python",
   "nbconvert_exporter": "python",
   "pygments_lexer": "ipython3",
   "version": "3.9.6"
  }
 },
 "nbformat": 4,
 "nbformat_minor": 5
}
