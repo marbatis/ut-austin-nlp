{
 "cells": [
  {
   "cell_type": "markdown",
   "id": "595d99ec",
   "metadata": {},
   "source": [
    "# Part-of-Speech Tagging\n",
    "\n",
    "- 📺 **Video:** [https://youtu.be/Llw6qfeAWDs](https://youtu.be/Llw6qfeAWDs)"
   ]
  },
  {
   "cell_type": "markdown",
   "id": "fac06404",
   "metadata": {},
   "source": [
    "## Overview\n",
    "Introduces the task of POS tagging: assigning each word in a sentence a tag like noun, verb, adjective, etc. The video likely explains why POS tagging is important (it's a basic step for linguistic analysis, useful in downstream tasks like parsing, information extraction, etc., and historically a core NLP problem)."
   ]
  },
  {
   "cell_type": "code",
   "execution_count": null,
   "id": "3f69314c",
   "metadata": {},
   "outputs": [],
   "source": [
    "import os, random\n",
    "random.seed(0)\n",
    "CI = os.environ.get('CI') == 'true'"
   ]
  },
  {
   "cell_type": "markdown",
   "id": "0d8624cd",
   "metadata": {},
   "source": [
    "## Key ideas\n",
    "- It describes the tagging process: e.g., for “The quick brown fox jumps over the lazy dog”, output something like DET, ADJ, ADJ, NOUN, VERB, ADP, DET, ADJ, NOUN.\n",
    "- It probably mentions there's a standard tagset (like Penn Treebank tagset with ~45 tags for English).\n",
    "- The challenges are discussed: words can have ambiguous POS (e.g., “bank” can be noun or verb), so you need context to decide.\n",
    "- The video might recall how one could do POS tagging with a simple approach: treat it as a sequence of independent classifications given context (like a sliding window classifier as in Week 2's “tagging with classifiers” which is coming up)."
   ]
  },
  {
   "cell_type": "markdown",
   "id": "51a5a689",
   "metadata": {},
   "source": [
    "## Demo"
   ]
  },
  {
   "cell_type": "code",
   "execution_count": null,
   "id": "943a45af",
   "metadata": {},
   "outputs": [],
   "source": [
    "print('Try the exercises below and follow the linked materials.')"
   ]
  },
  {
   "cell_type": "markdown",
   "id": "bebf2745",
   "metadata": {},
   "source": [
    "## Try it\n",
    "- Modify the demo\n",
    "- Add a tiny dataset or counter-example\n"
   ]
  },
  {
   "cell_type": "markdown",
   "id": "b3f32ea5",
   "metadata": {},
   "source": [
    "## References\n",
    "- [BERT: Pre-training of Deep Bidirectional Transformers for Language Understanding](https://arxiv.org/pdf/1810.04805.pdf)\n",
    "- [BERT: Pre-training of Deep Bidirectional Transformers for Language Understanding](https://arxiv.org/pdf/1810.04805.pdf)\n",
    "- [To Tune or Not to Tune? Adapting Pretrained Representations to Diverse Tasks](https://www.aclweb.org/anthology/W19-4302/)\n",
    "- [GLUE: A Multi-Task Benchmark and Analysis Platform for Natural Language Understanding](https://arxiv.org/pdf/1804.07461.pdf)\n",
    "- [What Does BERT Look At? An Analysis of BERT's Attention](https://arxiv.org/abs/1906.04341)\n",
    "- [RoBERTa: A Robustly Optimized BERT Pretraining Approach](https://arxiv.org/pdf/1907.11692.pdf)\n",
    "- [BART: Denoising Sequence-to-Sequence Pre-training for Natural Language Generation, Translation, and Comprehension](https://arxiv.org/abs/1910.13461)\n",
    "- [Exploring the Limits of Transfer Learning with a Unified Text-to-Text Transformer](https://arxiv.org/pdf/1910.10683.pdf)\n",
    "- [UnifiedQA: Crossing Format Boundaries With a Single QA System](https://arxiv.org/abs/2005.00700)\n",
    "- [Neural Machine Translation of Rare Words with Subword Units](https://arxiv.org/pdf/1508.07909.pdf)\n",
    "- [Byte Pair Encoding is Suboptimal for Language Model Pretraining](https://arxiv.org/pdf/2004.03720.pdf)\n",
    "- [Eisenstein 8.1](https://github.com/jacobeisenstein/gt-nlp-class/blob/master/notes/eisenstein-nlp-notes.pdf)\n",
    "- [Eisenstein 7.1](https://github.com/jacobeisenstein/gt-nlp-class/blob/master/notes/eisenstein-nlp-notes.pdf)\n",
    "- [Eisenstein 7.4](https://github.com/jacobeisenstein/gt-nlp-class/blob/master/notes/eisenstein-nlp-notes.pdf)\n",
    "- [Eisenstein 7.4.1](https://github.com/jacobeisenstein/gt-nlp-class/blob/master/notes/eisenstein-nlp-notes.pdf)\n",
    "- [Eisenstein 7.3](https://github.com/jacobeisenstein/gt-nlp-class/blob/master/notes/eisenstein-nlp-notes.pdf)\n",
    "- [TnT - A Statistical Part-of-Speech Tagger](https://arxiv.org/abs/cs/0003055)\n",
    "- [Enriching the Knowledge Sources Used in a Maximum Entropy Part-of-Speech Tagger](https://www.aclweb.org/anthology/W00-1308/)\n",
    "- [Part-of-Speech Tagging from 97% to 100%: Is It Time for Some Linguistics?](https://link.springer.com/chapter/10.1007/978-3-642-19400-9_14)\n",
    "- [Natural Language Processing with Small Feed-Forward Networks](https://www.aclweb.org/anthology/D17-1309.pdf)\n",
    "- [Eisenstein 10.1-10.2](https://github.com/jacobeisenstein/gt-nlp-class/blob/master/notes/eisenstein-nlp-notes.pdf)\n",
    "- [Eisenstein 10.3-10.4](https://github.com/jacobeisenstein/gt-nlp-class/blob/master/notes/eisenstein-nlp-notes.pdf)\n",
    "- [Eisenstein 10.3.1](https://github.com/jacobeisenstein/gt-nlp-class/blob/master/notes/eisenstein-nlp-notes.pdf)\n",
    "- [Accurate Unlexicalized Parsing](https://www.aclweb.org/anthology/P03-1054/)\n",
    "- [Eisenstein 10.5](https://github.com/jacobeisenstein/gt-nlp-class/blob/master/notes/eisenstein-nlp-notes.pdf)\n",
    "- [Eisenstein 11.1](https://github.com/jacobeisenstein/gt-nlp-class/blob/master/notes/eisenstein-nlp-notes.pdf)\n",
    "- [Finding Optimal 1-Endpoint-Crossing Trees](https://www.aclweb.org/anthology/Q13-1002/)\n",
    "- [Eisenstein 11.3](https://github.com/jacobeisenstein/gt-nlp-class/blob/master/notes/eisenstein-nlp-notes.pdf)\n"
   ]
  },
  {
   "cell_type": "markdown",
   "id": "451e1201",
   "metadata": {},
   "source": [
    "*Links only; we do not redistribute slides or papers.*"
   ]
  }
 ],
 "metadata": {},
 "nbformat": 4,
 "nbformat_minor": 5
}
