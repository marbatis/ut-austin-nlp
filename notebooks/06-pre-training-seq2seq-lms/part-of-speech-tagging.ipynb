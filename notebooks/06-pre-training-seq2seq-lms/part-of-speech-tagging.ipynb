{
 "cells": [
  {
   "cell_type": "markdown",
   "id": "595d99ec",
   "metadata": {},
   "source": [
    "# Part-of-Speech Tagging\n",
    "\n",
    "- 📺 **Video:** [https://youtu.be/Llw6qfeAWDs](https://youtu.be/Llw6qfeAWDs)"
   ]
  },
  {
   "cell_type": "markdown",
   "id": "fac06404",
   "metadata": {},
   "source": [
    "## Overview\n",
    "- Frame POS tagging as sequence labeling that assigns a grammatical tag to each token.\n",
    "- Highlight supervised approaches with lexical and contextual features."
   ]
  },
  {
   "cell_type": "markdown",
   "id": "0d8624cd",
   "metadata": {},
   "source": [
    "## Key ideas\n",
    "- **Contextual features:** surrounding words and affixes inform tag decisions.\n",
    "- **Sequence constraints:** tags follow patterns (DET→NOUN) that models can exploit.\n",
    "- **Evaluation:** accuracy per token and confusion matrices reveal confusions.\n",
    "- **Applications:** POS tags serve as input to parsers and information extraction systems."
   ]
  },
  {
   "cell_type": "markdown",
   "id": "51a5a689",
   "metadata": {},
   "source": [
    "## Demo\n",
    "Use scikit-learn with hand-crafted features to train a simple POS tagger on toy sentences, mirroring the lecture (https://youtu.be/Ez4Wshp72zk)."
   ]
  },
  {
   "cell_type": "code",
   "execution_count": 1,
   "id": "943a45af",
   "metadata": {
    "execution": {
     "iopub.execute_input": "2025-10-29T01:32:05.091431Z",
     "iopub.status.busy": "2025-10-29T01:32:05.091309Z",
     "iopub.status.idle": "2025-10-29T01:32:06.075093Z",
     "shell.execute_reply": "2025-10-29T01:32:06.074823Z"
    }
   },
   "outputs": [
    {
     "name": "stdout",
     "output_type": "stream",
     "text": [
      "              precision    recall  f1-score   support\n",
      "\n",
      "         ADJ      1.000     1.000     1.000         2\n",
      "         DET      1.000     1.000     1.000         3\n",
      "        NOUN      1.000     1.000     1.000         5\n",
      "        VERB      1.000     1.000     1.000         5\n",
      "\n",
      "    accuracy                          1.000        15\n",
      "   macro avg      1.000     1.000     1.000        15\n",
      "weighted avg      1.000     1.000     1.000        15\n",
      "\n"
     ]
    },
    {
     "name": "stderr",
     "output_type": "stream",
     "text": [
      "/Users/marcelosilveira/Library/Python/3.9/lib/python/site-packages/sklearn/linear_model/_logistic.py:1256: FutureWarning: 'multi_class' was deprecated in version 1.5 and will be removed in 1.7. Use OneVsRestClassifier(LogisticRegression(..)) instead. Leave it to its default value to avoid this warning.\n",
      "  warnings.warn(\n"
     ]
    }
   ],
   "source": [
    "from sklearn.feature_extraction import DictVectorizer\n",
    "from sklearn.linear_model import LogisticRegression\n",
    "from sklearn.metrics import classification_report\n",
    "\n",
    "train_data = [\n",
    "    (['the', 'cat', 'sleeps'], ['DET', 'NOUN', 'VERB']),\n",
    "    (['a', 'dog', 'runs'], ['DET', 'NOUN', 'VERB']),\n",
    "    (['the', 'dog', 'barks'], ['DET', 'NOUN', 'VERB']),\n",
    "    (['lazy', 'dog', 'sleeps'], ['ADJ', 'NOUN', 'VERB']),\n",
    "    (['quick', 'cat', 'runs'], ['ADJ', 'NOUN', 'VERB'])\n",
    "]\n",
    "\n",
    "def token_features(sent, idx):\n",
    "    word = sent[idx]\n",
    "    prev = sent[idx-1] if idx > 0 else '<START>'\n",
    "    next_w = sent[idx+1] if idx < len(sent) - 1 else '<END>'\n",
    "    return {\n",
    "        'word': word,\n",
    "        'lower': word.lower(),\n",
    "        'suffix3': word[-3:],\n",
    "        'prefix1': word[0],\n",
    "        'prev': prev,\n",
    "        'next': next_w\n",
    "    }\n",
    "\n",
    "X_feat, y = [], []\n",
    "for words, tags in train_data:\n",
    "    for i in range(len(words)):\n",
    "        X_feat.append(token_features(words, i))\n",
    "        y.append(tags[i])\n",
    "\n",
    "vec = DictVectorizer(sparse=False)\n",
    "X = vec.fit_transform(X_feat)\n",
    "clf = LogisticRegression(max_iter=2000, multi_class='ovr', random_state=0)\n",
    "clf.fit(X, y)\n",
    "\n",
    "pred = clf.predict(X)\n",
    "print(classification_report(y, pred, digits=3))\n"
   ]
  },
  {
   "cell_type": "markdown",
   "id": "bebf2745",
   "metadata": {},
   "source": [
    "## Try it\n",
    "- Modify the demo\n",
    "- Add a tiny dataset or counter-example\n"
   ]
  },
  {
   "cell_type": "markdown",
   "id": "b3f32ea5",
   "metadata": {},
   "source": [
    "## References\n",
    "- [BERT: Pre-training of Deep Bidirectional Transformers for Language Understanding](https://arxiv.org/pdf/1810.04805.pdf)\n",
    "- [BERT: Pre-training of Deep Bidirectional Transformers for Language Understanding](https://arxiv.org/pdf/1810.04805.pdf)\n",
    "- [To Tune or Not to Tune? Adapting Pretrained Representations to Diverse Tasks](https://www.aclweb.org/anthology/W19-4302/)\n",
    "- [GLUE: A Multi-Task Benchmark and Analysis Platform for Natural Language Understanding](https://arxiv.org/pdf/1804.07461.pdf)\n",
    "- [What Does BERT Look At? An Analysis of BERT's Attention](https://arxiv.org/abs/1906.04341)\n",
    "- [RoBERTa: A Robustly Optimized BERT Pretraining Approach](https://arxiv.org/pdf/1907.11692.pdf)\n",
    "- [BART: Denoising Sequence-to-Sequence Pre-training for Natural Language Generation, Translation, and Comprehension](https://arxiv.org/abs/1910.13461)\n",
    "- [Exploring the Limits of Transfer Learning with a Unified Text-to-Text Transformer](https://arxiv.org/pdf/1910.10683.pdf)\n",
    "- [UnifiedQA: Crossing Format Boundaries With a Single QA System](https://arxiv.org/abs/2005.00700)\n",
    "- [Neural Machine Translation of Rare Words with Subword Units](https://arxiv.org/pdf/1508.07909.pdf)\n",
    "- [Byte Pair Encoding is Suboptimal for Language Model Pretraining](https://arxiv.org/pdf/2004.03720.pdf)\n",
    "- [Eisenstein 8.1](https://github.com/jacobeisenstein/gt-nlp-class/blob/master/notes/eisenstein-nlp-notes.pdf)\n",
    "- [Eisenstein 7.1](https://github.com/jacobeisenstein/gt-nlp-class/blob/master/notes/eisenstein-nlp-notes.pdf)\n",
    "- [Eisenstein 7.4](https://github.com/jacobeisenstein/gt-nlp-class/blob/master/notes/eisenstein-nlp-notes.pdf)\n",
    "- [Eisenstein 7.4.1](https://github.com/jacobeisenstein/gt-nlp-class/blob/master/notes/eisenstein-nlp-notes.pdf)\n",
    "- [Eisenstein 7.3](https://github.com/jacobeisenstein/gt-nlp-class/blob/master/notes/eisenstein-nlp-notes.pdf)\n",
    "- [TnT - A Statistical Part-of-Speech Tagger](https://arxiv.org/abs/cs/0003055)\n",
    "- [Enriching the Knowledge Sources Used in a Maximum Entropy Part-of-Speech Tagger](https://www.aclweb.org/anthology/W00-1308/)\n",
    "- [Part-of-Speech Tagging from 97% to 100%: Is It Time for Some Linguistics?](https://link.springer.com/chapter/10.1007/978-3-642-19400-9_14)\n",
    "- [Natural Language Processing with Small Feed-Forward Networks](https://www.aclweb.org/anthology/D17-1309.pdf)\n",
    "- [Eisenstein 10.1-10.2](https://github.com/jacobeisenstein/gt-nlp-class/blob/master/notes/eisenstein-nlp-notes.pdf)\n",
    "- [Eisenstein 10.3-10.4](https://github.com/jacobeisenstein/gt-nlp-class/blob/master/notes/eisenstein-nlp-notes.pdf)\n",
    "- [Eisenstein 10.3.1](https://github.com/jacobeisenstein/gt-nlp-class/blob/master/notes/eisenstein-nlp-notes.pdf)\n",
    "- [Accurate Unlexicalized Parsing](https://www.aclweb.org/anthology/P03-1054/)\n",
    "- [Eisenstein 10.5](https://github.com/jacobeisenstein/gt-nlp-class/blob/master/notes/eisenstein-nlp-notes.pdf)\n",
    "- [Eisenstein 11.1](https://github.com/jacobeisenstein/gt-nlp-class/blob/master/notes/eisenstein-nlp-notes.pdf)\n",
    "- [Finding Optimal 1-Endpoint-Crossing Trees](https://www.aclweb.org/anthology/Q13-1002/)\n",
    "- [Eisenstein 11.3](https://github.com/jacobeisenstein/gt-nlp-class/blob/master/notes/eisenstein-nlp-notes.pdf)\n"
   ]
  },
  {
   "cell_type": "markdown",
   "id": "451e1201",
   "metadata": {},
   "source": [
    "*Links only; we do not redistribute slides or papers.*"
   ]
  }
 ],
 "metadata": {
  "language_info": {
   "codemirror_mode": {
    "name": "ipython",
    "version": 3
   },
   "file_extension": ".py",
   "mimetype": "text/x-python",
   "name": "python",
   "nbconvert_exporter": "python",
   "pygments_lexer": "ipython3",
   "version": "3.9.6"
  }
 },
 "nbformat": 4,
 "nbformat_minor": 5
}
