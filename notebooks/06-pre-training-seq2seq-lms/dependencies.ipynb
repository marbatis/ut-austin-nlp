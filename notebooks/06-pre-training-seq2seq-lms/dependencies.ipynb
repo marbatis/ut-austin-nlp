{
 "cells": [
  {
   "cell_type": "markdown",
   "id": "f9ad9da4",
   "metadata": {},
   "source": [
    "# Dependencies\n",
    "\n",
    "- 📺 **Video:** [https://youtu.be/dbDjKCc4R3E](https://youtu.be/dbDjKCc4R3E)"
   ]
  },
  {
   "cell_type": "markdown",
   "id": "7998b01b",
   "metadata": {},
   "source": [
    "## Overview\n",
    "- Represent syntax as directed arcs between head and dependent words.\n",
    "- Examine projective trees and dependency labels."
   ]
  },
  {
   "cell_type": "markdown",
   "id": "5006d8e5",
   "metadata": {},
   "source": [
    "## Key ideas\n",
    "- **Head-dependent relations:** each token (except root) points to a head.\n",
    "- **Labels:** encode grammatical function (nsubj, dobj, etc.).\n",
    "- **Projectivity:** arcs should not cross in projective parses.\n",
    "- **Conversion:** algorithms map between constituency and dependency representations."
   ]
  },
  {
   "cell_type": "markdown",
   "id": "34013c48",
   "metadata": {},
   "source": [
    "## Demo\n",
    "Build a dependency tree for a sentence and convert it to adjacency lists, as demonstrated in the lecture (https://youtu.be/IRvjQRFaz9k)."
   ]
  },
  {
   "cell_type": "code",
   "execution_count": 1,
   "id": "571a6cb6",
   "metadata": {
    "execution": {
     "iopub.execute_input": "2025-10-29T01:32:00.867696Z",
     "iopub.status.busy": "2025-10-29T01:32:00.867536Z",
     "iopub.status.idle": "2025-10-29T01:32:00.874324Z",
     "shell.execute_reply": "2025-10-29T01:32:00.874004Z"
    }
   },
   "outputs": [
    {
     "name": "stdout",
     "output_type": "stream",
     "text": [
      "The    <-(det)- fox\n",
      "quick  <-(amod)- fox\n",
      "brown  <-(amod)- fox\n",
      "fox    <-(nsubj)- over\n",
      "jumps  <-(root)- ROOT\n",
      "over   <-(case)- over\n",
      "the    <-(det)- over\n",
      "lazy   <-(amod)- dog\n",
      "dog    <-(obl)- over\n",
      "\n",
      "Adjacency list (head -> dependents):\n",
      "fox -> ['The', 'quick', 'brown']\n",
      "over -> ['fox', 'over', 'the', 'dog']\n",
      "ROOT -> ['jumps']\n",
      "dog -> ['lazy']\n"
     ]
    }
   ],
   "source": [
    "sentence = ['ROOT', 'The', 'quick', 'brown', 'fox', 'jumps', 'over', 'the', 'lazy', 'dog']\n",
    "heads = [0, 4, 4, 4, 6, 0, 6, 6, 9, 6]  # head indices per token\n",
    "labels = ['root', 'det', 'amod', 'amod', 'nsubj', 'root', 'case', 'det', 'amod', 'obl']\n",
    "\n",
    "for idx in range(1, len(sentence)):\n",
    "    head_word = sentence[heads[idx]] if heads[idx] > 0 else 'ROOT'\n",
    "    print(f\"{sentence[idx]:<6} <-({labels[idx]})- {head_word}\")\n",
    "\n",
    "adjacency = {}\n",
    "for idx in range(1, len(sentence)):\n",
    "    adjacency.setdefault(heads[idx], []).append(idx)\n",
    "\n",
    "print()\n",
    "\n",
    "print('Adjacency list (head -> dependents):')\n",
    "for head, children in adjacency.items():\n",
    "    print(sentence[head], '->', [sentence[c] for c in children])\n"
   ]
  },
  {
   "cell_type": "markdown",
   "id": "477dc813",
   "metadata": {},
   "source": [
    "## Try it\n",
    "- Modify the demo\n",
    "- Add a tiny dataset or counter-example\n"
   ]
  },
  {
   "cell_type": "markdown",
   "id": "3bdbc5df",
   "metadata": {},
   "source": [
    "## References\n",
    "- [BERT: Pre-training of Deep Bidirectional Transformers for Language Understanding](https://arxiv.org/pdf/1810.04805.pdf)\n",
    "- [BERT: Pre-training of Deep Bidirectional Transformers for Language Understanding](https://arxiv.org/pdf/1810.04805.pdf)\n",
    "- [To Tune or Not to Tune? Adapting Pretrained Representations to Diverse Tasks](https://www.aclweb.org/anthology/W19-4302/)\n",
    "- [GLUE: A Multi-Task Benchmark and Analysis Platform for Natural Language Understanding](https://arxiv.org/pdf/1804.07461.pdf)\n",
    "- [What Does BERT Look At? An Analysis of BERT's Attention](https://arxiv.org/abs/1906.04341)\n",
    "- [RoBERTa: A Robustly Optimized BERT Pretraining Approach](https://arxiv.org/pdf/1907.11692.pdf)\n",
    "- [BART: Denoising Sequence-to-Sequence Pre-training for Natural Language Generation, Translation, and Comprehension](https://arxiv.org/abs/1910.13461)\n",
    "- [Exploring the Limits of Transfer Learning with a Unified Text-to-Text Transformer](https://arxiv.org/pdf/1910.10683.pdf)\n",
    "- [UnifiedQA: Crossing Format Boundaries With a Single QA System](https://arxiv.org/abs/2005.00700)\n",
    "- [Neural Machine Translation of Rare Words with Subword Units](https://arxiv.org/pdf/1508.07909.pdf)\n",
    "- [Byte Pair Encoding is Suboptimal for Language Model Pretraining](https://arxiv.org/pdf/2004.03720.pdf)\n",
    "- [Eisenstein 8.1](https://github.com/jacobeisenstein/gt-nlp-class/blob/master/notes/eisenstein-nlp-notes.pdf)\n",
    "- [Eisenstein 7.1](https://github.com/jacobeisenstein/gt-nlp-class/blob/master/notes/eisenstein-nlp-notes.pdf)\n",
    "- [Eisenstein 7.4](https://github.com/jacobeisenstein/gt-nlp-class/blob/master/notes/eisenstein-nlp-notes.pdf)\n",
    "- [Eisenstein 7.4.1](https://github.com/jacobeisenstein/gt-nlp-class/blob/master/notes/eisenstein-nlp-notes.pdf)\n",
    "- [Eisenstein 7.3](https://github.com/jacobeisenstein/gt-nlp-class/blob/master/notes/eisenstein-nlp-notes.pdf)\n",
    "- [TnT - A Statistical Part-of-Speech Tagger](https://arxiv.org/abs/cs/0003055)\n",
    "- [Enriching the Knowledge Sources Used in a Maximum Entropy Part-of-Speech Tagger](https://www.aclweb.org/anthology/W00-1308/)\n",
    "- [Part-of-Speech Tagging from 97% to 100%: Is It Time for Some Linguistics?](https://link.springer.com/chapter/10.1007/978-3-642-19400-9_14)\n",
    "- [Natural Language Processing with Small Feed-Forward Networks](https://www.aclweb.org/anthology/D17-1309.pdf)\n",
    "- [Eisenstein 10.1-10.2](https://github.com/jacobeisenstein/gt-nlp-class/blob/master/notes/eisenstein-nlp-notes.pdf)\n",
    "- [Eisenstein 10.3-10.4](https://github.com/jacobeisenstein/gt-nlp-class/blob/master/notes/eisenstein-nlp-notes.pdf)\n",
    "- [Eisenstein 10.3.1](https://github.com/jacobeisenstein/gt-nlp-class/blob/master/notes/eisenstein-nlp-notes.pdf)\n",
    "- [Accurate Unlexicalized Parsing](https://www.aclweb.org/anthology/P03-1054/)\n",
    "- [Eisenstein 10.5](https://github.com/jacobeisenstein/gt-nlp-class/blob/master/notes/eisenstein-nlp-notes.pdf)\n",
    "- [Eisenstein 11.1](https://github.com/jacobeisenstein/gt-nlp-class/blob/master/notes/eisenstein-nlp-notes.pdf)\n",
    "- [Finding Optimal 1-Endpoint-Crossing Trees](https://www.aclweb.org/anthology/Q13-1002/)\n",
    "- [Eisenstein 11.3](https://github.com/jacobeisenstein/gt-nlp-class/blob/master/notes/eisenstein-nlp-notes.pdf)\n"
   ]
  },
  {
   "cell_type": "markdown",
   "id": "9d2967b6",
   "metadata": {},
   "source": [
    "*Links only; we do not redistribute slides or papers.*"
   ]
  }
 ],
 "metadata": {
  "language_info": {
   "codemirror_mode": {
    "name": "ipython",
    "version": 3
   },
   "file_extension": ".py",
   "mimetype": "text/x-python",
   "name": "python",
   "nbconvert_exporter": "python",
   "pygments_lexer": "ipython3",
   "version": "3.9.6"
  }
 },
 "nbformat": 4,
 "nbformat_minor": 5
}
