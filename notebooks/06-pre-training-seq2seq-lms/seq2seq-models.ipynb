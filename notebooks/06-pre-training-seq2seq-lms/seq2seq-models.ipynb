{
 "cells": [
  {
   "cell_type": "markdown",
   "id": "98527da8",
   "metadata": {},
   "source": [
    "# Seq2seq Models\n",
    "\n",
    "- 📺 **Video:** [https://youtu.be/TKZkvqb-qpM](https://youtu.be/TKZkvqb-qpM)"
   ]
  },
  {
   "cell_type": "markdown",
   "id": "ad894eaa",
   "metadata": {},
   "source": [
    "## Overview\n",
    "- Review encoder-decoder architectures with attention for sequence transduction.\n",
    "- Understand teacher forcing, decoding, and beam search in seq2seq training."
   ]
  },
  {
   "cell_type": "markdown",
   "id": "934d25dc",
   "metadata": {},
   "source": [
    "## Key ideas\n",
    "- **Encoder RNN:** summarizes source sequence into hidden states.\n",
    "- **Attention mechanism:** lets the decoder focus on relevant encoder positions.\n",
    "- **Teacher forcing:** feed ground-truth outputs during training for stability.\n",
    "- **Exposure bias:** mismatch between training and inference motivates scheduled sampling."
   ]
  },
  {
   "cell_type": "markdown",
   "id": "397d93f0",
   "metadata": {},
   "source": [
    "## Demo\n",
    "Train a tiny seq2seq model with additive attention to reverse character sequences, paralleling the lecture (https://youtu.be/j2qJdDno7i4)."
   ]
  },
  {
   "cell_type": "code",
   "execution_count": 1,
   "id": "a1bedf42",
   "metadata": {
    "execution": {
     "iopub.execute_input": "2025-10-29T01:32:08.214898Z",
     "iopub.status.busy": "2025-10-29T01:32:08.214408Z",
     "iopub.status.idle": "2025-10-29T01:32:09.838324Z",
     "shell.execute_reply": "2025-10-29T01:32:09.838048Z"
    }
   },
   "outputs": [
    {
     "name": "stdout",
     "output_type": "stream",
     "text": [
      "epoch  50 | loss 0.1732\n",
      "epoch 100 | loss 0.0224\n",
      "epoch 150 | loss 0.0106\n",
      "epoch 200 | loss 0.0066\n",
      "Input ab -> predicted ba\n",
      "Input abc -> predicted cba\n",
      "Input bcd -> predicted dcb\n"
     ]
    }
   ],
   "source": [
    "import torch\n",
    "from torch import nn\n",
    "\n",
    "vocab = ['<pad>', '<s>', '</s>'] + list('abcd')\n",
    "char_to_id = {c: i for i, c in enumerate(vocab)}\n",
    "\n",
    "pairs = [('ab', 'ba'), ('abc', 'cba'), ('bcd', 'dcb')]\n",
    "\n",
    "max_len = 5\n",
    "def encode(seq, start=False, end=False):\n",
    "    tokens = []\n",
    "    if start:\n",
    "        tokens.append(char_to_id['<s>'])\n",
    "    tokens.extend(char_to_id[c] for c in seq)\n",
    "    if end:\n",
    "        tokens.append(char_to_id['</s>'])\n",
    "    tokens += [char_to_id['<pad>']] * (max_len - len(tokens))\n",
    "    return tokens\n",
    "\n",
    "src = torch.tensor([encode(s) for s, _ in pairs])\n",
    "tgt = torch.tensor([encode(t, start=True, end=True) for _, t in pairs])\n",
    "\n",
    "d_model = 16\n",
    "encoder = nn.GRU(input_size=d_model, hidden_size=d_model, batch_first=True)\n",
    "decoder = nn.GRU(input_size=d_model, hidden_size=d_model, batch_first=True)\n",
    "emb = nn.Embedding(len(vocab), d_model)\n",
    "attn = nn.Linear(d_model * 2, d_model)\n",
    "out = nn.Linear(d_model, len(vocab))\n",
    "criterion = nn.CrossEntropyLoss(ignore_index=char_to_id['<pad>'])\n",
    "optimizer = torch.optim.Adam(list(encoder.parameters()) + list(decoder.parameters()) + list(emb.parameters()) + list(attn.parameters()) + list(out.parameters()), lr=5e-3)\n",
    "\n",
    "for epoch in range(1, 201):\n",
    "    src_emb = emb(src)\n",
    "    _, hidden = encoder(src_emb)\n",
    "    decoder_input = emb(tgt[:, :-1])\n",
    "    outputs, _ = decoder(decoder_input, hidden)\n",
    "    context = hidden.transpose(0, 1).repeat(1, outputs.size(1), 1)\n",
    "    combined = torch.tanh(attn(torch.cat([outputs, context], dim=-1)))\n",
    "    logits = out(combined)\n",
    "    loss = criterion(logits.reshape(-1, len(vocab)), tgt[:, 1:].reshape(-1))\n",
    "    optimizer.zero_grad()\n",
    "    loss.backward()\n",
    "    optimizer.step()\n",
    "    if epoch % 50 == 0:\n",
    "        print(f\"epoch {epoch:3d} | loss {loss.item():.4f}\")\n",
    "\n",
    "with torch.no_grad():\n",
    "    src_emb = emb(src)\n",
    "    _, hidden = encoder(src_emb)\n",
    "    decoder_input = torch.tensor([[char_to_id['<s>']]] * len(pairs))\n",
    "    outputs = []\n",
    "    for _ in range(max_len - 1):\n",
    "        emb_in = emb(decoder_input)\n",
    "        o, hidden = decoder(emb_in, hidden)\n",
    "        context = hidden.transpose(0, 1)\n",
    "        combined = torch.tanh(attn(torch.cat([o, context], dim=-1)))\n",
    "        logits = out(combined.squeeze(1))\n",
    "        next_token = logits.argmax(dim=-1)\n",
    "        outputs.append(next_token)\n",
    "        decoder_input = next_token.unsqueeze(1)\n",
    "    decoded = torch.stack(outputs, dim=1)\n",
    "    inv_vocab = {idx: ch for ch, idx in char_to_id.items()}\n",
    "    for i, (src_seq, tgt_seq) in enumerate(pairs):\n",
    "        pred = ''.join(inv_vocab[idx.item()] for idx in decoded[i] if idx.item() > 2)\n",
    "        print(f\"Input {src_seq} -> predicted {pred}\")\n"
   ]
  },
  {
   "cell_type": "markdown",
   "id": "1e0ee64a",
   "metadata": {},
   "source": [
    "## Try it\n",
    "- Modify the demo\n",
    "- Add a tiny dataset or counter-example\n"
   ]
  },
  {
   "cell_type": "markdown",
   "id": "1cdfb69c",
   "metadata": {},
   "source": [
    "## References\n",
    "- [BERT: Pre-training of Deep Bidirectional Transformers for Language Understanding](https://arxiv.org/pdf/1810.04805.pdf)\n",
    "- [BERT: Pre-training of Deep Bidirectional Transformers for Language Understanding](https://arxiv.org/pdf/1810.04805.pdf)\n",
    "- [To Tune or Not to Tune? Adapting Pretrained Representations to Diverse Tasks](https://www.aclweb.org/anthology/W19-4302/)\n",
    "- [GLUE: A Multi-Task Benchmark and Analysis Platform for Natural Language Understanding](https://arxiv.org/pdf/1804.07461.pdf)\n",
    "- [What Does BERT Look At? An Analysis of BERT's Attention](https://arxiv.org/abs/1906.04341)\n",
    "- [RoBERTa: A Robustly Optimized BERT Pretraining Approach](https://arxiv.org/pdf/1907.11692.pdf)\n",
    "- [BART: Denoising Sequence-to-Sequence Pre-training for Natural Language Generation, Translation, and Comprehension](https://arxiv.org/abs/1910.13461)\n",
    "- [Exploring the Limits of Transfer Learning with a Unified Text-to-Text Transformer](https://arxiv.org/pdf/1910.10683.pdf)\n",
    "- [UnifiedQA: Crossing Format Boundaries With a Single QA System](https://arxiv.org/abs/2005.00700)\n",
    "- [Neural Machine Translation of Rare Words with Subword Units](https://arxiv.org/pdf/1508.07909.pdf)\n",
    "- [Byte Pair Encoding is Suboptimal for Language Model Pretraining](https://arxiv.org/pdf/2004.03720.pdf)\n",
    "- [Eisenstein 8.1](https://github.com/jacobeisenstein/gt-nlp-class/blob/master/notes/eisenstein-nlp-notes.pdf)\n",
    "- [Eisenstein 7.1](https://github.com/jacobeisenstein/gt-nlp-class/blob/master/notes/eisenstein-nlp-notes.pdf)\n",
    "- [Eisenstein 7.4](https://github.com/jacobeisenstein/gt-nlp-class/blob/master/notes/eisenstein-nlp-notes.pdf)\n",
    "- [Eisenstein 7.4.1](https://github.com/jacobeisenstein/gt-nlp-class/blob/master/notes/eisenstein-nlp-notes.pdf)\n",
    "- [Eisenstein 7.3](https://github.com/jacobeisenstein/gt-nlp-class/blob/master/notes/eisenstein-nlp-notes.pdf)\n",
    "- [TnT - A Statistical Part-of-Speech Tagger](https://arxiv.org/abs/cs/0003055)\n",
    "- [Enriching the Knowledge Sources Used in a Maximum Entropy Part-of-Speech Tagger](https://www.aclweb.org/anthology/W00-1308/)\n",
    "- [Part-of-Speech Tagging from 97% to 100%: Is It Time for Some Linguistics?](https://link.springer.com/chapter/10.1007/978-3-642-19400-9_14)\n",
    "- [Natural Language Processing with Small Feed-Forward Networks](https://www.aclweb.org/anthology/D17-1309.pdf)\n",
    "- [Eisenstein 10.1-10.2](https://github.com/jacobeisenstein/gt-nlp-class/blob/master/notes/eisenstein-nlp-notes.pdf)\n",
    "- [Eisenstein 10.3-10.4](https://github.com/jacobeisenstein/gt-nlp-class/blob/master/notes/eisenstein-nlp-notes.pdf)\n",
    "- [Eisenstein 10.3.1](https://github.com/jacobeisenstein/gt-nlp-class/blob/master/notes/eisenstein-nlp-notes.pdf)\n",
    "- [Accurate Unlexicalized Parsing](https://www.aclweb.org/anthology/P03-1054/)\n",
    "- [Eisenstein 10.5](https://github.com/jacobeisenstein/gt-nlp-class/blob/master/notes/eisenstein-nlp-notes.pdf)\n",
    "- [Eisenstein 11.1](https://github.com/jacobeisenstein/gt-nlp-class/blob/master/notes/eisenstein-nlp-notes.pdf)\n",
    "- [Finding Optimal 1-Endpoint-Crossing Trees](https://www.aclweb.org/anthology/Q13-1002/)\n",
    "- [Eisenstein 11.3](https://github.com/jacobeisenstein/gt-nlp-class/blob/master/notes/eisenstein-nlp-notes.pdf)\n"
   ]
  },
  {
   "cell_type": "markdown",
   "id": "bd359999",
   "metadata": {},
   "source": [
    "*Links only; we do not redistribute slides or papers.*"
   ]
  }
 ],
 "metadata": {
  "language_info": {
   "codemirror_mode": {
    "name": "ipython",
    "version": 3
   },
   "file_extension": ".py",
   "mimetype": "text/x-python",
   "name": "python",
   "nbconvert_exporter": "python",
   "pygments_lexer": "ipython3",
   "version": "3.9.6"
  }
 },
 "nbformat": 4,
 "nbformat_minor": 5
}
