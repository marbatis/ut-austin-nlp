{
 "cells": [
  {
   "cell_type": "markdown",
   "id": "b750fc55",
   "metadata": {},
   "source": [
    "# Refining Grammars\n",
    "\n",
    "- 📺 **Video:** [https://youtu.be/f1o1_bPWzM0](https://youtu.be/f1o1_bPWzM0)"
   ]
  },
  {
   "cell_type": "markdown",
   "id": "1ab0ec2f",
   "metadata": {},
   "source": [
    "## Overview\n",
    "- Improve PCFG accuracy by refining nonterminals with subcategories or split-merge operations.\n",
    "- Capture lexical or contextual distinctions otherwise conflated."
   ]
  },
  {
   "cell_type": "markdown",
   "id": "d502986d",
   "metadata": {},
   "source": [
    "## Key ideas\n",
    "- **Vertical splitting:** differentiate nonterminals based on parent context.\n",
    "- **Horizontal splitting:** distinguish productions based on lexical heads.\n",
    "- **Merge step:** collapse splits that do not improve likelihood.\n",
    "- **Latent annotations:** automatically discover refinements via EM."
   ]
  },
  {
   "cell_type": "markdown",
   "id": "265d8043",
   "metadata": {},
   "source": [
    "## Demo\n",
    "Split NP into subject/object subclasses, recompute rule probabilities, and show how the preferred parse changes as in the lecture (https://youtu.be/xYjaCB1WH6I)."
   ]
  },
  {
   "cell_type": "code",
   "execution_count": 1,
   "id": "b7e0b301",
   "metadata": {
    "execution": {
     "iopub.execute_input": "2025-10-29T01:32:07.551326Z",
     "iopub.status.busy": "2025-10-29T01:32:07.551072Z",
     "iopub.status.idle": "2025-10-29T01:32:07.572542Z",
     "shell.execute_reply": "2025-10-29T01:32:07.572103Z"
    }
   },
   "outputs": [
    {
     "name": "stdout",
     "output_type": "stream",
     "text": [
      "Base parse probability: 0.15\n",
      "Refined parse probability: 0.105\n",
      "Refinement increases score by factor: 0.7\n"
     ]
    }
   ],
   "source": [
    "base_rules = {\n",
    "    ('S', ('NP', 'VP')): 1.0,\n",
    "    ('VP', ('V', 'NP')): 0.6,\n",
    "    ('VP', ('VP', 'PP')): 0.4,\n",
    "    ('NP', ('Det', 'N')): 1.0,\n",
    "    ('PP', ('P', 'NP')): 1.0\n",
    "}\n",
    "lexicon = {\n",
    "    ('Det', 'the'): 1.0,\n",
    "    ('N', 'cat'): 0.5,\n",
    "    ('N', 'mat'): 0.5,\n",
    "    ('V', 'sat'): 1.0,\n",
    "    ('P', 'on'): 1.0\n",
    "}\n",
    "\n",
    "refined_rules = {\n",
    "    ('S', ('NP_subj', 'VP')): 0.6,\n",
    "    ('S', ('NP_obj', 'VP')): 0.4,\n",
    "    ('VP', ('V', 'NP_obj')): 0.7,\n",
    "    ('VP', ('VP', 'PP')): 0.3,\n",
    "    ('NP_subj', ('Det', 'N')): 1.0,\n",
    "    ('NP_obj', ('Det', 'N')): 1.0,\n",
    "    ('PP', ('P', 'NP_obj')): 1.0\n",
    "}\n",
    "\n",
    "sentence_parse = ('S', ('NP_subj', ('Det', 'the'), ('N', 'cat')), ('VP', ('V', 'sat'), ('PP', ('P', 'on'), ('NP_obj', ('Det', 'the'), ('N', 'mat')))))\n",
    "\n",
    "base_prob = base_rules[('S', ('NP', 'VP'))] * base_rules[('NP', ('Det', 'N'))] * lexicon[('Det', 'the')] * lexicon[('N', 'cat')] * base_rules[('VP', ('V', 'NP'))] * lexicon[('V', 'sat')] * base_rules[('NP', ('Det', 'N'))] * lexicon[('Det', 'the')] * lexicon[('N', 'mat')] * base_rules[('PP', ('P', 'NP'))] * lexicon[('P', 'on')] * base_rules[('NP', ('Det', 'N'))]\n",
    "refined_prob = refined_rules[('S', ('NP_subj', 'VP'))] * refined_rules[('NP_subj', ('Det', 'N'))] * lexicon[('Det', 'the')] * lexicon[('N', 'cat')] * refined_rules[('VP', ('V', 'NP_obj'))] * lexicon[('V', 'sat')] * refined_rules[('NP_obj', ('Det', 'N'))] * lexicon[('Det', 'the')] * lexicon[('N', 'mat')] * refined_rules[('PP', ('P', 'NP_obj'))] * lexicon[('P', 'on')] * refined_rules[('NP_obj', ('Det', 'N'))]\n",
    "\n",
    "print('Base parse probability:', base_prob)\n",
    "print('Refined parse probability:', refined_prob)\n",
    "print('Refinement increases score by factor:', refined_prob / base_prob)\n"
   ]
  },
  {
   "cell_type": "markdown",
   "id": "baa0c4c8",
   "metadata": {},
   "source": [
    "## Try it\n",
    "- Modify the demo\n",
    "- Add a tiny dataset or counter-example\n"
   ]
  },
  {
   "cell_type": "markdown",
   "id": "e5b03a24",
   "metadata": {},
   "source": [
    "## References\n",
    "- [BERT: Pre-training of Deep Bidirectional Transformers for Language Understanding](https://arxiv.org/pdf/1810.04805.pdf)\n",
    "- [BERT: Pre-training of Deep Bidirectional Transformers for Language Understanding](https://arxiv.org/pdf/1810.04805.pdf)\n",
    "- [To Tune or Not to Tune? Adapting Pretrained Representations to Diverse Tasks](https://www.aclweb.org/anthology/W19-4302/)\n",
    "- [GLUE: A Multi-Task Benchmark and Analysis Platform for Natural Language Understanding](https://arxiv.org/pdf/1804.07461.pdf)\n",
    "- [What Does BERT Look At? An Analysis of BERT's Attention](https://arxiv.org/abs/1906.04341)\n",
    "- [RoBERTa: A Robustly Optimized BERT Pretraining Approach](https://arxiv.org/pdf/1907.11692.pdf)\n",
    "- [BART: Denoising Sequence-to-Sequence Pre-training for Natural Language Generation, Translation, and Comprehension](https://arxiv.org/abs/1910.13461)\n",
    "- [Exploring the Limits of Transfer Learning with a Unified Text-to-Text Transformer](https://arxiv.org/pdf/1910.10683.pdf)\n",
    "- [UnifiedQA: Crossing Format Boundaries With a Single QA System](https://arxiv.org/abs/2005.00700)\n",
    "- [Neural Machine Translation of Rare Words with Subword Units](https://arxiv.org/pdf/1508.07909.pdf)\n",
    "- [Byte Pair Encoding is Suboptimal for Language Model Pretraining](https://arxiv.org/pdf/2004.03720.pdf)\n",
    "- [Eisenstein 8.1](https://github.com/jacobeisenstein/gt-nlp-class/blob/master/notes/eisenstein-nlp-notes.pdf)\n",
    "- [Eisenstein 7.1](https://github.com/jacobeisenstein/gt-nlp-class/blob/master/notes/eisenstein-nlp-notes.pdf)\n",
    "- [Eisenstein 7.4](https://github.com/jacobeisenstein/gt-nlp-class/blob/master/notes/eisenstein-nlp-notes.pdf)\n",
    "- [Eisenstein 7.4.1](https://github.com/jacobeisenstein/gt-nlp-class/blob/master/notes/eisenstein-nlp-notes.pdf)\n",
    "- [Eisenstein 7.3](https://github.com/jacobeisenstein/gt-nlp-class/blob/master/notes/eisenstein-nlp-notes.pdf)\n",
    "- [TnT - A Statistical Part-of-Speech Tagger](https://arxiv.org/abs/cs/0003055)\n",
    "- [Enriching the Knowledge Sources Used in a Maximum Entropy Part-of-Speech Tagger](https://www.aclweb.org/anthology/W00-1308/)\n",
    "- [Part-of-Speech Tagging from 97% to 100%: Is It Time for Some Linguistics?](https://link.springer.com/chapter/10.1007/978-3-642-19400-9_14)\n",
    "- [Natural Language Processing with Small Feed-Forward Networks](https://www.aclweb.org/anthology/D17-1309.pdf)\n",
    "- [Eisenstein 10.1-10.2](https://github.com/jacobeisenstein/gt-nlp-class/blob/master/notes/eisenstein-nlp-notes.pdf)\n",
    "- [Eisenstein 10.3-10.4](https://github.com/jacobeisenstein/gt-nlp-class/blob/master/notes/eisenstein-nlp-notes.pdf)\n",
    "- [Eisenstein 10.3.1](https://github.com/jacobeisenstein/gt-nlp-class/blob/master/notes/eisenstein-nlp-notes.pdf)\n",
    "- [Accurate Unlexicalized Parsing](https://www.aclweb.org/anthology/P03-1054/)\n",
    "- [Eisenstein 10.5](https://github.com/jacobeisenstein/gt-nlp-class/blob/master/notes/eisenstein-nlp-notes.pdf)\n",
    "- [Eisenstein 11.1](https://github.com/jacobeisenstein/gt-nlp-class/blob/master/notes/eisenstein-nlp-notes.pdf)\n",
    "- [Finding Optimal 1-Endpoint-Crossing Trees](https://www.aclweb.org/anthology/Q13-1002/)\n",
    "- [Eisenstein 11.3](https://github.com/jacobeisenstein/gt-nlp-class/blob/master/notes/eisenstein-nlp-notes.pdf)\n"
   ]
  },
  {
   "cell_type": "markdown",
   "id": "6a5c21e5",
   "metadata": {},
   "source": [
    "*Links only; we do not redistribute slides or papers.*"
   ]
  }
 ],
 "metadata": {
  "language_info": {
   "codemirror_mode": {
    "name": "ipython",
    "version": 3
   },
   "file_extension": ".py",
   "mimetype": "text/x-python",
   "name": "python",
   "nbconvert_exporter": "python",
   "pygments_lexer": "ipython3",
   "version": "3.9.6"
  }
 },
 "nbformat": 4,
 "nbformat_minor": 5
}
