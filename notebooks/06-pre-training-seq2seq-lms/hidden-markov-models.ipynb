{
 "cells": [
  {
   "cell_type": "markdown",
   "id": "f004199d",
   "metadata": {},
   "source": [
    "# Hidden Markov Models\n",
    "\n",
    "- 📺 **Video:** [https://youtu.be/FeLtLLbn4qU](https://youtu.be/FeLtLLbn4qU)"
   ]
  },
  {
   "cell_type": "markdown",
   "id": "83340196",
   "metadata": {},
   "source": [
    "## Overview\n",
    "- Introduce hidden Markov models (HMMs) as probabilistic automata for sequence data.\n",
    "- Connect latent state sequences to observable emissions via transition and emission matrices."
   ]
  },
  {
   "cell_type": "markdown",
   "id": "06f33e85",
   "metadata": {},
   "source": [
    "## Key ideas\n",
    "- **Markov property:** next state depends only on the current state.\n",
    "- **Emission model:** each hidden state produces observable tokens.\n",
    "- **Joint probability:** combine transitions and emissions over the sequence.\n",
    "- **Inference:** use forward or Viterbi algorithms to marginalize or decode states."
   ]
  },
  {
   "cell_type": "markdown",
   "id": "683d7703",
   "metadata": {},
   "source": [
    "## Demo\n",
    "Compute the forward probabilities for a two-state HMM on a short observation sequence, mirroring the lecture (https://youtu.be/QQpjDk40Tqg)."
   ]
  },
  {
   "cell_type": "code",
   "execution_count": 1,
   "id": "e360fdf6",
   "metadata": {
    "execution": {
     "iopub.execute_input": "2025-10-29T01:32:01.539497Z",
     "iopub.status.busy": "2025-10-29T01:32:01.539115Z",
     "iopub.status.idle": "2025-10-29T01:32:01.611763Z",
     "shell.execute_reply": "2025-10-29T01:32:01.610285Z"
    }
   },
   "outputs": [
    {
     "name": "stdout",
     "output_type": "stream",
     "text": [
      "Alpha step 0: [0.06 0.24]\n",
      "Alpha step 1: [0.0552 0.0486]\n",
      "Alpha step 2: [0.02904  0.004572]\n",
      "\n",
      "Total probability: 0.033611999999999996\n"
     ]
    }
   ],
   "source": [
    "import numpy as np\n",
    "\n",
    "states = ['Rainy', 'Sunny']\n",
    "obs = ['walk', 'shop', 'clean']\n",
    "start = np.array([0.6, 0.4])\n",
    "trans = np.array([[0.7, 0.3], [0.4, 0.6]])\n",
    "emiss = np.array([[0.1, 0.4, 0.5], [0.6, 0.3, 0.1]])\n",
    "sequence = ['walk', 'shop', 'clean']\n",
    "\n",
    "obs_index = {w: i for i, w in enumerate(obs)}\n",
    "alpha = start * emiss[:, obs_index[sequence[0]]]\n",
    "print('Alpha step 0:', alpha)\n",
    "\n",
    "for t in range(1, len(sequence)):\n",
    "    emit = emiss[:, obs_index[sequence[t]]]\n",
    "    alpha = emit * (trans.T @ alpha)\n",
    "    print(f'Alpha step {t}:', alpha)\n",
    "\n",
    "print()\n",
    "print('Total probability:', alpha.sum())\n"
   ]
  },
  {
   "cell_type": "markdown",
   "id": "6bd989f1",
   "metadata": {},
   "source": [
    "## Try it\n",
    "- Modify the demo\n",
    "- Add a tiny dataset or counter-example\n"
   ]
  },
  {
   "cell_type": "markdown",
   "id": "004feb63",
   "metadata": {},
   "source": [
    "## References\n",
    "- [BERT: Pre-training of Deep Bidirectional Transformers for Language Understanding](https://arxiv.org/pdf/1810.04805.pdf)\n",
    "- [BERT: Pre-training of Deep Bidirectional Transformers for Language Understanding](https://arxiv.org/pdf/1810.04805.pdf)\n",
    "- [To Tune or Not to Tune? Adapting Pretrained Representations to Diverse Tasks](https://www.aclweb.org/anthology/W19-4302/)\n",
    "- [GLUE: A Multi-Task Benchmark and Analysis Platform for Natural Language Understanding](https://arxiv.org/pdf/1804.07461.pdf)\n",
    "- [What Does BERT Look At? An Analysis of BERT's Attention](https://arxiv.org/abs/1906.04341)\n",
    "- [RoBERTa: A Robustly Optimized BERT Pretraining Approach](https://arxiv.org/pdf/1907.11692.pdf)\n",
    "- [BART: Denoising Sequence-to-Sequence Pre-training for Natural Language Generation, Translation, and Comprehension](https://arxiv.org/abs/1910.13461)\n",
    "- [Exploring the Limits of Transfer Learning with a Unified Text-to-Text Transformer](https://arxiv.org/pdf/1910.10683.pdf)\n",
    "- [UnifiedQA: Crossing Format Boundaries With a Single QA System](https://arxiv.org/abs/2005.00700)\n",
    "- [Neural Machine Translation of Rare Words with Subword Units](https://arxiv.org/pdf/1508.07909.pdf)\n",
    "- [Byte Pair Encoding is Suboptimal for Language Model Pretraining](https://arxiv.org/pdf/2004.03720.pdf)\n",
    "- [Eisenstein 8.1](https://github.com/jacobeisenstein/gt-nlp-class/blob/master/notes/eisenstein-nlp-notes.pdf)\n",
    "- [Eisenstein 7.1](https://github.com/jacobeisenstein/gt-nlp-class/blob/master/notes/eisenstein-nlp-notes.pdf)\n",
    "- [Eisenstein 7.4](https://github.com/jacobeisenstein/gt-nlp-class/blob/master/notes/eisenstein-nlp-notes.pdf)\n",
    "- [Eisenstein 7.4.1](https://github.com/jacobeisenstein/gt-nlp-class/blob/master/notes/eisenstein-nlp-notes.pdf)\n",
    "- [Eisenstein 7.3](https://github.com/jacobeisenstein/gt-nlp-class/blob/master/notes/eisenstein-nlp-notes.pdf)\n",
    "- [TnT - A Statistical Part-of-Speech Tagger](https://arxiv.org/abs/cs/0003055)\n",
    "- [Enriching the Knowledge Sources Used in a Maximum Entropy Part-of-Speech Tagger](https://www.aclweb.org/anthology/W00-1308/)\n",
    "- [Part-of-Speech Tagging from 97% to 100%: Is It Time for Some Linguistics?](https://link.springer.com/chapter/10.1007/978-3-642-19400-9_14)\n",
    "- [Natural Language Processing with Small Feed-Forward Networks](https://www.aclweb.org/anthology/D17-1309.pdf)\n",
    "- [Eisenstein 10.1-10.2](https://github.com/jacobeisenstein/gt-nlp-class/blob/master/notes/eisenstein-nlp-notes.pdf)\n",
    "- [Eisenstein 10.3-10.4](https://github.com/jacobeisenstein/gt-nlp-class/blob/master/notes/eisenstein-nlp-notes.pdf)\n",
    "- [Eisenstein 10.3.1](https://github.com/jacobeisenstein/gt-nlp-class/blob/master/notes/eisenstein-nlp-notes.pdf)\n",
    "- [Accurate Unlexicalized Parsing](https://www.aclweb.org/anthology/P03-1054/)\n",
    "- [Eisenstein 10.5](https://github.com/jacobeisenstein/gt-nlp-class/blob/master/notes/eisenstein-nlp-notes.pdf)\n",
    "- [Eisenstein 11.1](https://github.com/jacobeisenstein/gt-nlp-class/blob/master/notes/eisenstein-nlp-notes.pdf)\n",
    "- [Finding Optimal 1-Endpoint-Crossing Trees](https://www.aclweb.org/anthology/Q13-1002/)\n",
    "- [Eisenstein 11.3](https://github.com/jacobeisenstein/gt-nlp-class/blob/master/notes/eisenstein-nlp-notes.pdf)\n"
   ]
  },
  {
   "cell_type": "markdown",
   "id": "c8310e32",
   "metadata": {},
   "source": [
    "*Links only; we do not redistribute slides or papers.*"
   ]
  }
 ],
 "metadata": {
  "language_info": {
   "codemirror_mode": {
    "name": "ipython",
    "version": 3
   },
   "file_extension": ".py",
   "mimetype": "text/x-python",
   "name": "python",
   "nbconvert_exporter": "python",
   "pygments_lexer": "ipython3",
   "version": "3.9.6"
  }
 },
 "nbformat": 4,
 "nbformat_minor": 5
}
