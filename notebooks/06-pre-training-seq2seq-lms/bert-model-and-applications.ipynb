{
 "cells": [
  {
   "cell_type": "markdown",
   "id": "8101f54c",
   "metadata": {},
   "source": [
    "# BERT: Model and Applications\n",
    "\n",
    "- 📺 **Video:** [https://youtu.be/g96oi4ihc_E](https://youtu.be/g96oi4ihc_E)"
   ]
  },
  {
   "cell_type": "markdown",
   "id": "c4be7818",
   "metadata": {},
   "source": [
    "## Overview\n",
    "- Understand BERT's encoder architecture and how to fine-tune it for classification, QA, or tagging.\n",
    "- Explore the [CLS] pooling strategy for sentence-level tasks."
   ]
  },
  {
   "cell_type": "markdown",
   "id": "adb26f6c",
   "metadata": {},
   "source": [
    "## Key ideas\n",
    "- **Stacked self-attention:** bidirectional layers contextualize every token.\n",
    "- **[CLS] token:** acts as aggregate representation for classification heads.\n",
    "- **Fine-tuning:** attach task-specific layers and update all weights.\n",
    "- **Transfer:** pre-training dramatically reduces labeled data requirements."
   ]
  },
  {
   "cell_type": "markdown",
   "id": "ac66065f",
   "metadata": {},
   "source": [
    "## Demo\n",
    "Warm-start a miniature transformer encoder and attach a classifier head to separate positive/negative sentences, echoing the lecture (https://youtu.be/oD2jPreLz1o)."
   ]
  },
  {
   "cell_type": "code",
   "execution_count": 1,
   "id": "3ced0c32",
   "metadata": {
    "execution": {
     "iopub.execute_input": "2025-10-29T01:31:57.117060Z",
     "iopub.status.busy": "2025-10-29T01:31:57.116785Z",
     "iopub.status.idle": "2025-10-29T01:31:58.256210Z",
     "shell.execute_reply": "2025-10-29T01:31:58.255903Z"
    }
   },
   "outputs": [
    {
     "name": "stdout",
     "output_type": "stream",
     "text": [
      "epoch 15 | loss 0.0120 | acc 1.00\n",
      "epoch 30 | loss 0.0034 | acc 1.00\n",
      "epoch 45 | loss 0.0020 | acc 1.00\n",
      "epoch 60 | loss 0.0012 | acc 1.00\n"
     ]
    }
   ],
   "source": [
    "import torch\n",
    "from torch import nn\n",
    "\n",
    "sentences = [\n",
    "    ['[CLS]', 'great', 'film', '[SEP]'],\n",
    "    ['[CLS]', 'boring', 'plot', '[SEP]'],\n",
    "    ['[CLS]', 'wonderful', 'acting', '[SEP]'],\n",
    "    ['[CLS]', 'dull', 'story', '[SEP]']\n",
    "]\n",
    "labels = torch.tensor([1, 0, 1, 0])\n",
    "\n",
    "vocab = {token for sent in sentences for token in sent}\n",
    "word_to_id = {w: i for i, w in enumerate(sorted(vocab))}\n",
    "inputs = torch.tensor([[word_to_id[w] for w in sent] for sent in sentences])\n",
    "\n",
    "embedding = nn.Embedding(len(vocab), 24)\n",
    "encoder_layer = nn.TransformerEncoderLayer(d_model=24, nhead=4, dim_feedforward=48, batch_first=True)\n",
    "encoder = nn.TransformerEncoder(encoder_layer, num_layers=2)\n",
    "classifier = nn.Sequential(nn.LayerNorm(24), nn.Linear(24, 2))\n",
    "criterion = nn.CrossEntropyLoss()\n",
    "optimizer = torch.optim.Adam(list(embedding.parameters()) + list(encoder.parameters()) + list(classifier.parameters()), lr=5e-3)\n",
    "\n",
    "for epoch in range(1, 61):\n",
    "    hidden = embedding(inputs)\n",
    "    encoded = encoder(hidden)\n",
    "    logits = classifier(encoded[:, 0])\n",
    "    loss = criterion(logits, labels)\n",
    "    optimizer.zero_grad()\n",
    "    loss.backward()\n",
    "    optimizer.step()\n",
    "    if epoch % 15 == 0:\n",
    "        preds = logits.argmax(dim=-1)\n",
    "        acc = (preds == labels).float().mean().item()\n",
    "        print(f\"epoch {epoch:2d} | loss {loss.item():.4f} | acc {acc:.2f}\")\n"
   ]
  },
  {
   "cell_type": "markdown",
   "id": "a237ef1b",
   "metadata": {},
   "source": [
    "## Try it\n",
    "- Modify the demo\n",
    "- Add a tiny dataset or counter-example\n"
   ]
  },
  {
   "cell_type": "markdown",
   "id": "2731e1ce",
   "metadata": {},
   "source": [
    "## References\n",
    "- [BERT: Pre-training of Deep Bidirectional Transformers for Language Understanding](https://arxiv.org/pdf/1810.04805.pdf)\n",
    "- [BERT: Pre-training of Deep Bidirectional Transformers for Language Understanding](https://arxiv.org/pdf/1810.04805.pdf)\n",
    "- [To Tune or Not to Tune? Adapting Pretrained Representations to Diverse Tasks](https://www.aclweb.org/anthology/W19-4302/)\n",
    "- [GLUE: A Multi-Task Benchmark and Analysis Platform for Natural Language Understanding](https://arxiv.org/pdf/1804.07461.pdf)\n",
    "- [What Does BERT Look At? An Analysis of BERT's Attention](https://arxiv.org/abs/1906.04341)\n",
    "- [RoBERTa: A Robustly Optimized BERT Pretraining Approach](https://arxiv.org/pdf/1907.11692.pdf)\n",
    "- [BART: Denoising Sequence-to-Sequence Pre-training for Natural Language Generation, Translation, and Comprehension](https://arxiv.org/abs/1910.13461)\n",
    "- [Exploring the Limits of Transfer Learning with a Unified Text-to-Text Transformer](https://arxiv.org/pdf/1910.10683.pdf)\n",
    "- [UnifiedQA: Crossing Format Boundaries With a Single QA System](https://arxiv.org/abs/2005.00700)\n",
    "- [Neural Machine Translation of Rare Words with Subword Units](https://arxiv.org/pdf/1508.07909.pdf)\n",
    "- [Byte Pair Encoding is Suboptimal for Language Model Pretraining](https://arxiv.org/pdf/2004.03720.pdf)\n",
    "- [Eisenstein 8.1](https://github.com/jacobeisenstein/gt-nlp-class/blob/master/notes/eisenstein-nlp-notes.pdf)\n",
    "- [Eisenstein 7.1](https://github.com/jacobeisenstein/gt-nlp-class/blob/master/notes/eisenstein-nlp-notes.pdf)\n",
    "- [Eisenstein 7.4](https://github.com/jacobeisenstein/gt-nlp-class/blob/master/notes/eisenstein-nlp-notes.pdf)\n",
    "- [Eisenstein 7.4.1](https://github.com/jacobeisenstein/gt-nlp-class/blob/master/notes/eisenstein-nlp-notes.pdf)\n",
    "- [Eisenstein 7.3](https://github.com/jacobeisenstein/gt-nlp-class/blob/master/notes/eisenstein-nlp-notes.pdf)\n",
    "- [TnT - A Statistical Part-of-Speech Tagger](https://arxiv.org/abs/cs/0003055)\n",
    "- [Enriching the Knowledge Sources Used in a Maximum Entropy Part-of-Speech Tagger](https://www.aclweb.org/anthology/W00-1308/)\n",
    "- [Part-of-Speech Tagging from 97% to 100%: Is It Time for Some Linguistics?](https://link.springer.com/chapter/10.1007/978-3-642-19400-9_14)\n",
    "- [Natural Language Processing with Small Feed-Forward Networks](https://www.aclweb.org/anthology/D17-1309.pdf)\n",
    "- [Eisenstein 10.1-10.2](https://github.com/jacobeisenstein/gt-nlp-class/blob/master/notes/eisenstein-nlp-notes.pdf)\n",
    "- [Eisenstein 10.3-10.4](https://github.com/jacobeisenstein/gt-nlp-class/blob/master/notes/eisenstein-nlp-notes.pdf)\n",
    "- [Eisenstein 10.3.1](https://github.com/jacobeisenstein/gt-nlp-class/blob/master/notes/eisenstein-nlp-notes.pdf)\n",
    "- [Accurate Unlexicalized Parsing](https://www.aclweb.org/anthology/P03-1054/)\n",
    "- [Eisenstein 10.5](https://github.com/jacobeisenstein/gt-nlp-class/blob/master/notes/eisenstein-nlp-notes.pdf)\n",
    "- [Eisenstein 11.1](https://github.com/jacobeisenstein/gt-nlp-class/blob/master/notes/eisenstein-nlp-notes.pdf)\n",
    "- [Finding Optimal 1-Endpoint-Crossing Trees](https://www.aclweb.org/anthology/Q13-1002/)\n",
    "- [Eisenstein 11.3](https://github.com/jacobeisenstein/gt-nlp-class/blob/master/notes/eisenstein-nlp-notes.pdf)\n"
   ]
  },
  {
   "cell_type": "markdown",
   "id": "9fa2159a",
   "metadata": {},
   "source": [
    "*Links only; we do not redistribute slides or papers.*"
   ]
  }
 ],
 "metadata": {
  "language_info": {
   "codemirror_mode": {
    "name": "ipython",
    "version": 3
   },
   "file_extension": ".py",
   "mimetype": "text/x-python",
   "name": "python",
   "nbconvert_exporter": "python",
   "pygments_lexer": "ipython3",
   "version": "3.9.6"
  }
 },
 "nbformat": 4,
 "nbformat_minor": 5
}
