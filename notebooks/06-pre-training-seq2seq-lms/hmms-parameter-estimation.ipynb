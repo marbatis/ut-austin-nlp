{
 "cells": [
  {
   "cell_type": "markdown",
   "id": "055c55ad",
   "metadata": {},
   "source": [
    "# HMMs: Parameter Estimation\n",
    "\n",
    "- 📺 **Video:** [https://youtu.be/dVF7LZkbl9g](https://youtu.be/dVF7LZkbl9g)"
   ]
  },
  {
   "cell_type": "markdown",
   "id": "3dc0a3bf",
   "metadata": {},
   "source": [
    "## Overview\n",
    "- Estimate HMM transition and emission parameters using Baum–Welch (EM).\n",
    "- Alternate between expectation (E) and maximization (M) steps until convergence."
   ]
  },
  {
   "cell_type": "markdown",
   "id": "1122542b",
   "metadata": {},
   "source": [
    "## Key ideas\n",
    "- **Forward-backward:** compute posterior probabilities of states and transitions.\n",
    "- **Expected counts:** use posteriors as fractional counts for transitions/emissions.\n",
    "- **Normalization:** re-estimate parameters by dividing expected counts.\n",
    "- **Convergence:** EM monotonically increases data likelihood but may reach local optima."
   ]
  },
  {
   "cell_type": "markdown",
   "id": "af1eb442",
   "metadata": {},
   "source": [
    "## Demo\n",
    "Run two Baum–Welch iterations on toy observation sequences to demonstrate parameter updates described in the lecture (https://youtu.be/KHzObZGJ8bA)."
   ]
  },
  {
   "cell_type": "code",
   "execution_count": 1,
   "id": "6c2f0924",
   "metadata": {
    "execution": {
     "iopub.execute_input": "2025-10-29T01:32:03.425557Z",
     "iopub.status.busy": "2025-10-29T01:32:03.425139Z",
     "iopub.status.idle": "2025-10-29T01:32:03.512709Z",
     "shell.execute_reply": "2025-10-29T01:32:03.511611Z"
    }
   },
   "outputs": [
    {
     "name": "stdout",
     "output_type": "stream",
     "text": [
      "Iteration 1 start: [0.47897727 0.52102273]\n",
      "Transition matrix:\n",
      "[[0.64014467 0.35985533]\n",
      " [0.36432026 0.63567974]]\n",
      "Emission matrix:\n",
      "[[0.45432977 0.40332147 0.14234875]\n",
      " [0.54198473 0.26899309 0.18902217]]\n",
      "Iteration 2 start: [0.49380369 0.50619631]\n",
      "Transition matrix:\n",
      "[[0.65503727 0.34496273]\n",
      " [0.39260503 0.60739497]]\n",
      "Emission matrix:\n",
      "[[0.45765089 0.38882289 0.15352622]\n",
      " [0.54131233 0.27920226 0.17948541]]\n"
     ]
    }
   ],
   "source": [
    "import numpy as np\n",
    "\n",
    "observations = ['walk', 'shop', 'clean']\n",
    "obs_to_idx = {'walk': 0, 'shop': 1, 'clean': 2}\n",
    "seqs = [['walk', 'shop', 'clean'], ['walk', 'walk', 'shop']]\n",
    "states = 2\n",
    "obs_dim = len(observations)\n",
    "\n",
    "rng = np.random.default_rng(0)\n",
    "start = np.array([0.5, 0.5])\n",
    "trans = np.array([[0.6, 0.4], [0.3, 0.7]])\n",
    "emiss = np.array([[0.3, 0.4, 0.3], [0.4, 0.2, 0.4]])\n",
    "\n",
    "for iteration in range(1, 3):\n",
    "    gamma_sum = np.zeros(states)\n",
    "    xi_sum = np.zeros((states, states))\n",
    "    emit_sum = np.zeros((states, obs_dim))\n",
    "\n",
    "    for seq in seqs:\n",
    "        T = len(seq)\n",
    "        obs_idx = [obs_to_idx[w] for w in seq]\n",
    "        alpha = np.zeros((T, states))\n",
    "        beta = np.zeros((T, states))\n",
    "\n",
    "        alpha[0] = start * emiss[:, obs_idx[0]]\n",
    "        alpha[0] /= alpha[0].sum()\n",
    "        for t in range(1, T):\n",
    "            alpha[t] = emiss[:, obs_idx[t]] * (alpha[t-1] @ trans)\n",
    "            alpha[t] /= alpha[t].sum()\n",
    "\n",
    "        beta[-1] = np.ones(states)\n",
    "        for t in range(T-2, -1, -1):\n",
    "            beta[t] = (trans @ (emiss[:, obs_idx[t+1]] * beta[t+1]))\n",
    "            beta[t] /= beta[t].sum()\n",
    "\n",
    "        gamma = alpha * beta\n",
    "        gamma /= gamma.sum(axis=1, keepdims=True)\n",
    "        gamma_sum += gamma.sum(axis=0)\n",
    "\n",
    "        for t in range(T-1):\n",
    "            xi = np.outer(alpha[t], emiss[:, obs_idx[t+1]] * beta[t+1]) * trans\n",
    "            xi /= xi.sum()\n",
    "            xi_sum += xi\n",
    "\n",
    "        for t, idx in enumerate(obs_idx):\n",
    "            emit_sum[:, idx] += gamma[t]\n",
    "\n",
    "    start = gamma_sum / gamma_sum.sum()\n",
    "    trans = xi_sum / xi_sum.sum(axis=1, keepdims=True)\n",
    "    emiss = emit_sum / emit_sum.sum(axis=1, keepdims=True)\n",
    "\n",
    "    print(f'Iteration {iteration} start:', start)\n",
    "    print('Transition matrix:')\n",
    "    print(trans)\n",
    "    print('Emission matrix:')\n",
    "    print(emiss)\n"
   ]
  },
  {
   "cell_type": "markdown",
   "id": "7e2f605a",
   "metadata": {},
   "source": [
    "## Try it\n",
    "- Modify the demo\n",
    "- Add a tiny dataset or counter-example\n"
   ]
  },
  {
   "cell_type": "markdown",
   "id": "c2b77745",
   "metadata": {},
   "source": [
    "## References\n",
    "- [BERT: Pre-training of Deep Bidirectional Transformers for Language Understanding](https://arxiv.org/pdf/1810.04805.pdf)\n",
    "- [BERT: Pre-training of Deep Bidirectional Transformers for Language Understanding](https://arxiv.org/pdf/1810.04805.pdf)\n",
    "- [To Tune or Not to Tune? Adapting Pretrained Representations to Diverse Tasks](https://www.aclweb.org/anthology/W19-4302/)\n",
    "- [GLUE: A Multi-Task Benchmark and Analysis Platform for Natural Language Understanding](https://arxiv.org/pdf/1804.07461.pdf)\n",
    "- [What Does BERT Look At? An Analysis of BERT's Attention](https://arxiv.org/abs/1906.04341)\n",
    "- [RoBERTa: A Robustly Optimized BERT Pretraining Approach](https://arxiv.org/pdf/1907.11692.pdf)\n",
    "- [BART: Denoising Sequence-to-Sequence Pre-training for Natural Language Generation, Translation, and Comprehension](https://arxiv.org/abs/1910.13461)\n",
    "- [Exploring the Limits of Transfer Learning with a Unified Text-to-Text Transformer](https://arxiv.org/pdf/1910.10683.pdf)\n",
    "- [UnifiedQA: Crossing Format Boundaries With a Single QA System](https://arxiv.org/abs/2005.00700)\n",
    "- [Neural Machine Translation of Rare Words with Subword Units](https://arxiv.org/pdf/1508.07909.pdf)\n",
    "- [Byte Pair Encoding is Suboptimal for Language Model Pretraining](https://arxiv.org/pdf/2004.03720.pdf)\n",
    "- [Eisenstein 8.1](https://github.com/jacobeisenstein/gt-nlp-class/blob/master/notes/eisenstein-nlp-notes.pdf)\n",
    "- [Eisenstein 7.1](https://github.com/jacobeisenstein/gt-nlp-class/blob/master/notes/eisenstein-nlp-notes.pdf)\n",
    "- [Eisenstein 7.4](https://github.com/jacobeisenstein/gt-nlp-class/blob/master/notes/eisenstein-nlp-notes.pdf)\n",
    "- [Eisenstein 7.4.1](https://github.com/jacobeisenstein/gt-nlp-class/blob/master/notes/eisenstein-nlp-notes.pdf)\n",
    "- [Eisenstein 7.3](https://github.com/jacobeisenstein/gt-nlp-class/blob/master/notes/eisenstein-nlp-notes.pdf)\n",
    "- [TnT - A Statistical Part-of-Speech Tagger](https://arxiv.org/abs/cs/0003055)\n",
    "- [Enriching the Knowledge Sources Used in a Maximum Entropy Part-of-Speech Tagger](https://www.aclweb.org/anthology/W00-1308/)\n",
    "- [Part-of-Speech Tagging from 97% to 100%: Is It Time for Some Linguistics?](https://link.springer.com/chapter/10.1007/978-3-642-19400-9_14)\n",
    "- [Natural Language Processing with Small Feed-Forward Networks](https://www.aclweb.org/anthology/D17-1309.pdf)\n",
    "- [Eisenstein 10.1-10.2](https://github.com/jacobeisenstein/gt-nlp-class/blob/master/notes/eisenstein-nlp-notes.pdf)\n",
    "- [Eisenstein 10.3-10.4](https://github.com/jacobeisenstein/gt-nlp-class/blob/master/notes/eisenstein-nlp-notes.pdf)\n",
    "- [Eisenstein 10.3.1](https://github.com/jacobeisenstein/gt-nlp-class/blob/master/notes/eisenstein-nlp-notes.pdf)\n",
    "- [Accurate Unlexicalized Parsing](https://www.aclweb.org/anthology/P03-1054/)\n",
    "- [Eisenstein 10.5](https://github.com/jacobeisenstein/gt-nlp-class/blob/master/notes/eisenstein-nlp-notes.pdf)\n",
    "- [Eisenstein 11.1](https://github.com/jacobeisenstein/gt-nlp-class/blob/master/notes/eisenstein-nlp-notes.pdf)\n",
    "- [Finding Optimal 1-Endpoint-Crossing Trees](https://www.aclweb.org/anthology/Q13-1002/)\n",
    "- [Eisenstein 11.3](https://github.com/jacobeisenstein/gt-nlp-class/blob/master/notes/eisenstein-nlp-notes.pdf)\n"
   ]
  },
  {
   "cell_type": "markdown",
   "id": "36591575",
   "metadata": {},
   "source": [
    "*Links only; we do not redistribute slides or papers.*"
   ]
  }
 ],
 "metadata": {
  "language_info": {
   "codemirror_mode": {
    "name": "ipython",
    "version": 3
   },
   "file_extension": ".py",
   "mimetype": "text/x-python",
   "name": "python",
   "nbconvert_exporter": "python",
   "pygments_lexer": "ipython3",
   "version": "3.9.6"
  }
 },
 "nbformat": 4,
 "nbformat_minor": 5
}
