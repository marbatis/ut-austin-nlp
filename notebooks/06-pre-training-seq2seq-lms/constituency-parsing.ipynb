{
 "cells": [
  {
   "cell_type": "markdown",
   "id": "736a2bd6",
   "metadata": {},
   "source": [
    "# Constituency Parsing\n",
    "\n",
    "- 📺 **Video:** [https://youtu.be/zDPUKQKDaMM](https://youtu.be/zDPUKQKDaMM)"
   ]
  },
  {
   "cell_type": "markdown",
   "id": "b2eaa81d",
   "metadata": {},
   "source": [
    "## Overview\n",
    "- Combine grammar rules and parsing algorithms to build full parse trees.\n",
    "- Evaluate parser accuracy with labeled F1 on treebanks."
   ]
  },
  {
   "cell_type": "markdown",
   "id": "d61d2aae",
   "metadata": {},
   "source": [
    "## Key ideas\n",
    "- **Grammar design:** choose rules that capture syntactic phenomena.\n",
    "- **Inference:** CKY or chart parsers enumerate candidate trees.\n",
    "- **Scoring:** PCFG probabilities or discriminative models rank parses.\n",
    "- **Evaluation:** labeled span precision/recall quantify performance."
   ]
  },
  {
   "cell_type": "markdown",
   "id": "250b0637",
   "metadata": {},
   "source": [
    "## Demo\n",
    "Use the inside algorithm to compute total parse probability and extract the best tree for a short sentence, mirroring the lecture (https://youtu.be/VGt0_CZc8mA)."
   ]
  },
  {
   "cell_type": "code",
   "execution_count": 1,
   "id": "30a4ef8d",
   "metadata": {
    "execution": {
     "iopub.execute_input": "2025-10-29T01:32:00.013790Z",
     "iopub.status.busy": "2025-10-29T01:32:00.013523Z",
     "iopub.status.idle": "2025-10-29T01:32:00.027385Z",
     "shell.execute_reply": "2025-10-29T01:32:00.027007Z"
    }
   },
   "outputs": [
    {
     "name": "stdout",
     "output_type": "stream",
     "text": [
      "Log probability of best parse: None\n"
     ]
    }
   ],
   "source": [
    "import math\n",
    "\n",
    "nonterminals = ['S', 'NP', 'VP', 'PP', 'Det', 'N', 'V', 'P']\n",
    "rules = {\n",
    "    ('S', ('NP', 'VP')): math.log(1.0),\n",
    "    ('VP', ('V', 'NP')): math.log(0.6),\n",
    "    ('VP', ('VP', 'PP')): math.log(0.4),\n",
    "    ('NP', ('Det', 'N')): math.log(0.8),\n",
    "    ('NP', ('NP', 'PP')): math.log(0.2),\n",
    "    ('PP', ('P', 'NP')): math.log(1.0)\n",
    "}\n",
    "lexicon = {\n",
    "    ('Det', 'the'): math.log(0.5),\n",
    "    ('N', 'cat'): math.log(0.5),\n",
    "    ('N', 'mat'): math.log(0.5),\n",
    "    ('V', 'sat'): math.log(1.0),\n",
    "    ('P', 'on'): math.log(1.0)\n",
    "}\n",
    "\n",
    "sentence = ['the', 'cat', 'sat', 'on', 'the', 'mat']\n",
    "n = len(sentence)\n",
    "chart = [[{} for _ in range(n + 1)] for _ in range(n)]\n",
    "back = {}\n",
    "\n",
    "for i, word in enumerate(sentence):\n",
    "    for (lhs, w), logp in lexicon.items():\n",
    "        if w == word:\n",
    "            chart[i][i+1][lhs] = logp\n",
    "            back[(i, i+1, lhs)] = word\n",
    "\n",
    "for span in range(2, n + 1):\n",
    "    for i in range(n - span + 1):\n",
    "        j = i + span\n",
    "        for k in range(i + 1, j):\n",
    "            left_cell = chart[i][k]\n",
    "            right_cell = chart[k][j]\n",
    "            for (lhs, (B, C)), logp in rules.items():\n",
    "                if B in left_cell and C in right_cell:\n",
    "                    score = logp + left_cell[B] + right_cell[C]\n",
    "                    if score > chart[i][j].get(lhs, -math.inf):\n",
    "                        chart[i][j][lhs] = score\n",
    "                        back[(i, j, lhs)] = (k, B, C)\n",
    "\n",
    "print('Log probability of best parse:', chart[0][n].get('S'))\n"
   ]
  },
  {
   "cell_type": "markdown",
   "id": "48c1d6d2",
   "metadata": {},
   "source": [
    "## Try it\n",
    "- Modify the demo\n",
    "- Add a tiny dataset or counter-example\n"
   ]
  },
  {
   "cell_type": "markdown",
   "id": "82c07b07",
   "metadata": {},
   "source": [
    "## References\n",
    "- [BERT: Pre-training of Deep Bidirectional Transformers for Language Understanding](https://arxiv.org/pdf/1810.04805.pdf)\n",
    "- [BERT: Pre-training of Deep Bidirectional Transformers for Language Understanding](https://arxiv.org/pdf/1810.04805.pdf)\n",
    "- [To Tune or Not to Tune? Adapting Pretrained Representations to Diverse Tasks](https://www.aclweb.org/anthology/W19-4302/)\n",
    "- [GLUE: A Multi-Task Benchmark and Analysis Platform for Natural Language Understanding](https://arxiv.org/pdf/1804.07461.pdf)\n",
    "- [What Does BERT Look At? An Analysis of BERT's Attention](https://arxiv.org/abs/1906.04341)\n",
    "- [RoBERTa: A Robustly Optimized BERT Pretraining Approach](https://arxiv.org/pdf/1907.11692.pdf)\n",
    "- [BART: Denoising Sequence-to-Sequence Pre-training for Natural Language Generation, Translation, and Comprehension](https://arxiv.org/abs/1910.13461)\n",
    "- [Exploring the Limits of Transfer Learning with a Unified Text-to-Text Transformer](https://arxiv.org/pdf/1910.10683.pdf)\n",
    "- [UnifiedQA: Crossing Format Boundaries With a Single QA System](https://arxiv.org/abs/2005.00700)\n",
    "- [Neural Machine Translation of Rare Words with Subword Units](https://arxiv.org/pdf/1508.07909.pdf)\n",
    "- [Byte Pair Encoding is Suboptimal for Language Model Pretraining](https://arxiv.org/pdf/2004.03720.pdf)\n",
    "- [Eisenstein 8.1](https://github.com/jacobeisenstein/gt-nlp-class/blob/master/notes/eisenstein-nlp-notes.pdf)\n",
    "- [Eisenstein 7.1](https://github.com/jacobeisenstein/gt-nlp-class/blob/master/notes/eisenstein-nlp-notes.pdf)\n",
    "- [Eisenstein 7.4](https://github.com/jacobeisenstein/gt-nlp-class/blob/master/notes/eisenstein-nlp-notes.pdf)\n",
    "- [Eisenstein 7.4.1](https://github.com/jacobeisenstein/gt-nlp-class/blob/master/notes/eisenstein-nlp-notes.pdf)\n",
    "- [Eisenstein 7.3](https://github.com/jacobeisenstein/gt-nlp-class/blob/master/notes/eisenstein-nlp-notes.pdf)\n",
    "- [TnT - A Statistical Part-of-Speech Tagger](https://arxiv.org/abs/cs/0003055)\n",
    "- [Enriching the Knowledge Sources Used in a Maximum Entropy Part-of-Speech Tagger](https://www.aclweb.org/anthology/W00-1308/)\n",
    "- [Part-of-Speech Tagging from 97% to 100%: Is It Time for Some Linguistics?](https://link.springer.com/chapter/10.1007/978-3-642-19400-9_14)\n",
    "- [Natural Language Processing with Small Feed-Forward Networks](https://www.aclweb.org/anthology/D17-1309.pdf)\n",
    "- [Eisenstein 10.1-10.2](https://github.com/jacobeisenstein/gt-nlp-class/blob/master/notes/eisenstein-nlp-notes.pdf)\n",
    "- [Eisenstein 10.3-10.4](https://github.com/jacobeisenstein/gt-nlp-class/blob/master/notes/eisenstein-nlp-notes.pdf)\n",
    "- [Eisenstein 10.3.1](https://github.com/jacobeisenstein/gt-nlp-class/blob/master/notes/eisenstein-nlp-notes.pdf)\n",
    "- [Accurate Unlexicalized Parsing](https://www.aclweb.org/anthology/P03-1054/)\n",
    "- [Eisenstein 10.5](https://github.com/jacobeisenstein/gt-nlp-class/blob/master/notes/eisenstein-nlp-notes.pdf)\n",
    "- [Eisenstein 11.1](https://github.com/jacobeisenstein/gt-nlp-class/blob/master/notes/eisenstein-nlp-notes.pdf)\n",
    "- [Finding Optimal 1-Endpoint-Crossing Trees](https://www.aclweb.org/anthology/Q13-1002/)\n",
    "- [Eisenstein 11.3](https://github.com/jacobeisenstein/gt-nlp-class/blob/master/notes/eisenstein-nlp-notes.pdf)\n"
   ]
  },
  {
   "cell_type": "markdown",
   "id": "17fe23ac",
   "metadata": {},
   "source": [
    "*Links only; we do not redistribute slides or papers.*"
   ]
  }
 ],
 "metadata": {
  "language_info": {
   "codemirror_mode": {
    "name": "ipython",
    "version": 3
   },
   "file_extension": ".py",
   "mimetype": "text/x-python",
   "name": "python",
   "nbconvert_exporter": "python",
   "pygments_lexer": "ipython3",
   "version": "3.9.6"
  }
 },
 "nbformat": 4,
 "nbformat_minor": 5
}
