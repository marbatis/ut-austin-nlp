{
 "cells": [
  {
   "cell_type": "markdown",
   "id": "9a2175d4",
   "metadata": {},
   "source": [
    "# HMMs: Viterbi Algorithm\n",
    "\n",
    "- 📺 **Video:** [https://youtu.be/Ks7IrsjhqSo](https://youtu.be/Ks7IrsjhqSo)"
   ]
  },
  {
   "cell_type": "markdown",
   "id": "c4c96e47",
   "metadata": {},
   "source": [
    "## Overview\n",
    "- Decode the most likely hidden state path given observations using the Viterbi algorithm.\n",
    "- Track backpointers to recover the best sequence efficiently."
   ]
  },
  {
   "cell_type": "markdown",
   "id": "feb36dda",
   "metadata": {},
   "source": [
    "## Key ideas\n",
    "- **Dynamic programming:** recursively store best path scores for each state/time pair.\n",
    "- **Log-domain:** avoid underflow by maximizing log probabilities.\n",
    "- **Backpointers:** record argmax choices to reconstruct the optimal path.\n",
    "- **Complexity:** O(T * |states|^2), feasible for many tagging tasks."
   ]
  },
  {
   "cell_type": "markdown",
   "id": "2f0cfbd5",
   "metadata": {},
   "source": [
    "## Demo\n",
    "Run Viterbi decoding on a toy weather HMM to mirror the walkthrough in the lecture (https://youtu.be/mbmk5J--K2w)."
   ]
  },
  {
   "cell_type": "code",
   "execution_count": 1,
   "id": "308ec92a",
   "metadata": {
    "execution": {
     "iopub.execute_input": "2025-10-29T01:32:04.277478Z",
     "iopub.status.busy": "2025-10-29T01:32:04.277399Z",
     "iopub.status.idle": "2025-10-29T01:32:04.348891Z",
     "shell.execute_reply": "2025-10-29T01:32:04.348172Z"
    }
   },
   "outputs": [
    {
     "name": "stdout",
     "output_type": "stream",
     "text": [
      "Best state sequence: ['Sunny', 'Rainy', 'Rainy']\n"
     ]
    }
   ],
   "source": [
    "import numpy as np\n",
    "\n",
    "states = ['Rainy', 'Sunny']\n",
    "obs = ['walk', 'shop', 'clean']\n",
    "start = np.log(np.array([0.6, 0.4]))\n",
    "trans = np.log(np.array([[0.7, 0.3], [0.4, 0.6]]))\n",
    "emiss = np.log(np.array([[0.1, 0.4, 0.5], [0.6, 0.3, 0.1]]))\n",
    "sequence = ['walk', 'shop', 'clean']\n",
    "obs_index = {w: i for i, w in enumerate(obs)}\n",
    "\n",
    "T = len(sequence)\n",
    "num_states = len(states)\n",
    "viterbi = np.full((T, num_states), -np.inf)\n",
    "backpointer = np.zeros((T, num_states), dtype=int)\n",
    "\n",
    "viterbi[0] = start + emiss[:, obs_index[sequence[0]]]\n",
    "\n",
    "for t in range(1, T):\n",
    "    for s in range(num_states):\n",
    "        scores = viterbi[t-1] + trans[:, s]\n",
    "        best_prev = np.argmax(scores)\n",
    "        viterbi[t, s] = scores[best_prev] + emiss[s, obs_index[sequence[t]]]\n",
    "        backpointer[t, s] = best_prev\n",
    "\n",
    "best_last = np.argmax(viterbi[-1])\n",
    "best_path = [best_last]\n",
    "for t in range(T-1, 0, -1):\n",
    "    best_path.append(backpointer[t, best_path[-1]])\n",
    "\n",
    "best_path = list(reversed([states[idx] for idx in best_path]))\n",
    "print('Best state sequence:', best_path)\n"
   ]
  },
  {
   "cell_type": "markdown",
   "id": "f6740fd4",
   "metadata": {},
   "source": [
    "## Try it\n",
    "- Modify the demo\n",
    "- Add a tiny dataset or counter-example\n"
   ]
  },
  {
   "cell_type": "markdown",
   "id": "73101397",
   "metadata": {},
   "source": [
    "## References\n",
    "- [BERT: Pre-training of Deep Bidirectional Transformers for Language Understanding](https://arxiv.org/pdf/1810.04805.pdf)\n",
    "- [BERT: Pre-training of Deep Bidirectional Transformers for Language Understanding](https://arxiv.org/pdf/1810.04805.pdf)\n",
    "- [To Tune or Not to Tune? Adapting Pretrained Representations to Diverse Tasks](https://www.aclweb.org/anthology/W19-4302/)\n",
    "- [GLUE: A Multi-Task Benchmark and Analysis Platform for Natural Language Understanding](https://arxiv.org/pdf/1804.07461.pdf)\n",
    "- [What Does BERT Look At? An Analysis of BERT's Attention](https://arxiv.org/abs/1906.04341)\n",
    "- [RoBERTa: A Robustly Optimized BERT Pretraining Approach](https://arxiv.org/pdf/1907.11692.pdf)\n",
    "- [BART: Denoising Sequence-to-Sequence Pre-training for Natural Language Generation, Translation, and Comprehension](https://arxiv.org/abs/1910.13461)\n",
    "- [Exploring the Limits of Transfer Learning with a Unified Text-to-Text Transformer](https://arxiv.org/pdf/1910.10683.pdf)\n",
    "- [UnifiedQA: Crossing Format Boundaries With a Single QA System](https://arxiv.org/abs/2005.00700)\n",
    "- [Neural Machine Translation of Rare Words with Subword Units](https://arxiv.org/pdf/1508.07909.pdf)\n",
    "- [Byte Pair Encoding is Suboptimal for Language Model Pretraining](https://arxiv.org/pdf/2004.03720.pdf)\n",
    "- [Eisenstein 8.1](https://github.com/jacobeisenstein/gt-nlp-class/blob/master/notes/eisenstein-nlp-notes.pdf)\n",
    "- [Eisenstein 7.1](https://github.com/jacobeisenstein/gt-nlp-class/blob/master/notes/eisenstein-nlp-notes.pdf)\n",
    "- [Eisenstein 7.4](https://github.com/jacobeisenstein/gt-nlp-class/blob/master/notes/eisenstein-nlp-notes.pdf)\n",
    "- [Eisenstein 7.4.1](https://github.com/jacobeisenstein/gt-nlp-class/blob/master/notes/eisenstein-nlp-notes.pdf)\n",
    "- [Eisenstein 7.3](https://github.com/jacobeisenstein/gt-nlp-class/blob/master/notes/eisenstein-nlp-notes.pdf)\n",
    "- [TnT - A Statistical Part-of-Speech Tagger](https://arxiv.org/abs/cs/0003055)\n",
    "- [Enriching the Knowledge Sources Used in a Maximum Entropy Part-of-Speech Tagger](https://www.aclweb.org/anthology/W00-1308/)\n",
    "- [Part-of-Speech Tagging from 97% to 100%: Is It Time for Some Linguistics?](https://link.springer.com/chapter/10.1007/978-3-642-19400-9_14)\n",
    "- [Natural Language Processing with Small Feed-Forward Networks](https://www.aclweb.org/anthology/D17-1309.pdf)\n",
    "- [Eisenstein 10.1-10.2](https://github.com/jacobeisenstein/gt-nlp-class/blob/master/notes/eisenstein-nlp-notes.pdf)\n",
    "- [Eisenstein 10.3-10.4](https://github.com/jacobeisenstein/gt-nlp-class/blob/master/notes/eisenstein-nlp-notes.pdf)\n",
    "- [Eisenstein 10.3.1](https://github.com/jacobeisenstein/gt-nlp-class/blob/master/notes/eisenstein-nlp-notes.pdf)\n",
    "- [Accurate Unlexicalized Parsing](https://www.aclweb.org/anthology/P03-1054/)\n",
    "- [Eisenstein 10.5](https://github.com/jacobeisenstein/gt-nlp-class/blob/master/notes/eisenstein-nlp-notes.pdf)\n",
    "- [Eisenstein 11.1](https://github.com/jacobeisenstein/gt-nlp-class/blob/master/notes/eisenstein-nlp-notes.pdf)\n",
    "- [Finding Optimal 1-Endpoint-Crossing Trees](https://www.aclweb.org/anthology/Q13-1002/)\n",
    "- [Eisenstein 11.3](https://github.com/jacobeisenstein/gt-nlp-class/blob/master/notes/eisenstein-nlp-notes.pdf)\n"
   ]
  },
  {
   "cell_type": "markdown",
   "id": "fe5a9deb",
   "metadata": {},
   "source": [
    "*Links only; we do not redistribute slides or papers.*"
   ]
  }
 ],
 "metadata": {
  "language_info": {
   "codemirror_mode": {
    "name": "ipython",
    "version": 3
   },
   "file_extension": ".py",
   "mimetype": "text/x-python",
   "name": "python",
   "nbconvert_exporter": "python",
   "pygments_lexer": "ipython3",
   "version": "3.9.6"
  }
 },
 "nbformat": 4,
 "nbformat_minor": 5
}
