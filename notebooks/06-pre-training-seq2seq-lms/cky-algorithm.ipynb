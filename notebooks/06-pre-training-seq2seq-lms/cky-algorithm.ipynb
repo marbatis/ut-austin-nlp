{
 "cells": [
  {
   "cell_type": "markdown",
   "id": "3fc041e6",
   "metadata": {},
   "source": [
    "# CKY Algorithm\n",
    "\n",
    "- 📺 **Video:** [https://youtu.be/QeDb6mSDSqs](https://youtu.be/QeDb6mSDSqs)"
   ]
  },
  {
   "cell_type": "markdown",
   "id": "0aa0e6c9",
   "metadata": {},
   "source": [
    "## Overview\n",
    "- Apply the CKY dynamic program to parse sentences with a Chomsky Normal Form grammar.\n",
    "- Understand how chart parsing systematically explores combinations of spans."
   ]
  },
  {
   "cell_type": "markdown",
   "id": "02150b3f",
   "metadata": {},
   "source": [
    "## Key ideas\n",
    "- **CNF requirement:** CKY operates on binary productions A→BC and preterminals A→w.\n",
    "- **Chart table:** fill a triangular table with possible constituents for each span.\n",
    "- **Backpointers:** store splits to reconstruct parse trees.\n",
    "- **Complexity:** O(n^3 |G|) but practical for short sentences."
   ]
  },
  {
   "cell_type": "markdown",
   "id": "77fc2f9f",
   "metadata": {},
   "source": [
    "## Demo\n",
    "Parse a simple sentence with CKY and recover the highest scoring tree, paralleling the lecture (https://youtu.be/MrwK1tnE3fo)."
   ]
  },
  {
   "cell_type": "code",
   "execution_count": 1,
   "id": "11ff0e64",
   "metadata": {
    "execution": {
     "iopub.execute_input": "2025-10-29T01:31:59.144535Z",
     "iopub.status.busy": "2025-10-29T01:31:59.144244Z",
     "iopub.status.idle": "2025-10-29T01:31:59.158632Z",
     "shell.execute_reply": "2025-10-29T01:31:59.158254Z"
    }
   },
   "outputs": [
    {
     "name": "stdout",
     "output_type": "stream",
     "text": [
      "Possible top-level categories: set()\n"
     ]
    }
   ],
   "source": [
    "grammar = {\n",
    "    ('S', 'NP', 'VP'): 1.0,\n",
    "    ('VP', 'VP', 'PP'): 0.4,\n",
    "    ('VP', 'V', 'NP'): 0.6,\n",
    "    ('PP', 'P', 'NP'): 1.0,\n",
    "    ('NP', 'Det', 'N'): 0.8,\n",
    "    ('NP', 'NP', 'PP'): 0.2\n",
    "}\n",
    "lexicon = {\n",
    "    ('Det', 'the'),\n",
    "    ('N', 'cat'),\n",
    "    ('N', 'mat'),\n",
    "    ('V', 'sat'),\n",
    "    ('P', 'on')\n",
    "}\n",
    "sentence = ['the', 'cat', 'sat', 'on', 'the', 'mat']\n",
    "\n",
    "n = len(sentence)\n",
    "chart = [[set() for _ in range(n + 1)] for _ in range(n)]\n",
    "back = {}\n",
    "\n",
    "for i, word in enumerate(sentence):\n",
    "    for (lhs, w) in lexicon:\n",
    "        if w == word:\n",
    "            chart[i][i+1].add(lhs)\n",
    "            back[(i, i+1, lhs)] = word\n",
    "\n",
    "for span in range(2, n + 1):\n",
    "    for i in range(n - span + 1):\n",
    "        j = i + span\n",
    "        for k in range(i + 1, j):\n",
    "            for (lhs, B, C), prob in grammar.items():\n",
    "                if B in chart[i][k] and C in chart[k][j]:\n",
    "                    chart[i][j].add(lhs)\n",
    "                    back[(i, j, lhs)] = (k, B, C)\n",
    "\n",
    "print('Possible top-level categories:', chart[0][n])\n",
    "\n",
    "def build_tree(i, j, symbol):\n",
    "    node = back.get((i, j, symbol))\n",
    "    if isinstance(node, str):\n",
    "        return (symbol, node)\n",
    "    if not node:\n",
    "        return (symbol,)\n",
    "    k, left, right = node\n",
    "    return (symbol, build_tree(i, k, left), build_tree(k, j, right))\n",
    "\n",
    "if 'S' in chart[0][n]:\n",
    "    tree = build_tree(0, n, 'S')\n",
    "    print('Recovered parse tree:', tree)\n"
   ]
  },
  {
   "cell_type": "markdown",
   "id": "77f3fc4b",
   "metadata": {},
   "source": [
    "## Try it\n",
    "- Modify the demo\n",
    "- Add a tiny dataset or counter-example\n"
   ]
  },
  {
   "cell_type": "markdown",
   "id": "50f0fc65",
   "metadata": {},
   "source": [
    "## References\n",
    "- [BERT: Pre-training of Deep Bidirectional Transformers for Language Understanding](https://arxiv.org/pdf/1810.04805.pdf)\n",
    "- [BERT: Pre-training of Deep Bidirectional Transformers for Language Understanding](https://arxiv.org/pdf/1810.04805.pdf)\n",
    "- [To Tune or Not to Tune? Adapting Pretrained Representations to Diverse Tasks](https://www.aclweb.org/anthology/W19-4302/)\n",
    "- [GLUE: A Multi-Task Benchmark and Analysis Platform for Natural Language Understanding](https://arxiv.org/pdf/1804.07461.pdf)\n",
    "- [What Does BERT Look At? An Analysis of BERT's Attention](https://arxiv.org/abs/1906.04341)\n",
    "- [RoBERTa: A Robustly Optimized BERT Pretraining Approach](https://arxiv.org/pdf/1907.11692.pdf)\n",
    "- [BART: Denoising Sequence-to-Sequence Pre-training for Natural Language Generation, Translation, and Comprehension](https://arxiv.org/abs/1910.13461)\n",
    "- [Exploring the Limits of Transfer Learning with a Unified Text-to-Text Transformer](https://arxiv.org/pdf/1910.10683.pdf)\n",
    "- [UnifiedQA: Crossing Format Boundaries With a Single QA System](https://arxiv.org/abs/2005.00700)\n",
    "- [Neural Machine Translation of Rare Words with Subword Units](https://arxiv.org/pdf/1508.07909.pdf)\n",
    "- [Byte Pair Encoding is Suboptimal for Language Model Pretraining](https://arxiv.org/pdf/2004.03720.pdf)\n",
    "- [Eisenstein 8.1](https://github.com/jacobeisenstein/gt-nlp-class/blob/master/notes/eisenstein-nlp-notes.pdf)\n",
    "- [Eisenstein 7.1](https://github.com/jacobeisenstein/gt-nlp-class/blob/master/notes/eisenstein-nlp-notes.pdf)\n",
    "- [Eisenstein 7.4](https://github.com/jacobeisenstein/gt-nlp-class/blob/master/notes/eisenstein-nlp-notes.pdf)\n",
    "- [Eisenstein 7.4.1](https://github.com/jacobeisenstein/gt-nlp-class/blob/master/notes/eisenstein-nlp-notes.pdf)\n",
    "- [Eisenstein 7.3](https://github.com/jacobeisenstein/gt-nlp-class/blob/master/notes/eisenstein-nlp-notes.pdf)\n",
    "- [TnT - A Statistical Part-of-Speech Tagger](https://arxiv.org/abs/cs/0003055)\n",
    "- [Enriching the Knowledge Sources Used in a Maximum Entropy Part-of-Speech Tagger](https://www.aclweb.org/anthology/W00-1308/)\n",
    "- [Part-of-Speech Tagging from 97% to 100%: Is It Time for Some Linguistics?](https://link.springer.com/chapter/10.1007/978-3-642-19400-9_14)\n",
    "- [Natural Language Processing with Small Feed-Forward Networks](https://www.aclweb.org/anthology/D17-1309.pdf)\n",
    "- [Eisenstein 10.1-10.2](https://github.com/jacobeisenstein/gt-nlp-class/blob/master/notes/eisenstein-nlp-notes.pdf)\n",
    "- [Eisenstein 10.3-10.4](https://github.com/jacobeisenstein/gt-nlp-class/blob/master/notes/eisenstein-nlp-notes.pdf)\n",
    "- [Eisenstein 10.3.1](https://github.com/jacobeisenstein/gt-nlp-class/blob/master/notes/eisenstein-nlp-notes.pdf)\n",
    "- [Accurate Unlexicalized Parsing](https://www.aclweb.org/anthology/P03-1054/)\n",
    "- [Eisenstein 10.5](https://github.com/jacobeisenstein/gt-nlp-class/blob/master/notes/eisenstein-nlp-notes.pdf)\n",
    "- [Eisenstein 11.1](https://github.com/jacobeisenstein/gt-nlp-class/blob/master/notes/eisenstein-nlp-notes.pdf)\n",
    "- [Finding Optimal 1-Endpoint-Crossing Trees](https://www.aclweb.org/anthology/Q13-1002/)\n",
    "- [Eisenstein 11.3](https://github.com/jacobeisenstein/gt-nlp-class/blob/master/notes/eisenstein-nlp-notes.pdf)\n"
   ]
  },
  {
   "cell_type": "markdown",
   "id": "47fb7eb8",
   "metadata": {},
   "source": [
    "*Links only; we do not redistribute slides or papers.*"
   ]
  }
 ],
 "metadata": {
  "language_info": {
   "codemirror_mode": {
    "name": "ipython",
    "version": 3
   },
   "file_extension": ".py",
   "mimetype": "text/x-python",
   "name": "python",
   "nbconvert_exporter": "python",
   "pygments_lexer": "ipython3",
   "version": "3.9.6"
  }
 },
 "nbformat": 4,
 "nbformat_minor": 5
}
