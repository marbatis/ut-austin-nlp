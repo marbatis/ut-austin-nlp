{
 "cells": [
  {
   "cell_type": "markdown",
   "id": "a6f6867c",
   "metadata": {},
   "source": [
    "# Few-shot Prompting\n",
    "\n",
    "- 📺 **Video:** [https://youtu.be/JSBjj09xJeM](https://youtu.be/JSBjj09xJeM)"
   ]
  },
  {
   "cell_type": "markdown",
   "id": "995e1ccb",
   "metadata": {},
   "source": [
    "## Overview\n",
    "- Provide a handful of demonstrations in the prompt to steer large language models toward desired outputs.\n",
    "- Interpret few-shot prompting as in-context learning."
   ]
  },
  {
   "cell_type": "markdown",
   "id": "78379d25",
   "metadata": {},
   "source": [
    "## Key ideas\n",
    "- **Demonstrations:** include labeled examples illustrating input-output mapping.\n",
    "- **Pattern matching:** models mimic formats, styles, and label choices.\n",
    "- **Ordering:** example order and diversity influence generalization.\n",
    "- **Evaluation:** craft held-out queries to measure prompt effectiveness."
   ]
  },
  {
   "cell_type": "markdown",
   "id": "389303b8",
   "metadata": {},
   "source": [
    "## Demo\n",
    "Build a tiny in-context classifier that infers label-word associations from few demonstrations, mirroring the lecture (https://youtu.be/-PMyW3F7S0M)."
   ]
  },
  {
   "cell_type": "code",
   "execution_count": 1,
   "id": "b7e9e00b",
   "metadata": {
    "execution": {
     "iopub.execute_input": "2025-10-29T01:32:42.177695Z",
     "iopub.status.busy": "2025-10-29T01:32:42.177437Z",
     "iopub.status.idle": "2025-10-29T01:32:42.189144Z",
     "shell.execute_reply": "2025-10-29T01:32:42.188727Z"
    }
   },
   "outputs": [
    {
     "name": "stdout",
     "output_type": "stream",
     "text": [
      "Prompt --> negative\n",
      "Prompt --> negative\n"
     ]
    }
   ],
   "source": [
    "from collections import Counter\n",
    "\n",
    "demos = [\n",
    "    ('Review: I adored the clever twists.', 'positive'),\n",
    "    ('Review: The pacing was dull and lifeless.', 'negative'),\n",
    "    ('Review: Brilliant acting kept me engaged.', 'positive')\n",
    "]\n",
    "\n",
    "def few_shot(prompt, examples):\n",
    "    word_counts = {'positive': Counter(), 'negative': Counter()}\n",
    "    for text, label in examples:\n",
    "        tokens = text.lower().split()\n",
    "        word_counts[label].update(tokens)\n",
    "    total = {label: sum(counts.values()) for label, counts in word_counts.items()}\n",
    "    tokens = prompt.lower().split()\n",
    "    scores = {}\n",
    "    for label in word_counts:\n",
    "        score = 0.0\n",
    "        for token in tokens:\n",
    "            score += (word_counts[label][token] + 1) / (total[label] + len(word_counts[label]))\n",
    "        scores[label] = score\n",
    "    return max(scores, key=scores.get)\n",
    "\n",
    "queries = [\n",
    "    'Review: Heartfelt storytelling with charming characters.',\n",
    "    'Review: Weak script and awkward performances.'\n",
    "]\n",
    "\n",
    "for q in queries:\n",
    "    label = few_shot(q, demos)\n",
    "    print(f\"Prompt --> {label}\")\n"
   ]
  },
  {
   "cell_type": "markdown",
   "id": "92909bba",
   "metadata": {},
   "source": [
    "## Try it\n",
    "- Modify the demo\n",
    "- Add a tiny dataset or counter-example\n"
   ]
  },
  {
   "cell_type": "markdown",
   "id": "c180fa10",
   "metadata": {},
   "source": [
    "## References\n",
    "- [Language Models are Unsupervised Multitask Learners](https://d4mucfpksywv.cloudfront.net/better-language-models/language_models_are_unsupervised_multitask_learners.pdf)\n",
    "- [Language Models are Few-Shot Learners](https://arxiv.org/abs/2005.14165)\n",
    "- [Llama 2: Open Foundation and Fine-Tuned Chat Models](https://ai.meta.com/research/publications/llama-2-open-foundation-and-fine-tuned-chat-models/)\n",
    "- [Demystifying Prompts in Language Models via Perplexity Estimation](https://arxiv.org/abs/2212.04037)\n",
    "- [Calibrate Before Use: Improving Few-Shot Performance of Language Models](https://arxiv.org/abs/2102.09690)\n",
    "- [Holistic Evaluation of Language Models](https://arxiv.org/abs/2211.09110)\n",
    "- [Rethinking the Role of Demonstrations: What Makes In-Context Learning Work?](https://arxiv.org/abs/2202.12837)\n",
    "- [In-context Learning and Induction Heads](https://arxiv.org/abs/2209.11895)\n",
    "- [Multitask Prompted Training Enables Zero-Shot Task Generalization](https://arxiv.org/abs/2110.08207)\n",
    "- [Scaling Instruction-Finetuned Language Models](https://arxiv.org/abs/2210.11416)\n",
    "- [Training language models to follow instructions with human feedback](https://arxiv.org/abs/2203.02155)\n",
    "- [[Website] Stanford Alpaca: An Instruction-following LLaMA Model](https://crfm.stanford.edu/2023/03/13/alpaca.html)\n",
    "- [Revisiting the Gold Standard: Grounding Summarization Evaluation with Robust Human Evaluation](https://arxiv.org/abs/2212.07981)\n",
    "- [WiCE: Real-World Entailment for Claims in Wikipedia](https://arxiv.org/abs/2303.01432)\n",
    "- [SummaC: Re-Visiting NLI-based Models for Inconsistency Detection in Summarization](https://arxiv.org/abs/2111.09525)\n",
    "- [FActScore: Fine-grained Atomic Evaluation of Factual Precision in Long Form Text Generation](https://arxiv.org/abs/2305.14251)\n",
    "- [RARR: Researching and Revising What Language Models Say, Using Language Models](https://arxiv.org/abs/2210.08726)\n"
   ]
  },
  {
   "cell_type": "markdown",
   "id": "885cd32f",
   "metadata": {},
   "source": [
    "*Links only; we do not redistribute slides or papers.*"
   ]
  }
 ],
 "metadata": {
  "language_info": {
   "codemirror_mode": {
    "name": "ipython",
    "version": 3
   },
   "file_extension": ".py",
   "mimetype": "text/x-python",
   "name": "python",
   "nbconvert_exporter": "python",
   "pygments_lexer": "ipython3",
   "version": "3.9.6"
  }
 },
 "nbformat": 4,
 "nbformat_minor": 5
}
