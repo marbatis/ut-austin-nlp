{
 "cells": [
  {
   "cell_type": "markdown",
   "id": "801863ba",
   "metadata": {},
   "source": [
    "# Understanding ICL: Induction Heads\n",
    "\n",
    "- 📺 **Video:** [https://youtu.be/mUthsZ_Aivo](https://youtu.be/mUthsZ_Aivo)"
   ]
  },
  {
   "cell_type": "markdown",
   "id": "23bb9d5d",
   "metadata": {},
   "source": [
    "## Overview\n",
    "- Analyze how attention heads implement induction: copying tokens that appear earlier in the context.\n",
    "- Understand circuit-level explanations of in-context learning."
   ]
  },
  {
   "cell_type": "markdown",
   "id": "7cac8246",
   "metadata": {},
   "source": [
    "## Key ideas\n",
    "- **Induction heads:** attend from token i to i-1 to copy continuation patterns.\n",
    "- **Key-query alignment:** shifting keys/queries reveals positional bias.\n",
    "- **Residual stream:** add copied token embeddings into the prediction.\n",
    "- **Circuit analysis:** interpret weights to explain behavior."
   ]
  },
  {
   "cell_type": "markdown",
   "id": "ce0e8e82",
   "metadata": {},
   "source": [
    "## Demo\n",
    "Construct a toy attention head that copies the previous token embedding and inspect its attention pattern, mirroring the lecture (https://youtu.be/CF3MHqYsgUo)."
   ]
  },
  {
   "cell_type": "code",
   "execution_count": 1,
   "id": "7cea1ae6",
   "metadata": {
    "execution": {
     "iopub.execute_input": "2025-10-29T01:32:46.861208Z",
     "iopub.status.busy": "2025-10-29T01:32:46.860978Z",
     "iopub.status.idle": "2025-10-29T01:32:46.930026Z",
     "shell.execute_reply": "2025-10-29T01:32:46.929168Z"
    }
   },
   "outputs": [
    {
     "name": "stdout",
     "output_type": "stream",
     "text": [
      "Attention weights (induction head):\n",
      "[[0.         0.         0.         0.        ]\n",
      " [0.99999999 0.         0.         0.        ]\n",
      " [0.         0.99999999 0.         0.        ]\n",
      " [0.         0.         0.99999999 0.        ]]\n",
      "\n",
      "Copied representations:\n",
      "[[0.         0.         0.        ]\n",
      " [0.99999999 0.         0.        ]\n",
      " [0.         0.99999999 0.        ]\n",
      " [0.         0.         0.99999999]]\n"
     ]
    }
   ],
   "source": [
    "import numpy as np\n",
    "\n",
    "sequence = np.array([\n",
    "    [1.0, 0.0, 0.0],\n",
    "    [0.0, 1.0, 0.0],\n",
    "    [0.0, 0.0, 1.0],\n",
    "    [0.5, 0.5, 0.0]\n",
    "])\n",
    "\n",
    "shift_matrix = np.array([\n",
    "    [0, 0, 0, 0],\n",
    "    [1, 0, 0, 0],\n",
    "    [0, 1, 0, 0],\n",
    "    [0, 0, 1, 0]\n",
    "])\n",
    "\n",
    "attention = shift_matrix.astype(float)\n",
    "attention /= attention.sum(axis=1, keepdims=True) + 1e-8\n",
    "context = attention @ sequence\n",
    "\n",
    "print('Attention weights (induction head):')\n",
    "print(attention)\n",
    "print()\n",
    "print('Copied representations:')\n",
    "print(context)\n"
   ]
  },
  {
   "cell_type": "markdown",
   "id": "384a9fe5",
   "metadata": {},
   "source": [
    "## Try it\n",
    "- Modify the demo\n",
    "- Add a tiny dataset or counter-example\n"
   ]
  },
  {
   "cell_type": "markdown",
   "id": "e20187ab",
   "metadata": {},
   "source": [
    "## References\n",
    "- [Language Models are Unsupervised Multitask Learners](https://d4mucfpksywv.cloudfront.net/better-language-models/language_models_are_unsupervised_multitask_learners.pdf)\n",
    "- [Language Models are Few-Shot Learners](https://arxiv.org/abs/2005.14165)\n",
    "- [Llama 2: Open Foundation and Fine-Tuned Chat Models](https://ai.meta.com/research/publications/llama-2-open-foundation-and-fine-tuned-chat-models/)\n",
    "- [Demystifying Prompts in Language Models via Perplexity Estimation](https://arxiv.org/abs/2212.04037)\n",
    "- [Calibrate Before Use: Improving Few-Shot Performance of Language Models](https://arxiv.org/abs/2102.09690)\n",
    "- [Holistic Evaluation of Language Models](https://arxiv.org/abs/2211.09110)\n",
    "- [Rethinking the Role of Demonstrations: What Makes In-Context Learning Work?](https://arxiv.org/abs/2202.12837)\n",
    "- [In-context Learning and Induction Heads](https://arxiv.org/abs/2209.11895)\n",
    "- [Multitask Prompted Training Enables Zero-Shot Task Generalization](https://arxiv.org/abs/2110.08207)\n",
    "- [Scaling Instruction-Finetuned Language Models](https://arxiv.org/abs/2210.11416)\n",
    "- [Training language models to follow instructions with human feedback](https://arxiv.org/abs/2203.02155)\n",
    "- [[Website] Stanford Alpaca: An Instruction-following LLaMA Model](https://crfm.stanford.edu/2023/03/13/alpaca.html)\n",
    "- [Revisiting the Gold Standard: Grounding Summarization Evaluation with Robust Human Evaluation](https://arxiv.org/abs/2212.07981)\n",
    "- [WiCE: Real-World Entailment for Claims in Wikipedia](https://arxiv.org/abs/2303.01432)\n",
    "- [SummaC: Re-Visiting NLI-based Models for Inconsistency Detection in Summarization](https://arxiv.org/abs/2111.09525)\n",
    "- [FActScore: Fine-grained Atomic Evaluation of Factual Precision in Long Form Text Generation](https://arxiv.org/abs/2305.14251)\n",
    "- [RARR: Researching and Revising What Language Models Say, Using Language Models](https://arxiv.org/abs/2210.08726)\n"
   ]
  },
  {
   "cell_type": "markdown",
   "id": "a5d2426d",
   "metadata": {},
   "source": [
    "*Links only; we do not redistribute slides or papers.*"
   ]
  }
 ],
 "metadata": {
  "language_info": {
   "codemirror_mode": {
    "name": "ipython",
    "version": 3
   },
   "file_extension": ".py",
   "mimetype": "text/x-python",
   "name": "python",
   "nbconvert_exporter": "python",
   "pygments_lexer": "ipython3",
   "version": "3.9.6"
  }
 },
 "nbformat": 4,
 "nbformat_minor": 5
}
