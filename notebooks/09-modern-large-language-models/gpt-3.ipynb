{
 "cells": [
  {
   "cell_type": "markdown",
   "id": "2d6028af",
   "metadata": {},
   "source": [
    "# GPT-3\n",
    "\n",
    "- 📺 **Video:** [https://youtu.be/jn41DLgnqek](https://youtu.be/jn41DLgnqek)"
   ]
  },
  {
   "cell_type": "markdown",
   "id": "b7802f84",
   "metadata": {},
   "source": [
    "## Overview\n",
    "- Examine the GPT-3 architecture and scaling trends that enabled emergent abilities.\n",
    "- Connect parameter counts, dataset size, and performance metrics."
   ]
  },
  {
   "cell_type": "markdown",
   "id": "d4ce149c",
   "metadata": {},
   "source": [
    "## Key ideas\n",
    "- **Decoder-only transformer:** autoregressive modeling with causal attention.\n",
    "- **Scaling laws:** loss improves predictably with more parameters/data/compute.\n",
    "- **In-context learning:** larger models adapt from prompts without weight updates.\n",
    "- **API access:** inference costs and latency matter for deployment."
   ]
  },
  {
   "cell_type": "markdown",
   "id": "9466f4cf",
   "metadata": {},
   "source": [
    "## Demo\n",
    "Plot a toy scaling curve showing how loss decreases with parameter count using the power-law fit discussed in the lecture (https://youtu.be/jxu1qmwM04c)."
   ]
  },
  {
   "cell_type": "code",
   "execution_count": 1,
   "id": "37cb7021",
   "metadata": {
    "execution": {
     "iopub.execute_input": "2025-10-29T01:32:42.854001Z",
     "iopub.status.busy": "2025-10-29T01:32:42.853726Z",
     "iopub.status.idle": "2025-10-29T01:32:42.940681Z",
     "shell.execute_reply": "2025-10-29T01:32:42.939677Z"
    }
   },
   "outputs": [
    {
     "name": "stdout",
     "output_type": "stream",
     "text": [
      "Parameters: 0.0B | Approx. validation loss: 1.636\n",
      "Parameters: 0.1B | Approx. validation loss: 1.578\n",
      "Parameters: 1.0B | Approx. validation loss: 1.526\n",
      "Parameters: 10.0B | Approx. validation loss: 1.479\n",
      "Parameters: 100.0B | Approx. validation loss: 1.438\n",
      "\n",
      "Fitted slope: -1.1121550565476668\n"
     ]
    }
   ],
   "source": [
    "import numpy as np\n",
    "\n",
    "params = np.array([10**7, 10**8, 10**9, 10**10, 10**11], dtype=float)\n",
    "loss = 1.2 * (params ** -0.05) + 1.1\n",
    "\n",
    "for p, l in zip(params, loss):\n",
    "    print(f\"Parameters: {p/1e9:.1f}B | Approx. validation loss: {l:.3f}\")\n",
    "\n",
    "coef = np.polyfit(np.log10(params), np.log10(loss - min(loss) + 1e-6), 1)\n",
    "print()\n",
    "print('Fitted slope:', coef[0])\n"
   ]
  },
  {
   "cell_type": "markdown",
   "id": "809c01f4",
   "metadata": {},
   "source": [
    "## Try it\n",
    "- Modify the demo\n",
    "- Add a tiny dataset or counter-example\n"
   ]
  },
  {
   "cell_type": "markdown",
   "id": "305ccfa1",
   "metadata": {},
   "source": [
    "## References\n",
    "- [Language Models are Unsupervised Multitask Learners](https://d4mucfpksywv.cloudfront.net/better-language-models/language_models_are_unsupervised_multitask_learners.pdf)\n",
    "- [Language Models are Few-Shot Learners](https://arxiv.org/abs/2005.14165)\n",
    "- [Llama 2: Open Foundation and Fine-Tuned Chat Models](https://ai.meta.com/research/publications/llama-2-open-foundation-and-fine-tuned-chat-models/)\n",
    "- [Demystifying Prompts in Language Models via Perplexity Estimation](https://arxiv.org/abs/2212.04037)\n",
    "- [Calibrate Before Use: Improving Few-Shot Performance of Language Models](https://arxiv.org/abs/2102.09690)\n",
    "- [Holistic Evaluation of Language Models](https://arxiv.org/abs/2211.09110)\n",
    "- [Rethinking the Role of Demonstrations: What Makes In-Context Learning Work?](https://arxiv.org/abs/2202.12837)\n",
    "- [In-context Learning and Induction Heads](https://arxiv.org/abs/2209.11895)\n",
    "- [Multitask Prompted Training Enables Zero-Shot Task Generalization](https://arxiv.org/abs/2110.08207)\n",
    "- [Scaling Instruction-Finetuned Language Models](https://arxiv.org/abs/2210.11416)\n",
    "- [Training language models to follow instructions with human feedback](https://arxiv.org/abs/2203.02155)\n",
    "- [[Website] Stanford Alpaca: An Instruction-following LLaMA Model](https://crfm.stanford.edu/2023/03/13/alpaca.html)\n",
    "- [Revisiting the Gold Standard: Grounding Summarization Evaluation with Robust Human Evaluation](https://arxiv.org/abs/2212.07981)\n",
    "- [WiCE: Real-World Entailment for Claims in Wikipedia](https://arxiv.org/abs/2303.01432)\n",
    "- [SummaC: Re-Visiting NLI-based Models for Inconsistency Detection in Summarization](https://arxiv.org/abs/2111.09525)\n",
    "- [FActScore: Fine-grained Atomic Evaluation of Factual Precision in Long Form Text Generation](https://arxiv.org/abs/2305.14251)\n",
    "- [RARR: Researching and Revising What Language Models Say, Using Language Models](https://arxiv.org/abs/2210.08726)\n"
   ]
  },
  {
   "cell_type": "markdown",
   "id": "bb628dbc",
   "metadata": {},
   "source": [
    "*Links only; we do not redistribute slides or papers.*"
   ]
  }
 ],
 "metadata": {
  "language_info": {
   "codemirror_mode": {
    "name": "ipython",
    "version": 3
   },
   "file_extension": ".py",
   "mimetype": "text/x-python",
   "name": "python",
   "nbconvert_exporter": "python",
   "pygments_lexer": "ipython3",
   "version": "3.9.6"
  }
 },
 "nbformat": 4,
 "nbformat_minor": 5
}
