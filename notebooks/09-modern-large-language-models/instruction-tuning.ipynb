{
 "cells": [
  {
   "cell_type": "markdown",
   "id": "c86ece4d",
   "metadata": {},
   "source": [
    "# Instruction Tuning\n",
    "\n",
    "- 📺 **Video:** [https://youtu.be/YT3VSlDjrVU](https://youtu.be/YT3VSlDjrVU)"
   ]
  },
  {
   "cell_type": "markdown",
   "id": "2a336880",
   "metadata": {},
   "source": [
    "## Overview\n",
    "- Align LLMs with natural-language instructions by fine-tuning on curated prompt-response pairs.\n",
    "- Emphasize multi-task mixtures and quality filtering."
   ]
  },
  {
   "cell_type": "markdown",
   "id": "cc5e2ff7",
   "metadata": {},
   "source": [
    "## Key ideas\n",
    "- **Instruction datasets:** gather diverse tasks phrased as instructions.\n",
    "- **Supervised fine-tuning:** optimize on gold responses to follow directions.\n",
    "- **Generalization:** models learn to parse instructions and produce structured outputs.\n",
    "- **Safety:** curated data reduces harmful completions."
   ]
  },
  {
   "cell_type": "markdown",
   "id": "50b55913",
   "metadata": {},
   "source": [
    "## Demo\n",
    "Train a simple text classifier on synthetic instruction-response pairs to mimic instruction tuning, echoing the lecture (https://youtu.be/4P2x-h8xMKo)."
   ]
  },
  {
   "cell_type": "code",
   "execution_count": 1,
   "id": "4a265fa4",
   "metadata": {
    "execution": {
     "iopub.execute_input": "2025-10-29T01:32:43.600338Z",
     "iopub.status.busy": "2025-10-29T01:32:43.600072Z",
     "iopub.status.idle": "2025-10-29T01:32:44.516040Z",
     "shell.execute_reply": "2025-10-29T01:32:44.515769Z"
    }
   },
   "outputs": [
    {
     "name": "stdout",
     "output_type": "stream",
     "text": [
      "Classify the review as positive or negative: The acting was gripping. --> negative\n",
      "Answer yes or no: Is the sun hot? --> yes\n"
     ]
    },
    {
     "name": "stderr",
     "output_type": "stream",
     "text": [
      "/Users/marcelosilveira/Library/Python/3.9/lib/python/site-packages/sklearn/linear_model/_logistic.py:1256: FutureWarning: 'multi_class' was deprecated in version 1.5 and will be removed in 1.7. Use OneVsRestClassifier(LogisticRegression(..)) instead. Leave it to its default value to avoid this warning.\n",
      "  warnings.warn(\n"
     ]
    }
   ],
   "source": [
    "from sklearn.feature_extraction.text import TfidfVectorizer\n",
    "from sklearn.linear_model import LogisticRegression\n",
    "\n",
    "instructions = [\n",
    "    'Classify the review as positive or negative: I loved the soundtrack.',\n",
    "    'Classify the review as positive or negative: This was awful.',\n",
    "    'Answer yes or no: Is snow cold?',\n",
    "    'Answer yes or no: Is fire wet?'\n",
    "]\n",
    "responses = ['positive', 'negative', 'yes', 'no']\n",
    "\n",
    "vectorizer = TfidfVectorizer()\n",
    "X = vectorizer.fit_transform(instructions)\n",
    "clf = LogisticRegression(max_iter=1000, multi_class='ovr', random_state=0)\n",
    "clf.fit(X, responses)\n",
    "\n",
    "test_prompts = [\n",
    "    'Classify the review as positive or negative: The acting was gripping.',\n",
    "    'Answer yes or no: Is the sun hot?'\n",
    "]\n",
    "\n",
    "pred = clf.predict(vectorizer.transform(test_prompts))\n",
    "for prompt, label in zip(test_prompts, pred):\n",
    "    print(prompt, '-->', label)\n"
   ]
  },
  {
   "cell_type": "markdown",
   "id": "78fcc159",
   "metadata": {},
   "source": [
    "## Try it\n",
    "- Modify the demo\n",
    "- Add a tiny dataset or counter-example\n"
   ]
  },
  {
   "cell_type": "markdown",
   "id": "871086bf",
   "metadata": {},
   "source": [
    "## References\n",
    "- [Language Models are Unsupervised Multitask Learners](https://d4mucfpksywv.cloudfront.net/better-language-models/language_models_are_unsupervised_multitask_learners.pdf)\n",
    "- [Language Models are Few-Shot Learners](https://arxiv.org/abs/2005.14165)\n",
    "- [Llama 2: Open Foundation and Fine-Tuned Chat Models](https://ai.meta.com/research/publications/llama-2-open-foundation-and-fine-tuned-chat-models/)\n",
    "- [Demystifying Prompts in Language Models via Perplexity Estimation](https://arxiv.org/abs/2212.04037)\n",
    "- [Calibrate Before Use: Improving Few-Shot Performance of Language Models](https://arxiv.org/abs/2102.09690)\n",
    "- [Holistic Evaluation of Language Models](https://arxiv.org/abs/2211.09110)\n",
    "- [Rethinking the Role of Demonstrations: What Makes In-Context Learning Work?](https://arxiv.org/abs/2202.12837)\n",
    "- [In-context Learning and Induction Heads](https://arxiv.org/abs/2209.11895)\n",
    "- [Multitask Prompted Training Enables Zero-Shot Task Generalization](https://arxiv.org/abs/2110.08207)\n",
    "- [Scaling Instruction-Finetuned Language Models](https://arxiv.org/abs/2210.11416)\n",
    "- [Training language models to follow instructions with human feedback](https://arxiv.org/abs/2203.02155)\n",
    "- [[Website] Stanford Alpaca: An Instruction-following LLaMA Model](https://crfm.stanford.edu/2023/03/13/alpaca.html)\n",
    "- [Revisiting the Gold Standard: Grounding Summarization Evaluation with Robust Human Evaluation](https://arxiv.org/abs/2212.07981)\n",
    "- [WiCE: Real-World Entailment for Claims in Wikipedia](https://arxiv.org/abs/2303.01432)\n",
    "- [SummaC: Re-Visiting NLI-based Models for Inconsistency Detection in Summarization](https://arxiv.org/abs/2111.09525)\n",
    "- [FActScore: Fine-grained Atomic Evaluation of Factual Precision in Long Form Text Generation](https://arxiv.org/abs/2305.14251)\n",
    "- [RARR: Researching and Revising What Language Models Say, Using Language Models](https://arxiv.org/abs/2210.08726)\n"
   ]
  },
  {
   "cell_type": "markdown",
   "id": "3ba31c99",
   "metadata": {},
   "source": [
    "*Links only; we do not redistribute slides or papers.*"
   ]
  }
 ],
 "metadata": {
  "language_info": {
   "codemirror_mode": {
    "name": "ipython",
    "version": 3
   },
   "file_extension": ".py",
   "mimetype": "text/x-python",
   "name": "python",
   "nbconvert_exporter": "python",
   "pygments_lexer": "ipython3",
   "version": "3.9.6"
  }
 },
 "nbformat": 4,
 "nbformat_minor": 5
}
