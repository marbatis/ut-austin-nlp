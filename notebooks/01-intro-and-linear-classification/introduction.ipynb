{
 "cells": [
  {
   "cell_type": "markdown",
   "id": "0e2af73e",
   "metadata": {},
   "source": [
    "# Introduction\n",
    "\n",
    "- 📺 **Video:** [https://youtu.be/k5p8teUNHX4](https://youtu.be/k5p8teUNHX4)"
   ]
  },
  {
   "cell_type": "markdown",
   "id": "4a2c62d4",
   "metadata": {},
   "source": [
    "## Overview\n",
    "- Frame NLP tasks as supervised learning problems with inputs, outputs, and evaluation metrics.\n",
    "- Understand the data-centric mindset: curate text corpora, define labels, and close the loop with error analysis."
   ]
  },
  {
   "cell_type": "markdown",
   "id": "1999f718",
   "metadata": {},
   "source": [
    "## Key ideas\n",
    "- **Task formulation:** classification, sequence labeling, and generation share the pattern of mapping text to labels.\n",
    "- **Features vs. models:** representation choices often matter more than the classifier in early stages.\n",
    "- **Generalization:** split data into train/dev/test to estimate out-of-sample performance.\n",
    "- **Iteration cycle:** inspect failures to refine features or collect better data."
   ]
  },
  {
   "cell_type": "markdown",
   "id": "4fb61b04",
   "metadata": {},
   "source": [
    "## Demo\n",
    "Build a minimal text classification dataset, split it into train/test, and evaluate a linear baseline to show the learning cycle introduced in the lecture (https://youtu.be/i5uG9c0ho7Y)."
   ]
  },
  {
   "cell_type": "code",
   "execution_count": 1,
   "id": "088fdb14",
   "metadata": {
    "execution": {
     "iopub.execute_input": "2025-10-29T01:25:49.502538Z",
     "iopub.status.busy": "2025-10-29T01:25:49.502042Z",
     "iopub.status.idle": "2025-10-29T01:25:50.292178Z",
     "shell.execute_reply": "2025-10-29T01:25:50.291872Z"
    }
   },
   "outputs": [
    {
     "name": "stdout",
     "output_type": "stream",
     "text": [
      "              precision    recall  f1-score   support\n",
      "\n",
      "           0      1.000     1.000     1.000         1\n",
      "           1      1.000     1.000     1.000         1\n",
      "\n",
      "    accuracy                          1.000         2\n",
      "   macro avg      1.000     1.000     1.000         2\n",
      "weighted avg      1.000     1.000     1.000         2\n",
      "\n"
     ]
    }
   ],
   "source": [
    "from sklearn.feature_extraction.text import TfidfVectorizer\n",
    "from sklearn.linear_model import LogisticRegression\n",
    "from sklearn.model_selection import train_test_split\n",
    "from sklearn.pipeline import make_pipeline\n",
    "from sklearn.metrics import classification_report\n",
    "\n",
    "texts = [\n",
    "    'This sequel surprised me with emotional depth',\n",
    "    'Flat characters and a weak script ruined it',\n",
    "    'Stunning visuals and clever writing',\n",
    "    'The pacing dragged and I lost interest',\n",
    "    'Heartwarming performances all around',\n",
    "    'Poor editing made it hard to follow',\n",
    "    'Inventive storytelling that kept me hooked',\n",
    "    'Dull dialogue and forgettable scenes'\n",
    "]\n",
    "labels = [1, 0, 1, 0, 1, 0, 1, 0]\n",
    "\n",
    "X_train, X_test, y_train, y_test = train_test_split(texts, labels, test_size=0.25, random_state=7, stratify=labels)\n",
    "model = make_pipeline(TfidfVectorizer(), LogisticRegression(max_iter=1000, random_state=7))\n",
    "model.fit(X_train, y_train)\n",
    "\n",
    "y_pred = model.predict(X_test)\n",
    "print(classification_report(y_test, y_pred, digits=3))\n"
   ]
  },
  {
   "cell_type": "markdown",
   "id": "6fc79796",
   "metadata": {},
   "source": [
    "## Try it\n",
    "- Modify the demo\n",
    "- Add a tiny dataset or counter-example\n"
   ]
  },
  {
   "cell_type": "markdown",
   "id": "d6690419",
   "metadata": {},
   "source": [
    "## References\n",
    "- [Eisenstein 2.0-2.5, 4.2-4.4.1](https://github.com/jacobeisenstein/gt-nlp-class/blob/master/notes/eisenstein-nlp-notes.pdf)\n",
    "- [Perceptron and logistic regression](https://www.cs.utexas.edu/~gdurrett/courses/online-course/perc-lr-connections.pdf)\n",
    "- [Eisenstein 4.1](https://github.com/jacobeisenstein/gt-nlp-class/blob/master/notes/eisenstein-nlp-notes.pdf)\n",
    "- [Perceptron and LR connections](https://www.cs.utexas.edu/~gdurrett/courses/online-course/perc-lr-connections.pdf)\n",
    "- [Thumbs up? Sentiment Classification using Machine Learning Techniques](https://www.aclweb.org/anthology/W02-1011/)\n",
    "- [Baselines and Bigrams: Simple, Good Sentiment and Topic Classification](https://www.aclweb.org/anthology/P12-2018/)\n",
    "- [Convolutional Neural Networks for Sentence Classification](https://www.aclweb.org/anthology/D14-1181/)\n",
    "- [[GitHub] NLP Progress on Sentiment Analysis](https://github.com/sebastianruder/NLP-progress/blob/master/english/sentiment_analysis.md)\n"
   ]
  },
  {
   "cell_type": "markdown",
   "id": "8f3df6ce",
   "metadata": {},
   "source": [
    "*Links only; we do not redistribute slides or papers.*"
   ]
  }
 ],
 "metadata": {
  "language_info": {
   "codemirror_mode": {
    "name": "ipython",
    "version": 3
   },
   "file_extension": ".py",
   "mimetype": "text/x-python",
   "name": "python",
   "nbconvert_exporter": "python",
   "pygments_lexer": "ipython3",
   "version": "3.9.6"
  }
 },
 "nbformat": 4,
 "nbformat_minor": 5
}
