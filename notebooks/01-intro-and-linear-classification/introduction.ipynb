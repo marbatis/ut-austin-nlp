{
 "cells": [
  {
   "cell_type": "markdown",
   "id": "0e2af73e",
   "metadata": {},
   "source": [
    "# Introduction\n",
    "\n",
    "- 📺 **Video:** [https://youtu.be/k5p8teUNHX4](https://youtu.be/k5p8teUNHX4)"
   ]
  },
  {
   "cell_type": "markdown",
   "id": "4a2c62d4",
   "metadata": {},
   "source": [
    "## Overview\n",
    "An opening lecture defining Natural Language Processing and its scope. It likely discusses what makes NLP challenging (e.g."
   ]
  },
  {
   "cell_type": "code",
   "execution_count": null,
   "id": "2ea30670",
   "metadata": {},
   "outputs": [],
   "source": [
    "import os, random\n",
    "random.seed(0)\n",
    "CI = os.environ.get('CI') == 'true'"
   ]
  },
  {
   "cell_type": "markdown",
   "id": "1999f718",
   "metadata": {},
   "source": [
    "## Key ideas\n",
    "- ambiguity, variability of language) and surveys common NLP tasks (such as translation, question answering, information extraction).\n",
    "- The video might also highlight historical milestones or examples of NLP in everyday applications (like Siri or machine translation), to ground the theoretical content in real-world use.\n",
    "- Overall, this intro sets the stage for why methods like machine learning are needed to han language and how the course's topi connect to solving language understanding problems.\n",
    "- (Note: This intro video is from an older course run, so it may mention a different schedule, but the core ideas about NLP remain relevant.)"
   ]
  },
  {
   "cell_type": "markdown",
   "id": "4fb61b04",
   "metadata": {},
   "source": [
    "## Demo"
   ]
  },
  {
   "cell_type": "code",
   "execution_count": null,
   "id": "088fdb14",
   "metadata": {},
   "outputs": [],
   "source": [
    "print('Try the exercises below and follow the linked materials.')"
   ]
  },
  {
   "cell_type": "markdown",
   "id": "6fc79796",
   "metadata": {},
   "source": [
    "## Try it\n",
    "- Modify the demo\n",
    "- Add a tiny dataset or counter-example\n"
   ]
  },
  {
   "cell_type": "markdown",
   "id": "d6690419",
   "metadata": {},
   "source": [
    "## References\n",
    "- [Eisenstein 2.0-2.5, 4.2-4.4.1](https://github.com/jacobeisenstein/gt-nlp-class/blob/master/notes/eisenstein-nlp-notes.pdf)\n",
    "- [Perceptron and logistic regression](https://www.cs.utexas.edu/~gdurrett/courses/online-course/perc-lr-connections.pdf)\n",
    "- [Eisenstein 4.1](https://github.com/jacobeisenstein/gt-nlp-class/blob/master/notes/eisenstein-nlp-notes.pdf)\n",
    "- [Perceptron and LR connections](https://www.cs.utexas.edu/~gdurrett/courses/online-course/perc-lr-connections.pdf)\n",
    "- [Thumbs up? Sentiment Classification using Machine Learning Techniques](https://www.aclweb.org/anthology/W02-1011/)\n",
    "- [Baselines and Bigrams: Simple, Good Sentiment and Topic Classification](https://www.aclweb.org/anthology/P12-2018/)\n",
    "- [Convolutional Neural Networks for Sentence Classification](https://www.aclweb.org/anthology/D14-1181/)\n",
    "- [[GitHub] NLP Progress on Sentiment Analysis](https://github.com/sebastianruder/NLP-progress/blob/master/english/sentiment_analysis.md)\n"
   ]
  },
  {
   "cell_type": "markdown",
   "id": "8f3df6ce",
   "metadata": {},
   "source": [
    "*Links only; we do not redistribute slides or papers.*"
   ]
  }
 ],
 "metadata": {},
 "nbformat": 4,
 "nbformat_minor": 5
}
