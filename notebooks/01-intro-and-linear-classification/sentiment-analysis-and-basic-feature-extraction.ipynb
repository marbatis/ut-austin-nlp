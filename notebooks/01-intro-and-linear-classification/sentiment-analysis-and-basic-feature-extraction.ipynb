{
 "cells": [
  {
   "cell_type": "markdown",
   "id": "76212002",
   "metadata": {},
   "source": [
    "# Sentiment Analysis and Basic Feature Extraction\n",
    "\n",
    "- 📺 **Video:** [https://youtu.be/0jSElGFUxro](https://youtu.be/0jSElGFUxro)"
   ]
  },
  {
   "cell_type": "markdown",
   "id": "63f74fe7",
   "metadata": {},
   "source": [
    "## Overview\n",
    "Uses sentiment analysis (determining if text is positive or negative) as an example to demonstrate feature engineering for NLP. In this video, students learn how to transform raw text into features that a classifier can use."
   ]
  },
  {
   "cell_type": "code",
   "execution_count": null,
   "id": "85ea97ed",
   "metadata": {},
   "outputs": [],
   "source": [
    "import os, random\n",
    "random.seed(0)\n",
    "CI = os.environ.get('CI') == 'true'"
   ]
  },
  {
   "cell_type": "markdown",
   "id": "a0ba3b39",
   "metadata": {},
   "source": [
    "## Key ideas\n",
    "- It covers simple but powerful text features such as unigram presence (does a word appear or not), word frequency counts, and possibly bigrams (pairs of consecutive words) to capture simple context.\n",
    "- The video likely walks through an example of converting a sentence like \"This movie is not bad at all\" into a feature vector, illustrating choices like whether to lowercase words, remove stopwords, or han negations (“not bad” as a phrase).\n",
    "- The purpose is to show that how you represent text greatly affects a model's performance.\n",
    "- This practical discussion connects to the Pang et al."
   ]
  },
  {
   "cell_type": "markdown",
   "id": "268af63f",
   "metadata": {},
   "source": [
    "## Demo"
   ]
  },
  {
   "cell_type": "code",
   "execution_count": null,
   "id": "77bdf507",
   "metadata": {},
   "outputs": [],
   "source": [
    "print('Try the exercises below and follow the linked materials.')"
   ]
  },
  {
   "cell_type": "markdown",
   "id": "a35d91fd",
   "metadata": {},
   "source": [
    "## Try it\n",
    "- Modify the demo\n",
    "- Add a tiny dataset or counter-example\n"
   ]
  },
  {
   "cell_type": "markdown",
   "id": "6a26f1ea",
   "metadata": {},
   "source": [
    "## References\n",
    "- [Eisenstein 2.0-2.5, 4.2-4.4.1](https://github.com/jacobeisenstein/gt-nlp-class/blob/master/notes/eisenstein-nlp-notes.pdf)\n",
    "- [Perceptron and logistic regression](https://www.cs.utexas.edu/~gdurrett/courses/online-course/perc-lr-connections.pdf)\n",
    "- [Eisenstein 4.1](https://github.com/jacobeisenstein/gt-nlp-class/blob/master/notes/eisenstein-nlp-notes.pdf)\n",
    "- [Perceptron and LR connections](https://www.cs.utexas.edu/~gdurrett/courses/online-course/perc-lr-connections.pdf)\n",
    "- [Thumbs up? Sentiment Classification using Machine Learning Techniques](https://www.aclweb.org/anthology/W02-1011/)\n",
    "- [Baselines and Bigrams: Simple, Good Sentiment and Topic Classification](https://www.aclweb.org/anthology/P12-2018/)\n",
    "- [Convolutional Neural Networks for Sentence Classification](https://www.aclweb.org/anthology/D14-1181/)\n",
    "- [[GitHub] NLP Progress on Sentiment Analysis](https://github.com/sebastianruder/NLP-progress/blob/master/english/sentiment_analysis.md)\n"
   ]
  },
  {
   "cell_type": "markdown",
   "id": "f76433aa",
   "metadata": {},
   "source": [
    "*Links only; we do not redistribute slides or papers.*"
   ]
  }
 ],
 "metadata": {},
 "nbformat": 4,
 "nbformat_minor": 5
}
