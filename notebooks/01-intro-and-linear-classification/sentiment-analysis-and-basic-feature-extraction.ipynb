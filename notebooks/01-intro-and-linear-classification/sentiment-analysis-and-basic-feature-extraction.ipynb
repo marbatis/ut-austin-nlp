{
 "cells": [
  {
   "cell_type": "markdown",
   "id": "76212002",
   "metadata": {},
   "source": [
    "# Sentiment Analysis and Basic Feature Extraction\n",
    "\n",
    "- 📺 **Video:** [https://youtu.be/0jSElGFUxro](https://youtu.be/0jSElGFUxro)"
   ]
  },
  {
   "cell_type": "markdown",
   "id": "63f74fe7",
   "metadata": {},
   "source": [
    "## Overview\n",
    "- Learn how to transform raw text into useful lexical features for sentiment analysis.\n",
    "- Compare binary, count, and n-gram representations as precursors to more advanced models."
   ]
  },
  {
   "cell_type": "markdown",
   "id": "a0ba3b39",
   "metadata": {},
   "source": [
    "## Key ideas\n",
    "- **Tokenization choices:** whitespace vs. character n-grams capture different signals.\n",
    "- **Bag-of-words:** convert token counts into numeric vectors for linear models.\n",
    "- **Feature scaling:** TF-IDF balances frequent function words versus rare sentiment words.\n",
    "- **Baselines:** start with simple models to identify whether the labeling task is feasible."
   ]
  },
  {
   "cell_type": "markdown",
   "id": "268af63f",
   "metadata": {},
   "source": [
    "## Demo\n",
    "Extract unigram and bigram TF-IDF features with scikit-learn, then train a logistic regression classifier to echo the workflow in the lecture (https://youtu.be/j_M2i0TyBCw)."
   ]
  },
  {
   "cell_type": "code",
   "execution_count": 1,
   "id": "77bdf507",
   "metadata": {
    "execution": {
     "iopub.execute_input": "2025-10-29T01:25:57.384105Z",
     "iopub.status.busy": "2025-10-29T01:25:57.383864Z",
     "iopub.status.idle": "2025-10-29T01:25:58.205631Z",
     "shell.execute_reply": "2025-10-29T01:25:58.205330Z"
    }
   },
   "outputs": [
    {
     "name": "stdout",
     "output_type": "stream",
     "text": [
      "              precision    recall  f1-score   support\n",
      "\n",
      "           0      0.500     1.000     0.667         1\n",
      "           1      0.000     0.000     0.000         1\n",
      "\n",
      "    accuracy                          0.500         2\n",
      "   macro avg      0.250     0.500     0.333         2\n",
      "weighted avg      0.250     0.500     0.333         2\n",
      "\n"
     ]
    },
    {
     "name": "stderr",
     "output_type": "stream",
     "text": [
      "/Users/marcelosilveira/Library/Python/3.9/lib/python/site-packages/sklearn/metrics/_classification.py:1565: UndefinedMetricWarning: Precision is ill-defined and being set to 0.0 in labels with no predicted samples. Use `zero_division` parameter to control this behavior.\n",
      "  _warn_prf(average, modifier, f\"{metric.capitalize()} is\", len(result))\n",
      "/Users/marcelosilveira/Library/Python/3.9/lib/python/site-packages/sklearn/metrics/_classification.py:1565: UndefinedMetricWarning: Precision is ill-defined and being set to 0.0 in labels with no predicted samples. Use `zero_division` parameter to control this behavior.\n",
      "  _warn_prf(average, modifier, f\"{metric.capitalize()} is\", len(result))\n",
      "/Users/marcelosilveira/Library/Python/3.9/lib/python/site-packages/sklearn/metrics/_classification.py:1565: UndefinedMetricWarning: Precision is ill-defined and being set to 0.0 in labels with no predicted samples. Use `zero_division` parameter to control this behavior.\n",
      "  _warn_prf(average, modifier, f\"{metric.capitalize()} is\", len(result))\n"
     ]
    }
   ],
   "source": [
    "from sklearn.feature_extraction.text import TfidfVectorizer\n",
    "from sklearn.linear_model import LogisticRegression\n",
    "from sklearn.model_selection import train_test_split\n",
    "from sklearn.pipeline import Pipeline\n",
    "from sklearn.metrics import classification_report\n",
    "\n",
    "texts = [\n",
    "    'Loved the witty banter throughout the film',\n",
    "    'The jokes were predictable and stale',\n",
    "    'Heartfelt performances made me tear up',\n",
    "    'Boring plot with wooden acting',\n",
    "    'Inventive directing and charming leads',\n",
    "    'Too long and devoid of energy',\n",
    "    'Unexpected twists kept me engaged',\n",
    "    'Dull exposition with no payoff'\n",
    "]\n",
    "labels = [1, 0, 1, 0, 1, 0, 1, 0]\n",
    "\n",
    "pipe = Pipeline([\n",
    "    ('tfidf', TfidfVectorizer(ngram_range=(1, 2))),\n",
    "    ('clf', LogisticRegression(max_iter=1000, random_state=31))\n",
    "])\n",
    "\n",
    "X_train, X_test, y_train, y_test = train_test_split(texts, labels, test_size=0.25, random_state=31, stratify=labels)\n",
    "pipe.fit(X_train, y_train)\n",
    "\n",
    "print(classification_report(y_test, pipe.predict(X_test), digits=3))\n"
   ]
  },
  {
   "cell_type": "markdown",
   "id": "a35d91fd",
   "metadata": {},
   "source": [
    "## Try it\n",
    "- Modify the demo\n",
    "- Add a tiny dataset or counter-example\n"
   ]
  },
  {
   "cell_type": "markdown",
   "id": "6a26f1ea",
   "metadata": {},
   "source": [
    "## References\n",
    "- [Eisenstein 2.0-2.5, 4.2-4.4.1](https://github.com/jacobeisenstein/gt-nlp-class/blob/master/notes/eisenstein-nlp-notes.pdf)\n",
    "- [Perceptron and logistic regression](https://www.cs.utexas.edu/~gdurrett/courses/online-course/perc-lr-connections.pdf)\n",
    "- [Eisenstein 4.1](https://github.com/jacobeisenstein/gt-nlp-class/blob/master/notes/eisenstein-nlp-notes.pdf)\n",
    "- [Perceptron and LR connections](https://www.cs.utexas.edu/~gdurrett/courses/online-course/perc-lr-connections.pdf)\n",
    "- [Thumbs up? Sentiment Classification using Machine Learning Techniques](https://www.aclweb.org/anthology/W02-1011/)\n",
    "- [Baselines and Bigrams: Simple, Good Sentiment and Topic Classification](https://www.aclweb.org/anthology/P12-2018/)\n",
    "- [Convolutional Neural Networks for Sentence Classification](https://www.aclweb.org/anthology/D14-1181/)\n",
    "- [[GitHub] NLP Progress on Sentiment Analysis](https://github.com/sebastianruder/NLP-progress/blob/master/english/sentiment_analysis.md)\n"
   ]
  },
  {
   "cell_type": "markdown",
   "id": "f76433aa",
   "metadata": {},
   "source": [
    "*Links only; we do not redistribute slides or papers.*"
   ]
  }
 ],
 "metadata": {
  "language_info": {
   "codemirror_mode": {
    "name": "ipython",
    "version": 3
   },
   "file_extension": ".py",
   "mimetype": "text/x-python",
   "name": "python",
   "nbconvert_exporter": "python",
   "pygments_lexer": "ipython3",
   "version": "3.9.6"
  }
 },
 "nbformat": 4,
 "nbformat_minor": 5
}
