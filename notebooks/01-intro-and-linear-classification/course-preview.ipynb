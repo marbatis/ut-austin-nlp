{
 "cells": [
  {
   "cell_type": "markdown",
   "id": "1cbbf09c",
   "metadata": {},
   "source": [
    "# Course Preview\n",
    "\n",
    "- 📺 **Video:** [https://youtu.be/Mz8-LTednt4](https://youtu.be/Mz8-LTednt4)"
   ]
  },
  {
   "cell_type": "markdown",
   "id": "58b99bbc",
   "metadata": {},
   "source": [
    "## Overview\n",
    "- Get a tour of the workflow we will revisit: representing text, training linear models, and evaluating NLP systems.\n",
    "- Preview how each module builds from bag-of-words baselines toward neural architectures and responsible deployment."
   ]
  },
  {
   "cell_type": "markdown",
   "id": "3377463c",
   "metadata": {},
   "source": [
    "## Key ideas\n",
    "- **Feature pipelines:** combine tokenization and vectorization to turn raw text into numerical features.\n",
    "- **Linear classifiers:** logistic regression offers a strong baseline for many classification problems.\n",
    "- **Evaluation loop:** hold-out validation provides early feedback on whether features generalize.\n",
    "- **Iteration:** small experiments guide which modeling ideas deserve deeper investment later in the course."
   ]
  },
  {
   "cell_type": "markdown",
   "id": "da88781d",
   "metadata": {},
   "source": [
    "## Demo\n",
    "Train a bag-of-words logistic regression baseline on a toy sentiment dataset to illustrate the course pipeline end to end.\n",
    "Use the lecture video (https://youtu.be/DGPJc93HJJo) to dive into what each stage covers in more depth."
   ]
  },
  {
   "cell_type": "code",
   "execution_count": 1,
   "id": "7c965646",
   "metadata": {
    "execution": {
     "iopub.execute_input": "2025-10-29T01:25:47.943094Z",
     "iopub.status.busy": "2025-10-29T01:25:47.942851Z",
     "iopub.status.idle": "2025-10-29T01:25:48.754174Z",
     "shell.execute_reply": "2025-10-29T01:25:48.753876Z"
    }
   },
   "outputs": [
    {
     "name": "stdout",
     "output_type": "stream",
     "text": [
      "              precision    recall  f1-score   support\n",
      "\n",
      "           0      1.000     1.000     1.000         3\n",
      "           1      1.000     1.000     1.000         3\n",
      "\n",
      "    accuracy                          1.000         6\n",
      "   macro avg      1.000     1.000     1.000         6\n",
      "weighted avg      1.000     1.000     1.000         6\n",
      "\n"
     ]
    }
   ],
   "source": [
    "from sklearn.feature_extraction.text import CountVectorizer\n",
    "from sklearn.linear_model import LogisticRegression\n",
    "from sklearn.pipeline import make_pipeline\n",
    "from sklearn.metrics import classification_report\n",
    "\n",
    "texts = [\n",
    "    'Loved the crisp dialogue and pacing',\n",
    "    'The plot was boring and predictable',\n",
    "    'Fantastic soundtrack with great acting',\n",
    "    'Terrible effects and wooden performances',\n",
    "    'A delightful, funny story',\n",
    "    'I will never watch this again'\n",
    "]\n",
    "labels = [1, 0, 1, 0, 1, 0]\n",
    "\n",
    "model = make_pipeline(CountVectorizer(), LogisticRegression(max_iter=1000, random_state=2))\n",
    "model.fit(texts, labels)\n",
    "\n",
    "pred = model.predict(texts)\n",
    "print(classification_report(labels, pred, digits=3))\n"
   ]
  },
  {
   "cell_type": "markdown",
   "id": "0a410185",
   "metadata": {},
   "source": [
    "## Try it\n",
    "- Modify the demo\n",
    "- Add a tiny dataset or counter-example\n"
   ]
  },
  {
   "cell_type": "markdown",
   "id": "1c3f3dcf",
   "metadata": {},
   "source": [
    "## References\n",
    "- [Eisenstein 2.0-2.5, 4.2-4.4.1](https://github.com/jacobeisenstein/gt-nlp-class/blob/master/notes/eisenstein-nlp-notes.pdf)\n",
    "- [Perceptron and logistic regression](https://www.cs.utexas.edu/~gdurrett/courses/online-course/perc-lr-connections.pdf)\n",
    "- [Eisenstein 4.1](https://github.com/jacobeisenstein/gt-nlp-class/blob/master/notes/eisenstein-nlp-notes.pdf)\n",
    "- [Perceptron and LR connections](https://www.cs.utexas.edu/~gdurrett/courses/online-course/perc-lr-connections.pdf)\n",
    "- [Thumbs up? Sentiment Classification using Machine Learning Techniques](https://www.aclweb.org/anthology/W02-1011/)\n",
    "- [Baselines and Bigrams: Simple, Good Sentiment and Topic Classification](https://www.aclweb.org/anthology/P12-2018/)\n",
    "- [Convolutional Neural Networks for Sentence Classification](https://www.aclweb.org/anthology/D14-1181/)\n",
    "- [[GitHub] NLP Progress on Sentiment Analysis](https://github.com/sebastianruder/NLP-progress/blob/master/english/sentiment_analysis.md)\n"
   ]
  },
  {
   "cell_type": "markdown",
   "id": "31aae6c9",
   "metadata": {},
   "source": [
    "*Links only; we do not redistribute slides or papers.*"
   ]
  }
 ],
 "metadata": {
  "language_info": {
   "codemirror_mode": {
    "name": "ipython",
    "version": 3
   },
   "file_extension": ".py",
   "mimetype": "text/x-python",
   "name": "python",
   "nbconvert_exporter": "python",
   "pygments_lexer": "ipython3",
   "version": "3.9.6"
  }
 },
 "nbformat": 4,
 "nbformat_minor": 5
}
