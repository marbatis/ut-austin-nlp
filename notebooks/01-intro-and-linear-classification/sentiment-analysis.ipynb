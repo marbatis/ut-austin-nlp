{
 "cells": [
  {
   "cell_type": "markdown",
   "id": "89ac5503",
   "metadata": {},
   "source": [
    "# Sentiment Analysis\n",
    "\n",
    "- 📺 **Video:** [https://youtu.be/cKbnEmjxnOY](https://youtu.be/cKbnEmjxnOY)"
   ]
  },
  {
   "cell_type": "markdown",
   "id": "80098a25",
   "metadata": {},
   "source": [
    "## Overview\n",
    "Concluding the week, this video ties all the concepts together by revisiting the sentiment analysis example with a trained model. Now that students have learned about feature extraction, perceptron, and logistic regression, this segment likely shows the results of applying those to a sentiment dataset."
   ]
  },
  {
   "cell_type": "code",
   "execution_count": null,
   "id": "c0f07aa9",
   "metadata": {},
   "outputs": [],
   "source": [
    "import os, random\n",
    "random.seed(0)\n",
    "CI = os.environ.get('CI') == 'true'"
   ]
  },
  {
   "cell_type": "markdown",
   "id": "33165cef",
   "metadata": {},
   "source": [
    "## Key ideas\n",
    "- It might demonstrate how a classifier performs on movie reviews: e.g., showing example reviews and the model's predicted sentiment vs.\n",
    "- the true sentiment.\n",
    "- Common observations such as “not” flipping the sentiment or sarcastic comments causing errors could be highlighted to discuss limitations.\n",
    "- Importantly, the video references classic NLP research in sentiment to contextualize the progress: for instance, it might note that Bo Pang et al."
   ]
  },
  {
   "cell_type": "markdown",
   "id": "feaf55b6",
   "metadata": {},
   "source": [
    "## Demo"
   ]
  },
  {
   "cell_type": "code",
   "execution_count": null,
   "id": "90083519",
   "metadata": {},
   "outputs": [],
   "source": [
    "print('Try the exercises below and follow the linked materials.')"
   ]
  },
  {
   "cell_type": "markdown",
   "id": "e0844930",
   "metadata": {},
   "source": [
    "## Try it\n",
    "- Modify the demo\n",
    "- Add a tiny dataset or counter-example\n"
   ]
  },
  {
   "cell_type": "markdown",
   "id": "ee9356d6",
   "metadata": {},
   "source": [
    "## References\n",
    "- [Eisenstein 2.0-2.5, 4.2-4.4.1](https://github.com/jacobeisenstein/gt-nlp-class/blob/master/notes/eisenstein-nlp-notes.pdf)\n",
    "- [Perceptron and logistic regression](https://www.cs.utexas.edu/~gdurrett/courses/online-course/perc-lr-connections.pdf)\n",
    "- [Eisenstein 4.1](https://github.com/jacobeisenstein/gt-nlp-class/blob/master/notes/eisenstein-nlp-notes.pdf)\n",
    "- [Perceptron and LR connections](https://www.cs.utexas.edu/~gdurrett/courses/online-course/perc-lr-connections.pdf)\n",
    "- [Thumbs up? Sentiment Classification using Machine Learning Techniques](https://www.aclweb.org/anthology/W02-1011/)\n",
    "- [Baselines and Bigrams: Simple, Good Sentiment and Topic Classification](https://www.aclweb.org/anthology/P12-2018/)\n",
    "- [Convolutional Neural Networks for Sentence Classification](https://www.aclweb.org/anthology/D14-1181/)\n",
    "- [[GitHub] NLP Progress on Sentiment Analysis](https://github.com/sebastianruder/NLP-progress/blob/master/english/sentiment_analysis.md)\n"
   ]
  },
  {
   "cell_type": "markdown",
   "id": "6f56e549",
   "metadata": {},
   "source": [
    "*Links only; we do not redistribute slides or papers.*"
   ]
  }
 ],
 "metadata": {},
 "nbformat": 4,
 "nbformat_minor": 5
}
