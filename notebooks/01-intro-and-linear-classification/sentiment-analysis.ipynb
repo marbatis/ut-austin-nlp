{
 "cells": [
  {
   "cell_type": "markdown",
   "id": "89ac5503",
   "metadata": {},
   "source": [
    "# Sentiment Analysis\n",
    "\n",
    "- 📺 **Video:** [https://youtu.be/cKbnEmjxnOY](https://youtu.be/cKbnEmjxnOY)"
   ]
  },
  {
   "cell_type": "markdown",
   "id": "80098a25",
   "metadata": {},
   "source": [
    "## Overview\n",
    "- Frame sentiment analysis as supervised document classification.\n",
    "- Explore how labeled corpora enable rapid prototyping of usable models."
   ]
  },
  {
   "cell_type": "markdown",
   "id": "33165cef",
   "metadata": {},
   "source": [
    "## Key ideas\n",
    "- **Label design:** binary, ternary, or fine-grained sentiment require consistent annotation guidelines.\n",
    "- **Lexical cues:** words like 'excellent' or 'boring' provide strong signals even in simple models.\n",
    "- **Evaluation:** precision/recall highlight class imbalance considerations.\n",
    "- **Error analysis:** inspect misclassified reviews to inspire richer features or models."
   ]
  },
  {
   "cell_type": "markdown",
   "id": "feaf55b6",
   "metadata": {},
   "source": [
    "## Demo\n",
    "Train and evaluate a sentiment classifier on a small review dataset, mirroring the lecture's discussion (https://youtu.be/WEkRCbUwqcs) about iteration and evaluation."
   ]
  },
  {
   "cell_type": "code",
   "execution_count": 1,
   "id": "90083519",
   "metadata": {
    "execution": {
     "iopub.execute_input": "2025-10-29T01:25:58.836745Z",
     "iopub.status.busy": "2025-10-29T01:25:58.836320Z",
     "iopub.status.idle": "2025-10-29T01:25:59.601408Z",
     "shell.execute_reply": "2025-10-29T01:25:59.601027Z"
    }
   },
   "outputs": [
    {
     "name": "stdout",
     "output_type": "stream",
     "text": [
      "              precision    recall  f1-score   support\n",
      "\n",
      "           0      0.000     0.000     0.000       1.0\n",
      "           1      0.000     0.000     0.000       1.0\n",
      "\n",
      "    accuracy                          0.000       2.0\n",
      "   macro avg      0.000     0.000     0.000       2.0\n",
      "weighted avg      0.000     0.000     0.000       2.0\n",
      "\n"
     ]
    }
   ],
   "source": [
    "from sklearn.feature_extraction.text import CountVectorizer\n",
    "from sklearn.linear_model import LogisticRegression\n",
    "from sklearn.model_selection import train_test_split\n",
    "from sklearn.pipeline import make_pipeline\n",
    "from sklearn.metrics import classification_report\n",
    "\n",
    "texts = [\n",
    "    'What a delightful surprise',\n",
    "    'An absolute snooze fest',\n",
    "    'Smart script and compelling cast',\n",
    "    'Predictable drama with clichés',\n",
    "    'Energetic, heartfelt storytelling',\n",
    "    'Messy pacing and awkward humor',\n",
    "    'A crowd-pleasing feel-good movie',\n",
    "    'Fails to deliver on its premise'\n",
    "]\n",
    "labels = [1, 0, 1, 0, 1, 0, 1, 0]\n",
    "\n",
    "X_train, X_test, y_train, y_test = train_test_split(texts, labels, test_size=0.25, random_state=11, stratify=labels)\n",
    "model = make_pipeline(CountVectorizer(), LogisticRegression(max_iter=1000, random_state=11))\n",
    "model.fit(X_train, y_train)\n",
    "\n",
    "print(classification_report(y_test, model.predict(X_test), digits=3))\n"
   ]
  },
  {
   "cell_type": "markdown",
   "id": "e0844930",
   "metadata": {},
   "source": [
    "## Try it\n",
    "- Modify the demo\n",
    "- Add a tiny dataset or counter-example\n"
   ]
  },
  {
   "cell_type": "markdown",
   "id": "ee9356d6",
   "metadata": {},
   "source": [
    "## References\n",
    "- [Eisenstein 2.0-2.5, 4.2-4.4.1](https://github.com/jacobeisenstein/gt-nlp-class/blob/master/notes/eisenstein-nlp-notes.pdf)\n",
    "- [Perceptron and logistic regression](https://www.cs.utexas.edu/~gdurrett/courses/online-course/perc-lr-connections.pdf)\n",
    "- [Eisenstein 4.1](https://github.com/jacobeisenstein/gt-nlp-class/blob/master/notes/eisenstein-nlp-notes.pdf)\n",
    "- [Perceptron and LR connections](https://www.cs.utexas.edu/~gdurrett/courses/online-course/perc-lr-connections.pdf)\n",
    "- [Thumbs up? Sentiment Classification using Machine Learning Techniques](https://www.aclweb.org/anthology/W02-1011/)\n",
    "- [Baselines and Bigrams: Simple, Good Sentiment and Topic Classification](https://www.aclweb.org/anthology/P12-2018/)\n",
    "- [Convolutional Neural Networks for Sentence Classification](https://www.aclweb.org/anthology/D14-1181/)\n",
    "- [[GitHub] NLP Progress on Sentiment Analysis](https://github.com/sebastianruder/NLP-progress/blob/master/english/sentiment_analysis.md)\n"
   ]
  },
  {
   "cell_type": "markdown",
   "id": "6f56e549",
   "metadata": {},
   "source": [
    "*Links only; we do not redistribute slides or papers.*"
   ]
  }
 ],
 "metadata": {
  "language_info": {
   "codemirror_mode": {
    "name": "ipython",
    "version": 3
   },
   "file_extension": ".py",
   "mimetype": "text/x-python",
   "name": "python",
   "nbconvert_exporter": "python",
   "pygments_lexer": "ipython3",
   "version": "3.9.6"
  }
 },
 "nbformat": 4,
 "nbformat_minor": 5
}
