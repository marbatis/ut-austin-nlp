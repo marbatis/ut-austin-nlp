{
 "cells": [
  {
   "cell_type": "markdown",
   "id": "f9c61655",
   "metadata": {},
   "source": [
    "# Basics of Learning, Gradient Descent\n",
    "\n",
    "- 📺 **Video:** [https://youtu.be/_We4tlPkaj0](https://youtu.be/_We4tlPkaj0)"
   ]
  },
  {
   "cell_type": "markdown",
   "id": "8e34a4a3",
   "metadata": {},
   "source": [
    "## Overview\n",
    "- Walk through how gradient descent iteratively reduces empirical risk by following the slope of a differentiable loss.\n",
    "- See why tuning learning rate and convergence criteria matters for scalable NLP training loops."
   ]
  },
  {
   "cell_type": "markdown",
   "id": "0740f473",
   "metadata": {},
   "source": [
    "## Key ideas\n",
    "- **Empirical risk minimization:** treat learning as optimizing an average loss over training examples.\n",
    "- **Gradient direction:** the negative gradient gives the step that most rapidly decreases the loss locally.\n",
    "- **Learning rate schedules:** step size controls convergence speed versus stability; too large overshoots, too small stalls.\n",
    "- **Stopping:** monitor loss reduction or gradient norm to decide when the model has converged."
   ]
  },
  {
   "cell_type": "markdown",
   "id": "1096d0eb",
   "metadata": {},
   "source": [
    "## Demo\n",
    "Minimize a quadratic regression objective with batch gradient descent to highlight how the loss and parameters evolve.\n",
    "The video (https://youtu.be/_We4tlPkaj0) motivates this procedure conceptually; the code shows it numerically."
   ]
  },
  {
   "cell_type": "code",
   "execution_count": 1,
   "id": "4a8e8f42",
   "metadata": {
    "execution": {
     "iopub.execute_input": "2025-10-29T01:25:47.011460Z",
     "iopub.status.busy": "2025-10-29T01:25:47.011207Z",
     "iopub.status.idle": "2025-10-29T01:25:47.083212Z",
     "shell.execute_reply": "2025-10-29T01:25:47.082466Z"
    }
   },
   "outputs": [
    {
     "name": "stdout",
     "output_type": "stream",
     "text": [
      "step 100 | mse 0.1551 | weights [-1.99269966  3.01262177]\n",
      "step 200 | mse 0.1551 | weights [-1.99279116  3.01269009]\n",
      "step 300 | mse 0.1551 | weights [-1.99279116  3.0126901 ]\n",
      "step 400 | mse 0.1551 | weights [-1.99279116  3.0126901 ]\n",
      "step 500 | mse 0.1551 | weights [-1.99279116  3.0126901 ]\n",
      "step 600 | mse 0.1551 | weights [-1.99279116  3.0126901 ]\n",
      "\n",
      "Final parameters: [-1.99279116  3.0126901 ]\n"
     ]
    }
   ],
   "source": [
    "import numpy as np\n",
    "\n",
    "rng = np.random.default_rng(3)\n",
    "X_raw = rng.normal(size=200)\n",
    "y = 3.0 * X_raw - 2.0 + rng.normal(scale=0.4, size=200)\n",
    "X = np.c_[np.ones_like(X_raw), X_raw]\n",
    "\n",
    "w = np.zeros(X.shape[1])\n",
    "learning_rate = 0.1\n",
    "history = []\n",
    "\n",
    "for step in range(1, 601):\n",
    "    preds = X @ w\n",
    "    error = preds - y\n",
    "    grad = X.T @ error / len(X)\n",
    "    w -= learning_rate * grad\n",
    "    if step % 100 == 0:\n",
    "        mse = np.mean(error ** 2)\n",
    "        history.append((step, mse))\n",
    "        print(f\"step {step:3d} | mse {mse:.4f} | weights {w}\")\n",
    "\n",
    "print()\n",
    "print('Final parameters:', w)\n"
   ]
  },
  {
   "cell_type": "markdown",
   "id": "9b60ef58",
   "metadata": {},
   "source": [
    "## Try it\n",
    "- Modify the demo\n",
    "- Add a tiny dataset or counter-example\n"
   ]
  },
  {
   "cell_type": "markdown",
   "id": "6abe982a",
   "metadata": {},
   "source": [
    "## References\n",
    "- [Eisenstein 2.0-2.5, 4.2-4.4.1](https://github.com/jacobeisenstein/gt-nlp-class/blob/master/notes/eisenstein-nlp-notes.pdf)\n",
    "- [Perceptron and logistic regression](https://www.cs.utexas.edu/~gdurrett/courses/online-course/perc-lr-connections.pdf)\n",
    "- [Eisenstein 4.1](https://github.com/jacobeisenstein/gt-nlp-class/blob/master/notes/eisenstein-nlp-notes.pdf)\n",
    "- [Perceptron and LR connections](https://www.cs.utexas.edu/~gdurrett/courses/online-course/perc-lr-connections.pdf)\n",
    "- [Thumbs up? Sentiment Classification using Machine Learning Techniques](https://www.aclweb.org/anthology/W02-1011/)\n",
    "- [Baselines and Bigrams: Simple, Good Sentiment and Topic Classification](https://www.aclweb.org/anthology/P12-2018/)\n",
    "- [Convolutional Neural Networks for Sentence Classification](https://www.aclweb.org/anthology/D14-1181/)\n",
    "- [[GitHub] NLP Progress on Sentiment Analysis](https://github.com/sebastianruder/NLP-progress/blob/master/english/sentiment_analysis.md)\n"
   ]
  },
  {
   "cell_type": "markdown",
   "id": "982d5358",
   "metadata": {},
   "source": [
    "*Links only; we do not redistribute slides or papers.*"
   ]
  }
 ],
 "metadata": {
  "language_info": {
   "codemirror_mode": {
    "name": "ipython",
    "version": 3
   },
   "file_extension": ".py",
   "mimetype": "text/x-python",
   "name": "python",
   "nbconvert_exporter": "python",
   "pygments_lexer": "ipython3",
   "version": "3.9.6"
  }
 },
 "nbformat": 4,
 "nbformat_minor": 5
}
