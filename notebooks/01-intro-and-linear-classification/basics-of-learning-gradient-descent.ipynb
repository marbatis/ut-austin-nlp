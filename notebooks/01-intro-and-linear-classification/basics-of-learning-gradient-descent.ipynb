{
 "cells": [
  {
   "cell_type": "markdown",
   "id": "f9c61655",
   "metadata": {},
   "source": [
    "# Basics of Learning, Gradient Descent\n",
    "\n",
    "- 📺 **Video:** [https://youtu.be/_We4tlPkaj0](https://youtu.be/_We4tlPkaj0)"
   ]
  },
  {
   "cell_type": "markdown",
   "id": "8e34a4a3",
   "metadata": {},
   "source": [
    "## Overview\n",
    "Introduces how machine learning models learn from data, with a focus on the concept of a loss function and the optimization process. It explains that once we represent data in terms of features, we need a way to adjust our model's parameters to improve its predictions."
   ]
  },
  {
   "cell_type": "code",
   "execution_count": null,
   "id": "7745c916",
   "metadata": {},
   "outputs": [],
   "source": [
    "import os, random\n",
    "random.seed(0)\n",
    "CI = os.environ.get('CI') == 'true'"
   ]
  },
  {
   "cell_type": "markdown",
   "id": "0740f473",
   "metadata": {},
   "source": [
    "## Key ideas\n",
    "- The video likely covers the idea of a loss (or error) that quantifies how bad a model's predictions are - for example, using number of misclassifications or a logistic loss for logistic regression.\n",
    "- Then it walks through Gradient Descent, the core algorithm for minimizing such a loss.\n",
    "- Learners see how we compute the gradient (slope) of the loss with respect to model weights and then update the weights in the opposite direction to reduce the loss.\n",
    "- The presentation probably uses simple formulas or even visual intuition (like a bowl-shaped loss curve) to show how gradient descent iteratively finds better parameters."
   ]
  },
  {
   "cell_type": "markdown",
   "id": "1096d0eb",
   "metadata": {},
   "source": [
    "## Demo"
   ]
  },
  {
   "cell_type": "code",
   "execution_count": null,
   "id": "4a8e8f42",
   "metadata": {},
   "outputs": [],
   "source": [
    "print('Try the exercises below and follow the linked materials.')"
   ]
  },
  {
   "cell_type": "markdown",
   "id": "9b60ef58",
   "metadata": {},
   "source": [
    "## Try it\n",
    "- Modify the demo\n",
    "- Add a tiny dataset or counter-example\n"
   ]
  },
  {
   "cell_type": "markdown",
   "id": "6abe982a",
   "metadata": {},
   "source": [
    "## References\n",
    "- [Eisenstein 2.0-2.5, 4.2-4.4.1](https://github.com/jacobeisenstein/gt-nlp-class/blob/master/notes/eisenstein-nlp-notes.pdf)\n",
    "- [Perceptron and logistic regression](https://www.cs.utexas.edu/~gdurrett/courses/online-course/perc-lr-connections.pdf)\n",
    "- [Eisenstein 4.1](https://github.com/jacobeisenstein/gt-nlp-class/blob/master/notes/eisenstein-nlp-notes.pdf)\n",
    "- [Perceptron and LR connections](https://www.cs.utexas.edu/~gdurrett/courses/online-course/perc-lr-connections.pdf)\n",
    "- [Thumbs up? Sentiment Classification using Machine Learning Techniques](https://www.aclweb.org/anthology/W02-1011/)\n",
    "- [Baselines and Bigrams: Simple, Good Sentiment and Topic Classification](https://www.aclweb.org/anthology/P12-2018/)\n",
    "- [Convolutional Neural Networks for Sentence Classification](https://www.aclweb.org/anthology/D14-1181/)\n",
    "- [[GitHub] NLP Progress on Sentiment Analysis](https://github.com/sebastianruder/NLP-progress/blob/master/english/sentiment_analysis.md)\n"
   ]
  },
  {
   "cell_type": "markdown",
   "id": "982d5358",
   "metadata": {},
   "source": [
    "*Links only; we do not redistribute slides or papers.*"
   ]
  }
 ],
 "metadata": {},
 "nbformat": 4,
 "nbformat_minor": 5
}
