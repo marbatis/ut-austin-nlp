{
 "cells": [
  {
   "cell_type": "markdown",
   "id": "74c662f7",
   "metadata": {},
   "source": [
    "# Perceptron\n",
    "\n",
    "- 📺 **Video:** [https://youtu.be/tMGv5ZcuVP4](https://youtu.be/tMGv5ZcuVP4)"
   ]
  },
  {
   "cell_type": "markdown",
   "id": "97e6224f",
   "metadata": {},
   "source": [
    "## Overview\n",
    "- Study the perceptron algorithm as an online mistake-driven learner.\n",
    "- Learn how initialization, order, and learning rate influence convergence."
   ]
  },
  {
   "cell_type": "markdown",
   "id": "eaf78ae0",
   "metadata": {},
   "source": [
    "## Key ideas\n",
    "- **Online updates:** process examples one at a time and update only on errors.\n",
    "- **Separability:** perceptron converges if a separating hyperplane exists.\n",
    "- **Learning rate:** scales how aggressively weights move toward correcting the mistake.\n",
    "- **Averaging:** averaging weights over time improves generalization on noisy data."
   ]
  },
  {
   "cell_type": "markdown",
   "id": "a4bebeef",
   "metadata": {},
   "source": [
    "## Demo\n",
    "Run the perceptron on a noisy dataset twice—once with standard updates and once with averaged weights—to mirror the lecture (https://youtu.be/KQrmmdfOP3I)."
   ]
  },
  {
   "cell_type": "code",
   "execution_count": 1,
   "id": "cb14f803",
   "metadata": {
    "execution": {
     "iopub.execute_input": "2025-10-29T01:25:56.078195Z",
     "iopub.status.busy": "2025-10-29T01:25:56.077944Z",
     "iopub.status.idle": "2025-10-29T01:25:56.836897Z",
     "shell.execute_reply": "2025-10-29T01:25:56.836613Z"
    }
   },
   "outputs": [
    {
     "name": "stdout",
     "output_type": "stream",
     "text": [
      "Standard perceptron accuracy: 0.79\n",
      "Averaged perceptron accuracy: 0.81\n"
     ]
    }
   ],
   "source": [
    "from sklearn.datasets import make_classification\n",
    "import numpy as np\n",
    "from sklearn.metrics import accuracy_score\n",
    "\n",
    "X, y = make_classification(n_samples=400, n_features=6, n_informative=6, n_redundant=0, class_sep=1.0, flip_y=0.05, random_state=42)\n",
    "y_signed = np.where(y == 1, 1, -1)\n",
    "X = np.c_[np.ones(len(X)), X]\n",
    "\n",
    "standard_w = np.zeros(X.shape[1])\n",
    "avg_w = np.zeros_like(standard_w)\n",
    "weights_sum = np.zeros_like(standard_w)\n",
    "count = 0\n",
    "eta = 0.1\n",
    "\n",
    "for epoch in range(5):\n",
    "    for xi, yi in zip(X, y_signed):\n",
    "        if yi * (standard_w @ xi) <= 0:\n",
    "            standard_w += eta * yi * xi\n",
    "        if yi * (avg_w @ xi) <= 0:\n",
    "            avg_w += eta * yi * xi\n",
    "        weights_sum += avg_w\n",
    "        count += 1\n",
    "\n",
    "final_avg_w = weights_sum / count\n",
    "std_preds = np.where((X @ standard_w) > 0, 1, -1)\n",
    "avg_preds = np.where((X @ final_avg_w) > 0, 1, -1)\n",
    "\n",
    "print('Standard perceptron accuracy:', accuracy_score(y_signed, std_preds))\n",
    "print('Averaged perceptron accuracy:', accuracy_score(y_signed, avg_preds))\n"
   ]
  },
  {
   "cell_type": "markdown",
   "id": "6147cd40",
   "metadata": {},
   "source": [
    "## Try it\n",
    "- Modify the demo\n",
    "- Add a tiny dataset or counter-example\n"
   ]
  },
  {
   "cell_type": "markdown",
   "id": "47058a96",
   "metadata": {},
   "source": [
    "## References\n",
    "- [Eisenstein 2.0-2.5, 4.2-4.4.1](https://github.com/jacobeisenstein/gt-nlp-class/blob/master/notes/eisenstein-nlp-notes.pdf)\n",
    "- [Perceptron and logistic regression](https://www.cs.utexas.edu/~gdurrett/courses/online-course/perc-lr-connections.pdf)\n",
    "- [Eisenstein 4.1](https://github.com/jacobeisenstein/gt-nlp-class/blob/master/notes/eisenstein-nlp-notes.pdf)\n",
    "- [Perceptron and LR connections](https://www.cs.utexas.edu/~gdurrett/courses/online-course/perc-lr-connections.pdf)\n",
    "- [Thumbs up? Sentiment Classification using Machine Learning Techniques](https://www.aclweb.org/anthology/W02-1011/)\n",
    "- [Baselines and Bigrams: Simple, Good Sentiment and Topic Classification](https://www.aclweb.org/anthology/P12-2018/)\n",
    "- [Convolutional Neural Networks for Sentence Classification](https://www.aclweb.org/anthology/D14-1181/)\n",
    "- [[GitHub] NLP Progress on Sentiment Analysis](https://github.com/sebastianruder/NLP-progress/blob/master/english/sentiment_analysis.md)\n"
   ]
  },
  {
   "cell_type": "markdown",
   "id": "9bed9cfb",
   "metadata": {},
   "source": [
    "*Links only; we do not redistribute slides or papers.*"
   ]
  }
 ],
 "metadata": {
  "language_info": {
   "codemirror_mode": {
    "name": "ipython",
    "version": 3
   },
   "file_extension": ".py",
   "mimetype": "text/x-python",
   "name": "python",
   "nbconvert_exporter": "python",
   "pygments_lexer": "ipython3",
   "version": "3.9.6"
  }
 },
 "nbformat": 4,
 "nbformat_minor": 5
}
