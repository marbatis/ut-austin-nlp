{
 "cells": [
  {
   "cell_type": "markdown",
   "id": "74c662f7",
   "metadata": {},
   "source": [
    "# Perceptron\n",
    "\n",
    "- 📺 **Video:** [https://youtu.be/tMGv5ZcuVP4](https://youtu.be/tMGv5ZcuVP4)"
   ]
  },
  {
   "cell_type": "markdown",
   "id": "97e6224f",
   "metadata": {},
   "source": [
    "## Overview\n",
    "- What you’ll learn (fill in after watching)\n",
    "- Why it matters\n"
   ]
  },
  {
   "cell_type": "markdown",
   "id": "eaf78ae0",
   "metadata": {},
   "source": [
    "## Key ideas\n",
    "- TODO: Summarize the core ideas after viewing the lecture."
   ]
  },
  {
   "cell_type": "markdown",
   "id": "a4bebeef",
   "metadata": {},
   "source": [
    "## Demo\n",
    "Logistic regression on a synthetic classification task."
   ]
  },
  {
   "cell_type": "code",
   "execution_count": null,
   "id": "cb14f803",
   "metadata": {},
   "outputs": [],
   "source": [
    "# Logistic regression on synthetic binary data\n",
    "from sklearn.datasets import make_classification\n",
    "from sklearn.linear_model import LogisticRegression\n",
    "from sklearn.metrics import classification_report\n",
    "\n",
    "X, y = make_classification(n_samples=400, n_features=6, random_state=0)\n",
    "clf = LogisticRegression(max_iter=500, solver=\"lbfgs\").fit(X, y)\n",
    "pred = clf.predict(X)\n",
    "print(classification_report(y, pred, digits=3))\n"
   ]
  },
  {
   "cell_type": "markdown",
   "id": "6147cd40",
   "metadata": {},
   "source": [
    "## Try it\n",
    "- Modify the demo\n",
    "- Add a tiny dataset or counter-example\n"
   ]
  },
  {
   "cell_type": "markdown",
   "id": "47058a96",
   "metadata": {},
   "source": [
    "## References\n",
    "- [Eisenstein 2.0-2.5, 4.2-4.4.1](https://github.com/jacobeisenstein/gt-nlp-class/blob/master/notes/eisenstein-nlp-notes.pdf)\n",
    "- [Perceptron and logistic regression](https://www.cs.utexas.edu/~gdurrett/courses/online-course/perc-lr-connections.pdf)\n",
    "- [Eisenstein 4.1](https://github.com/jacobeisenstein/gt-nlp-class/blob/master/notes/eisenstein-nlp-notes.pdf)\n",
    "- [Perceptron and LR connections](https://www.cs.utexas.edu/~gdurrett/courses/online-course/perc-lr-connections.pdf)\n",
    "- [Thumbs up? Sentiment Classification using Machine Learning Techniques](https://www.aclweb.org/anthology/W02-1011/)\n",
    "- [Baselines and Bigrams: Simple, Good Sentiment and Topic Classification](https://www.aclweb.org/anthology/P12-2018/)\n",
    "- [Convolutional Neural Networks for Sentence Classification](https://www.aclweb.org/anthology/D14-1181/)\n",
    "- [[GitHub] NLP Progress on Sentiment Analysis](https://github.com/sebastianruder/NLP-progress/blob/master/english/sentiment_analysis.md)\n"
   ]
  },
  {
   "cell_type": "markdown",
   "id": "9bed9cfb",
   "metadata": {},
   "source": [
    "*Links only; we do not redistribute slides or papers.*"
   ]
  }
 ],
 "metadata": {},
 "nbformat": 4,
 "nbformat_minor": 5
}
