{
 "cells": [
  {
   "cell_type": "markdown",
   "id": "dcb7c651",
   "metadata": {},
   "source": [
    "# Linear Binary Classification\n",
    "\n",
    "- 📺 **Video:** [https://youtu.be/DVxR3AwdxoA](https://youtu.be/DVxR3AwdxoA)"
   ]
  },
  {
   "cell_type": "markdown",
   "id": "f1231b3e",
   "metadata": {},
   "source": [
    "## Overview\n",
    "Introduces the basi of text classification using linear models for a binary outcome (e.g. yes/no, positive/negative)."
   ]
  },
  {
   "cell_type": "code",
   "execution_count": null,
   "id": "fe654ebb",
   "metadata": {},
   "outputs": [],
   "source": [
    "import os, random\n",
    "random.seed(0)\n",
    "CI = os.environ.get('CI') == 'true'"
   ]
  },
  {
   "cell_type": "markdown",
   "id": "393fc44b",
   "metadata": {},
   "source": [
    "## Key ideas\n",
    "- It explains how we can represent a piece of text (say, a sentence or document) as a feature vector - for example, using a bag-of-words (which words appear, perhaps with their counts).\n",
    "- The video then covers how a linear classifier (like a perceptron or logistic regression model) uses those features to make predictions by weighting them and summing them up.\n",
    "- Key concepts such as the decision boundary are illustrated in the context of text (e.g.\n",
    "- a weight for the word “good” vs."
   ]
  },
  {
   "cell_type": "markdown",
   "id": "a3e3667f",
   "metadata": {},
   "source": [
    "## Demo"
   ]
  },
  {
   "cell_type": "code",
   "execution_count": null,
   "id": "0ef8dd0d",
   "metadata": {},
   "outputs": [],
   "source": [
    "# Tiny logistic regression demo on synthetic data\n",
    "from sklearn.datasets import make_classification\n",
    "from sklearn.linear_model import LogisticRegression\n",
    "from sklearn.model_selection import train_test_split\n",
    "from sklearn.metrics import accuracy_score\n",
    "import numpy as np\n",
    "\n",
    "X, y = make_classification(n_samples=800, n_features=10, random_state=0)\n",
    "Xtr, Xte, ytr, yte = train_test_split(X, y, test_size=0.25, random_state=0)\n",
    "clf = LogisticRegression(max_iter=500).fit(Xtr, ytr)\n",
    "print(\"Accuracy:\", accuracy_score(yte, clf.predict(Xte)))\n"
   ]
  },
  {
   "cell_type": "markdown",
   "id": "6b25ca8a",
   "metadata": {},
   "source": [
    "## Try it\n",
    "- Modify the demo\n",
    "- Add a tiny dataset or counter-example\n"
   ]
  },
  {
   "cell_type": "markdown",
   "id": "7815b8e1",
   "metadata": {},
   "source": [
    "## References\n",
    "- [Eisenstein 2.0-2.5, 4.2-4.4.1](https://github.com/jacobeisenstein/gt-nlp-class/blob/master/notes/eisenstein-nlp-notes.pdf)\n",
    "- [Perceptron and logistic regression](https://www.cs.utexas.edu/~gdurrett/courses/online-course/perc-lr-connections.pdf)\n",
    "- [Eisenstein 4.1](https://github.com/jacobeisenstein/gt-nlp-class/blob/master/notes/eisenstein-nlp-notes.pdf)\n",
    "- [Perceptron and LR connections](https://www.cs.utexas.edu/~gdurrett/courses/online-course/perc-lr-connections.pdf)\n",
    "- [Thumbs up? Sentiment Classification using Machine Learning Techniques](https://www.aclweb.org/anthology/W02-1011/)\n",
    "- [Baselines and Bigrams: Simple, Good Sentiment and Topic Classification](https://www.aclweb.org/anthology/P12-2018/)\n",
    "- [Convolutional Neural Networks for Sentence Classification](https://www.aclweb.org/anthology/D14-1181/)\n",
    "- [[GitHub] NLP Progress on Sentiment Analysis](https://github.com/sebastianruder/NLP-progress/blob/master/english/sentiment_analysis.md)\n"
   ]
  },
  {
   "cell_type": "markdown",
   "id": "8d23ac0d",
   "metadata": {},
   "source": [
    "*Links only; we do not redistribute slides or papers.*"
   ]
  }
 ],
 "metadata": {},
 "nbformat": 4,
 "nbformat_minor": 5
}
