{
 "cells": [
  {
   "cell_type": "markdown",
   "id": "dcb7c651",
   "metadata": {},
   "source": [
    "# Linear Binary Classification\n",
    "\n",
    "- 📺 **Video:** [https://youtu.be/DVxR3AwdxoA](https://youtu.be/DVxR3AwdxoA)"
   ]
  },
  {
   "cell_type": "markdown",
   "id": "f1231b3e",
   "metadata": {},
   "source": [
    "## Overview\n",
    "- What you’ll learn (fill in after watching)\n",
    "- Why it matters\n"
   ]
  },
  {
   "cell_type": "markdown",
   "id": "393fc44b",
   "metadata": {},
   "source": [
    "## Key ideas\n",
    "- TODO: Summarize the core ideas after viewing the lecture."
   ]
  },
  {
   "cell_type": "markdown",
   "id": "a3e3667f",
   "metadata": {},
   "source": [
    "## Demo\n",
    "Logistic regression on a synthetic classification task."
   ]
  },
  {
   "cell_type": "code",
   "execution_count": null,
   "id": "0ef8dd0d",
   "metadata": {},
   "outputs": [],
   "source": [
    "# Logistic regression on synthetic binary data\n",
    "from sklearn.datasets import make_classification\n",
    "from sklearn.linear_model import LogisticRegression\n",
    "from sklearn.metrics import classification_report\n",
    "\n",
    "X, y = make_classification(n_samples=400, n_features=6, random_state=0)\n",
    "clf = LogisticRegression(max_iter=500, solver=\"lbfgs\").fit(X, y)\n",
    "pred = clf.predict(X)\n",
    "print(classification_report(y, pred, digits=3))\n"
   ]
  },
  {
   "cell_type": "markdown",
   "id": "6b25ca8a",
   "metadata": {},
   "source": [
    "## Try it\n",
    "- Modify the demo\n",
    "- Add a tiny dataset or counter-example\n"
   ]
  },
  {
   "cell_type": "markdown",
   "id": "7815b8e1",
   "metadata": {},
   "source": [
    "## References\n",
    "- [Eisenstein 2.0-2.5, 4.2-4.4.1](https://github.com/jacobeisenstein/gt-nlp-class/blob/master/notes/eisenstein-nlp-notes.pdf)\n",
    "- [Perceptron and logistic regression](https://www.cs.utexas.edu/~gdurrett/courses/online-course/perc-lr-connections.pdf)\n",
    "- [Eisenstein 4.1](https://github.com/jacobeisenstein/gt-nlp-class/blob/master/notes/eisenstein-nlp-notes.pdf)\n",
    "- [Perceptron and LR connections](https://www.cs.utexas.edu/~gdurrett/courses/online-course/perc-lr-connections.pdf)\n",
    "- [Thumbs up? Sentiment Classification using Machine Learning Techniques](https://www.aclweb.org/anthology/W02-1011/)\n",
    "- [Baselines and Bigrams: Simple, Good Sentiment and Topic Classification](https://www.aclweb.org/anthology/P12-2018/)\n",
    "- [Convolutional Neural Networks for Sentence Classification](https://www.aclweb.org/anthology/D14-1181/)\n",
    "- [[GitHub] NLP Progress on Sentiment Analysis](https://github.com/sebastianruder/NLP-progress/blob/master/english/sentiment_analysis.md)\n"
   ]
  },
  {
   "cell_type": "markdown",
   "id": "8d23ac0d",
   "metadata": {},
   "source": [
    "*Links only; we do not redistribute slides or papers.*"
   ]
  }
 ],
 "metadata": {},
 "nbformat": 4,
 "nbformat_minor": 5
}
