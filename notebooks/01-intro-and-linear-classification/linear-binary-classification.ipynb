{
 "cells": [
  {
   "cell_type": "markdown",
   "id": "dcb7c651",
   "metadata": {},
   "source": [
    "# Linear Binary Classification\n",
    "\n",
    "- 📺 **Video:** [https://youtu.be/DVxR3AwdxoA](https://youtu.be/DVxR3AwdxoA)"
   ]
  },
  {
   "cell_type": "markdown",
   "id": "f1231b3e",
   "metadata": {},
   "source": [
    "## Overview\n",
    "- Revisit linear decision boundaries for separable binary data and why margins matter.\n",
    "- See how perceptron and logistic regression implement the same intuition with different losses."
   ]
  },
  {
   "cell_type": "markdown",
   "id": "393fc44b",
   "metadata": {},
   "source": [
    "## Key ideas\n",
    "- **Hyperplanes:** a linear classifier predicts by checking which side of a learned hyperplane an example lies on.\n",
    "- **Margins:** maximizing distance from the boundary improves robustness to noise.\n",
    "- **Loss choice:** hinge and logistic losses offer smoother alternatives to the 0/1 loss.\n",
    "- **Geometry intuition:** visualize projections to understand updates."
   ]
  },
  {
   "cell_type": "markdown",
   "id": "a3e3667f",
   "metadata": {},
   "source": [
    "## Demo\n",
    "Compare a perceptron and logistic regression on a linearly separable 2D dataset to connect the lecture (https://youtu.be/uMU1HNiX9J0) with concrete predictions."
   ]
  },
  {
   "cell_type": "code",
   "execution_count": 1,
   "id": "0ef8dd0d",
   "metadata": {
    "execution": {
     "iopub.execute_input": "2025-10-29T01:25:51.044075Z",
     "iopub.status.busy": "2025-10-29T01:25:51.043792Z",
     "iopub.status.idle": "2025-10-29T01:25:51.831685Z",
     "shell.execute_reply": "2025-10-29T01:25:51.831405Z"
    }
   },
   "outputs": [
    {
     "name": "stdout",
     "output_type": "stream",
     "text": [
      "Perceptron on linear data\n",
      "\n",
      "              precision    recall  f1-score   support\n",
      "\n",
      "           0      1.000     1.000     1.000        60\n",
      "           1      1.000     1.000     1.000        60\n",
      "\n",
      "    accuracy                          1.000       120\n",
      "   macro avg      1.000     1.000     1.000       120\n",
      "weighted avg      1.000     1.000     1.000       120\n",
      "\n",
      "\n",
      "Logistic regression\n",
      "\n",
      "              precision    recall  f1-score   support\n",
      "\n",
      "           0      1.000     1.000     1.000        60\n",
      "           1      1.000     1.000     1.000        60\n",
      "\n",
      "    accuracy                          1.000       120\n",
      "   macro avg      1.000     1.000     1.000       120\n",
      "weighted avg      1.000     1.000     1.000       120\n",
      "\n"
     ]
    }
   ],
   "source": [
    "from sklearn.datasets import make_classification\n",
    "from sklearn.linear_model import LogisticRegression, Perceptron\n",
    "from sklearn.metrics import classification_report\n",
    "from sklearn.model_selection import train_test_split\n",
    "\n",
    "X, y = make_classification(\n",
    "    n_samples=400, n_features=2, n_redundant=0, n_informative=2,\n",
    "    n_clusters_per_class=1, flip_y=0.0, class_sep=2.0, random_state=13\n",
    ")\n",
    "X_train, X_test, y_train, y_test = train_test_split(X, y, test_size=0.3, random_state=13, stratify=y)\n",
    "\n",
    "perceptron = Perceptron(max_iter=1000, tol=1e-3, random_state=13)\n",
    "log_reg = LogisticRegression(max_iter=1000, random_state=13)\n",
    "\n",
    "perceptron.fit(X_train, y_train)\n",
    "log_reg.fit(X_train, y_train)\n",
    "\n",
    "print('Perceptron on linear data')\n",
    "\n",
    "print()\n",
    "print(classification_report(y_test, perceptron.predict(X_test), digits=3))\n",
    "print()\n",
    "print('Logistic regression')\n",
    "print()\n",
    "print(classification_report(y_test, log_reg.predict(X_test), digits=3))\n"
   ]
  },
  {
   "cell_type": "markdown",
   "id": "6b25ca8a",
   "metadata": {},
   "source": [
    "## Try it\n",
    "- Modify the demo\n",
    "- Add a tiny dataset or counter-example\n"
   ]
  },
  {
   "cell_type": "markdown",
   "id": "7815b8e1",
   "metadata": {},
   "source": [
    "## References\n",
    "- [Eisenstein 2.0-2.5, 4.2-4.4.1](https://github.com/jacobeisenstein/gt-nlp-class/blob/master/notes/eisenstein-nlp-notes.pdf)\n",
    "- [Perceptron and logistic regression](https://www.cs.utexas.edu/~gdurrett/courses/online-course/perc-lr-connections.pdf)\n",
    "- [Eisenstein 4.1](https://github.com/jacobeisenstein/gt-nlp-class/blob/master/notes/eisenstein-nlp-notes.pdf)\n",
    "- [Perceptron and LR connections](https://www.cs.utexas.edu/~gdurrett/courses/online-course/perc-lr-connections.pdf)\n",
    "- [Thumbs up? Sentiment Classification using Machine Learning Techniques](https://www.aclweb.org/anthology/W02-1011/)\n",
    "- [Baselines and Bigrams: Simple, Good Sentiment and Topic Classification](https://www.aclweb.org/anthology/P12-2018/)\n",
    "- [Convolutional Neural Networks for Sentence Classification](https://www.aclweb.org/anthology/D14-1181/)\n",
    "- [[GitHub] NLP Progress on Sentiment Analysis](https://github.com/sebastianruder/NLP-progress/blob/master/english/sentiment_analysis.md)\n"
   ]
  },
  {
   "cell_type": "markdown",
   "id": "8d23ac0d",
   "metadata": {},
   "source": [
    "*Links only; we do not redistribute slides or papers.*"
   ]
  }
 ],
 "metadata": {
  "language_info": {
   "codemirror_mode": {
    "name": "ipython",
    "version": 3
   },
   "file_extension": ".py",
   "mimetype": "text/x-python",
   "name": "python",
   "nbconvert_exporter": "python",
   "pygments_lexer": "ipython3",
   "version": "3.9.6"
  }
 },
 "nbformat": 4,
 "nbformat_minor": 5
}
