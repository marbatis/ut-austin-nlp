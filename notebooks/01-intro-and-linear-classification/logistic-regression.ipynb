{
 "cells": [
  {
   "cell_type": "markdown",
   "id": "53a5fdf5",
   "metadata": {},
   "source": [
    "# Logistic Regression\n",
    "\n",
    "- 📺 **Video:** [https://youtu.be/0naHFT07ja8](https://youtu.be/0naHFT07ja8)"
   ]
  },
  {
   "cell_type": "markdown",
   "id": "afd99081",
   "metadata": {},
   "source": [
    "## Overview\n",
    "- Understand logistic regression as a probabilistic linear classifier optimized with convex loss.\n",
    "- Learn how regularization and interpretability make it a strong baseline for NLP tasks."
   ]
  },
  {
   "cell_type": "markdown",
   "id": "61baae01",
   "metadata": {},
   "source": [
    "## Key ideas\n",
    "- **Sigmoid link:** maps linear scores to calibrated probabilities.\n",
    "- **Cross-entropy loss:** convex objective enables efficient optimization.\n",
    "- **Regularization:** L2 penalties control coefficient magnitude and prevent overfitting.\n",
    "- **Interpretability:** weights reveal how features push decisions toward positive or negative classes."
   ]
  },
  {
   "cell_type": "markdown",
   "id": "9294d5bf",
   "metadata": {},
   "source": [
    "## Demo\n",
    "Fit logistic regression on a sentiment dataset and inspect probabilities to see how the model expresses confidence, following the lecture (https://youtu.be/QqBt22E7U4c)."
   ]
  },
  {
   "cell_type": "code",
   "execution_count": 1,
   "id": "001587ad",
   "metadata": {
    "execution": {
     "iopub.execute_input": "2025-10-29T01:25:52.469709Z",
     "iopub.status.busy": "2025-10-29T01:25:52.469115Z",
     "iopub.status.idle": "2025-10-29T01:25:53.258727Z",
     "shell.execute_reply": "2025-10-29T01:25:53.258452Z"
    }
   },
   "outputs": [
    {
     "name": "stdout",
     "output_type": "stream",
     "text": [
      "0.729 -> wonderful soundtrack and heartfelt acting\n",
      "0.225 -> unconvincing plot with clumsy twists\n",
      "0.751 -> sharp writing and charismatic leads\n",
      "0.250 -> slow pacing and lifeless direction\n",
      "0.796 -> the chemistry between leads sells it\n",
      "0.250 -> overly long and disappointingly bland\n"
     ]
    }
   ],
   "source": [
    "from sklearn.feature_extraction.text import CountVectorizer\n",
    "from sklearn.linear_model import LogisticRegression\n",
    "from sklearn.pipeline import make_pipeline\n",
    "from sklearn.metrics import classification_report\n",
    "\n",
    "texts = [\n",
    "    'wonderful soundtrack and heartfelt acting',\n",
    "    'unconvincing plot with clumsy twists',\n",
    "    'sharp writing and charismatic leads',\n",
    "    'slow pacing and lifeless direction',\n",
    "    'the chemistry between leads sells it',\n",
    "    'overly long and disappointingly bland'\n",
    "]\n",
    "labels = [1, 0, 1, 0, 1, 0]\n",
    "\n",
    "model = make_pipeline(CountVectorizer(), LogisticRegression(max_iter=1000, random_state=19))\n",
    "model.fit(texts, labels)\n",
    "\n",
    "proba = model.predict_proba(texts)\n",
    "for doc, probs in zip(texts, proba):\n",
    "    print(f\"{probs[1]:.3f} -> {doc}\")\n"
   ]
  },
  {
   "cell_type": "markdown",
   "id": "c1d10525",
   "metadata": {},
   "source": [
    "## Try it\n",
    "- Modify the demo\n",
    "- Add a tiny dataset or counter-example\n"
   ]
  },
  {
   "cell_type": "markdown",
   "id": "2de4a417",
   "metadata": {},
   "source": [
    "## References\n",
    "- [Eisenstein 2.0-2.5, 4.2-4.4.1](https://github.com/jacobeisenstein/gt-nlp-class/blob/master/notes/eisenstein-nlp-notes.pdf)\n",
    "- [Perceptron and logistic regression](https://www.cs.utexas.edu/~gdurrett/courses/online-course/perc-lr-connections.pdf)\n",
    "- [Eisenstein 4.1](https://github.com/jacobeisenstein/gt-nlp-class/blob/master/notes/eisenstein-nlp-notes.pdf)\n",
    "- [Perceptron and LR connections](https://www.cs.utexas.edu/~gdurrett/courses/online-course/perc-lr-connections.pdf)\n",
    "- [Thumbs up? Sentiment Classification using Machine Learning Techniques](https://www.aclweb.org/anthology/W02-1011/)\n",
    "- [Baselines and Bigrams: Simple, Good Sentiment and Topic Classification](https://www.aclweb.org/anthology/P12-2018/)\n",
    "- [Convolutional Neural Networks for Sentence Classification](https://www.aclweb.org/anthology/D14-1181/)\n",
    "- [[GitHub] NLP Progress on Sentiment Analysis](https://github.com/sebastianruder/NLP-progress/blob/master/english/sentiment_analysis.md)\n"
   ]
  },
  {
   "cell_type": "markdown",
   "id": "380a77d2",
   "metadata": {},
   "source": [
    "*Links only; we do not redistribute slides or papers.*"
   ]
  }
 ],
 "metadata": {
  "language_info": {
   "codemirror_mode": {
    "name": "ipython",
    "version": 3
   },
   "file_extension": ".py",
   "mimetype": "text/x-python",
   "name": "python",
   "nbconvert_exporter": "python",
   "pygments_lexer": "ipython3",
   "version": "3.9.6"
  }
 },
 "nbformat": 4,
 "nbformat_minor": 5
}
