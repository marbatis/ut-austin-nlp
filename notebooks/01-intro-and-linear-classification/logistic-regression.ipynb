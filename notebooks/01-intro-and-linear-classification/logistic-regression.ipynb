{
 "cells": [
  {
   "cell_type": "markdown",
   "id": "53a5fdf5",
   "metadata": {},
   "source": [
    "# Logistic Regression\n",
    "\n",
    "- 📺 **Video:** [https://youtu.be/0naHFT07ja8](https://youtu.be/0naHFT07ja8)"
   ]
  },
  {
   "cell_type": "markdown",
   "id": "afd99081",
   "metadata": {},
   "source": [
    "## Overview\n",
    "Presents Logistic Regression, a fundamental statistical classifier, and contrasts it with the perceptron. The video explains how logistic regression predicts a probability for the positive class by applying the logistic (sigmoid) function to the linear combination of features This yields an S-shaped curve where very negative weighted sums give probabilities near 0 and very positive sums near 1, providing a smooth output."
   ]
  },
  {
   "cell_type": "code",
   "execution_count": null,
   "id": "9244b5de",
   "metadata": {},
   "outputs": [],
   "source": [
    "import os, random\n",
    "random.seed(0)\n",
    "CI = os.environ.get('CI') == 'true'"
   ]
  },
  {
   "cell_type": "markdown",
   "id": "61baae01",
   "metadata": {},
   "source": [
    "## Key ideas\n",
    "- The training objective for logistic regression is to maximize the likelihood of the training labels (or equivalently minimize the logistic loss), which is achieved by gradient ascent/descent.\n",
    "- The lecture likely goes through an example: given a sentence's features, the model outputs, say, 0.8 probability of “positive”, meaning it's fairly confident.\n",
    "- It shows how, if the label is 1 (positive), the loss is low, but if the label were 0, the loss would be high - driving weight updates.\n",
    "- Logistic regression is praised for its probabilistic interpretation and a loss that is differentiable (unlike perceptron's step function), making it amenable to optimization."
   ]
  },
  {
   "cell_type": "markdown",
   "id": "9294d5bf",
   "metadata": {},
   "source": [
    "## Demo"
   ]
  },
  {
   "cell_type": "code",
   "execution_count": null,
   "id": "001587ad",
   "metadata": {},
   "outputs": [],
   "source": [
    "# Tiny logistic regression demo on synthetic data\n",
    "from sklearn.datasets import make_classification\n",
    "from sklearn.linear_model import LogisticRegression\n",
    "from sklearn.model_selection import train_test_split\n",
    "from sklearn.metrics import accuracy_score\n",
    "import numpy as np\n",
    "\n",
    "X, y = make_classification(n_samples=800, n_features=10, random_state=0)\n",
    "Xtr, Xte, ytr, yte = train_test_split(X, y, test_size=0.25, random_state=0)\n",
    "clf = LogisticRegression(max_iter=500).fit(Xtr, ytr)\n",
    "print(\"Accuracy:\", accuracy_score(yte, clf.predict(Xte)))\n"
   ]
  },
  {
   "cell_type": "markdown",
   "id": "c1d10525",
   "metadata": {},
   "source": [
    "## Try it\n",
    "- Modify the demo\n",
    "- Add a tiny dataset or counter-example\n"
   ]
  },
  {
   "cell_type": "markdown",
   "id": "2de4a417",
   "metadata": {},
   "source": [
    "## References\n",
    "- [Eisenstein 2.0-2.5, 4.2-4.4.1](https://github.com/jacobeisenstein/gt-nlp-class/blob/master/notes/eisenstein-nlp-notes.pdf)\n",
    "- [Perceptron and logistic regression](https://www.cs.utexas.edu/~gdurrett/courses/online-course/perc-lr-connections.pdf)\n",
    "- [Eisenstein 4.1](https://github.com/jacobeisenstein/gt-nlp-class/blob/master/notes/eisenstein-nlp-notes.pdf)\n",
    "- [Perceptron and LR connections](https://www.cs.utexas.edu/~gdurrett/courses/online-course/perc-lr-connections.pdf)\n",
    "- [Thumbs up? Sentiment Classification using Machine Learning Techniques](https://www.aclweb.org/anthology/W02-1011/)\n",
    "- [Baselines and Bigrams: Simple, Good Sentiment and Topic Classification](https://www.aclweb.org/anthology/P12-2018/)\n",
    "- [Convolutional Neural Networks for Sentence Classification](https://www.aclweb.org/anthology/D14-1181/)\n",
    "- [[GitHub] NLP Progress on Sentiment Analysis](https://github.com/sebastianruder/NLP-progress/blob/master/english/sentiment_analysis.md)\n"
   ]
  },
  {
   "cell_type": "markdown",
   "id": "380a77d2",
   "metadata": {},
   "source": [
    "*Links only; we do not redistribute slides or papers.*"
   ]
  }
 ],
 "metadata": {},
 "nbformat": 4,
 "nbformat_minor": 5
}
