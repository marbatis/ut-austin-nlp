{
 "cells": [
  {
   "cell_type": "markdown",
   "id": "1c3a6a16",
   "metadata": {},
   "source": [
    "# Using Transformers\n",
    "\n",
    "- 📺 **Video:** [https://youtu.be/1Efx04lHa7w](https://youtu.be/1Efx04lHa7w)"
   ]
  },
  {
   "cell_type": "markdown",
   "id": "579d85f9",
   "metadata": {},
   "source": [
    "## Overview\n",
    "- Discuss how to fine-tune transformer encoders for downstream NLP tasks.\n",
    "- Outline data preprocessing, classifier heads, and optimization details."
   ]
  },
  {
   "cell_type": "markdown",
   "id": "f5332a60",
   "metadata": {},
   "source": [
    "## Key ideas\n",
    "- **Tokenization:** convert text to subword ids compatible with the model.\n",
    "- **CLS representation:** pooled encoder output feeds a task-specific head.\n",
    "- **Fine-tuning loop:** backpropagate through the entire model with a small learning rate.\n",
    "- **Regularization:** dropout, weight decay, and early stopping prevent overfitting."
   ]
  },
  {
   "cell_type": "markdown",
   "id": "40c509e5",
   "metadata": {},
   "source": [
    "## Demo\n",
    "Mock a transformer encoder with PyTorch and attach a classifier head to show the mechanics of fine-tuning described in the lecture (https://youtu.be/9HRtJNLa-HI)."
   ]
  },
  {
   "cell_type": "code",
   "execution_count": 1,
   "id": "554b37b5",
   "metadata": {
    "execution": {
     "iopub.execute_input": "2025-10-29T01:29:21.146065Z",
     "iopub.status.busy": "2025-10-29T01:29:21.145674Z",
     "iopub.status.idle": "2025-10-29T01:29:22.206740Z",
     "shell.execute_reply": "2025-10-29T01:29:22.206443Z"
    }
   },
   "outputs": [
    {
     "name": "stdout",
     "output_type": "stream",
     "text": [
      "epoch 1 | loss 0.9924 | acc 0.500\n",
      "epoch 2 | loss 0.9254 | acc 0.500\n",
      "epoch 3 | loss 0.8271 | acc 0.500\n",
      "epoch 4 | loss 0.5911 | acc 0.500\n",
      "epoch 5 | loss 0.4961 | acc 0.500\n"
     ]
    }
   ],
   "source": [
    "import torch\n",
    "from torch import nn\n",
    "\n",
    "class MiniTransformerClassifier(nn.Module):\n",
    "    def __init__(self, vocab_size=50, d_model=32, nhead=4, num_layers=2):\n",
    "        super().__init__()\n",
    "        self.embedding = nn.Embedding(vocab_size, d_model)\n",
    "        encoder_layer = nn.TransformerEncoderLayer(d_model=d_model, nhead=nhead, dim_feedforward=64, batch_first=True)\n",
    "        self.encoder = nn.TransformerEncoder(encoder_layer, num_layers=num_layers)\n",
    "        self.classifier = nn.Sequential(\n",
    "            nn.LayerNorm(d_model),\n",
    "            nn.Linear(d_model, 2)\n",
    "        )\n",
    "    def forward(self, input_ids):\n",
    "        x = self.embedding(input_ids)\n",
    "        encoded = self.encoder(x)\n",
    "        cls_rep = encoded[:, 0]\n",
    "        return self.classifier(cls_rep)\n",
    "\n",
    "model = MiniTransformerClassifier()\n",
    "optimizer = torch.optim.Adam(model.parameters(), lr=1e-3)\n",
    "criterion = nn.CrossEntropyLoss()\n",
    "\n",
    "inputs = torch.tensor([[1, 5, 2, 9], [3, 7, 8, 0]])\n",
    "labels = torch.tensor([1, 0])\n",
    "\n",
    "for epoch in range(1, 6):\n",
    "    logits = model(inputs)\n",
    "    loss = criterion(logits, labels)\n",
    "    optimizer.zero_grad()\n",
    "    loss.backward()\n",
    "    optimizer.step()\n",
    "    preds = logits.argmax(dim=-1)\n",
    "    acc = (preds == labels).float().mean().item()\n",
    "    print(f\"epoch {epoch} | loss {loss.item():.4f} | acc {acc:.3f}\")\n"
   ]
  },
  {
   "cell_type": "markdown",
   "id": "12a5729f",
   "metadata": {},
   "source": [
    "## Try it\n",
    "- Modify the demo\n",
    "- Add a tiny dataset or counter-example\n"
   ]
  },
  {
   "cell_type": "markdown",
   "id": "0344c627",
   "metadata": {},
   "source": [
    "## References\n",
    "- [Attention Is All You Need](https://arxiv.org/pdf/1706.03762.pdf)\n",
    "- [Scaling Laws for Neural Language Models](https://arxiv.org/abs/2001.08361)\n",
    "- [Efficient Transformers: A Survey](https://arxiv.org/abs/2009.06732)\n",
    "- [Rethinking Attention with Performers](https://arxiv.org/abs/2009.14794)\n",
    "- [Longformer: The Long-Document Transformer](https://arxiv.org/abs/2004.05150)\n",
    "- [The Curious Case of Neural Text Degeneration](https://arxiv.org/abs/1904.09751)\n"
   ]
  },
  {
   "cell_type": "markdown",
   "id": "7ef18781",
   "metadata": {},
   "source": [
    "*Links only; we do not redistribute slides or papers.*"
   ]
  }
 ],
 "metadata": {
  "language_info": {
   "codemirror_mode": {
    "name": "ipython",
    "version": 3
   },
   "file_extension": ".py",
   "mimetype": "text/x-python",
   "name": "python",
   "nbconvert_exporter": "python",
   "pygments_lexer": "ipython3",
   "version": "3.9.6"
  }
 },
 "nbformat": 4,
 "nbformat_minor": 5
}
