{
 "cells": [
  {
   "cell_type": "markdown",
   "id": "1c3a6a16",
   "metadata": {},
   "source": [
    "# Using Transformers\n",
    "\n",
    "- 📺 **Video:** [https://youtu.be/1Efx04lHa7w](https://youtu.be/1Efx04lHa7w)"
   ]
  },
  {
   "cell_type": "markdown",
   "id": "579d85f9",
   "metadata": {},
   "source": [
    "## Overview\n",
    "Discusses practical considerations and uses of Transformers in various NLP tasks. This might involve how to take a pre-trained Transformer and fine-tune it for a task, or how to set up training for one from scratch."
   ]
  },
  {
   "cell_type": "code",
   "execution_count": null,
   "id": "ce0a6de3",
   "metadata": {},
   "outputs": [],
   "source": [
    "import os, random\n",
    "random.seed(0)\n",
    "CI = os.environ.get('CI') == 'true'"
   ]
  },
  {
   "cell_type": "markdown",
   "id": "f5332a60",
   "metadata": {},
   "source": [
    "## Key ideas\n",
    "- Possibly it covers libraries and tools (like mentioning Hugging Face's Transformers library) that make it easier to apply these models.\n",
    "- The video could walk through an example: say using a Transformer encoder for text classification (like BERT does) or using a Transformer decoder for language modeling.\n",
    "- It might address questions like: how do you han very long inputs (segmentation or hierarchical processing if beyond the model's limit), how much compute/memory they require, etc.\n",
    "- Another angle is explaining transfer learning with Transformers: e.g., BERT is essentially a transformer encoder trained as a language model (with a special objective) and then used for downstream tasks by fine-tuning."
   ]
  },
  {
   "cell_type": "markdown",
   "id": "40c509e5",
   "metadata": {},
   "source": [
    "## Demo"
   ]
  },
  {
   "cell_type": "code",
   "execution_count": null,
   "id": "554b37b5",
   "metadata": {},
   "outputs": [],
   "source": [
    "# Scaled dot-product attention (toy)\n",
    "import numpy as np\n",
    "\n",
    "def softmax(x, axis=-1):\n",
    "    x = x - x.max(axis=axis, keepdims=True)\n",
    "    e = np.exp(x)\n",
    "    return e / e.sum(axis=axis, keepdims=True)\n",
    "\n",
    "np.random.seed(0)\n",
    "Q = np.random.randn(3, 4)  # 3 queries, dim 4\n",
    "K = np.random.randn(5, 4)  # 5 keys, dim 4\n",
    "V = np.random.randn(5, 6)  # 5 values, dim 6\n",
    "\n",
    "scores = Q @ K.T / np.sqrt(Q.shape[-1])  # (3,5)\n",
    "weights = softmax(scores, axis=-1)       # (3,5)\n",
    "out = weights @ V                        # (3,6)\n",
    "print(\"weights.shape:\", weights.shape, \"out.shape:\", out.shape)\n"
   ]
  },
  {
   "cell_type": "markdown",
   "id": "12a5729f",
   "metadata": {},
   "source": [
    "## Try it\n",
    "- Modify the demo\n",
    "- Add a tiny dataset or counter-example\n"
   ]
  },
  {
   "cell_type": "markdown",
   "id": "0344c627",
   "metadata": {},
   "source": [
    "## References\n",
    "- [Attention Is All You Need](https://arxiv.org/pdf/1706.03762.pdf)\n",
    "- [Scaling Laws for Neural Language Models](https://arxiv.org/abs/2001.08361)\n",
    "- [Efficient Transformers: A Survey](https://arxiv.org/abs/2009.06732)\n",
    "- [Rethinking Attention with Performers](https://arxiv.org/abs/2009.14794)\n",
    "- [Longformer: The Long-Document Transformer](https://arxiv.org/abs/2004.05150)\n",
    "- [The Curious Case of Neural Text Degeneration](https://arxiv.org/abs/1904.09751)\n"
   ]
  },
  {
   "cell_type": "markdown",
   "id": "7ef18781",
   "metadata": {},
   "source": [
    "*Links only; we do not redistribute slides or papers.*"
   ]
  }
 ],
 "metadata": {},
 "nbformat": 4,
 "nbformat_minor": 5
}
