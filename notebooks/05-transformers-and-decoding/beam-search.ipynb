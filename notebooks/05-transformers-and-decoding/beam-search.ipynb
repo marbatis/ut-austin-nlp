{
 "cells": [
  {
   "cell_type": "markdown",
   "id": "c367affd",
   "metadata": {},
   "source": [
    "# Beam Search\n",
    "\n",
    "- 📺 **Video:** [https://youtu.be/wltqDbhlcJ0](https://youtu.be/wltqDbhlcJ0)"
   ]
  },
  {
   "cell_type": "markdown",
   "id": "d5cb2d40",
   "metadata": {},
   "source": [
    "## Overview\n",
    "- Decode sequences by exploring multiple hypotheses at each time step rather than greedy choices.\n",
    "- Understand how beam size trades computation for solution quality."
   ]
  },
  {
   "cell_type": "markdown",
   "id": "816af836",
   "metadata": {},
   "source": [
    "## Key ideas\n",
    "- **Hypothesis expansion:** keep top-k partial sequences ranked by log probability.\n",
    "- **Length normalization:** adjust scores to avoid favoring short outputs.\n",
    "- **Diversity:** constraints or penalties encourage different beams.\n",
    "- **Trade-offs:** larger beams improve accuracy but raise latency."
   ]
  },
  {
   "cell_type": "markdown",
   "id": "3c370673",
   "metadata": {},
   "source": [
    "## Demo\n",
    "Run beam search on a toy probability table to recover the most likely three-token sequence, paralleling the lecture (https://youtu.be/L369zuF6Lt8)."
   ]
  },
  {
   "cell_type": "code",
   "execution_count": 1,
   "id": "99c0b1c8",
   "metadata": {
    "execution": {
     "iopub.execute_input": "2025-10-29T01:29:15.307240Z",
     "iopub.status.busy": "2025-10-29T01:29:15.306998Z",
     "iopub.status.idle": "2025-10-29T01:29:15.317485Z",
     "shell.execute_reply": "2025-10-29T01:29:15.317090Z"
    }
   },
   "outputs": [
    {
     "name": "stdout",
     "output_type": "stream",
     "text": [
      "Top hypotheses:\n",
      "<s> C B A | logP=-4.30\n",
      "<s> B A A | logP=-4.30\n",
      "C B </s> | logP=-3.30\n"
     ]
    }
   ],
   "source": [
    "import math\n",
    "\n",
    "vocab = ['A', 'B', 'C', '</s>']\n",
    "log_probs = {\n",
    "    '<s>': {'A': -0.2, 'B': -1.0, 'C': -1.5},\n",
    "    'A': {'A': -2.0, 'B': -0.5, 'C': -1.2, '</s>': -0.4},\n",
    "    'B': {'A': -1.3, 'B': -0.8, 'C': -0.9, '</s>': -0.3},\n",
    "    'C': {'A': -0.5, 'B': -1.5, 'C': -0.7, '</s>': -1.2}\n",
    "}\n",
    "\n",
    "beam_size = 2\n",
    "max_len = 3\n",
    "beams = [('<s>', 0.0)]\n",
    "finished = []\n",
    "\n",
    "for _ in range(max_len):\n",
    "    new_beams = []\n",
    "    for seq, score in beams:\n",
    "        last_token = seq.split()[-1]\n",
    "        for token, lp in log_probs[last_token].items():\n",
    "            new_seq = seq + ' ' + token\n",
    "            new_score = score + lp\n",
    "            if token == '</s>':\n",
    "                finished.append((new_seq.replace('<s> ', ''), new_score))\n",
    "            else:\n",
    "                new_beams.append((new_seq, new_score))\n",
    "    new_beams.sort(key=lambda x: x[1])\n",
    "    beams = new_beams[:beam_size]\n",
    "\n",
    "finished.extend(beams)\n",
    "finished.sort(key=lambda x: x[1])\n",
    "\n",
    "print('Top hypotheses:')\n",
    "for seq, score in finished[:3]:\n",
    "    print(f\"{seq} | logP={score:.2f}\")"
   ]
  },
  {
   "cell_type": "markdown",
   "id": "32eed4f0",
   "metadata": {},
   "source": [
    "## Try it\n",
    "- Modify the demo\n",
    "- Add a tiny dataset or counter-example\n"
   ]
  },
  {
   "cell_type": "markdown",
   "id": "c284ea54",
   "metadata": {},
   "source": [
    "## References\n",
    "- [Attention Is All You Need](https://arxiv.org/pdf/1706.03762.pdf)\n",
    "- [Scaling Laws for Neural Language Models](https://arxiv.org/abs/2001.08361)\n",
    "- [Efficient Transformers: A Survey](https://arxiv.org/abs/2009.06732)\n",
    "- [Rethinking Attention with Performers](https://arxiv.org/abs/2009.14794)\n",
    "- [Longformer: The Long-Document Transformer](https://arxiv.org/abs/2004.05150)\n",
    "- [The Curious Case of Neural Text Degeneration](https://arxiv.org/abs/1904.09751)\n"
   ]
  },
  {
   "cell_type": "markdown",
   "id": "2a98d1be",
   "metadata": {},
   "source": [
    "*Links only; we do not redistribute slides or papers.*"
   ]
  }
 ],
 "metadata": {
  "language_info": {
   "codemirror_mode": {
    "name": "ipython",
    "version": 3
   },
   "file_extension": ".py",
   "mimetype": "text/x-python",
   "name": "python",
   "nbconvert_exporter": "python",
   "pygments_lexer": "ipython3",
   "version": "3.9.6"
  }
 },
 "nbformat": 4,
 "nbformat_minor": 5
}
