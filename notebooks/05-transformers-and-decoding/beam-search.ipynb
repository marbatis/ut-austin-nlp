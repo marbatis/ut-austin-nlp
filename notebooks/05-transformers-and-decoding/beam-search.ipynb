{
 "cells": [
  {
   "cell_type": "markdown",
   "id": "c367affd",
   "metadata": {},
   "source": [
    "# Beam Search\n",
    "\n",
    "- 📺 **Video:** [https://youtu.be/wltqDbhlcJ0](https://youtu.be/wltqDbhlcJ0)"
   ]
  },
  {
   "cell_type": "markdown",
   "id": "d5cb2d40",
   "metadata": {},
   "source": [
    "## Overview\n",
    "Introduces Beam Search, a decoding algorithm for generating sequences from models (like translation or dialogue systems) in a more optimal way than naive greedy choice. The video explains that at each time step, instead of choosing only the best next word, beam search keeps track of the top B (beam width) partial hypotheses (sequences) and extends each of them."
   ]
  },
  {
   "cell_type": "code",
   "execution_count": null,
   "id": "2f22c559",
   "metadata": {},
   "outputs": [],
   "source": [
    "import os, random\n",
    "random.seed(0)\n",
    "CI = os.environ.get('CI') == 'true'"
   ]
  },
  {
   "cell_type": "markdown",
   "id": "816af836",
   "metadata": {},
   "source": [
    "## Key ideas\n",
    "- It then prunes to the top B of those extensions, and repeats.\n",
    "- This finds a higher probability complete sequence than greedy might, because it can recover from local optima by exploring multiple candidates in parallel.\n",
    "- The lecture might give a small example: suppose the model at first word gives probabilities: “I” (0.4), “The” (0.3), “A” (0.2), ...; a beam of size 2 would keep “I” and “The”.\n",
    "- Next word, each of those expands to a few possibilities, and we keep the best 2 overall two-word sequences, and so on."
   ]
  },
  {
   "cell_type": "markdown",
   "id": "3c370673",
   "metadata": {},
   "source": [
    "## Demo"
   ]
  },
  {
   "cell_type": "code",
   "execution_count": null,
   "id": "99c0b1c8",
   "metadata": {},
   "outputs": [],
   "source": [
    "print('Try the exercises below and follow the linked materials.')"
   ]
  },
  {
   "cell_type": "markdown",
   "id": "32eed4f0",
   "metadata": {},
   "source": [
    "## Try it\n",
    "- Modify the demo\n",
    "- Add a tiny dataset or counter-example\n"
   ]
  },
  {
   "cell_type": "markdown",
   "id": "c284ea54",
   "metadata": {},
   "source": [
    "## References\n",
    "- [Attention Is All You Need](https://arxiv.org/pdf/1706.03762.pdf)\n",
    "- [Scaling Laws for Neural Language Models](https://arxiv.org/abs/2001.08361)\n",
    "- [Efficient Transformers: A Survey](https://arxiv.org/abs/2009.06732)\n",
    "- [Rethinking Attention with Performers](https://arxiv.org/abs/2009.14794)\n",
    "- [Longformer: The Long-Document Transformer](https://arxiv.org/abs/2004.05150)\n",
    "- [The Curious Case of Neural Text Degeneration](https://arxiv.org/abs/1904.09751)\n"
   ]
  },
  {
   "cell_type": "markdown",
   "id": "2a98d1be",
   "metadata": {},
   "source": [
    "*Links only; we do not redistribute slides or papers.*"
   ]
  }
 ],
 "metadata": {},
 "nbformat": 4,
 "nbformat_minor": 5
}
