{
 "cells": [
  {
   "cell_type": "markdown",
   "id": "39b2eff4",
   "metadata": {},
   "source": [
    "# Transformer Architecture\n",
    "\n",
    "- Source: [https://youtu.be/sLsUD-RcDqg](https://youtu.be/sLsUD-RcDqg)"
   ]
  },
  {
   "cell_type": "markdown",
   "id": "93584d15",
   "metadata": {},
   "source": [
    "## Overview\n",
    "- What you’ll learn (fill in after watching)\n",
    "- Why it matters\n"
   ]
  },
  {
   "cell_type": "code",
   "execution_count": null,
   "id": "3692ae16",
   "metadata": {},
   "outputs": [],
   "source": [
    "import os, random\n",
    "random.seed(0)\n",
    "CI = os.environ.get('CI') == 'true'"
   ]
  },
  {
   "cell_type": "markdown",
   "id": "cf6e93af",
   "metadata": {},
   "source": [
    "## Key ideas\n",
    "- TODO: Summarize the core ideas after viewing the lecture."
   ]
  },
  {
   "cell_type": "markdown",
   "id": "54a8863d",
   "metadata": {},
   "source": [
    "## Demo"
   ]
  },
  {
   "cell_type": "code",
   "execution_count": null,
   "id": "076aded6",
   "metadata": {},
   "outputs": [],
   "source": [
    "# Scaled dot-product attention (toy)\n",
    "import numpy as np\n",
    "\n",
    "def softmax(x, axis=-1):\n",
    "    x = x - x.max(axis=axis, keepdims=True)\n",
    "    e = np.exp(x)\n",
    "    return e / e.sum(axis=axis, keepdims=True)\n",
    "\n",
    "np.random.seed(0)\n",
    "Q = np.random.randn(3, 4)  # 3 queries, dim 4\n",
    "K = np.random.randn(5, 4)  # 5 keys, dim 4\n",
    "V = np.random.randn(5, 6)  # 5 values, dim 6\n",
    "\n",
    "scores = Q @ K.T / np.sqrt(Q.shape[-1])  # (3,5)\n",
    "weights = softmax(scores, axis=-1)       # (3,5)\n",
    "out = weights @ V                         # (3,6)\n",
    "print(\"weights.shape:\", weights.shape, \"out.shape:\", out.shape)\n"
   ]
  },
  {
   "cell_type": "markdown",
   "id": "b5a3a721",
   "metadata": {},
   "source": [
    "## Try it\n",
    "- Modify the demo\n",
    "- Add a tiny dataset / example\n"
   ]
  },
  {
   "cell_type": "markdown",
   "id": "1b694198",
   "metadata": {},
   "source": [
    "## References\n",
    "- [Attention Is All You Need](https://arxiv.org/pdf/1706.03762.pdf)\n",
    "- [Scaling Laws for Neural Language Models](https://arxiv.org/abs/2001.08361)\n",
    "- [Efficient Transformers: A Survey](https://arxiv.org/abs/2009.06732)\n",
    "- [Rethinking Attention with Performers](https://arxiv.org/abs/2009.14794)\n",
    "- [Longformer: The Long-Document Transformer](https://arxiv.org/abs/2004.05150)\n",
    "- [The Curious Case of Neural Text Degeneration](https://arxiv.org/abs/1904.09751)\n",
    "\n",
    "*Links only; we do not redistribute PDFs or slides.*"
   ]
  }
 ],
 "metadata": {},
 "nbformat": 4,
 "nbformat_minor": 5
}
