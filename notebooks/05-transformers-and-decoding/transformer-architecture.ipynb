{
 "cells": [
  {
   "cell_type": "markdown",
   "id": "ee32c763",
   "metadata": {},
   "source": [
    "# Transformer Architecture\n",
    "\n",
    "- 📺 **Video:** [https://youtu.be/sLsUD-RcDqg](https://youtu.be/sLsUD-RcDqg)"
   ]
  },
  {
   "cell_type": "markdown",
   "id": "391c9d0f",
   "metadata": {},
   "source": [
    "## Overview\n",
    "- Walk through the encoder block structure: self-attention, residual connections, and feed-forward layers.\n",
    "- Understand how normalization stabilizes deep stacks."
   ]
  },
  {
   "cell_type": "markdown",
   "id": "3467ab1a",
   "metadata": {},
   "source": [
    "## Key ideas\n",
    "- **Multi-head attention:** attends to different relations in parallel.\n",
    "- **Residual pathways:** add inputs back to outputs to ease optimization.\n",
    "- **Layer normalization:** normalizes activations to stabilize training.\n",
    "- **Feed-forward layers:** position-wise MLPs add nonlinearity between attention blocks."
   ]
  },
  {
   "cell_type": "markdown",
   "id": "b202bdec",
   "metadata": {},
   "source": [
    "## Demo\n",
    "Compose a torch-based transformer encoder block and pass dummy embeddings through it, mirroring the layer diagram in the lecture (https://youtu.be/Ny3cQhLBH4k)."
   ]
  },
  {
   "cell_type": "code",
   "execution_count": 1,
   "id": "5ee48e69",
   "metadata": {
    "execution": {
     "iopub.execute_input": "2025-10-29T01:29:16.786855Z",
     "iopub.status.busy": "2025-10-29T01:29:16.786596Z",
     "iopub.status.idle": "2025-10-29T01:29:17.457018Z",
     "shell.execute_reply": "2025-10-29T01:29:17.456743Z"
    }
   },
   "outputs": [
    {
     "name": "stdout",
     "output_type": "stream",
     "text": [
      "Input shape: torch.Size([2, 4, 16])\n",
      "Output shape: torch.Size([2, 4, 16])\n",
      "First output token representation:\n",
      "tensor([ 0.2259,  0.0155,  2.0566, -1.4476, -1.6418,  1.2125, -0.1456,  0.5383,\n",
      "        -1.2074, -0.3071, -0.9084,  1.2255,  0.0471, -0.2232,  1.0076, -0.4478],\n",
      "       grad_fn=<SelectBackward0>)\n"
     ]
    }
   ],
   "source": [
    "import torch\n",
    "from torch import nn\n",
    "\n",
    "batch, seq_len, d_model = 2, 4, 16\n",
    "x = torch.randn(batch, seq_len, d_model)\n",
    "\n",
    "encoder_block = nn.TransformerEncoderLayer(d_model=d_model, nhead=4, dim_feedforward=32, dropout=0.0, batch_first=True)\n",
    "y = encoder_block(x)\n",
    "\n",
    "print('Input shape:', x.shape)\n",
    "print('Output shape:', y.shape)\n",
    "print('First output token representation:')\n",
    "print(y[0, 0])\n"
   ]
  },
  {
   "cell_type": "markdown",
   "id": "dc438e51",
   "metadata": {},
   "source": [
    "## Try it\n",
    "- Modify the demo\n",
    "- Add a tiny dataset or counter-example\n"
   ]
  },
  {
   "cell_type": "markdown",
   "id": "7f6aecdc",
   "metadata": {},
   "source": [
    "## References\n",
    "- [Attention Is All You Need](https://arxiv.org/pdf/1706.03762.pdf)\n",
    "- [Scaling Laws for Neural Language Models](https://arxiv.org/abs/2001.08361)\n",
    "- [Efficient Transformers: A Survey](https://arxiv.org/abs/2009.06732)\n",
    "- [Rethinking Attention with Performers](https://arxiv.org/abs/2009.14794)\n",
    "- [Longformer: The Long-Document Transformer](https://arxiv.org/abs/2004.05150)\n",
    "- [The Curious Case of Neural Text Degeneration](https://arxiv.org/abs/1904.09751)\n"
   ]
  },
  {
   "cell_type": "markdown",
   "id": "8c7098d6",
   "metadata": {},
   "source": [
    "*Links only; we do not redistribute slides or papers.*"
   ]
  }
 ],
 "metadata": {
  "language_info": {
   "codemirror_mode": {
    "name": "ipython",
    "version": 3
   },
   "file_extension": ".py",
   "mimetype": "text/x-python",
   "name": "python",
   "nbconvert_exporter": "python",
   "pygments_lexer": "ipython3",
   "version": "3.9.6"
  }
 },
 "nbformat": 4,
 "nbformat_minor": 5
}
