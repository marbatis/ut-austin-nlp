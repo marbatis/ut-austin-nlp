{
 "cells": [
  {
   "cell_type": "markdown",
   "id": "ac260baf",
   "metadata": {},
   "source": [
    "# Transformer Language Modeling\n",
    "\n",
    "- 📺 **Video:** [https://youtu.be/htyspM3FrMg](https://youtu.be/htyspM3FrMg)"
   ]
  },
  {
   "cell_type": "markdown",
   "id": "068fa6de",
   "metadata": {},
   "source": [
    "## Overview\n",
    "- What you’ll learn (fill in after watching)\n",
    "- Why it matters\n"
   ]
  },
  {
   "cell_type": "markdown",
   "id": "3421fd30",
   "metadata": {},
   "source": [
    "## Key ideas\n",
    "- TODO: Summarize the core ideas after viewing the lecture."
   ]
  },
  {
   "cell_type": "markdown",
   "id": "f0c280f4",
   "metadata": {},
   "source": [
    "## Demo\n",
    "Scaled dot-product attention with random toy inputs."
   ]
  },
  {
   "cell_type": "code",
   "execution_count": null,
   "id": "5cfa3cec",
   "metadata": {},
   "outputs": [],
   "source": [
    "# Toy scaled dot-product attention\n",
    "import numpy as np\n",
    "np.random.seed(0)\n",
    "\n",
    "def attention(query, key, value):\n",
    "    scores = query @ key.T / np.sqrt(key.shape[-1])\n",
    "    weights = np.exp(scores - scores.max(axis=-1, keepdims=True))\n",
    "    weights = weights / weights.sum(axis=-1, keepdims=True)\n",
    "    return weights @ value\n",
    "\n",
    "Q = np.random.randn(2, 4)\n",
    "K = np.random.randn(5, 4)\n",
    "V = np.random.randn(5, 3)\n",
    "context = attention(Q, K, V)\n",
    "print(\"Context shape:\", context.shape)\n",
    "print(context)\n"
   ]
  },
  {
   "cell_type": "markdown",
   "id": "85d6cd56",
   "metadata": {},
   "source": [
    "## Try it\n",
    "- Modify the demo\n",
    "- Add a tiny dataset or counter-example\n"
   ]
  },
  {
   "cell_type": "markdown",
   "id": "119beae1",
   "metadata": {},
   "source": [
    "## References\n",
    "- [Attention Is All You Need](https://arxiv.org/pdf/1706.03762.pdf)\n",
    "- [Scaling Laws for Neural Language Models](https://arxiv.org/abs/2001.08361)\n",
    "- [Efficient Transformers: A Survey](https://arxiv.org/abs/2009.06732)\n",
    "- [Rethinking Attention with Performers](https://arxiv.org/abs/2009.14794)\n",
    "- [Longformer: The Long-Document Transformer](https://arxiv.org/abs/2004.05150)\n",
    "- [The Curious Case of Neural Text Degeneration](https://arxiv.org/abs/1904.09751)\n"
   ]
  },
  {
   "cell_type": "markdown",
   "id": "22fe9eb1",
   "metadata": {},
   "source": [
    "*Links only; we do not redistribute slides or papers.*"
   ]
  }
 ],
 "metadata": {},
 "nbformat": 4,
 "nbformat_minor": 5
}
