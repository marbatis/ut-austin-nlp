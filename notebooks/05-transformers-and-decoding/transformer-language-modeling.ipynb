{
 "cells": [
  {
   "cell_type": "markdown",
   "id": "ac260baf",
   "metadata": {},
   "source": [
    "# Transformer Language Modeling\n",
    "\n",
    "- 📺 **Video:** [https://youtu.be/htyspM3FrMg](https://youtu.be/htyspM3FrMg)"
   ]
  },
  {
   "cell_type": "markdown",
   "id": "068fa6de",
   "metadata": {},
   "source": [
    "## Overview\n",
    "Focuses on using a Transformer for the task of Language Modeling, which is directly relevant to Assignment 3. The video likely describes how one sets up a Transformer (usually a decoder-only or a stack of transformer blocks with causal masking) to model text sequences."
   ]
  },
  {
   "cell_type": "code",
   "execution_count": null,
   "id": "37390516",
   "metadata": {},
   "outputs": [],
   "source": [
    "import os, random\n",
    "random.seed(0)\n",
    "CI = os.environ.get('CI') == 'true'"
   ]
  },
  {
   "cell_type": "markdown",
   "id": "3421fd30",
   "metadata": {},
   "source": [
    "## Key ideas\n",
    "- It might mention the example of GPT (Generative Pre-trained Transformer) which is essentially a many-layer transformer decoder trained on massive text data to predict the next word.\n",
    "- It explains that unlike sequence-to-sequence tasks, for plain language modeling we don't need an encoder-decoder structure; we can just use the decoder part with self-attention masked to not see future words.\n",
    "- During training, you feed in a long sequence and train it to predict each next token (like an extension of how we trained RNN LMs, but now with a transformer).\n",
    "- The advantages could be reiterated: self-attention lets the model look at far-back context efficiently, and multiple layers allow complex conditioning."
   ]
  },
  {
   "cell_type": "markdown",
   "id": "f0c280f4",
   "metadata": {},
   "source": [
    "## Demo"
   ]
  },
  {
   "cell_type": "code",
   "execution_count": null,
   "id": "5cfa3cec",
   "metadata": {},
   "outputs": [],
   "source": [
    "# Scaled dot-product attention (toy)\n",
    "import numpy as np\n",
    "\n",
    "def softmax(x, axis=-1):\n",
    "    x = x - x.max(axis=axis, keepdims=True)\n",
    "    e = np.exp(x)\n",
    "    return e / e.sum(axis=axis, keepdims=True)\n",
    "\n",
    "np.random.seed(0)\n",
    "Q = np.random.randn(3, 4)  # 3 queries, dim 4\n",
    "K = np.random.randn(5, 4)  # 5 keys, dim 4\n",
    "V = np.random.randn(5, 6)  # 5 values, dim 6\n",
    "\n",
    "scores = Q @ K.T / np.sqrt(Q.shape[-1])  # (3,5)\n",
    "weights = softmax(scores, axis=-1)       # (3,5)\n",
    "out = weights @ V                        # (3,6)\n",
    "print(\"weights.shape:\", weights.shape, \"out.shape:\", out.shape)\n"
   ]
  },
  {
   "cell_type": "markdown",
   "id": "85d6cd56",
   "metadata": {},
   "source": [
    "## Try it\n",
    "- Modify the demo\n",
    "- Add a tiny dataset or counter-example\n"
   ]
  },
  {
   "cell_type": "markdown",
   "id": "119beae1",
   "metadata": {},
   "source": [
    "## References\n",
    "- [Attention Is All You Need](https://arxiv.org/pdf/1706.03762.pdf)\n",
    "- [Scaling Laws for Neural Language Models](https://arxiv.org/abs/2001.08361)\n",
    "- [Efficient Transformers: A Survey](https://arxiv.org/abs/2009.06732)\n",
    "- [Rethinking Attention with Performers](https://arxiv.org/abs/2009.14794)\n",
    "- [Longformer: The Long-Document Transformer](https://arxiv.org/abs/2004.05150)\n",
    "- [The Curious Case of Neural Text Degeneration](https://arxiv.org/abs/1904.09751)\n"
   ]
  },
  {
   "cell_type": "markdown",
   "id": "22fe9eb1",
   "metadata": {},
   "source": [
    "*Links only; we do not redistribute slides or papers.*"
   ]
  }
 ],
 "metadata": {},
 "nbformat": 4,
 "nbformat_minor": 5
}
