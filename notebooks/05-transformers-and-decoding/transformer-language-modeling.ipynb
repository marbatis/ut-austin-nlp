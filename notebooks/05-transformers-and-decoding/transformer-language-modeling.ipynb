{
 "cells": [
  {
   "cell_type": "markdown",
   "id": "ac260baf",
   "metadata": {},
   "source": [
    "# Transformer Language Modeling\n",
    "\n",
    "- 📺 **Video:** [https://youtu.be/htyspM3FrMg](https://youtu.be/htyspM3FrMg)"
   ]
  },
  {
   "cell_type": "markdown",
   "id": "068fa6de",
   "metadata": {},
   "source": [
    "## Overview\n",
    "- Use decoder-only transformers for autoregressive next-token prediction.\n",
    "- Understand causal masking and iterative generation."
   ]
  },
  {
   "cell_type": "markdown",
   "id": "3421fd30",
   "metadata": {},
   "source": [
    "## Key ideas\n",
    "- **Causal mask:** prevents the model from attending to future positions.\n",
    "- **Token embedding + positional encoding:** sum to form input representations.\n",
    "- **Decoding loop:** feed generated tokens back to predict the next.\n",
    "- **Sampling strategies:** greedy, beam, or nucleus sampling adapt behavior."
   ]
  },
  {
   "cell_type": "markdown",
   "id": "f0c280f4",
   "metadata": {},
   "source": [
    "## Demo\n",
    "Construct a tiny decoder-only transformer in PyTorch and generate a short sequence from random weights to illustrate the mechanics described in the lecture (https://youtu.be/5o3pm2pIq5E)."
   ]
  },
  {
   "cell_type": "code",
   "execution_count": 1,
   "id": "5cfa3cec",
   "metadata": {
    "execution": {
     "iopub.execute_input": "2025-10-29T01:29:19.744585Z",
     "iopub.status.busy": "2025-10-29T01:29:19.744321Z",
     "iopub.status.idle": "2025-10-29T01:29:20.440791Z",
     "shell.execute_reply": "2025-10-29T01:29:20.440526Z"
    }
   },
   "outputs": [
    {
     "name": "stdout",
     "output_type": "stream",
     "text": [
      "Generated token ids: [[1, 0, 13, 0, 15, 0]]\n"
     ]
    }
   ],
   "source": [
    "import torch\n",
    "from torch import nn\n",
    "\n",
    "vocab_size = 20\n",
    "seq_len = 6\n",
    "d_model = 16\n",
    "nhead = 4\n",
    "num_layers = 2\n",
    "\n",
    "decoder_layer = nn.TransformerDecoderLayer(d_model=d_model, nhead=nhead, dim_feedforward=32, batch_first=True)\n",
    "decoder = nn.TransformerDecoder(decoder_layer, num_layers=num_layers)\n",
    "emb = nn.Embedding(vocab_size, d_model)\n",
    "pos = nn.Parameter(torch.zeros(1, seq_len, d_model))\n",
    "output_proj = nn.Linear(d_model, vocab_size)\n",
    "\n",
    "start = torch.tensor([[1]])\n",
    "for _ in range(seq_len - 1):\n",
    "    length = start.shape[1]\n",
    "    inputs = emb(start) + pos[:, :length]\n",
    "    causal_mask = torch.triu(torch.ones(length, length), diagonal=1).bool()\n",
    "    memory = torch.zeros_like(inputs)\n",
    "    decoded = decoder(inputs, memory, tgt_mask=causal_mask)\n",
    "    logits = output_proj(decoded[:, -1])\n",
    "    next_token = torch.argmax(logits, dim=-1, keepdim=True)\n",
    "    start = torch.cat([start, next_token], dim=1)\n",
    "\n",
    "print('Generated token ids:', start.tolist())\n"
   ]
  },
  {
   "cell_type": "markdown",
   "id": "85d6cd56",
   "metadata": {},
   "source": [
    "## Try it\n",
    "- Modify the demo\n",
    "- Add a tiny dataset or counter-example\n"
   ]
  },
  {
   "cell_type": "markdown",
   "id": "119beae1",
   "metadata": {},
   "source": [
    "## References\n",
    "- [Attention Is All You Need](https://arxiv.org/pdf/1706.03762.pdf)\n",
    "- [Scaling Laws for Neural Language Models](https://arxiv.org/abs/2001.08361)\n",
    "- [Efficient Transformers: A Survey](https://arxiv.org/abs/2009.06732)\n",
    "- [Rethinking Attention with Performers](https://arxiv.org/abs/2009.14794)\n",
    "- [Longformer: The Long-Document Transformer](https://arxiv.org/abs/2004.05150)\n",
    "- [The Curious Case of Neural Text Degeneration](https://arxiv.org/abs/1904.09751)\n"
   ]
  },
  {
   "cell_type": "markdown",
   "id": "22fe9eb1",
   "metadata": {},
   "source": [
    "*Links only; we do not redistribute slides or papers.*"
   ]
  }
 ],
 "metadata": {
  "language_info": {
   "codemirror_mode": {
    "name": "ipython",
    "version": 3
   },
   "file_extension": ".py",
   "mimetype": "text/x-python",
   "name": "python",
   "nbconvert_exporter": "python",
   "pygments_lexer": "ipython3",
   "version": "3.9.6"
  }
 },
 "nbformat": 4,
 "nbformat_minor": 5
}
