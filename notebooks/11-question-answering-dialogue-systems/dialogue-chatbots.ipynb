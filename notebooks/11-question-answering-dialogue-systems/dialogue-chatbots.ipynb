{
 "cells": [
  {
   "cell_type": "markdown",
   "id": "874133be",
   "metadata": {},
   "source": [
    "# Dialogue: Chatbots\n",
    "\n",
    "- 📺 **Video:** [https://youtu.be/vAZ7VlLXReE](https://youtu.be/vAZ7VlLXReE)"
   ]
  },
  {
   "cell_type": "markdown",
   "id": "d71fb4f1",
   "metadata": {},
   "source": [
    "## Overview\n",
    "- What you’ll learn (fill in after watching)\n",
    "- Why it matters\n"
   ]
  },
  {
   "cell_type": "markdown",
   "id": "ac50bf19",
   "metadata": {},
   "source": [
    "## Key ideas\n",
    "- TODO: Summarize the core ideas after viewing the lecture."
   ]
  },
  {
   "cell_type": "markdown",
   "id": "bef9d7f0",
   "metadata": {},
   "source": [
    "## Demo\n",
    "Placeholder—swap in a quick experiment that matches the lecture."
   ]
  },
  {
   "cell_type": "code",
   "execution_count": null,
   "id": "90520e1f",
   "metadata": {},
   "outputs": [],
   "source": [
    "print('Run your own mini-experiment here—consider adding code that reinforces the lecture concepts!')\n"
   ]
  },
  {
   "cell_type": "markdown",
   "id": "c2b91ba2",
   "metadata": {},
   "source": [
    "## Try it\n",
    "- Modify the demo\n",
    "- Add a tiny dataset or counter-example\n"
   ]
  },
  {
   "cell_type": "markdown",
   "id": "cbf5734b",
   "metadata": {},
   "source": [
    "## References\n",
    "- [MCTest: A Challenge Dataset for the Open-Domain Machine Comprehension of Text](https://www.aclweb.org/anthology/D13-1020.pdf)\n",
    "- [SQuAD: 100,000+ Questions for Machine Comprehension of Text](https://www.aclweb.org/anthology/D16-1264/)\n",
    "- [Adversarial Examples for Evaluating Reading Comprehension Systems](https://www.aclweb.org/anthology/D17-1215/)\n",
    "- [Reading Wikipedia to Answer Open-Domain Questions](https://arxiv.org/abs/1704.00051)\n",
    "- [Latent Retrieval for Weakly Supervised Open Domain Question Answering](https://www.aclweb.org/anthology/P19-1612.pdf)\n",
    "- [[Website] Natural Questions](https://ai.google.com/research/NaturalQuestions)\n",
    "- [retrieval-augmented generation](https://arxiv.org/pdf/2005.11401.pdf)\n",
    "- [WebGPT](https://arxiv.org/abs/2112.09332)\n",
    "- [HotpotQA: A Dataset for Diverse, Explainable Multi-hop Question Answering](https://arxiv.org/abs/1809.09600)\n",
    "- [Understanding Dataset Design Choices for Multi-hop Reasoning](https://www.aclweb.org/anthology/N19-1405/)\n",
    "- [Learning to Retrieve Reasoning Paths over Wikipedia Graph for Question Answering](https://openreview.net/forum?id=SJgVHkrYDH)\n",
    "- [QAMPARI](https://arxiv.org/abs/2205.12665)\n",
    "- [Wizards of Wikipedia: Knowledge-Powered Conversational Agents](https://arxiv.org/pdf/1811.01241.pdf)\n",
    "- [Task-Oriented Dialogue as Dataflow Synthesis](https://arxiv.org/abs/2009.11423)\n",
    "- [A Neural Network Approach to Context-Sensitive Generation of Conversational Responses](https://arxiv.org/abs/1506.06714)\n",
    "- [A Diversity-Promoting Objective Function for Neural Conversation Models](https://arxiv.org/abs/1510.03055)\n",
    "- [Recipes for building an open-domain chatbot](https://arxiv.org/pdf/2004.13637.pdf)\n",
    "- [Kurt Shuster et al.](https://arxiv.org/abs/2208.03188)\n",
    "- [character.ai](https://character.ai)\n"
   ]
  },
  {
   "cell_type": "markdown",
   "id": "f67e78bf",
   "metadata": {},
   "source": [
    "*Links only; we do not redistribute slides or papers.*"
   ]
  }
 ],
 "metadata": {},
 "nbformat": 4,
 "nbformat_minor": 5
}
