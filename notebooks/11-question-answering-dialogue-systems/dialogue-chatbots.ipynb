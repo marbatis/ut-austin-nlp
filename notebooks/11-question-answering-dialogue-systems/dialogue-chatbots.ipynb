{
 "cells": [
  {
   "cell_type": "markdown",
   "id": "874133be",
   "metadata": {},
   "source": [
    "# Dialogue: Chatbots\n",
    "\n",
    "- 📺 **Video:** [https://youtu.be/vAZ7VlLXReE](https://youtu.be/vAZ7VlLXReE)"
   ]
  },
  {
   "cell_type": "markdown",
   "id": "d71fb4f1",
   "metadata": {},
   "source": [
    "## Overview\n",
    "- Compare rule-based, retrieval-based, and generative chatbots.\n",
    "- Balance engagement, controllability, and safety."
   ]
  },
  {
   "cell_type": "markdown",
   "id": "ac50bf19",
   "metadata": {},
   "source": [
    "## Key ideas\n",
    "- **Rule-based scripts:** deterministic flows for well-defined tasks.\n",
    "- **Retrieval bots:** select best response from a predefined set.\n",
    "- **Generative bots:** produce novel responses via neural decoding.\n",
    "- **Safety filters:** detect toxic or off-topic content."
   ]
  },
  {
   "cell_type": "markdown",
   "id": "bef9d7f0",
   "metadata": {},
   "source": [
    "## Demo\n",
    "Build a hybrid chatbot that combines pattern-matching rules with retrieval fallbacks, as described in the lecture (https://youtu.be/WFee6PvJEa4)."
   ]
  },
  {
   "cell_type": "code",
   "execution_count": 1,
   "id": "90520e1f",
   "metadata": {
    "execution": {
     "iopub.execute_input": "2025-10-29T01:33:32.049878Z",
     "iopub.status.busy": "2025-10-29T01:33:32.049627Z",
     "iopub.status.idle": "2025-10-29T01:33:32.058864Z",
     "shell.execute_reply": "2025-10-29T01:33:32.058443Z"
    }
   },
   "outputs": [
    {
     "name": "stdout",
     "output_type": "stream",
     "text": [
      "User: hi there\n",
      "Bot:  Hello! How can I assist you today?\n",
      "\n",
      "User: any weather tips?\n",
      "Bot:  It looks sunny—perfect for a walk!\n",
      "\n",
      "User: not sure what to do\n",
      "Bot:  That sounds exciting!\n",
      "\n",
      "User: bye\n",
      "Bot:  Goodbye! Talk soon.\n",
      "\n"
     ]
    }
   ],
   "source": [
    "import random\n",
    "\n",
    "patterns = {\n",
    "    'hi': 'Hello! How can I assist you today?',\n",
    "    'weather': 'It looks sunny—perfect for a walk!',\n",
    "    'bye': 'Goodbye! Talk soon.'\n",
    "}\n",
    "retrieval = ['Tell me more!', 'Interesting—go on.', 'That sounds exciting!']\n",
    "\n",
    "inputs = ['hi there', 'any weather tips?', 'not sure what to do', 'bye']\n",
    "for user in inputs:\n",
    "    reply = None\n",
    "    for key, response in patterns.items():\n",
    "        if key in user.lower():\n",
    "            reply = response\n",
    "            break\n",
    "    if reply is None:\n",
    "        reply = random.choice(retrieval)\n",
    "    print(f'User: {user}')\n",
    "    print(f'Bot:  {reply}')\n",
    "    print()\n"
   ]
  },
  {
   "cell_type": "markdown",
   "id": "c2b91ba2",
   "metadata": {},
   "source": [
    "## Try it\n",
    "- Modify the demo\n",
    "- Add a tiny dataset or counter-example\n"
   ]
  },
  {
   "cell_type": "markdown",
   "id": "cbf5734b",
   "metadata": {},
   "source": [
    "## References\n",
    "- [MCTest: A Challenge Dataset for the Open-Domain Machine Comprehension of Text](https://www.aclweb.org/anthology/D13-1020.pdf)\n",
    "- [SQuAD: 100,000+ Questions for Machine Comprehension of Text](https://www.aclweb.org/anthology/D16-1264/)\n",
    "- [Adversarial Examples for Evaluating Reading Comprehension Systems](https://www.aclweb.org/anthology/D17-1215/)\n",
    "- [Reading Wikipedia to Answer Open-Domain Questions](https://arxiv.org/abs/1704.00051)\n",
    "- [Latent Retrieval for Weakly Supervised Open Domain Question Answering](https://www.aclweb.org/anthology/P19-1612.pdf)\n",
    "- [[Website] Natural Questions](https://ai.google.com/research/NaturalQuestions)\n",
    "- [retrieval-augmented generation](https://arxiv.org/pdf/2005.11401.pdf)\n",
    "- [WebGPT](https://arxiv.org/abs/2112.09332)\n",
    "- [HotpotQA: A Dataset for Diverse, Explainable Multi-hop Question Answering](https://arxiv.org/abs/1809.09600)\n",
    "- [Understanding Dataset Design Choices for Multi-hop Reasoning](https://www.aclweb.org/anthology/N19-1405/)\n",
    "- [Learning to Retrieve Reasoning Paths over Wikipedia Graph for Question Answering](https://openreview.net/forum?id=SJgVHkrYDH)\n",
    "- [QAMPARI](https://arxiv.org/abs/2205.12665)\n",
    "- [Wizards of Wikipedia: Knowledge-Powered Conversational Agents](https://arxiv.org/pdf/1811.01241.pdf)\n",
    "- [Task-Oriented Dialogue as Dataflow Synthesis](https://arxiv.org/abs/2009.11423)\n",
    "- [A Neural Network Approach to Context-Sensitive Generation of Conversational Responses](https://arxiv.org/abs/1506.06714)\n",
    "- [A Diversity-Promoting Objective Function for Neural Conversation Models](https://arxiv.org/abs/1510.03055)\n",
    "- [Recipes for building an open-domain chatbot](https://arxiv.org/pdf/2004.13637.pdf)\n",
    "- [Kurt Shuster et al.](https://arxiv.org/abs/2208.03188)\n",
    "- [character.ai](https://character.ai)\n"
   ]
  },
  {
   "cell_type": "markdown",
   "id": "f67e78bf",
   "metadata": {},
   "source": [
    "*Links only; we do not redistribute slides or papers.*"
   ]
  }
 ],
 "metadata": {
  "language_info": {
   "codemirror_mode": {
    "name": "ipython",
    "version": 3
   },
   "file_extension": ".py",
   "mimetype": "text/x-python",
   "name": "python",
   "nbconvert_exporter": "python",
   "pygments_lexer": "ipython3",
   "version": "3.9.6"
  }
 },
 "nbformat": 4,
 "nbformat_minor": 5
}
