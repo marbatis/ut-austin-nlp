{
 "cells": [
  {
   "cell_type": "markdown",
   "id": "e0d6296f",
   "metadata": {},
   "source": [
    "# Problems with Reading Comprehension\n",
    "\n",
    "- 📺 **Video:** [https://youtu.be/tCvAHmrxPvY](https://youtu.be/tCvAHmrxPvY)"
   ]
  },
  {
   "cell_type": "markdown",
   "id": "b87d7bb1",
   "metadata": {},
   "source": [
    "## Overview\n",
    "- Diagnose vulnerabilities in reading comprehension datasets and models.\n",
    "- Investigate adversarial distractions, shallow cues, and annotation leakage."
   ]
  },
  {
   "cell_type": "markdown",
   "id": "1bd298f7",
   "metadata": {},
   "source": [
    "## Key ideas\n",
    "- **Adversarial questions:** distractors can mislead lexical baselines.\n",
    "- **Shortcut learning:** models exploit n-gram overlap rather than deep understanding.\n",
    "- **Robust evaluation:** adversarial testing and perturbations reveal weaknesses.\n",
    "- **Data augmentation:** paraphrases and counterfactuals improve robustness."
   ]
  },
  {
   "cell_type": "markdown",
   "id": "d3b43280",
   "metadata": {},
   "source": [
    "## Demo\n",
    "Demonstrate how adding an adversarial sentence with misleading cues breaks a lexical overlap baseline, as in the lecture (https://youtu.be/26wBqXc9EZI)."
   ]
  },
  {
   "cell_type": "code",
   "execution_count": 1,
   "id": "43bef213",
   "metadata": {
    "execution": {
     "iopub.execute_input": "2025-10-29T01:33:37.931772Z",
     "iopub.status.busy": "2025-10-29T01:33:37.931510Z",
     "iopub.status.idle": "2025-10-29T01:33:37.940315Z",
     "shell.execute_reply": "2025-10-29T01:33:37.939851Z"
    }
   },
   "outputs": [
    {
     "name": "stdout",
     "output_type": "stream",
     "text": [
      "Score=3 | sentence=Adversarial: Marie Curie did not study biology.\n",
      "Score=2 | sentence=Marie Curie studied radioactivity and won the Nobel Prize\n"
     ]
    }
   ],
   "source": [
    "passage = (\n",
    "    'Marie Curie studied radioactivity and won the Nobel Prize. '\n",
    "    'Adversarial: Marie Curie did not study biology.'\n",
    ")\n",
    "question = 'What did Marie Curie study?'\n",
    "\n",
    "sentences = passage.split('. ')\n",
    "question_tokens = set(question.lower().split())\n",
    "\n",
    "scores = []\n",
    "for sent in sentences:\n",
    "    score = len(question_tokens.intersection(sent.lower().split()))\n",
    "    scores.append((score, sent))\n",
    "\n",
    "scores.sort(reverse=True)\n",
    "for score, sent in scores:\n",
    "    print(f'Score={score} | sentence={sent}')\n"
   ]
  },
  {
   "cell_type": "markdown",
   "id": "a3389733",
   "metadata": {},
   "source": [
    "## Try it\n",
    "- Modify the demo\n",
    "- Add a tiny dataset or counter-example\n"
   ]
  },
  {
   "cell_type": "markdown",
   "id": "f897c247",
   "metadata": {},
   "source": [
    "## References\n",
    "- [MCTest: A Challenge Dataset for the Open-Domain Machine Comprehension of Text](https://www.aclweb.org/anthology/D13-1020.pdf)\n",
    "- [SQuAD: 100,000+ Questions for Machine Comprehension of Text](https://www.aclweb.org/anthology/D16-1264/)\n",
    "- [Adversarial Examples for Evaluating Reading Comprehension Systems](https://www.aclweb.org/anthology/D17-1215/)\n",
    "- [Reading Wikipedia to Answer Open-Domain Questions](https://arxiv.org/abs/1704.00051)\n",
    "- [Latent Retrieval for Weakly Supervised Open Domain Question Answering](https://www.aclweb.org/anthology/P19-1612.pdf)\n",
    "- [[Website] Natural Questions](https://ai.google.com/research/NaturalQuestions)\n",
    "- [retrieval-augmented generation](https://arxiv.org/pdf/2005.11401.pdf)\n",
    "- [WebGPT](https://arxiv.org/abs/2112.09332)\n",
    "- [HotpotQA: A Dataset for Diverse, Explainable Multi-hop Question Answering](https://arxiv.org/abs/1809.09600)\n",
    "- [Understanding Dataset Design Choices for Multi-hop Reasoning](https://www.aclweb.org/anthology/N19-1405/)\n",
    "- [Learning to Retrieve Reasoning Paths over Wikipedia Graph for Question Answering](https://openreview.net/forum?id=SJgVHkrYDH)\n",
    "- [QAMPARI](https://arxiv.org/abs/2205.12665)\n",
    "- [Wizards of Wikipedia: Knowledge-Powered Conversational Agents](https://arxiv.org/pdf/1811.01241.pdf)\n",
    "- [Task-Oriented Dialogue as Dataflow Synthesis](https://arxiv.org/abs/2009.11423)\n",
    "- [A Neural Network Approach to Context-Sensitive Generation of Conversational Responses](https://arxiv.org/abs/1506.06714)\n",
    "- [A Diversity-Promoting Objective Function for Neural Conversation Models](https://arxiv.org/abs/1510.03055)\n",
    "- [Recipes for building an open-domain chatbot](https://arxiv.org/pdf/2004.13637.pdf)\n",
    "- [Kurt Shuster et al.](https://arxiv.org/abs/2208.03188)\n",
    "- [character.ai](https://character.ai)\n"
   ]
  },
  {
   "cell_type": "markdown",
   "id": "d2421c2c",
   "metadata": {},
   "source": [
    "*Links only; we do not redistribute slides or papers.*"
   ]
  }
 ],
 "metadata": {
  "language_info": {
   "codemirror_mode": {
    "name": "ipython",
    "version": 3
   },
   "file_extension": ".py",
   "mimetype": "text/x-python",
   "name": "python",
   "nbconvert_exporter": "python",
   "pygments_lexer": "ipython3",
   "version": "3.9.6"
  }
 },
 "nbformat": 4,
 "nbformat_minor": 5
}
