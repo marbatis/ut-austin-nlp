{
 "cells": [
  {
   "cell_type": "markdown",
   "id": "398fedcb",
   "metadata": {},
   "source": [
    "# Reading comprehension: setup and baselines\n",
    "\n",
    "- 📺 **Video:** [https://youtu.be/JRI3RwRBnMY](https://youtu.be/JRI3RwRBnMY)"
   ]
  },
  {
   "cell_type": "markdown",
   "id": "3499fd82",
   "metadata": {},
   "source": [
    "## Overview\n",
    "- Explore classic baselines for extractive QA: sliding window, TF-IDF, and simple neural models.\n",
    "- Set up train/dev/test splits and evaluation scripts."
   ]
  },
  {
   "cell_type": "markdown",
   "id": "563c84ea",
   "metadata": {},
   "source": [
    "## Key ideas\n",
    "- **Retrieval:** narrow the search space to candidate sentences.\n",
    "- **Scoring:** compute lexical overlap, BM25, or TF-IDF similarity.\n",
    "- **Span extraction:** pick the highest scoring span from top sentences.\n",
    "- **Baseline value:** simple models establish performance floors."
   ]
  },
  {
   "cell_type": "markdown",
   "id": "91f09fdd",
   "metadata": {},
   "source": [
    "## Demo\n",
    "Build a TF-IDF retriever over documents and select the sentence most similar to the question, mirroring the lecture (https://youtu.be/8QqmWbNysGE)."
   ]
  },
  {
   "cell_type": "code",
   "execution_count": 1,
   "id": "65465445",
   "metadata": {
    "execution": {
     "iopub.execute_input": "2025-10-29T01:33:39.230414Z",
     "iopub.status.busy": "2025-10-29T01:33:39.230285Z",
     "iopub.status.idle": "2025-10-29T01:33:39.960439Z",
     "shell.execute_reply": "2025-10-29T01:33:39.960163Z"
    }
   },
   "outputs": [
    {
     "name": "stdout",
     "output_type": "stream",
     "text": [
      "Top document: Marie Curie studied radioactivity and won multiple Nobel Prizes.\n"
     ]
    }
   ],
   "source": [
    "from sklearn.feature_extraction.text import TfidfVectorizer\n",
    "from sklearn.metrics.pairwise import cosine_similarity\n",
    "\n",
    "passages = [\n",
    "    'Marie Curie studied radioactivity and won multiple Nobel Prizes.',\n",
    "    'Albert Einstein developed the theory of relativity.',\n",
    "    'Ada Lovelace wrote the first algorithm for Babbage machines.'\n",
    "]\n",
    "question = 'Which scientist studied radioactivity?'\n",
    "\n",
    "vec = TfidfVectorizer()\n",
    "X = vec.fit_transform(passages + [question])\n",
    "q_vec = X[-1]\n",
    "sims = cosine_similarity(X[:-1], q_vec)\n",
    "best_id = sims.argmax()\n",
    "print('Top document:', passages[best_id])\n"
   ]
  },
  {
   "cell_type": "markdown",
   "id": "946e3172",
   "metadata": {},
   "source": [
    "## Try it\n",
    "- Modify the demo\n",
    "- Add a tiny dataset or counter-example\n"
   ]
  },
  {
   "cell_type": "markdown",
   "id": "f03ff1d3",
   "metadata": {},
   "source": [
    "## References\n",
    "- [MCTest: A Challenge Dataset for the Open-Domain Machine Comprehension of Text](https://www.aclweb.org/anthology/D13-1020.pdf)\n",
    "- [SQuAD: 100,000+ Questions for Machine Comprehension of Text](https://www.aclweb.org/anthology/D16-1264/)\n",
    "- [Adversarial Examples for Evaluating Reading Comprehension Systems](https://www.aclweb.org/anthology/D17-1215/)\n",
    "- [Reading Wikipedia to Answer Open-Domain Questions](https://arxiv.org/abs/1704.00051)\n",
    "- [Latent Retrieval for Weakly Supervised Open Domain Question Answering](https://www.aclweb.org/anthology/P19-1612.pdf)\n",
    "- [[Website] Natural Questions](https://ai.google.com/research/NaturalQuestions)\n",
    "- [retrieval-augmented generation](https://arxiv.org/pdf/2005.11401.pdf)\n",
    "- [WebGPT](https://arxiv.org/abs/2112.09332)\n",
    "- [HotpotQA: A Dataset for Diverse, Explainable Multi-hop Question Answering](https://arxiv.org/abs/1809.09600)\n",
    "- [Understanding Dataset Design Choices for Multi-hop Reasoning](https://www.aclweb.org/anthology/N19-1405/)\n",
    "- [Learning to Retrieve Reasoning Paths over Wikipedia Graph for Question Answering](https://openreview.net/forum?id=SJgVHkrYDH)\n",
    "- [QAMPARI](https://arxiv.org/abs/2205.12665)\n",
    "- [Wizards of Wikipedia: Knowledge-Powered Conversational Agents](https://arxiv.org/pdf/1811.01241.pdf)\n",
    "- [Task-Oriented Dialogue as Dataflow Synthesis](https://arxiv.org/abs/2009.11423)\n",
    "- [A Neural Network Approach to Context-Sensitive Generation of Conversational Responses](https://arxiv.org/abs/1506.06714)\n",
    "- [A Diversity-Promoting Objective Function for Neural Conversation Models](https://arxiv.org/abs/1510.03055)\n",
    "- [Recipes for building an open-domain chatbot](https://arxiv.org/pdf/2004.13637.pdf)\n",
    "- [Kurt Shuster et al.](https://arxiv.org/abs/2208.03188)\n",
    "- [character.ai](https://character.ai)\n"
   ]
  },
  {
   "cell_type": "markdown",
   "id": "4483da8e",
   "metadata": {},
   "source": [
    "*Links only; we do not redistribute slides or papers.*"
   ]
  }
 ],
 "metadata": {
  "language_info": {
   "codemirror_mode": {
    "name": "ipython",
    "version": 3
   },
   "file_extension": ".py",
   "mimetype": "text/x-python",
   "name": "python",
   "nbconvert_exporter": "python",
   "pygments_lexer": "ipython3",
   "version": "3.9.6"
  }
 },
 "nbformat": 4,
 "nbformat_minor": 5
}
