{
 "cells": [
  {
   "cell_type": "markdown",
   "id": "91518ce5",
   "metadata": {},
   "source": [
    "# Open-domain QA\n",
    "\n",
    "- 📺 **Video:** [https://youtu.be/P-j_zeS0Pa8](https://youtu.be/P-j_zeS0Pa8)"
   ]
  },
  {
   "cell_type": "markdown",
   "id": "3b4f8572",
   "metadata": {},
   "source": [
    "## Overview\n",
    "- Retrieve evidence from large corpora and generate answers.\n",
    "- Combine dense or sparse retrievers with reader models."
   ]
  },
  {
   "cell_type": "markdown",
   "id": "74a30f7a",
   "metadata": {},
   "source": [
    "## Key ideas\n",
    "- **Retrieval step:** BM25, DPR, or ColBERT fetch documents.\n",
    "- **Reader step:** extract answer spans or generate responses from evidence.\n",
    "- **Caching:** index documents for efficient lookup.\n",
    "- **Evaluation:** exact match / F1 on open-domain benchmarks like Natural Questions."
   ]
  },
  {
   "cell_type": "markdown",
   "id": "4e9d688a",
   "metadata": {},
   "source": [
    "## Demo\n",
    "Implement a toy open-domain QA system with a small knowledge base and TF-IDF retrieval, matching the lecture (https://youtu.be/Ai8uKXu95ZM)."
   ]
  },
  {
   "cell_type": "code",
   "execution_count": 1,
   "id": "327ef911",
   "metadata": {
    "execution": {
     "iopub.execute_input": "2025-10-29T01:33:36.412047Z",
     "iopub.status.busy": "2025-10-29T01:33:36.411652Z",
     "iopub.status.idle": "2025-10-29T01:33:37.180301Z",
     "shell.execute_reply": "2025-10-29T01:33:37.180020Z"
    }
   },
   "outputs": [
    {
     "name": "stdout",
     "output_type": "stream",
     "text": [
      "Retrieved doc: doc1\n",
      "Answer candidate: Leonardo da Vinci\n"
     ]
    }
   ],
   "source": [
    "from sklearn.feature_extraction.text import TfidfVectorizer\n",
    "from sklearn.metrics.pairwise import cosine_similarity\n",
    "\n",
    "kb = {\n",
    "    'doc1': 'Leonardo da Vinci painted the Mona Lisa in the early 1500s.',\n",
    "    'doc2': 'Vincent van Gogh painted Starry Night while in Saint-Remy.',\n",
    "    'doc3': 'Claude Monet was a founder of French Impressionist painting.'\n",
    "}\n",
    "question = 'Who painted the Mona Lisa?'\n",
    "\n",
    "vec = TfidfVectorizer()\n",
    "X = vec.fit_transform(list(kb.values()) + [question])\n",
    "q_vec = X[-1]\n",
    "sims = cosine_similarity(X[:-1], q_vec)\n",
    "best_idx = sims.argmax()\n",
    "doc_id = list(kb.keys())[best_idx]\n",
    "print('Retrieved doc:', doc_id)\n",
    "print('Answer candidate:', kb[doc_id].split(' painted ')[0])\n"
   ]
  },
  {
   "cell_type": "markdown",
   "id": "16b7c12c",
   "metadata": {},
   "source": [
    "## Try it\n",
    "- Modify the demo\n",
    "- Add a tiny dataset or counter-example\n"
   ]
  },
  {
   "cell_type": "markdown",
   "id": "9adadff2",
   "metadata": {},
   "source": [
    "## References\n",
    "- [MCTest: A Challenge Dataset for the Open-Domain Machine Comprehension of Text](https://www.aclweb.org/anthology/D13-1020.pdf)\n",
    "- [SQuAD: 100,000+ Questions for Machine Comprehension of Text](https://www.aclweb.org/anthology/D16-1264/)\n",
    "- [Adversarial Examples for Evaluating Reading Comprehension Systems](https://www.aclweb.org/anthology/D17-1215/)\n",
    "- [Reading Wikipedia to Answer Open-Domain Questions](https://arxiv.org/abs/1704.00051)\n",
    "- [Latent Retrieval for Weakly Supervised Open Domain Question Answering](https://www.aclweb.org/anthology/P19-1612.pdf)\n",
    "- [[Website] Natural Questions](https://ai.google.com/research/NaturalQuestions)\n",
    "- [retrieval-augmented generation](https://arxiv.org/pdf/2005.11401.pdf)\n",
    "- [WebGPT](https://arxiv.org/abs/2112.09332)\n",
    "- [HotpotQA: A Dataset for Diverse, Explainable Multi-hop Question Answering](https://arxiv.org/abs/1809.09600)\n",
    "- [Understanding Dataset Design Choices for Multi-hop Reasoning](https://www.aclweb.org/anthology/N19-1405/)\n",
    "- [Learning to Retrieve Reasoning Paths over Wikipedia Graph for Question Answering](https://openreview.net/forum?id=SJgVHkrYDH)\n",
    "- [QAMPARI](https://arxiv.org/abs/2205.12665)\n",
    "- [Wizards of Wikipedia: Knowledge-Powered Conversational Agents](https://arxiv.org/pdf/1811.01241.pdf)\n",
    "- [Task-Oriented Dialogue as Dataflow Synthesis](https://arxiv.org/abs/2009.11423)\n",
    "- [A Neural Network Approach to Context-Sensitive Generation of Conversational Responses](https://arxiv.org/abs/1506.06714)\n",
    "- [A Diversity-Promoting Objective Function for Neural Conversation Models](https://arxiv.org/abs/1510.03055)\n",
    "- [Recipes for building an open-domain chatbot](https://arxiv.org/pdf/2004.13637.pdf)\n",
    "- [Kurt Shuster et al.](https://arxiv.org/abs/2208.03188)\n",
    "- [character.ai](https://character.ai)\n"
   ]
  },
  {
   "cell_type": "markdown",
   "id": "cbe112f9",
   "metadata": {},
   "source": [
    "*Links only; we do not redistribute slides or papers.*"
   ]
  }
 ],
 "metadata": {
  "language_info": {
   "codemirror_mode": {
    "name": "ipython",
    "version": 3
   },
   "file_extension": ".py",
   "mimetype": "text/x-python",
   "name": "python",
   "nbconvert_exporter": "python",
   "pygments_lexer": "ipython3",
   "version": "3.9.6"
  }
 },
 "nbformat": 4,
 "nbformat_minor": 5
}
