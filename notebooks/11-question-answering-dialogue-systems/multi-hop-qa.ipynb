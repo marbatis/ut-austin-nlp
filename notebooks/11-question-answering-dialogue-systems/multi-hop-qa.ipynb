{
 "cells": [
  {
   "cell_type": "markdown",
   "id": "20951abf",
   "metadata": {},
   "source": [
    "# Multi-hop QA\n",
    "\n",
    "- 📺 **Video:** [https://youtu.be/jpRwa2iE_z8](https://youtu.be/jpRwa2iE_z8)"
   ]
  },
  {
   "cell_type": "markdown",
   "id": "56839853",
   "metadata": {},
   "source": [
    "## Overview\n",
    "- Answer questions requiring reasoning across multiple documents or facts.\n",
    "- Use intermediate entities to chain evidence."
   ]
  },
  {
   "cell_type": "markdown",
   "id": "bc3fcc48",
   "metadata": {},
   "source": [
    "## Key ideas\n",
    "- **Bridge entities:** connect question to final answer via intermediate facts.\n",
    "- **Graph traversal:** treat documents as nodes linked by shared entities.\n",
    "- **Decomposition:** break complex question into simpler sub-questions.\n",
    "- **Explainability:** provide reasoning chains along with answers."
   ]
  },
  {
   "cell_type": "markdown",
   "id": "8c9b5f73",
   "metadata": {},
   "source": [
    "## Demo\n",
    "Construct a two-hop knowledge graph and answer a query by chaining facts, mirroring the lecture (https://youtu.be/_3NYuOQ70b4)."
   ]
  },
  {
   "cell_type": "code",
   "execution_count": 1,
   "id": "59ccf9a8",
   "metadata": {
    "execution": {
     "iopub.execute_input": "2025-10-29T01:33:32.899570Z",
     "iopub.status.busy": "2025-10-29T01:33:32.899295Z",
     "iopub.status.idle": "2025-10-29T01:33:32.907824Z",
     "shell.execute_reply": "2025-10-29T01:33:32.907414Z"
    }
   },
   "outputs": [
    {
     "name": "stdout",
     "output_type": "stream",
     "text": [
      "Bridge fact: discovered radium\n",
      "Follow-up fact: is used in cancer therapy\n"
     ]
    }
   ],
   "source": [
    "graph = {\n",
    "    'Marie Curie': 'discovered radium',\n",
    "    'Radium': 'is used in cancer therapy',\n",
    "    'Ada Lovelace': 'wrote the first computer algorithm'\n",
    "}\n",
    "\n",
    "question = 'Which discovery by Marie Curie is used in cancer therapy?'\n",
    "bridge = graph['Marie Curie'].split(' ')[-1]\n",
    "answer = graph.get(bridge.capitalize(), 'Unknown')\n",
    "print('Bridge fact:', graph['Marie Curie'])\n",
    "print('Follow-up fact:', answer)\n"
   ]
  },
  {
   "cell_type": "markdown",
   "id": "0cbbe665",
   "metadata": {},
   "source": [
    "## Try it\n",
    "- Modify the demo\n",
    "- Add a tiny dataset or counter-example\n"
   ]
  },
  {
   "cell_type": "markdown",
   "id": "be021ba7",
   "metadata": {},
   "source": [
    "## References\n",
    "- [MCTest: A Challenge Dataset for the Open-Domain Machine Comprehension of Text](https://www.aclweb.org/anthology/D13-1020.pdf)\n",
    "- [SQuAD: 100,000+ Questions for Machine Comprehension of Text](https://www.aclweb.org/anthology/D16-1264/)\n",
    "- [Adversarial Examples for Evaluating Reading Comprehension Systems](https://www.aclweb.org/anthology/D17-1215/)\n",
    "- [Reading Wikipedia to Answer Open-Domain Questions](https://arxiv.org/abs/1704.00051)\n",
    "- [Latent Retrieval for Weakly Supervised Open Domain Question Answering](https://www.aclweb.org/anthology/P19-1612.pdf)\n",
    "- [[Website] Natural Questions](https://ai.google.com/research/NaturalQuestions)\n",
    "- [retrieval-augmented generation](https://arxiv.org/pdf/2005.11401.pdf)\n",
    "- [WebGPT](https://arxiv.org/abs/2112.09332)\n",
    "- [HotpotQA: A Dataset for Diverse, Explainable Multi-hop Question Answering](https://arxiv.org/abs/1809.09600)\n",
    "- [Understanding Dataset Design Choices for Multi-hop Reasoning](https://www.aclweb.org/anthology/N19-1405/)\n",
    "- [Learning to Retrieve Reasoning Paths over Wikipedia Graph for Question Answering](https://openreview.net/forum?id=SJgVHkrYDH)\n",
    "- [QAMPARI](https://arxiv.org/abs/2205.12665)\n",
    "- [Wizards of Wikipedia: Knowledge-Powered Conversational Agents](https://arxiv.org/pdf/1811.01241.pdf)\n",
    "- [Task-Oriented Dialogue as Dataflow Synthesis](https://arxiv.org/abs/2009.11423)\n",
    "- [A Neural Network Approach to Context-Sensitive Generation of Conversational Responses](https://arxiv.org/abs/1506.06714)\n",
    "- [A Diversity-Promoting Objective Function for Neural Conversation Models](https://arxiv.org/abs/1510.03055)\n",
    "- [Recipes for building an open-domain chatbot](https://arxiv.org/pdf/2004.13637.pdf)\n",
    "- [Kurt Shuster et al.](https://arxiv.org/abs/2208.03188)\n",
    "- [character.ai](https://character.ai)\n"
   ]
  },
  {
   "cell_type": "markdown",
   "id": "7a0f78a9",
   "metadata": {},
   "source": [
    "*Links only; we do not redistribute slides or papers.*"
   ]
  }
 ],
 "metadata": {
  "language_info": {
   "codemirror_mode": {
    "name": "ipython",
    "version": 3
   },
   "file_extension": ".py",
   "mimetype": "text/x-python",
   "name": "python",
   "nbconvert_exporter": "python",
   "pygments_lexer": "ipython3",
   "version": "3.9.6"
  }
 },
 "nbformat": 4,
 "nbformat_minor": 5
}
