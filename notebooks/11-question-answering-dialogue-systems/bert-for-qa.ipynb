{
 "cells": [
  {
   "cell_type": "markdown",
   "id": "6c7c5717",
   "metadata": {},
   "source": [
    "# BERT for QA\n",
    "\n",
    "- 📺 **Video:** [https://youtu.be/F8hWZ4xaVkA](https://youtu.be/F8hWZ4xaVkA)"
   ]
  },
  {
   "cell_type": "markdown",
   "id": "123400fc",
   "metadata": {},
   "source": [
    "## Overview\n",
    "- Adapt BERT to predict answer spans with start/end token classifiers.\n",
    "- Fine-tune on QA datasets with span supervision."
   ]
  },
  {
   "cell_type": "markdown",
   "id": "4290b808",
   "metadata": {},
   "source": [
    "## Key ideas\n",
    "- **Input packing:** concatenate [CLS] question [SEP] passage [SEP].\n",
    "- **Span prediction:** two classifiers estimate start and end probabilities.\n",
    "- **Answer selection:** choose span with highest start/end score combination.\n",
    "- **Fine-tuning:** backpropagate cross-entropy losses for start/end indices."
   ]
  },
  {
   "cell_type": "markdown",
   "id": "9f6b6bdf",
   "metadata": {},
   "source": [
    "## Demo\n",
    "Simulate span scoring by computing dot products between a question vector and passage token vectors, echoing the lecture (https://youtu.be/XpIxA9Ql0AU)."
   ]
  },
  {
   "cell_type": "code",
   "execution_count": 1,
   "id": "c1d04204",
   "metadata": {
    "execution": {
     "iopub.execute_input": "2025-10-29T01:33:31.131146Z",
     "iopub.status.busy": "2025-10-29T01:33:31.130892Z",
     "iopub.status.idle": "2025-10-29T01:33:31.197203Z",
     "shell.execute_reply": "2025-10-29T01:33:31.196193Z"
    }
   },
   "outputs": [
    {
     "name": "stdout",
     "output_type": "stream",
     "text": [
      "Start index: 3\n",
      "End index: 3\n"
     ]
    }
   ],
   "source": [
    "import numpy as np\n",
    "\n",
    "question_vec = np.array([0.6, 0.2, 0.5])\n",
    "passage_tokens = np.array([\n",
    "    [0.1, 0.5, 0.2],\n",
    "    [0.7, 0.1, 0.6],\n",
    "    [0.2, 0.2, 0.3],\n",
    "    [0.8, 0.3, 0.7]\n",
    "])\n",
    "\n",
    "start_scores = passage_tokens @ question_vec\n",
    "end_scores = start_scores[::-1]\n",
    "start_idx = int(np.argmax(start_scores))\n",
    "end_idx = len(passage_tokens) - int(np.argmax(end_scores)) - 1\n",
    "print('Start index:', start_idx)\n",
    "print('End index:', end_idx)\n"
   ]
  },
  {
   "cell_type": "markdown",
   "id": "b395b80d",
   "metadata": {},
   "source": [
    "## Try it\n",
    "- Modify the demo\n",
    "- Add a tiny dataset or counter-example\n"
   ]
  },
  {
   "cell_type": "markdown",
   "id": "3aa0fded",
   "metadata": {},
   "source": [
    "## References\n",
    "- [MCTest: A Challenge Dataset for the Open-Domain Machine Comprehension of Text](https://www.aclweb.org/anthology/D13-1020.pdf)\n",
    "- [SQuAD: 100,000+ Questions for Machine Comprehension of Text](https://www.aclweb.org/anthology/D16-1264/)\n",
    "- [Adversarial Examples for Evaluating Reading Comprehension Systems](https://www.aclweb.org/anthology/D17-1215/)\n",
    "- [Reading Wikipedia to Answer Open-Domain Questions](https://arxiv.org/abs/1704.00051)\n",
    "- [Latent Retrieval for Weakly Supervised Open Domain Question Answering](https://www.aclweb.org/anthology/P19-1612.pdf)\n",
    "- [[Website] Natural Questions](https://ai.google.com/research/NaturalQuestions)\n",
    "- [retrieval-augmented generation](https://arxiv.org/pdf/2005.11401.pdf)\n",
    "- [WebGPT](https://arxiv.org/abs/2112.09332)\n",
    "- [HotpotQA: A Dataset for Diverse, Explainable Multi-hop Question Answering](https://arxiv.org/abs/1809.09600)\n",
    "- [Understanding Dataset Design Choices for Multi-hop Reasoning](https://www.aclweb.org/anthology/N19-1405/)\n",
    "- [Learning to Retrieve Reasoning Paths over Wikipedia Graph for Question Answering](https://openreview.net/forum?id=SJgVHkrYDH)\n",
    "- [QAMPARI](https://arxiv.org/abs/2205.12665)\n",
    "- [Wizards of Wikipedia: Knowledge-Powered Conversational Agents](https://arxiv.org/pdf/1811.01241.pdf)\n",
    "- [Task-Oriented Dialogue as Dataflow Synthesis](https://arxiv.org/abs/2009.11423)\n",
    "- [A Neural Network Approach to Context-Sensitive Generation of Conversational Responses](https://arxiv.org/abs/1506.06714)\n",
    "- [A Diversity-Promoting Objective Function for Neural Conversation Models](https://arxiv.org/abs/1510.03055)\n",
    "- [Recipes for building an open-domain chatbot](https://arxiv.org/pdf/2004.13637.pdf)\n",
    "- [Kurt Shuster et al.](https://arxiv.org/abs/2208.03188)\n",
    "- [character.ai](https://character.ai)\n"
   ]
  },
  {
   "cell_type": "markdown",
   "id": "836bd197",
   "metadata": {},
   "source": [
    "*Links only; we do not redistribute slides or papers.*"
   ]
  }
 ],
 "metadata": {
  "language_info": {
   "codemirror_mode": {
    "name": "ipython",
    "version": 3
   },
   "file_extension": ".py",
   "mimetype": "text/x-python",
   "name": "python",
   "nbconvert_exporter": "python",
   "pygments_lexer": "ipython3",
   "version": "3.9.6"
  }
 },
 "nbformat": 4,
 "nbformat_minor": 5
}
