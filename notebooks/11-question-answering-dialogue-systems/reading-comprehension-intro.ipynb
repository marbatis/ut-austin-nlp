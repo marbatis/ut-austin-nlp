{
 "cells": [
  {
   "cell_type": "markdown",
   "id": "0548ba35",
   "metadata": {},
   "source": [
    "# Reading comprehension intro\n",
    "\n",
    "- 📺 **Video:** [https://youtu.be/gnUSE0fCbso](https://youtu.be/gnUSE0fCbso)"
   ]
  },
  {
   "cell_type": "markdown",
   "id": "054ac138",
   "metadata": {},
   "source": [
    "## Overview\n",
    "- Frame reading comprehension as extracting answers from passages conditioned on a question.\n",
    "- Highlight datasets like SQuAD and evaluation with exact match/F1."
   ]
  },
  {
   "cell_type": "markdown",
   "id": "032a84de",
   "metadata": {},
   "source": [
    "## Key ideas\n",
    "- **Span prediction:** many systems predict start/end indices in the passage.\n",
    "- **Lexical overlap:** early baselines rely on shared words between question and answer.\n",
    "- **Dataset biases:** annotation artifacts can inflate scores.\n",
    "- **Metrics:** exact match (EM) and token-level F1 are standard."
   ]
  },
  {
   "cell_type": "markdown",
   "id": "9ef2cea0",
   "metadata": {},
   "source": [
    "## Demo\n",
    "Implement a bag-of-words baseline that selects the sentence with highest token overlap and extracts a plausible answer span, as introduced in the lecture (https://youtu.be/qf5xTK0Gpug)."
   ]
  },
  {
   "cell_type": "code",
   "execution_count": 1,
   "id": "cba919ae",
   "metadata": {
    "execution": {
     "iopub.execute_input": "2025-10-29T01:33:38.562182Z",
     "iopub.status.busy": "2025-10-29T01:33:38.561966Z",
     "iopub.status.idle": "2025-10-29T01:33:38.571718Z",
     "shell.execute_reply": "2025-10-29T01:33:38.571259Z"
    }
   },
   "outputs": [
    {
     "name": "stdout",
     "output_type": "stream",
     "text": [
      "Chosen sentence: She conducted pioneering research on radioactivity and was the first woman to win a Nobel Prize.\n",
      "Extracted answer: She conducted pioneering research on radioactivity and\n"
     ]
    }
   ],
   "source": [
    "import re\n",
    "\n",
    "passage = ('Marie Curie was a Polish and naturalized-French physicist and chemist. '\n",
    "           'She conducted pioneering research on radioactivity and was the first woman to win a Nobel Prize.')\n",
    "question = 'Who was the first woman to win a Nobel Prize?'\n",
    "\n",
    "sentences = re.split(r'(?<=[.!?])\\s+', passage)\n",
    "question_tokens = set(question.lower().split())\n",
    "\n",
    "best_sentence = max(sentences, key=lambda s: len(question_tokens.intersection(s.lower().split())))\n",
    "answer = best_sentence.split('was')[0].strip()\n",
    "print('Chosen sentence:', best_sentence)\n",
    "print('Extracted answer:', answer)\n"
   ]
  },
  {
   "cell_type": "markdown",
   "id": "6f7fd7b5",
   "metadata": {},
   "source": [
    "## Try it\n",
    "- Modify the demo\n",
    "- Add a tiny dataset or counter-example\n"
   ]
  },
  {
   "cell_type": "markdown",
   "id": "2f781906",
   "metadata": {},
   "source": [
    "## References\n",
    "- [MCTest: A Challenge Dataset for the Open-Domain Machine Comprehension of Text](https://www.aclweb.org/anthology/D13-1020.pdf)\n",
    "- [SQuAD: 100,000+ Questions for Machine Comprehension of Text](https://www.aclweb.org/anthology/D16-1264/)\n",
    "- [Adversarial Examples for Evaluating Reading Comprehension Systems](https://www.aclweb.org/anthology/D17-1215/)\n",
    "- [Reading Wikipedia to Answer Open-Domain Questions](https://arxiv.org/abs/1704.00051)\n",
    "- [Latent Retrieval for Weakly Supervised Open Domain Question Answering](https://www.aclweb.org/anthology/P19-1612.pdf)\n",
    "- [[Website] Natural Questions](https://ai.google.com/research/NaturalQuestions)\n",
    "- [retrieval-augmented generation](https://arxiv.org/pdf/2005.11401.pdf)\n",
    "- [WebGPT](https://arxiv.org/abs/2112.09332)\n",
    "- [HotpotQA: A Dataset for Diverse, Explainable Multi-hop Question Answering](https://arxiv.org/abs/1809.09600)\n",
    "- [Understanding Dataset Design Choices for Multi-hop Reasoning](https://www.aclweb.org/anthology/N19-1405/)\n",
    "- [Learning to Retrieve Reasoning Paths over Wikipedia Graph for Question Answering](https://openreview.net/forum?id=SJgVHkrYDH)\n",
    "- [QAMPARI](https://arxiv.org/abs/2205.12665)\n",
    "- [Wizards of Wikipedia: Knowledge-Powered Conversational Agents](https://arxiv.org/pdf/1811.01241.pdf)\n",
    "- [Task-Oriented Dialogue as Dataflow Synthesis](https://arxiv.org/abs/2009.11423)\n",
    "- [A Neural Network Approach to Context-Sensitive Generation of Conversational Responses](https://arxiv.org/abs/1506.06714)\n",
    "- [A Diversity-Promoting Objective Function for Neural Conversation Models](https://arxiv.org/abs/1510.03055)\n",
    "- [Recipes for building an open-domain chatbot](https://arxiv.org/pdf/2004.13637.pdf)\n",
    "- [Kurt Shuster et al.](https://arxiv.org/abs/2208.03188)\n",
    "- [character.ai](https://character.ai)\n"
   ]
  },
  {
   "cell_type": "markdown",
   "id": "079ae4cb",
   "metadata": {},
   "source": [
    "*Links only; we do not redistribute slides or papers.*"
   ]
  }
 ],
 "metadata": {
  "language_info": {
   "codemirror_mode": {
    "name": "ipython",
    "version": 3
   },
   "file_extension": ".py",
   "mimetype": "text/x-python",
   "name": "python",
   "nbconvert_exporter": "python",
   "pygments_lexer": "ipython3",
   "version": "3.9.6"
  }
 },
 "nbformat": 4,
 "nbformat_minor": 5
}
