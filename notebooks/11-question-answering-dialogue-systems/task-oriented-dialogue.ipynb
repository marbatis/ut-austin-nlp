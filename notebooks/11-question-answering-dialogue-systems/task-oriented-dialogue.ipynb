{
 "cells": [
  {
   "cell_type": "markdown",
   "id": "703b4439",
   "metadata": {},
   "source": [
    "# Task-Oriented Dialogue\n",
    "\n",
    "- 📺 **Video:** [https://youtu.be/JXfAkX7kvnM](https://youtu.be/JXfAkX7kvnM)"
   ]
  },
  {
   "cell_type": "markdown",
   "id": "fd8aade8",
   "metadata": {},
   "source": [
    "## Overview\n",
    "- Manage conversations to accomplish tasks like booking flights or ordering food.\n",
    "- Track dialogue state, slots, and API calls."
   ]
  },
  {
   "cell_type": "markdown",
   "id": "40dfe912",
   "metadata": {},
   "source": [
    "## Key ideas\n",
    "- **Dialogue state tracking:** maintain slots filled so far.\n",
    "- **Policy learning:** choose the next system action based on state.\n",
    "- **Natural language generation:** surface the action to the user.\n",
    "- **Evaluation:** task success rate and average turns."
   ]
  },
  {
   "cell_type": "markdown",
   "id": "d3df81db",
   "metadata": {},
   "source": [
    "## Demo\n",
    "Simulate a slot-filling dialogue manager that updates state and chooses actions, as in the lecture (https://youtu.be/bKbDz4WxZ0w)."
   ]
  },
  {
   "cell_type": "code",
   "execution_count": 1,
   "id": "c4231fb1",
   "metadata": {
    "execution": {
     "iopub.execute_input": "2025-10-29T01:33:40.506721Z",
     "iopub.status.busy": "2025-10-29T01:33:40.506525Z",
     "iopub.status.idle": "2025-10-29T01:33:40.514652Z",
     "shell.execute_reply": "2025-10-29T01:33:40.514285Z"
    }
   },
   "outputs": [
    {
     "name": "stdout",
     "output_type": "stream",
     "text": [
      "System: Could you tell me your cuisine?\n",
      "System: Could you tell me your time?\n",
      "System: Booking a table for 4 at 7 pm for Italian.\n"
     ]
    }
   ],
   "source": [
    "state = {'cuisine': None, 'time': None, 'size': None}\n",
    "\n",
    "user_inputs = [\n",
    "    'Hi, I need a table for four.',\n",
    "    'We want Italian food.',\n",
    "    '7 pm works.'\n",
    "]\n",
    "\n",
    "def update_state(utterance):\n",
    "    utterance = utterance.lower()\n",
    "    if 'four' in utterance:\n",
    "        state['size'] = 4\n",
    "    if 'italian' in utterance:\n",
    "        state['cuisine'] = 'Italian'\n",
    "    if '7 pm' in utterance or 'seven' in utterance:\n",
    "        state['time'] = '7 pm'\n",
    "\n",
    "for utterance in user_inputs:\n",
    "    update_state(utterance)\n",
    "    missing = [slot for slot, value in state.items() if value is None]\n",
    "    if not missing:\n",
    "        print('System: Booking a table for {size} at {time} for {cuisine}.'.format(**state))\n",
    "    else:\n",
    "        print('System: Could you tell me your ' + missing[0] + '?')\n"
   ]
  },
  {
   "cell_type": "markdown",
   "id": "9ba56c79",
   "metadata": {},
   "source": [
    "## Try it\n",
    "- Modify the demo\n",
    "- Add a tiny dataset or counter-example\n"
   ]
  },
  {
   "cell_type": "markdown",
   "id": "d31ec9af",
   "metadata": {},
   "source": [
    "## References\n",
    "- [MCTest: A Challenge Dataset for the Open-Domain Machine Comprehension of Text](https://www.aclweb.org/anthology/D13-1020.pdf)\n",
    "- [SQuAD: 100,000+ Questions for Machine Comprehension of Text](https://www.aclweb.org/anthology/D16-1264/)\n",
    "- [Adversarial Examples for Evaluating Reading Comprehension Systems](https://www.aclweb.org/anthology/D17-1215/)\n",
    "- [Reading Wikipedia to Answer Open-Domain Questions](https://arxiv.org/abs/1704.00051)\n",
    "- [Latent Retrieval for Weakly Supervised Open Domain Question Answering](https://www.aclweb.org/anthology/P19-1612.pdf)\n",
    "- [[Website] Natural Questions](https://ai.google.com/research/NaturalQuestions)\n",
    "- [retrieval-augmented generation](https://arxiv.org/pdf/2005.11401.pdf)\n",
    "- [WebGPT](https://arxiv.org/abs/2112.09332)\n",
    "- [HotpotQA: A Dataset for Diverse, Explainable Multi-hop Question Answering](https://arxiv.org/abs/1809.09600)\n",
    "- [Understanding Dataset Design Choices for Multi-hop Reasoning](https://www.aclweb.org/anthology/N19-1405/)\n",
    "- [Learning to Retrieve Reasoning Paths over Wikipedia Graph for Question Answering](https://openreview.net/forum?id=SJgVHkrYDH)\n",
    "- [QAMPARI](https://arxiv.org/abs/2205.12665)\n",
    "- [Wizards of Wikipedia: Knowledge-Powered Conversational Agents](https://arxiv.org/pdf/1811.01241.pdf)\n",
    "- [Task-Oriented Dialogue as Dataflow Synthesis](https://arxiv.org/abs/2009.11423)\n",
    "- [A Neural Network Approach to Context-Sensitive Generation of Conversational Responses](https://arxiv.org/abs/1506.06714)\n",
    "- [A Diversity-Promoting Objective Function for Neural Conversation Models](https://arxiv.org/abs/1510.03055)\n",
    "- [Recipes for building an open-domain chatbot](https://arxiv.org/pdf/2004.13637.pdf)\n",
    "- [Kurt Shuster et al.](https://arxiv.org/abs/2208.03188)\n",
    "- [character.ai](https://character.ai)\n"
   ]
  },
  {
   "cell_type": "markdown",
   "id": "7ef9039e",
   "metadata": {},
   "source": [
    "*Links only; we do not redistribute slides or papers.*"
   ]
  }
 ],
 "metadata": {
  "language_info": {
   "codemirror_mode": {
    "name": "ipython",
    "version": 3
   },
   "file_extension": ".py",
   "mimetype": "text/x-python",
   "name": "python",
   "nbconvert_exporter": "python",
   "pygments_lexer": "ipython3",
   "version": "3.9.6"
  }
 },
 "nbformat": 4,
 "nbformat_minor": 5
}
