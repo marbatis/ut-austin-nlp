{
 "cells": [
  {
   "cell_type": "markdown",
   "id": "25156f3c",
   "metadata": {},
   "source": [
    "# Assignment 2: Feedforward Neural Networks, Word Embeddings, and Generalization\n",
    "\n",
    "- [Prompt](https://www.cs.utexas.edu/~gdurrett/courses/online-course/a2.pdf)\n",
    "- [Starter code + data](https://www.cs.utexas.edu/~gdurrett/courses/online-course/a2-distrib.tgz)"
   ]
  },
  {
   "cell_type": "markdown",
   "id": "6d789702",
   "metadata": {},
   "source": [
    "## Overview\n",
    "Extend sentiment modeling with feedforward neural networks and word embeddings. You will implement a multilayer perceptron, incorporate pre-trained vectors, and study generalisation versus sparse features."
   ]
  },
  {
   "cell_type": "markdown",
   "id": "4e4c33c3",
   "metadata": {},
   "source": [
    "## Key ideas\n",
    "- Design and train an MLP for text classification, experimenting with depth, hidden dimension, and nonlinearities.\n",
    "- Integrate pre-trained embeddings (e.g., GloVe) and compare against randomly initialised embeddings.\n",
    "- Monitor training/validation curves to diagnose overfitting, apply regularisation (dropout, weight decay), and tune optimisers.\n",
    "- Report insights on optimisation (SGD vs. Adam) and how learned representations capture semantics beyond bag-of-words."
   ]
  },
  {
   "cell_type": "markdown",
   "id": "16d82623",
   "metadata": {},
   "source": [
    "## Getting started\n",
    "- Clone/update the assignment starter repository.\n",
    "- Set up the recommended environment (see prompt).\n",
    "- Fill in TODO blocks incrementally, keeping a training log."
   ]
  },
  {
   "cell_type": "markdown",
   "id": "cc693ce9",
   "metadata": {},
   "source": [
    "## Deliverables\n",
    "- Neural sentiment classifier implementation with configurable architecture.\n",
    "- Plots/tables showing performance across embedding/architecture settings.\n",
    "- Discussion tying observations to Weeks 2–3 lectures on backpropagation and generalisation."
   ]
  },
  {
   "cell_type": "markdown",
   "id": "6faac7fc",
   "metadata": {},
   "source": [
    "## Reflection\n",
    "- What worked well?\n",
    "- What failed or surprised you?\n",
    "- How does this assignment connect to lecture material?"
   ]
  },
  {
   "cell_type": "code",
   "execution_count": 1,
   "id": "0e377dc4",
   "metadata": {
    "execution": {
     "iopub.execute_input": "2025-10-29T01:15:38.272944Z",
     "iopub.status.busy": "2025-10-29T01:15:38.272595Z",
     "iopub.status.idle": "2025-10-29T01:15:38.281212Z",
     "shell.execute_reply": "2025-10-29T01:15:38.280782Z"
    }
   },
   "outputs": [
    {
     "name": "stdout",
     "output_type": "stream",
     "text": [
      "Ready to prototype!\n"
     ]
    }
   ],
   "source": [
    "# Use this space for quick experiments or sanity checks\n",
    "import random\n",
    "random.seed(0)\n",
    "print('Ready to prototype!')"
   ]
  }
 ],
 "metadata": {
  "language_info": {
   "codemirror_mode": {
    "name": "ipython",
    "version": 3
   },
   "file_extension": ".py",
   "mimetype": "text/x-python",
   "name": "python",
   "nbconvert_exporter": "python",
   "pygments_lexer": "ipython3",
   "version": "3.9.6"
  }
 },
 "nbformat": 4,
 "nbformat_minor": 5
}
