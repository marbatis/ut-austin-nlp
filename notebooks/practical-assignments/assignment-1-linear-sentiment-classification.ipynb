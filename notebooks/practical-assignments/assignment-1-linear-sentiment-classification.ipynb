{
 "cells": [
  {
   "cell_type": "markdown",
   "id": "5d270119",
   "metadata": {},
   "source": [
    "# Assignment 1: Linear Sentiment Classification\n",
    "\n",
    "- [Prompt](https://www.cs.utexas.edu/~gdurrett/courses/online-course/a1.pdf)\n",
    "- [Starter code + data](https://www.cs.utexas.edu/~gdurrett/courses/online-course/a1-distrib.tgz)"
   ]
  },
  {
   "cell_type": "markdown",
   "id": "67776bea",
   "metadata": {},
   "source": [
    "## Overview\n",
    "Build a classic sentiment classifier over movie reviews using linear models. You will extract sparse textual features (unigrams, bigrams, etc.), train perceptron/logistic regression models, and evaluate how feature design impacts accuracy. The assignment reinforces Week 1 content on linear decision boundaries, loss minimisation, and evaluation workflows."
   ]
  },
  {
   "cell_type": "markdown",
   "id": "d5d88d7e",
   "metadata": {},
   "source": [
    "## Key ideas\n",
    "- Engineer lexical features (e.g., bag-of-words, n-grams, binary vs. count features) and examine their effect on accuracy.\n",
    "- Implement and compare the perceptron and logistic regression learners for binary sentiment classification.\n",
    "- Split data into train/dev/test, tune hyperparameters (learning rate, number of epochs), and report metrics with error analysis.\n",
    "- Document observations that connect back to Week 1 lecture material on linear models and optimization."
   ]
  },
  {
   "cell_type": "markdown",
   "id": "fd864d6d",
   "metadata": {},
   "source": [
    "## Getting started\n",
    "- Clone/update the assignment starter repository.\n",
    "- Set up the recommended environment (see prompt).\n",
    "- Fill in TODO blocks incrementally, keeping a training log."
   ]
  },
  {
   "cell_type": "markdown",
   "id": "52d55a3b",
   "metadata": {},
   "source": [
    "## Deliverables\n",
    "- Working training pipeline that outputs a sentiment classifier.\n",
    "- Evaluation report covering accuracy/F1 and qualitative analysis of successes/failures.\n",
    "- Short reflection: how did feature choices and regularization change performance?"
   ]
  },
  {
   "cell_type": "markdown",
   "id": "4a1e344e",
   "metadata": {},
   "source": [
    "## Reflection\n",
    "- What worked well?\n",
    "- What failed or surprised you?\n",
    "- How does this assignment connect to lecture material?"
   ]
  },
  {
   "cell_type": "code",
   "execution_count": 1,
   "id": "1f820c3e",
   "metadata": {
    "execution": {
     "iopub.execute_input": "2025-10-29T01:15:37.601013Z",
     "iopub.status.busy": "2025-10-29T01:15:37.600534Z",
     "iopub.status.idle": "2025-10-29T01:15:37.609184Z",
     "shell.execute_reply": "2025-10-29T01:15:37.608730Z"
    }
   },
   "outputs": [
    {
     "name": "stdout",
     "output_type": "stream",
     "text": [
      "Ready to prototype!\n"
     ]
    }
   ],
   "source": [
    "# Use this space for quick experiments or sanity checks\n",
    "import random\n",
    "random.seed(0)\n",
    "print('Ready to prototype!')"
   ]
  }
 ],
 "metadata": {
  "language_info": {
   "codemirror_mode": {
    "name": "ipython",
    "version": 3
   },
   "file_extension": ".py",
   "mimetype": "text/x-python",
   "name": "python",
   "nbconvert_exporter": "python",
   "pygments_lexer": "ipython3",
   "version": "3.9.6"
  }
 },
 "nbformat": 4,
 "nbformat_minor": 5
}
