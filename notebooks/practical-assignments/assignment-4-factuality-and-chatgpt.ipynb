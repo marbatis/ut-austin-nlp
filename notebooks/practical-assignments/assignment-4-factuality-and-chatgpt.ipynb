{
 "cells": [
  {
   "cell_type": "markdown",
   "id": "c1026b50",
   "metadata": {},
   "source": [
    "# Assignment 4: Factuality and ChatGPT\n",
    "\n",
    "- [Prompt](https://www.cs.utexas.edu/~gdurrett/courses/online-course/a4.pdf)\n",
    "- [Starter code + data](https://www.cs.utexas.edu/~gdurrett/courses/online-course/a4-distrib.zip)"
   ]
  },
  {
   "cell_type": "markdown",
   "id": "c2a754aa",
   "metadata": {},
   "source": [
    "## Overview\n",
    "Investigate factual consistency of large language model outputs. You will elicit responses from an LLM (e.g., ChatGPT), evaluate factuality, and explore strategies to detect or mitigate hallucinations, aligning with Week 9 topics."
   ]
  },
  {
   "cell_type": "markdown",
   "id": "8d9830e8",
   "metadata": {},
   "source": [
    "## Key ideas\n",
    "- Design prompts/tasks where factual errors are common (open-domain QA, summarisation, etc.).\n",
    "- Apply automatic or human-in-the-loop verification to flag incorrect statements (retrieval checks, claim extraction).\n",
    "- Prototype mitigation strategies such as retrieval-augmented prompting, self-verification, or constrained decoding.\n",
    "- Summarise empirical findings and connect them to lecture discussions on evaluation challenges for modern LLMs."
   ]
  },
  {
   "cell_type": "markdown",
   "id": "66abe15c",
   "metadata": {},
   "source": [
    "## Getting started\n",
    "- Clone/update the assignment starter repository.\n",
    "- Set up the recommended environment (see prompt).\n",
    "- Fill in TODO blocks incrementally, keeping a training log."
   ]
  },
  {
   "cell_type": "markdown",
   "id": "b4954f1c",
   "metadata": {},
   "source": [
    "## Deliverables\n",
    "- Notebook or script that collects LLM responses and evaluation signals.\n",
    "- Quantitative/qualitative analysis of hallucination frequency and mitigation effectiveness.\n",
    "- Write-up reflecting on factuality metrics and responsible deployment considerations."
   ]
  },
  {
   "cell_type": "markdown",
   "id": "a62ad8ac",
   "metadata": {},
   "source": [
    "## Reflection\n",
    "- What worked well?\n",
    "- What failed or surprised you?\n",
    "- How does this assignment connect to lecture material?"
   ]
  },
  {
   "cell_type": "code",
   "execution_count": null,
   "id": "4c3aa61f",
   "metadata": {},
   "outputs": [],
   "source": [
    "# Use this space for quick experiments or sanity checks\n",
    "import random\n",
    "random.seed(0)\n",
    "print('Ready to prototype!')"
   ]
  }
 ],
 "metadata": {},
 "nbformat": 4,
 "nbformat_minor": 5
}
