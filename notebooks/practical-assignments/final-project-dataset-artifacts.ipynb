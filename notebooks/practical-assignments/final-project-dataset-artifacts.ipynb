{
 "cells": [
  {
   "cell_type": "markdown",
   "id": "b5019aed",
   "metadata": {},
   "source": [
    "# Final Project: Dataset Artifacts\n",
    "\n",
    "- [Project guidelines](https://www.cs.utexas.edu/~gdurrett/courses/online-course/fp.pdf)\n",
    "- [Example 1](https://www.cs.utexas.edu/~gdurrett/courses/online-course/project-ex-1.pdf)\n",
    "- [Example 2](https://www.cs.utexas.edu/~gdurrett/courses/online-course/project-ex-2.pdf)\n",
    "- [Peer assessment instructions](https://www.cs.utexas.edu/~gdurrett/courses/online-course/peer-assessment.pdf)"
   ]
  },
  {
   "cell_type": "markdown",
   "id": "b0dc53da",
   "metadata": {},
   "source": [
    "## Overview\n",
    "Perform an original investigation into artifacts or spurious correlations in an NLP dataset. The capstone ties together skills from across the course—data analysis, modeling, evaluation, and ethics—culminating in research-style reporting."
   ]
  },
  {
   "cell_type": "markdown",
   "id": "52303b8c",
   "metadata": {},
   "source": [
    "## Key ideas\n",
    "- Select a dataset/task (e.g., NLI, QA, sentiment) and identify potential artifacts the model might exploit.\n",
    "- Design experiments to expose artifacts (control experiments, adversarial examples, probing).\n",
    "- Implement mitigation strategies such as data augmentation, debiasing, or diagnostic evaluation to measure improvements.\n",
    "- Produce a research-style report contextualising findings with related work (e.g., Gururangan et al. 2018)."
   ]
  },
  {
   "cell_type": "markdown",
   "id": "307fe3e9",
   "metadata": {},
   "source": [
    "## Getting started\n",
    "- Clone/update the assignment starter repository.\n",
    "- Set up the recommended environment (see prompt).\n",
    "- Fill in TODO blocks incrementally, keeping a training log."
   ]
  },
  {
   "cell_type": "markdown",
   "id": "1f64b929",
   "metadata": {},
   "source": [
    "## Deliverables\n",
    "- Proposal outlining dataset choice, research questions, and planned methodology.\n",
    "- Final report with experiments, analysis, and ethical considerations (plus optional artifact repo).\n",
    "- Peer-review artefacts as specified in the guidelines."
   ]
  },
  {
   "cell_type": "markdown",
   "id": "52c75163",
   "metadata": {},
   "source": [
    "## Reflection\n",
    "- What worked well?\n",
    "- What failed or surprised you?\n",
    "- How does this assignment connect to lecture material?"
   ]
  },
  {
   "cell_type": "code",
   "execution_count": null,
   "id": "38ce7d2d",
   "metadata": {},
   "outputs": [],
   "source": [
    "# Use this space for quick experiments or sanity checks\n",
    "import random\n",
    "random.seed(0)\n",
    "print('Ready to prototype!')"
   ]
  }
 ],
 "metadata": {},
 "nbformat": 4,
 "nbformat_minor": 5
}
